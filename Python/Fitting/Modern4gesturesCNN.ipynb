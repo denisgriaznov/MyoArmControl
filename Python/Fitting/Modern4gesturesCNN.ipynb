{
 "cells": [
  {
   "cell_type": "code",
   "execution_count": 1,
   "metadata": {},
   "outputs": [],
   "source": [
    "import numpy as np \n",
    "import pandas as pd\n",
    "import matplotlib.pyplot as plt\n",
    "import os\n",
    "from sklearn.preprocessing import MinMaxScaler\n",
    "import seaborn as sns\n",
    "import tensorflow as tf"
   ]
  },
  {
   "cell_type": "code",
   "execution_count": 24,
   "metadata": {},
   "outputs": [],
   "source": [
    "import keras\n",
    "from keras.datasets import mnist\n",
    "from keras.models import Sequential\n",
    "from keras.layers import Dense, Dropout, Flatten\n",
    "from keras.layers import Conv2D, MaxPooling2D\n",
    "from keras import backend as K"
   ]
  },
  {
   "cell_type": "code",
   "execution_count": 3,
   "metadata": {},
   "outputs": [],
   "source": [
    "from matplotlib.pyplot import imshow\n",
    "import matplotlib.pyplot as plt"
   ]
  },
  {
   "cell_type": "code",
   "execution_count": 16,
   "metadata": {},
   "outputs": [],
   "source": [
    "img_rows, img_cols = 8, 8"
   ]
  },
  {
   "cell_type": "code",
   "execution_count": 4,
   "metadata": {},
   "outputs": [],
   "source": [
    "dataset = pd.read_csv(\"../data/4_64points.txt\")"
   ]
  },
  {
   "cell_type": "code",
   "execution_count": 5,
   "metadata": {},
   "outputs": [
    {
     "data": {
      "text/html": [
       "<div>\n",
       "<style scoped>\n",
       "    .dataframe tbody tr th:only-of-type {\n",
       "        vertical-align: middle;\n",
       "    }\n",
       "\n",
       "    .dataframe tbody tr th {\n",
       "        vertical-align: top;\n",
       "    }\n",
       "\n",
       "    .dataframe thead th {\n",
       "        text-align: right;\n",
       "    }\n",
       "</style>\n",
       "<table border=\"1\" class=\"dataframe\">\n",
       "  <thead>\n",
       "    <tr style=\"text-align: right;\">\n",
       "      <th></th>\n",
       "      <th>0</th>\n",
       "      <th>1</th>\n",
       "      <th>2</th>\n",
       "      <th>3</th>\n",
       "      <th>4</th>\n",
       "      <th>5</th>\n",
       "      <th>6</th>\n",
       "      <th>7</th>\n",
       "      <th>8</th>\n",
       "      <th>9</th>\n",
       "      <th>...</th>\n",
       "      <th>55</th>\n",
       "      <th>56</th>\n",
       "      <th>57</th>\n",
       "      <th>58</th>\n",
       "      <th>59</th>\n",
       "      <th>60</th>\n",
       "      <th>61</th>\n",
       "      <th>62</th>\n",
       "      <th>63</th>\n",
       "      <th>gesture</th>\n",
       "    </tr>\n",
       "  </thead>\n",
       "  <tbody>\n",
       "    <tr>\n",
       "      <th>0</th>\n",
       "      <td>7.0</td>\n",
       "      <td>70.0</td>\n",
       "      <td>21.0</td>\n",
       "      <td>1.0</td>\n",
       "      <td>3.0</td>\n",
       "      <td>4.0</td>\n",
       "      <td>1.0</td>\n",
       "      <td>11.0</td>\n",
       "      <td>5.0</td>\n",
       "      <td>60.0</td>\n",
       "      <td>...</td>\n",
       "      <td>25.0</td>\n",
       "      <td>5.0</td>\n",
       "      <td>73.0</td>\n",
       "      <td>28.0</td>\n",
       "      <td>26.0</td>\n",
       "      <td>8.0</td>\n",
       "      <td>21.0</td>\n",
       "      <td>44.0</td>\n",
       "      <td>40.0</td>\n",
       "      <td>0</td>\n",
       "    </tr>\n",
       "    <tr>\n",
       "      <th>1</th>\n",
       "      <td>67.0</td>\n",
       "      <td>73.0</td>\n",
       "      <td>11.0</td>\n",
       "      <td>22.0</td>\n",
       "      <td>18.0</td>\n",
       "      <td>8.0</td>\n",
       "      <td>16.0</td>\n",
       "      <td>13.0</td>\n",
       "      <td>72.0</td>\n",
       "      <td>10.0</td>\n",
       "      <td>...</td>\n",
       "      <td>43.0</td>\n",
       "      <td>32.0</td>\n",
       "      <td>52.0</td>\n",
       "      <td>11.0</td>\n",
       "      <td>26.0</td>\n",
       "      <td>13.0</td>\n",
       "      <td>7.0</td>\n",
       "      <td>35.0</td>\n",
       "      <td>10.0</td>\n",
       "      <td>0</td>\n",
       "    </tr>\n",
       "    <tr>\n",
       "      <th>2</th>\n",
       "      <td>29.0</td>\n",
       "      <td>32.0</td>\n",
       "      <td>9.0</td>\n",
       "      <td>0.0</td>\n",
       "      <td>7.0</td>\n",
       "      <td>5.0</td>\n",
       "      <td>52.0</td>\n",
       "      <td>34.0</td>\n",
       "      <td>12.0</td>\n",
       "      <td>59.0</td>\n",
       "      <td>...</td>\n",
       "      <td>0.0</td>\n",
       "      <td>0.0</td>\n",
       "      <td>90.0</td>\n",
       "      <td>12.0</td>\n",
       "      <td>1.0</td>\n",
       "      <td>7.0</td>\n",
       "      <td>2.0</td>\n",
       "      <td>10.0</td>\n",
       "      <td>1.0</td>\n",
       "      <td>0</td>\n",
       "    </tr>\n",
       "    <tr>\n",
       "      <th>3</th>\n",
       "      <td>43.0</td>\n",
       "      <td>37.0</td>\n",
       "      <td>11.0</td>\n",
       "      <td>123.0</td>\n",
       "      <td>3.0</td>\n",
       "      <td>14.0</td>\n",
       "      <td>25.0</td>\n",
       "      <td>3.0</td>\n",
       "      <td>48.0</td>\n",
       "      <td>79.0</td>\n",
       "      <td>...</td>\n",
       "      <td>9.0</td>\n",
       "      <td>33.0</td>\n",
       "      <td>11.0</td>\n",
       "      <td>3.0</td>\n",
       "      <td>56.0</td>\n",
       "      <td>4.0</td>\n",
       "      <td>2.0</td>\n",
       "      <td>1.0</td>\n",
       "      <td>17.0</td>\n",
       "      <td>0</td>\n",
       "    </tr>\n",
       "    <tr>\n",
       "      <th>4</th>\n",
       "      <td>39.0</td>\n",
       "      <td>21.0</td>\n",
       "      <td>8.0</td>\n",
       "      <td>72.0</td>\n",
       "      <td>9.0</td>\n",
       "      <td>10.0</td>\n",
       "      <td>9.0</td>\n",
       "      <td>5.0</td>\n",
       "      <td>53.0</td>\n",
       "      <td>40.0</td>\n",
       "      <td>...</td>\n",
       "      <td>34.0</td>\n",
       "      <td>82.0</td>\n",
       "      <td>9.0</td>\n",
       "      <td>24.0</td>\n",
       "      <td>6.0</td>\n",
       "      <td>5.0</td>\n",
       "      <td>7.0</td>\n",
       "      <td>12.0</td>\n",
       "      <td>4.0</td>\n",
       "      <td>0</td>\n",
       "    </tr>\n",
       "  </tbody>\n",
       "</table>\n",
       "<p>5 rows × 65 columns</p>\n",
       "</div>"
      ],
      "text/plain": [
       "      0     1     2      3     4     5     6     7     8     9  ...    55  \\\n",
       "0   7.0  70.0  21.0    1.0   3.0   4.0   1.0  11.0   5.0  60.0  ...  25.0   \n",
       "1  67.0  73.0  11.0   22.0  18.0   8.0  16.0  13.0  72.0  10.0  ...  43.0   \n",
       "2  29.0  32.0   9.0    0.0   7.0   5.0  52.0  34.0  12.0  59.0  ...   0.0   \n",
       "3  43.0  37.0  11.0  123.0   3.0  14.0  25.0   3.0  48.0  79.0  ...   9.0   \n",
       "4  39.0  21.0   8.0   72.0   9.0  10.0   9.0   5.0  53.0  40.0  ...  34.0   \n",
       "\n",
       "     56    57    58    59    60    61    62    63  gesture  \n",
       "0   5.0  73.0  28.0  26.0   8.0  21.0  44.0  40.0        0  \n",
       "1  32.0  52.0  11.0  26.0  13.0   7.0  35.0  10.0        0  \n",
       "2   0.0  90.0  12.0   1.0   7.0   2.0  10.0   1.0        0  \n",
       "3  33.0  11.0   3.0  56.0   4.0   2.0   1.0  17.0        0  \n",
       "4  82.0   9.0  24.0   6.0   5.0   7.0  12.0   4.0        0  \n",
       "\n",
       "[5 rows x 65 columns]"
      ]
     },
     "execution_count": 5,
     "metadata": {},
     "output_type": "execute_result"
    }
   ],
   "source": [
    "dataset.head()\n"
   ]
  },
  {
   "cell_type": "code",
   "execution_count": 6,
   "metadata": {},
   "outputs": [],
   "source": [
    "dataset = dataset.dropna()\n",
    "dataset_train = np.array(dataset)\n",
    "dataset_train = dataset_train[np.random.permutation(len(dataset_train))]\n",
    "X_train = dataset_train[:,:-1]\n",
    "Y_train = dataset_train[:,-1:]"
   ]
  },
  {
   "cell_type": "code",
   "execution_count": 7,
   "metadata": {},
   "outputs": [
    {
     "data": {
      "text/plain": [
       "(4196, 4)"
      ]
     },
     "execution_count": 7,
     "metadata": {},
     "output_type": "execute_result"
    }
   ],
   "source": [
    "Y_train = [int(i) for i in Y_train]\n",
    "Y_train = np.eye(np.max(Y_train) + 1)[Y_train]\n",
    "Y_train.shape"
   ]
  },
  {
   "cell_type": "code",
   "execution_count": 8,
   "metadata": {},
   "outputs": [],
   "source": [
    "X_train = np.asarray(X_train)\n",
    "Y_train = np.asarray(Y_train)"
   ]
  },
  {
   "cell_type": "code",
   "execution_count": 10,
   "metadata": {},
   "outputs": [],
   "source": [
    "X_train = X_train.reshape(4196,8,8)"
   ]
  },
  {
   "cell_type": "code",
   "execution_count": 11,
   "metadata": {},
   "outputs": [],
   "source": [
    "for graph in X_train:\n",
    "    for i in range(8):\n",
    "        m = max(graph[i])\n",
    "        for j in range(8):\n",
    "            graph[i][j] = graph[i][j]/m"
   ]
  },
  {
   "cell_type": "code",
   "execution_count": 18,
   "metadata": {},
   "outputs": [],
   "source": [
    "if K.image_data_format() == 'channels_first':\n",
    "    X_train = X_train.reshape(X_train.shape[0], 1, img_rows, img_cols)\n",
    "    input_shape = (1, img_rows, img_cols)\n",
    "else:\n",
    "    X_train = X_train.reshape(X_train.shape[0], img_rows, img_cols, 1)\n",
    "    input_shape = (img_rows, img_cols, 1)"
   ]
  },
  {
   "cell_type": "code",
   "execution_count": 19,
   "metadata": {},
   "outputs": [
    {
     "data": {
      "text/plain": [
       "(4196, 8, 8, 1)"
      ]
     },
     "execution_count": 19,
     "metadata": {},
     "output_type": "execute_result"
    }
   ],
   "source": [
    "X_train.shape"
   ]
  },
  {
   "cell_type": "code",
   "execution_count": 20,
   "metadata": {},
   "outputs": [
    {
     "data": {
      "text/plain": [
       "(4196, 4)"
      ]
     },
     "execution_count": 20,
     "metadata": {},
     "output_type": "execute_result"
    }
   ],
   "source": [
    "Y_train.shape"
   ]
  },
  {
   "cell_type": "code",
   "execution_count": 28,
   "metadata": {},
   "outputs": [
    {
     "data": {
      "text/plain": [
       "(8, 8, 1)"
      ]
     },
     "execution_count": 28,
     "metadata": {},
     "output_type": "execute_result"
    }
   ],
   "source": [
    "input_shape"
   ]
  },
  {
   "cell_type": "code",
   "execution_count": 70,
   "metadata": {},
   "outputs": [],
   "source": [
    "model = Sequential()\n",
    "model.add(Conv2D(64, kernel_size=(3, 3),\n",
    "                 activation='relu',\n",
    "                 input_shape=input_shape))\n",
    "model.add(Conv2D(64, (2, 2), activation='relu'))\n",
    "model.add(MaxPooling2D(pool_size=(2, 2)))\n",
    "model.add(Dropout(0.25))\n",
    "model.add(Flatten())\n",
    "model.add(Dense(256, activation='relu'))\n",
    "model.add(Dropout(0.3))\n",
    "model.add(Dense(4, activation='softmax'))"
   ]
  },
  {
   "cell_type": "code",
   "execution_count": 71,
   "metadata": {},
   "outputs": [],
   "source": [
    "model.compile(loss=keras.losses.categorical_crossentropy,\n",
    "              optimizer=keras.optimizers.Adadelta(),\n",
    "              metrics=['accuracy'])"
   ]
  },
  {
   "cell_type": "code",
   "execution_count": 72,
   "metadata": {},
   "outputs": [
    {
     "name": "stdout",
     "output_type": "stream",
     "text": [
      "Train on 3356 samples, validate on 840 samples\n",
      "Epoch 1/25\n",
      "3356/3356 [==============================] - 1s 284us/step - loss: 0.4789 - accuracy: 0.8117 - val_loss: 0.2162 - val_accuracy: 0.9286\n",
      "Epoch 2/25\n",
      "3356/3356 [==============================] - 1s 240us/step - loss: 0.2194 - accuracy: 0.9285 - val_loss: 0.1836 - val_accuracy: 0.9381\n",
      "Epoch 3/25\n",
      "3356/3356 [==============================] - 1s 227us/step - loss: 0.1820 - accuracy: 0.9407 - val_loss: 0.1484 - val_accuracy: 0.9548\n",
      "Epoch 4/25\n",
      "3356/3356 [==============================] - 1s 226us/step - loss: 0.1638 - accuracy: 0.9476 - val_loss: 0.1643 - val_accuracy: 0.9417\n",
      "Epoch 5/25\n",
      "3356/3356 [==============================] - 1s 226us/step - loss: 0.1592 - accuracy: 0.9526 - val_loss: 0.1350 - val_accuracy: 0.9524\n",
      "Epoch 6/25\n",
      "3356/3356 [==============================] - 1s 227us/step - loss: 0.1505 - accuracy: 0.9523 - val_loss: 0.1238 - val_accuracy: 0.9583\n",
      "Epoch 7/25\n",
      "3356/3356 [==============================] - 1s 232us/step - loss: 0.1333 - accuracy: 0.9595 - val_loss: 0.1187 - val_accuracy: 0.9595\n",
      "Epoch 8/25\n",
      "3356/3356 [==============================] - 1s 232us/step - loss: 0.1268 - accuracy: 0.9562 - val_loss: 0.1522 - val_accuracy: 0.9500\n",
      "Epoch 9/25\n",
      "3356/3356 [==============================] - 1s 227us/step - loss: 0.1104 - accuracy: 0.9672 - val_loss: 0.1228 - val_accuracy: 0.9571\n",
      "Epoch 10/25\n",
      "3356/3356 [==============================] - 1s 234us/step - loss: 0.1004 - accuracy: 0.9654 - val_loss: 0.1307 - val_accuracy: 0.9560\n",
      "Epoch 11/25\n",
      "3356/3356 [==============================] - 1s 229us/step - loss: 0.1024 - accuracy: 0.9628 - val_loss: 0.1140 - val_accuracy: 0.9667\n",
      "Epoch 12/25\n",
      "3356/3356 [==============================] - 1s 229us/step - loss: 0.0949 - accuracy: 0.9675 - val_loss: 0.1487 - val_accuracy: 0.9512\n",
      "Epoch 13/25\n",
      "3356/3356 [==============================] - 1s 228us/step - loss: 0.0889 - accuracy: 0.9660 - val_loss: 0.1365 - val_accuracy: 0.9500\n",
      "Epoch 14/25\n",
      "3356/3356 [==============================] - 1s 233us/step - loss: 0.0827 - accuracy: 0.9735 - val_loss: 0.1189 - val_accuracy: 0.9643\n",
      "Epoch 15/25\n",
      "3356/3356 [==============================] - 1s 229us/step - loss: 0.0746 - accuracy: 0.9732 - val_loss: 0.1322 - val_accuracy: 0.9560\n",
      "Epoch 16/25\n",
      "3356/3356 [==============================] - 1s 229us/step - loss: 0.0755 - accuracy: 0.9723 - val_loss: 0.1300 - val_accuracy: 0.9571\n",
      "Epoch 17/25\n",
      "3356/3356 [==============================] - 1s 235us/step - loss: 0.0726 - accuracy: 0.9747 - val_loss: 0.1257 - val_accuracy: 0.9583\n",
      "Epoch 18/25\n",
      "3356/3356 [==============================] - 1s 231us/step - loss: 0.0589 - accuracy: 0.9800 - val_loss: 0.1290 - val_accuracy: 0.9583\n",
      "Epoch 19/25\n",
      "3356/3356 [==============================] - 1s 228us/step - loss: 0.0648 - accuracy: 0.9753 - val_loss: 0.1260 - val_accuracy: 0.9583\n",
      "Epoch 20/25\n",
      "3356/3356 [==============================] - 1s 233us/step - loss: 0.0636 - accuracy: 0.9759 - val_loss: 0.1281 - val_accuracy: 0.9571\n",
      "Epoch 21/25\n",
      "3356/3356 [==============================] - 1s 227us/step - loss: 0.0593 - accuracy: 0.9774 - val_loss: 0.1580 - val_accuracy: 0.9500\n",
      "Epoch 22/25\n",
      "3356/3356 [==============================] - 1s 238us/step - loss: 0.0597 - accuracy: 0.9806 - val_loss: 0.1255 - val_accuracy: 0.9607\n",
      "Epoch 23/25\n",
      "3356/3356 [==============================] - 1s 222us/step - loss: 0.0564 - accuracy: 0.9827 - val_loss: 0.1447 - val_accuracy: 0.9536\n",
      "Epoch 24/25\n",
      "3356/3356 [==============================] - 1s 213us/step - loss: 0.0470 - accuracy: 0.9848 - val_loss: 0.1305 - val_accuracy: 0.9583\n",
      "Epoch 25/25\n",
      "3356/3356 [==============================] - 1s 235us/step - loss: 0.0469 - accuracy: 0.9833 - val_loss: 0.1467 - val_accuracy: 0.9571\n"
     ]
    }
   ],
   "source": [
    "history = model.fit(X_train, Y_train,\n",
    "          batch_size=16,\n",
    "          epochs=25,\n",
    "          verbose=1,\n",
    "          validation_split=0.2)"
   ]
  },
  {
   "cell_type": "code",
   "execution_count": 63,
   "metadata": {},
   "outputs": [
    {
     "data": {
      "text/plain": [
       "Text(0.5, 1.0, 'Accuracy')"
      ]
     },
     "execution_count": 63,
     "metadata": {},
     "output_type": "execute_result"
    },
    {
     "data": {
      "image/png": "[encoded data removed]",
      "text/plain": [
       "<Figure size 648x648 with 2 Axes>"
      ]
     },
     "metadata": {
      "needs_background": "light"
     },
     "output_type": "display_data"
    }
   ],
   "source": [
    "fig, axes = plt.subplots(nrows=1, ncols=2,figsize=(9,9))\n",
    "plt.subplot(2,1,1)\n",
    "plt.plot(history.history['loss'])\n",
    "plt.plot(history.history['val_loss'])\n",
    "plt.legend([\"Train\",\"Validation\"])\n",
    "plt.title(\"Loss\")\n",
    "plt.subplot(2,1,2)\n",
    "plt.plot(history.history['accuracy'])\n",
    "plt.plot(history.history['val_accuracy'])\n",
    "plt.legend([\"Train\",\"Validation\"])\n",
    "plt.title(\"Accuracy\")"
   ]
  },
  {
   "cell_type": "code",
   "execution_count": null,
   "metadata": {},
   "outputs": [],
   "source": []
  }
 ],
 "metadata": {
  "kernelspec": {
   "display_name": "Python 3",
   "language": "python",
   "name": "python3"
  },
  "language_info": {
   "codemirror_mode": {
    "name": "ipython",
    "version": 3
   },
   "file_extension": ".py",
   "mimetype": "text/x-python",
   "name": "python",
   "nbconvert_exporter": "python",
   "pygments_lexer": "ipython3",
   "version": "3.7.4"
  }
 },
 "nbformat": 4,
 "nbformat_minor": 4
}
