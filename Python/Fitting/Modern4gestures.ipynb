{
 "cells": [
  {
   "cell_type": "code",
   "execution_count": 1,
   "metadata": {},
   "outputs": [],
   "source": [
    "import numpy as np \n",
    "import pandas as pd\n",
    "import matplotlib.pyplot as plt\n",
    "import os\n",
    "from sklearn.preprocessing import MinMaxScaler\n",
    "import seaborn as sns\n",
    "import tensorflow as tf"
   ]
  },
  {
   "cell_type": "code",
   "execution_count": 2,
   "metadata": {},
   "outputs": [
    {
     "name": "stderr",
     "output_type": "stream",
     "text": [
      "Using TensorFlow backend.\n"
     ]
    }
   ],
   "source": [
    "from keras.models import Sequential\n",
    "from keras.layers import Dense\n",
    "from keras.callbacks import ModelCheckpoint\n",
    "from keras.layers import Dropout"
   ]
  },
  {
   "cell_type": "code",
   "execution_count": 84,
   "metadata": {},
   "outputs": [],
   "source": [
    "from matplotlib.pyplot import imshow\n",
    "import matplotlib.pyplot as plt"
   ]
  },
  {
   "cell_type": "code",
   "execution_count": 30,
   "metadata": {},
   "outputs": [],
   "source": [
    "dataset = pd.read_csv(\"../data/4_64points.txt\")"
   ]
  },
  {
   "cell_type": "code",
   "execution_count": 31,
   "metadata": {},
   "outputs": [
    {
     "data": {
      "text/html": [
       "<div>\n",
       "<style scoped>\n",
       "    .dataframe tbody tr th:only-of-type {\n",
       "        vertical-align: middle;\n",
       "    }\n",
       "\n",
       "    .dataframe tbody tr th {\n",
       "        vertical-align: top;\n",
       "    }\n",
       "\n",
       "    .dataframe thead th {\n",
       "        text-align: right;\n",
       "    }\n",
       "</style>\n",
       "<table border=\"1\" class=\"dataframe\">\n",
       "  <thead>\n",
       "    <tr style=\"text-align: right;\">\n",
       "      <th></th>\n",
       "      <th>0</th>\n",
       "      <th>1</th>\n",
       "      <th>2</th>\n",
       "      <th>3</th>\n",
       "      <th>4</th>\n",
       "      <th>5</th>\n",
       "      <th>6</th>\n",
       "      <th>7</th>\n",
       "      <th>8</th>\n",
       "      <th>9</th>\n",
       "      <th>...</th>\n",
       "      <th>55</th>\n",
       "      <th>56</th>\n",
       "      <th>57</th>\n",
       "      <th>58</th>\n",
       "      <th>59</th>\n",
       "      <th>60</th>\n",
       "      <th>61</th>\n",
       "      <th>62</th>\n",
       "      <th>63</th>\n",
       "      <th>gesture</th>\n",
       "    </tr>\n",
       "  </thead>\n",
       "  <tbody>\n",
       "    <tr>\n",
       "      <th>0</th>\n",
       "      <td>7.0</td>\n",
       "      <td>70.0</td>\n",
       "      <td>21.0</td>\n",
       "      <td>1.0</td>\n",
       "      <td>3.0</td>\n",
       "      <td>4.0</td>\n",
       "      <td>1.0</td>\n",
       "      <td>11.0</td>\n",
       "      <td>5.0</td>\n",
       "      <td>60.0</td>\n",
       "      <td>...</td>\n",
       "      <td>25.0</td>\n",
       "      <td>5.0</td>\n",
       "      <td>73.0</td>\n",
       "      <td>28.0</td>\n",
       "      <td>26.0</td>\n",
       "      <td>8.0</td>\n",
       "      <td>21.0</td>\n",
       "      <td>44.0</td>\n",
       "      <td>40.0</td>\n",
       "      <td>0</td>\n",
       "    </tr>\n",
       "    <tr>\n",
       "      <th>1</th>\n",
       "      <td>67.0</td>\n",
       "      <td>73.0</td>\n",
       "      <td>11.0</td>\n",
       "      <td>22.0</td>\n",
       "      <td>18.0</td>\n",
       "      <td>8.0</td>\n",
       "      <td>16.0</td>\n",
       "      <td>13.0</td>\n",
       "      <td>72.0</td>\n",
       "      <td>10.0</td>\n",
       "      <td>...</td>\n",
       "      <td>43.0</td>\n",
       "      <td>32.0</td>\n",
       "      <td>52.0</td>\n",
       "      <td>11.0</td>\n",
       "      <td>26.0</td>\n",
       "      <td>13.0</td>\n",
       "      <td>7.0</td>\n",
       "      <td>35.0</td>\n",
       "      <td>10.0</td>\n",
       "      <td>0</td>\n",
       "    </tr>\n",
       "    <tr>\n",
       "      <th>2</th>\n",
       "      <td>29.0</td>\n",
       "      <td>32.0</td>\n",
       "      <td>9.0</td>\n",
       "      <td>0.0</td>\n",
       "      <td>7.0</td>\n",
       "      <td>5.0</td>\n",
       "      <td>52.0</td>\n",
       "      <td>34.0</td>\n",
       "      <td>12.0</td>\n",
       "      <td>59.0</td>\n",
       "      <td>...</td>\n",
       "      <td>0.0</td>\n",
       "      <td>0.0</td>\n",
       "      <td>90.0</td>\n",
       "      <td>12.0</td>\n",
       "      <td>1.0</td>\n",
       "      <td>7.0</td>\n",
       "      <td>2.0</td>\n",
       "      <td>10.0</td>\n",
       "      <td>1.0</td>\n",
       "      <td>0</td>\n",
       "    </tr>\n",
       "    <tr>\n",
       "      <th>3</th>\n",
       "      <td>43.0</td>\n",
       "      <td>37.0</td>\n",
       "      <td>11.0</td>\n",
       "      <td>123.0</td>\n",
       "      <td>3.0</td>\n",
       "      <td>14.0</td>\n",
       "      <td>25.0</td>\n",
       "      <td>3.0</td>\n",
       "      <td>48.0</td>\n",
       "      <td>79.0</td>\n",
       "      <td>...</td>\n",
       "      <td>9.0</td>\n",
       "      <td>33.0</td>\n",
       "      <td>11.0</td>\n",
       "      <td>3.0</td>\n",
       "      <td>56.0</td>\n",
       "      <td>4.0</td>\n",
       "      <td>2.0</td>\n",
       "      <td>1.0</td>\n",
       "      <td>17.0</td>\n",
       "      <td>0</td>\n",
       "    </tr>\n",
       "    <tr>\n",
       "      <th>4</th>\n",
       "      <td>39.0</td>\n",
       "      <td>21.0</td>\n",
       "      <td>8.0</td>\n",
       "      <td>72.0</td>\n",
       "      <td>9.0</td>\n",
       "      <td>10.0</td>\n",
       "      <td>9.0</td>\n",
       "      <td>5.0</td>\n",
       "      <td>53.0</td>\n",
       "      <td>40.0</td>\n",
       "      <td>...</td>\n",
       "      <td>34.0</td>\n",
       "      <td>82.0</td>\n",
       "      <td>9.0</td>\n",
       "      <td>24.0</td>\n",
       "      <td>6.0</td>\n",
       "      <td>5.0</td>\n",
       "      <td>7.0</td>\n",
       "      <td>12.0</td>\n",
       "      <td>4.0</td>\n",
       "      <td>0</td>\n",
       "    </tr>\n",
       "  </tbody>\n",
       "</table>\n",
       "<p>5 rows × 65 columns</p>\n",
       "</div>"
      ],
      "text/plain": [
       "      0     1     2      3     4     5     6     7     8     9  ...    55  \\\n",
       "0   7.0  70.0  21.0    1.0   3.0   4.0   1.0  11.0   5.0  60.0  ...  25.0   \n",
       "1  67.0  73.0  11.0   22.0  18.0   8.0  16.0  13.0  72.0  10.0  ...  43.0   \n",
       "2  29.0  32.0   9.0    0.0   7.0   5.0  52.0  34.0  12.0  59.0  ...   0.0   \n",
       "3  43.0  37.0  11.0  123.0   3.0  14.0  25.0   3.0  48.0  79.0  ...   9.0   \n",
       "4  39.0  21.0   8.0   72.0   9.0  10.0   9.0   5.0  53.0  40.0  ...  34.0   \n",
       "\n",
       "     56    57    58    59    60    61    62    63  gesture  \n",
       "0   5.0  73.0  28.0  26.0   8.0  21.0  44.0  40.0        0  \n",
       "1  32.0  52.0  11.0  26.0  13.0   7.0  35.0  10.0        0  \n",
       "2   0.0  90.0  12.0   1.0   7.0   2.0  10.0   1.0        0  \n",
       "3  33.0  11.0   3.0  56.0   4.0   2.0   1.0  17.0        0  \n",
       "4  82.0   9.0  24.0   6.0   5.0   7.0  12.0   4.0        0  \n",
       "\n",
       "[5 rows x 65 columns]"
      ]
     },
     "execution_count": 31,
     "metadata": {},
     "output_type": "execute_result"
    }
   ],
   "source": [
    "dataset.head()\n"
   ]
  },
  {
   "cell_type": "code",
   "execution_count": 32,
   "metadata": {},
   "outputs": [],
   "source": [
    "dataset = dataset.dropna()\n",
    "dataset_train = np.array(dataset)\n",
    "dataset_train = dataset_train[np.random.permutation(len(dataset_train))]\n",
    "X_train = dataset_train[:,:-1]\n",
    "Y_train = dataset_train[:,-1:]"
   ]
  },
  {
   "cell_type": "code",
   "execution_count": 33,
   "metadata": {},
   "outputs": [
    {
     "data": {
      "text/plain": [
       "(4196, 4)"
      ]
     },
     "execution_count": 33,
     "metadata": {},
     "output_type": "execute_result"
    }
   ],
   "source": [
    "Y_train = [int(i) for i in Y_train]\n",
    "Y_train = np.eye(np.max(Y_train) + 1)[Y_train]\n",
    "Y_train.shape"
   ]
  },
  {
   "cell_type": "code",
   "execution_count": 34,
   "metadata": {},
   "outputs": [],
   "source": [
    "X_train = np.asarray(X_train)\n",
    "Y_train = np.asarray(Y_train)"
   ]
  },
  {
   "cell_type": "code",
   "execution_count": 36,
   "metadata": {},
   "outputs": [],
   "source": [
    "X_train = X_train.reshape(4196,8,8)"
   ]
  },
  {
   "cell_type": "code",
   "execution_count": 39,
   "metadata": {},
   "outputs": [],
   "source": [
    "for graph in X_train:\n",
    "    for i in range(8):\n",
    "        m = max(graph[i])\n",
    "        for j in range(8):\n",
    "            graph[i][j] = graph[i][j]/m"
   ]
  },
  {
   "cell_type": "code",
   "execution_count": 68,
   "metadata": {},
   "outputs": [],
   "source": [
    "X_train = X_train.reshape(4196,64)"
   ]
  },
  {
   "cell_type": "code",
   "execution_count": 69,
   "metadata": {},
   "outputs": [
    {
     "data": {
      "text/plain": [
       "(4196, 64)"
      ]
     },
     "execution_count": 69,
     "metadata": {},
     "output_type": "execute_result"
    }
   ],
   "source": [
    "X_train.shape"
   ]
  },
  {
   "cell_type": "code",
   "execution_count": 70,
   "metadata": {},
   "outputs": [
    {
     "data": {
      "text/plain": [
       "(4196, 4)"
      ]
     },
     "execution_count": 70,
     "metadata": {},
     "output_type": "execute_result"
    }
   ],
   "source": [
    "Y_train.shape"
   ]
  },
  {
   "cell_type": "code",
   "execution_count": 78,
   "metadata": {},
   "outputs": [],
   "source": [
    "model = Sequential()\n",
    "\n",
    "model.add(Dense(64, input_shape=X_train[0].shape))\n",
    "#model.add(Dropout(0.2))\n",
    "\n",
    "model.add(Dense(256))\n",
    "model.add(Dropout(0.2))\n",
    "model.add(Dense(128))\n",
    "model.add(Dropout(0.2))\n",
    "model.add(Dense(64))\n",
    "model.add(Dropout(0.2))\n",
    "model.add(Dense(4, activation=\"softmax\"))"
   ]
  },
  {
   "cell_type": "code",
   "execution_count": 79,
   "metadata": {},
   "outputs": [],
   "source": [
    "model.compile(optimizer = 'adam', loss = 'binary_crossentropy', metrics=['accuracy'])"
   ]
  },
  {
   "cell_type": "code",
   "execution_count": 80,
   "metadata": {},
   "outputs": [
    {
     "name": "stdout",
     "output_type": "stream",
     "text": [
      "Train on 3356 samples, validate on 840 samples\n",
      "Epoch 1/100\n",
      " - 0s - loss: 0.1401 - accuracy: 0.9466 - val_loss: 0.0530 - val_accuracy: 0.9815\n",
      "Epoch 2/100\n",
      " - 0s - loss: 0.0723 - accuracy: 0.9759 - val_loss: 0.0505 - val_accuracy: 0.9818\n",
      "Epoch 3/100\n",
      " - 0s - loss: 0.0665 - accuracy: 0.9798 - val_loss: 0.0535 - val_accuracy: 0.9824\n",
      "Epoch 4/100\n",
      " - 0s - loss: 0.0718 - accuracy: 0.9755 - val_loss: 0.0525 - val_accuracy: 0.9821\n",
      "Epoch 5/100\n",
      " - 0s - loss: 0.0572 - accuracy: 0.9806 - val_loss: 0.0520 - val_accuracy: 0.9812\n",
      "Epoch 6/100\n",
      " - 0s - loss: 0.0648 - accuracy: 0.9782 - val_loss: 0.0557 - val_accuracy: 0.9804\n",
      "Epoch 7/100\n",
      " - 0s - loss: 0.0587 - accuracy: 0.9785 - val_loss: 0.0504 - val_accuracy: 0.9812\n",
      "Epoch 8/100\n",
      " - 0s - loss: 0.0575 - accuracy: 0.9800 - val_loss: 0.0582 - val_accuracy: 0.9792\n",
      "Epoch 9/100\n",
      " - 0s - loss: 0.0589 - accuracy: 0.9796 - val_loss: 0.0641 - val_accuracy: 0.9768\n",
      "Epoch 10/100\n",
      " - 0s - loss: 0.0570 - accuracy: 0.9809 - val_loss: 0.0500 - val_accuracy: 0.9812\n",
      "Epoch 11/100\n",
      " - 0s - loss: 0.0545 - accuracy: 0.9810 - val_loss: 0.0573 - val_accuracy: 0.9810\n",
      "Epoch 12/100\n",
      " - 0s - loss: 0.0594 - accuracy: 0.9811 - val_loss: 0.0722 - val_accuracy: 0.9744\n",
      "Epoch 13/100\n",
      " - 0s - loss: 0.0557 - accuracy: 0.9807 - val_loss: 0.0579 - val_accuracy: 0.9789\n",
      "Epoch 14/100\n",
      " - 0s - loss: 0.0515 - accuracy: 0.9817 - val_loss: 0.0525 - val_accuracy: 0.9810\n",
      "Epoch 15/100\n",
      " - 0s - loss: 0.0550 - accuracy: 0.9821 - val_loss: 0.0471 - val_accuracy: 0.9812\n",
      "Epoch 16/100\n",
      " - 0s - loss: 0.0525 - accuracy: 0.9827 - val_loss: 0.0534 - val_accuracy: 0.9812\n",
      "Epoch 17/100\n",
      " - 0s - loss: 0.0536 - accuracy: 0.9800 - val_loss: 0.0730 - val_accuracy: 0.9759\n",
      "Epoch 18/100\n",
      " - 0s - loss: 0.0496 - accuracy: 0.9820 - val_loss: 0.0600 - val_accuracy: 0.9789\n",
      "Epoch 19/100\n",
      " - 0s - loss: 0.0519 - accuracy: 0.9832 - val_loss: 0.0497 - val_accuracy: 0.9821\n",
      "Epoch 20/100\n",
      " - 0s - loss: 0.0509 - accuracy: 0.9826 - val_loss: 0.0597 - val_accuracy: 0.9792\n",
      "Epoch 21/100\n",
      " - 0s - loss: 0.0533 - accuracy: 0.9829 - val_loss: 0.0668 - val_accuracy: 0.9812\n",
      "Epoch 22/100\n",
      " - 0s - loss: 0.0542 - accuracy: 0.9812 - val_loss: 0.0528 - val_accuracy: 0.9804\n",
      "Epoch 23/100\n",
      " - 0s - loss: 0.0503 - accuracy: 0.9829 - val_loss: 0.0614 - val_accuracy: 0.9812\n",
      "Epoch 24/100\n",
      " - 0s - loss: 0.0531 - accuracy: 0.9808 - val_loss: 0.0572 - val_accuracy: 0.9792\n",
      "Epoch 25/100\n",
      " - 0s - loss: 0.0505 - accuracy: 0.9829 - val_loss: 0.0577 - val_accuracy: 0.9801\n",
      "Epoch 26/100\n",
      " - 0s - loss: 0.0534 - accuracy: 0.9818 - val_loss: 0.0540 - val_accuracy: 0.9792\n",
      "Epoch 27/100\n",
      " - 0s - loss: 0.0509 - accuracy: 0.9826 - val_loss: 0.0648 - val_accuracy: 0.9777\n",
      "Epoch 28/100\n",
      " - 0s - loss: 0.0554 - accuracy: 0.9809 - val_loss: 0.0617 - val_accuracy: 0.9792\n",
      "Epoch 29/100\n",
      " - 0s - loss: 0.0517 - accuracy: 0.9823 - val_loss: 0.0585 - val_accuracy: 0.9789\n",
      "Epoch 30/100\n",
      " - 0s - loss: 0.0461 - accuracy: 0.9845 - val_loss: 0.0561 - val_accuracy: 0.9786\n",
      "Epoch 31/100\n",
      " - 0s - loss: 0.0507 - accuracy: 0.9813 - val_loss: 0.0718 - val_accuracy: 0.9774\n",
      "Epoch 32/100\n",
      " - 0s - loss: 0.0463 - accuracy: 0.9835 - val_loss: 0.0542 - val_accuracy: 0.9807\n",
      "Epoch 33/100\n",
      " - 0s - loss: 0.0493 - accuracy: 0.9830 - val_loss: 0.0589 - val_accuracy: 0.9780\n",
      "Epoch 34/100\n",
      " - 0s - loss: 0.0505 - accuracy: 0.9830 - val_loss: 0.0510 - val_accuracy: 0.9824\n",
      "Epoch 35/100\n",
      " - 0s - loss: 0.0469 - accuracy: 0.9841 - val_loss: 0.0577 - val_accuracy: 0.9815\n",
      "Epoch 36/100\n",
      " - 0s - loss: 0.0489 - accuracy: 0.9838 - val_loss: 0.0594 - val_accuracy: 0.9810\n",
      "Epoch 37/100\n",
      " - 0s - loss: 0.0513 - accuracy: 0.9822 - val_loss: 0.0658 - val_accuracy: 0.9804\n",
      "Epoch 38/100\n",
      " - 0s - loss: 0.0441 - accuracy: 0.9853 - val_loss: 0.0554 - val_accuracy: 0.9807\n",
      "Epoch 39/100\n",
      " - 0s - loss: 0.0497 - accuracy: 0.9821 - val_loss: 0.0650 - val_accuracy: 0.9774\n",
      "Epoch 40/100\n",
      " - 0s - loss: 0.0476 - accuracy: 0.9832 - val_loss: 0.0676 - val_accuracy: 0.9792\n",
      "Epoch 41/100\n",
      " - 0s - loss: 0.0433 - accuracy: 0.9864 - val_loss: 0.0543 - val_accuracy: 0.9818\n",
      "Epoch 42/100\n",
      " - 0s - loss: 0.0480 - accuracy: 0.9853 - val_loss: 0.0726 - val_accuracy: 0.9747\n",
      "Epoch 43/100\n",
      " - 0s - loss: 0.0525 - accuracy: 0.9830 - val_loss: 0.0494 - val_accuracy: 0.9818\n",
      "Epoch 44/100\n",
      " - 0s - loss: 0.0432 - accuracy: 0.9850 - val_loss: 0.0681 - val_accuracy: 0.9753\n",
      "Epoch 45/100\n",
      " - 0s - loss: 0.0510 - accuracy: 0.9822 - val_loss: 0.0633 - val_accuracy: 0.9795\n",
      "Epoch 46/100\n",
      " - 0s - loss: 0.0521 - accuracy: 0.9822 - val_loss: 0.0643 - val_accuracy: 0.9774\n",
      "Epoch 47/100\n",
      " - 0s - loss: 0.0436 - accuracy: 0.9868 - val_loss: 0.0674 - val_accuracy: 0.9783\n",
      "Epoch 48/100\n",
      " - 0s - loss: 0.0423 - accuracy: 0.9864 - val_loss: 0.0517 - val_accuracy: 0.9801\n",
      "Epoch 49/100\n",
      " - 0s - loss: 0.0504 - accuracy: 0.9820 - val_loss: 0.0616 - val_accuracy: 0.9762\n",
      "Epoch 50/100\n",
      " - 0s - loss: 0.0456 - accuracy: 0.9838 - val_loss: 0.0530 - val_accuracy: 0.9810\n",
      "Epoch 51/100\n",
      " - 0s - loss: 0.0452 - accuracy: 0.9846 - val_loss: 0.0691 - val_accuracy: 0.9759\n",
      "Epoch 52/100\n",
      " - 0s - loss: 0.0422 - accuracy: 0.9858 - val_loss: 0.0664 - val_accuracy: 0.9780\n",
      "Epoch 53/100\n",
      " - 0s - loss: 0.0420 - accuracy: 0.9857 - val_loss: 0.0575 - val_accuracy: 0.9804\n",
      "Epoch 54/100\n",
      " - 0s - loss: 0.0452 - accuracy: 0.9855 - val_loss: 0.0580 - val_accuracy: 0.9789\n",
      "Epoch 55/100\n",
      " - 0s - loss: 0.0451 - accuracy: 0.9846 - val_loss: 0.0584 - val_accuracy: 0.9815\n",
      "Epoch 56/100\n",
      " - 0s - loss: 0.0442 - accuracy: 0.9853 - val_loss: 0.0545 - val_accuracy: 0.9795\n",
      "Epoch 57/100\n",
      " - 0s - loss: 0.0412 - accuracy: 0.9855 - val_loss: 0.0685 - val_accuracy: 0.9786\n",
      "Epoch 58/100\n",
      " - 0s - loss: 0.0502 - accuracy: 0.9833 - val_loss: 0.0679 - val_accuracy: 0.9780\n",
      "Epoch 59/100\n",
      " - 0s - loss: 0.0439 - accuracy: 0.9840 - val_loss: 0.0536 - val_accuracy: 0.9780\n",
      "Epoch 60/100\n",
      " - 0s - loss: 0.0450 - accuracy: 0.9835 - val_loss: 0.0617 - val_accuracy: 0.9780\n",
      "Epoch 61/100\n",
      " - 0s - loss: 0.0445 - accuracy: 0.9847 - val_loss: 0.0613 - val_accuracy: 0.9777\n",
      "Epoch 62/100\n",
      " - 0s - loss: 0.0430 - accuracy: 0.9855 - val_loss: 0.0563 - val_accuracy: 0.9807\n",
      "Epoch 63/100\n",
      " - 0s - loss: 0.0412 - accuracy: 0.9850 - val_loss: 0.0640 - val_accuracy: 0.9804\n",
      "Epoch 64/100\n",
      " - 0s - loss: 0.0431 - accuracy: 0.9861 - val_loss: 0.0635 - val_accuracy: 0.9795\n",
      "Epoch 65/100\n",
      " - 0s - loss: 0.0439 - accuracy: 0.9850 - val_loss: 0.0545 - val_accuracy: 0.9801\n",
      "Epoch 66/100\n",
      " - 0s - loss: 0.0400 - accuracy: 0.9870 - val_loss: 0.0618 - val_accuracy: 0.9798\n",
      "Epoch 67/100\n",
      " - 0s - loss: 0.0437 - accuracy: 0.9852 - val_loss: 0.0548 - val_accuracy: 0.9795\n",
      "Epoch 68/100\n",
      " - 0s - loss: 0.0408 - accuracy: 0.9857 - val_loss: 0.0595 - val_accuracy: 0.9812\n",
      "Epoch 69/100\n",
      " - 0s - loss: 0.0451 - accuracy: 0.9858 - val_loss: 0.0584 - val_accuracy: 0.9792\n",
      "Epoch 70/100\n",
      " - 0s - loss: 0.0430 - accuracy: 0.9855 - val_loss: 0.0685 - val_accuracy: 0.9783\n",
      "Epoch 71/100\n",
      " - 0s - loss: 0.0453 - accuracy: 0.9837 - val_loss: 0.0624 - val_accuracy: 0.9780\n",
      "Epoch 72/100\n",
      " - 0s - loss: 0.0451 - accuracy: 0.9838 - val_loss: 0.0679 - val_accuracy: 0.9777\n",
      "Epoch 73/100\n",
      " - 0s - loss: 0.0455 - accuracy: 0.9840 - val_loss: 0.0618 - val_accuracy: 0.9771\n",
      "Epoch 74/100\n",
      " - 0s - loss: 0.0455 - accuracy: 0.9846 - val_loss: 0.0591 - val_accuracy: 0.9789\n",
      "Epoch 75/100\n",
      " - 0s - loss: 0.0439 - accuracy: 0.9852 - val_loss: 0.0644 - val_accuracy: 0.9789\n",
      "Epoch 76/100\n",
      " - 0s - loss: 0.0425 - accuracy: 0.9852 - val_loss: 0.0558 - val_accuracy: 0.9804\n",
      "Epoch 77/100\n",
      " - 0s - loss: 0.0406 - accuracy: 0.9864 - val_loss: 0.0819 - val_accuracy: 0.9756\n",
      "Epoch 78/100\n",
      " - 0s - loss: 0.0426 - accuracy: 0.9846 - val_loss: 0.0594 - val_accuracy: 0.9795\n",
      "Epoch 79/100\n",
      " - 0s - loss: 0.0418 - accuracy: 0.9853 - val_loss: 0.0591 - val_accuracy: 0.9789\n",
      "Epoch 80/100\n",
      " - 0s - loss: 0.0451 - accuracy: 0.9847 - val_loss: 0.0572 - val_accuracy: 0.9804\n",
      "Epoch 81/100\n",
      " - 0s - loss: 0.0447 - accuracy: 0.9847 - val_loss: 0.0562 - val_accuracy: 0.9783\n",
      "Epoch 82/100\n",
      " - 0s - loss: 0.0412 - accuracy: 0.9861 - val_loss: 0.0689 - val_accuracy: 0.9774\n",
      "Epoch 83/100\n",
      " - 0s - loss: 0.0461 - accuracy: 0.9850 - val_loss: 0.0844 - val_accuracy: 0.9759\n",
      "Epoch 84/100\n",
      " - 0s - loss: 0.0424 - accuracy: 0.9865 - val_loss: 0.0587 - val_accuracy: 0.9810\n",
      "Epoch 85/100\n",
      " - 0s - loss: 0.0514 - accuracy: 0.9832 - val_loss: 0.0547 - val_accuracy: 0.9771\n",
      "Epoch 86/100\n",
      " - 0s - loss: 0.0439 - accuracy: 0.9841 - val_loss: 0.0633 - val_accuracy: 0.9795\n"
     ]
    },
    {
     "name": "stdout",
     "output_type": "stream",
     "text": [
      "Epoch 87/100\n",
      " - 0s - loss: 0.0411 - accuracy: 0.9873 - val_loss: 0.0587 - val_accuracy: 0.9801\n",
      "Epoch 88/100\n",
      " - 0s - loss: 0.0452 - accuracy: 0.9841 - val_loss: 0.0656 - val_accuracy: 0.9780\n",
      "Epoch 89/100\n",
      " - 0s - loss: 0.0416 - accuracy: 0.9858 - val_loss: 0.0660 - val_accuracy: 0.9762\n",
      "Epoch 90/100\n",
      " - 0s - loss: 0.0387 - accuracy: 0.9865 - val_loss: 0.0581 - val_accuracy: 0.9768\n",
      "Epoch 91/100\n",
      " - 0s - loss: 0.0424 - accuracy: 0.9850 - val_loss: 0.0653 - val_accuracy: 0.9762\n",
      "Epoch 92/100\n",
      " - 0s - loss: 0.0440 - accuracy: 0.9841 - val_loss: 0.0603 - val_accuracy: 0.9795\n",
      "Epoch 93/100\n",
      " - 0s - loss: 0.0410 - accuracy: 0.9862 - val_loss: 0.0612 - val_accuracy: 0.9807\n",
      "Epoch 94/100\n",
      " - 0s - loss: 0.0458 - accuracy: 0.9854 - val_loss: 0.0572 - val_accuracy: 0.9789\n",
      "Epoch 95/100\n",
      " - 0s - loss: 0.0404 - accuracy: 0.9868 - val_loss: 0.0581 - val_accuracy: 0.9807\n",
      "Epoch 96/100\n",
      " - 0s - loss: 0.0426 - accuracy: 0.9850 - val_loss: 0.0670 - val_accuracy: 0.9780\n",
      "Epoch 97/100\n",
      " - 0s - loss: 0.0424 - accuracy: 0.9847 - val_loss: 0.0558 - val_accuracy: 0.9801\n",
      "Epoch 98/100\n",
      " - 0s - loss: 0.0460 - accuracy: 0.9829 - val_loss: 0.0694 - val_accuracy: 0.9756\n",
      "Epoch 99/100\n",
      " - 0s - loss: 0.0408 - accuracy: 0.9880 - val_loss: 0.0753 - val_accuracy: 0.9756\n",
      "Epoch 100/100\n",
      " - 0s - loss: 0.0463 - accuracy: 0.9828 - val_loss: 0.0621 - val_accuracy: 0.9789\n"
     ]
    }
   ],
   "source": [
    "history = model.fit(X_train, Y_train,validation_split=0.2, epochs = 100, batch_size = 32, verbose=2)"
   ]
  },
  {
   "cell_type": "code",
   "execution_count": 124,
   "metadata": {},
   "outputs": [
    {
     "data": {
      "text/plain": [
       "Text(0.5, 1.0, 'Accuracy')"
      ]
     },
     "execution_count": 124,
     "metadata": {},
     "output_type": "execute_result"
    },
    {
     "data": {
      "image/png": "[encoded data removed]",
      "text/plain": [
       "<Figure size 648x648 with 2 Axes>"
      ]
     },
     "metadata": {
      "needs_background": "light"
     },
     "output_type": "display_data"
    }
   ],
   "source": [
    "fig, axes = plt.subplots(nrows=1, ncols=2,figsize=(9,9))\n",
    "plt.subplot(2,1,1)\n",
    "plt.plot(history.history['loss'])\n",
    "plt.plot(history.history['val_loss'])\n",
    "plt.legend([\"Train\",\"Validation\"])\n",
    "plt.title(\"Loss\")\n",
    "plt.subplot(2,1,2)\n",
    "plt.plot(history.history['accuracy'])\n",
    "plt.plot(history.history['val_accuracy'])\n",
    "plt.legend([\"Train\",\"Validation\"])\n",
    "plt.title(\"Accuracy\")"
   ]
  },
  {
   "cell_type": "code",
   "execution_count": 123,
   "metadata": {},
   "outputs": [
    {
     "data": {
      "text/plain": [
       "<matplotlib.image.AxesImage at 0x18af05ce048>"
      ]
     },
     "execution_count": 123,
     "metadata": {},
     "output_type": "execute_result"
    },
    {
     "data": {
      "image/png": "[encoded data removed]",
      "text/plain": [
       "<Figure size 720x360 with 8 Axes>"
      ]
     },
     "metadata": {
      "needs_background": "light"
     },
     "output_type": "display_data"
    }
   ],
   "source": [
    "plt.figure(figsize=[10,5])\n",
    "plt.subplot(2,4,1)\n",
    "plt.imshow(X_train[0].reshape(8,8))\n",
    "plt.subplot(2,4,2)\n",
    "plt.imshow(X_train[3].reshape(8,8))\n",
    "plt.subplot(2,4,3)\n",
    "plt.imshow(X_train[4].reshape(8,8))\n",
    "plt.subplot(2,4,4)\n",
    "plt.imshow(X_train[6].reshape(8,8))\n",
    "plt.subplot(2,4,5)\n",
    "plt.imshow(X_train[26].reshape(8,8))\n",
    "plt.subplot(2,4,6)\n",
    "plt.imshow(X_train[29].reshape(8,8))\n",
    "plt.subplot(2,4,7)\n",
    "plt.imshow(X_train[17].reshape(8,8))\n",
    "plt.subplot(2,4,8)\n",
    "plt.imshow(X_train[18].reshape(8,8))"
   ]
  },
  {
   "cell_type": "code",
   "execution_count": 118,
   "metadata": {},
   "outputs": [
    {
     "data": {
      "text/plain": [
       "array([0., 0., 0., 1.])"
      ]
     },
     "execution_count": 118,
     "metadata": {},
     "output_type": "execute_result"
    }
   ],
   "source": [
    "Y_train[29]"
   ]
  },
  {
   "cell_type": "code",
   "execution_count": null,
   "metadata": {},
   "outputs": [],
   "source": []
  }
 ],
 "metadata": {
  "kernelspec": {
   "display_name": "Python 3",
   "language": "python",
   "name": "python3"
  },
  "language_info": {
   "codemirror_mode": {
    "name": "ipython",
    "version": 3
   },
   "file_extension": ".py",
   "mimetype": "text/x-python",
   "name": "python",
   "nbconvert_exporter": "python",
   "pygments_lexer": "ipython3",
   "version": "3.7.4"
  }
 },
 "nbformat": 4,
 "nbformat_minor": 4
}
