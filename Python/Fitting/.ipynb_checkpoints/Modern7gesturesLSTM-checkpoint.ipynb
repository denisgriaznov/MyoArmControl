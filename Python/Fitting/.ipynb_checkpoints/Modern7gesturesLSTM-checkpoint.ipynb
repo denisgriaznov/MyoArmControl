{
 "cells": [
  {
   "cell_type": "code",
   "execution_count": 1,
   "metadata": {},
   "outputs": [],
   "source": [
    "import numpy as np \n",
    "import pandas as pd\n",
    "import matplotlib.pyplot as plt\n",
    "import os\n",
    "from sklearn.preprocessing import MinMaxScaler\n",
    "import seaborn as sns\n",
    "import tensorflow as tf"
   ]
  },
  {
   "cell_type": "code",
   "execution_count": 2,
   "metadata": {},
   "outputs": [
    {
     "name": "stderr",
     "output_type": "stream",
     "text": [
      "Using TensorFlow backend.\n"
     ]
    }
   ],
   "source": [
    "from keras.models import Sequential\n",
    "from keras.layers import Dense\n",
    "from keras.callbacks import ModelCheckpoint\n",
    "from keras.layers import Dropout\n",
    "from keras.layers import LSTM"
   ]
  },
  {
   "cell_type": "code",
   "execution_count": 3,
   "metadata": {},
   "outputs": [],
   "source": [
    "dataset = pd.read_csv(\"../data/4_64points.txt\")"
   ]
  },
  {
   "cell_type": "code",
   "execution_count": 4,
   "metadata": {},
   "outputs": [],
   "source": [
    "dataset = dataset.dropna()\n",
    "dataset_train = np.array(dataset)\n",
    "dataset_train = dataset_train[np.random.permutation(len(dataset_train))]\n",
    "X_train = dataset_train[:,:-1]\n",
    "Y_train = dataset_train[:,-1:]"
   ]
  },
  {
   "cell_type": "code",
   "execution_count": 5,
   "metadata": {},
   "outputs": [
    {
     "data": {
      "text/plain": [
       "(4196, 4)"
      ]
     },
     "execution_count": 5,
     "metadata": {},
     "output_type": "execute_result"
    }
   ],
   "source": [
    "Y_train = [int(i) for i in Y_train]\n",
    "Y_train = np.eye(np.max(Y_train) + 1)[Y_train]\n",
    "Y_train.shape"
   ]
  },
  {
   "cell_type": "code",
   "execution_count": 6,
   "metadata": {},
   "outputs": [],
   "source": [
    "X_train = np.asarray(X_train)\n",
    "Y_train = np.asarray(Y_train)"
   ]
  },
  {
   "cell_type": "code",
   "execution_count": 7,
   "metadata": {},
   "outputs": [],
   "source": [
    "X_train = X_train.reshape(4196,8,8)"
   ]
  },
  {
   "cell_type": "code",
   "execution_count": 8,
   "metadata": {},
   "outputs": [],
   "source": [
    "for graph in X_train:\n",
    "    for i in range(8):\n",
    "        m = max(graph[i])\n",
    "        for j in range(8):\n",
    "            graph[i][j] = graph[i][j]/m"
   ]
  },
  {
   "cell_type": "code",
   "execution_count": 9,
   "metadata": {},
   "outputs": [],
   "source": [
    "classifier = Sequential()\n",
    "\n",
    "classifier.add(LSTM(units=50, return_sequences=True, input_shape=(X_train.shape[1], X_train.shape[2])))\n",
    "classifier.add(Dropout(0.2))\n",
    "\n",
    "classifier.add(LSTM(units = 50))\n",
    "classifier.add(Dropout(0.2))\n",
    "\n",
    "\n",
    "classifier.add(Dense(units = 64))\n",
    "\n",
    "classifier.add(Dense(units = 4, activation=\"softmax\"))"
   ]
  },
  {
   "cell_type": "code",
   "execution_count": 10,
   "metadata": {},
   "outputs": [],
   "source": [
    "mcp_save = ModelCheckpoint(\"../Data/Modern4LSTM.h5\", save_best_only=True, monitor='val_acc', mode='max')\n",
    "classifier.compile(optimizer = 'adam', loss = 'binary_crossentropy', metrics=['accuracy'])"
   ]
  },
  {
   "cell_type": "code",
   "execution_count": 11,
   "metadata": {},
   "outputs": [
    {
     "name": "stdout",
     "output_type": "stream",
     "text": [
      "Train on 3356 samples, validate on 840 samples\n",
      "Epoch 1/30\n",
      " - 2s - loss: 0.1563 - accuracy: 0.9376 - val_loss: 0.0660 - val_accuracy: 0.9729\n",
      "Epoch 2/30\n"
     ]
    },
    {
     "name": "stderr",
     "output_type": "stream",
     "text": [
      "C:\\Users\\Denis\\Anaconda3\\envs\\myo\\lib\\site-packages\\keras\\callbacks\\callbacks.py:707: RuntimeWarning: Can save best model only with val_acc available, skipping.\n",
      "  'skipping.' % (self.monitor), RuntimeWarning)\n"
     ]
    },
    {
     "name": "stdout",
     "output_type": "stream",
     "text": [
      " - 1s - loss: 0.0649 - accuracy: 0.9787 - val_loss: 0.0535 - val_accuracy: 0.9810\n",
      "Epoch 3/30\n",
      " - 1s - loss: 0.0578 - accuracy: 0.9812 - val_loss: 0.0484 - val_accuracy: 0.9830\n",
      "Epoch 4/30\n",
      " - 1s - loss: 0.0594 - accuracy: 0.9788 - val_loss: 0.0439 - val_accuracy: 0.9827\n",
      "Epoch 5/30\n",
      " - 1s - loss: 0.0528 - accuracy: 0.9814 - val_loss: 0.0338 - val_accuracy: 0.9896\n",
      "Epoch 6/30\n",
      " - 1s - loss: 0.0473 - accuracy: 0.9841 - val_loss: 0.0348 - val_accuracy: 0.9890\n",
      "Epoch 7/30\n",
      " - 1s - loss: 0.0463 - accuracy: 0.9839 - val_loss: 0.0369 - val_accuracy: 0.9866\n",
      "Epoch 8/30\n",
      " - 1s - loss: 0.0458 - accuracy: 0.9856 - val_loss: 0.0346 - val_accuracy: 0.9878\n",
      "Epoch 9/30\n",
      " - 1s - loss: 0.0455 - accuracy: 0.9846 - val_loss: 0.0378 - val_accuracy: 0.9872\n",
      "Epoch 10/30\n",
      " - 1s - loss: 0.0442 - accuracy: 0.9841 - val_loss: 0.0455 - val_accuracy: 0.9818\n",
      "Epoch 11/30\n",
      " - 1s - loss: 0.0452 - accuracy: 0.9855 - val_loss: 0.0272 - val_accuracy: 0.9902\n",
      "Epoch 12/30\n",
      " - 1s - loss: 0.0409 - accuracy: 0.9863 - val_loss: 0.0408 - val_accuracy: 0.9836\n",
      "Epoch 13/30\n",
      " - 1s - loss: 0.0463 - accuracy: 0.9847 - val_loss: 0.0316 - val_accuracy: 0.9887\n",
      "Epoch 14/30\n",
      " - 1s - loss: 0.0412 - accuracy: 0.9855 - val_loss: 0.0394 - val_accuracy: 0.9842\n",
      "Epoch 15/30\n",
      " - 1s - loss: 0.0378 - accuracy: 0.9860 - val_loss: 0.0392 - val_accuracy: 0.9857\n",
      "Epoch 16/30\n",
      " - 1s - loss: 0.0387 - accuracy: 0.9858 - val_loss: 0.0380 - val_accuracy: 0.9866\n",
      "Epoch 17/30\n",
      " - 1s - loss: 0.0357 - accuracy: 0.9879 - val_loss: 0.0264 - val_accuracy: 0.9902\n",
      "Epoch 18/30\n",
      " - 1s - loss: 0.0329 - accuracy: 0.9876 - val_loss: 0.0296 - val_accuracy: 0.9875\n",
      "Epoch 19/30\n",
      " - 1s - loss: 0.0355 - accuracy: 0.9879 - val_loss: 0.0439 - val_accuracy: 0.9830\n",
      "Epoch 20/30\n",
      " - 1s - loss: 0.0345 - accuracy: 0.9879 - val_loss: 0.0285 - val_accuracy: 0.9899\n",
      "Epoch 21/30\n",
      " - 1s - loss: 0.0350 - accuracy: 0.9879 - val_loss: 0.0275 - val_accuracy: 0.9899\n",
      "Epoch 22/30\n",
      " - 1s - loss: 0.0322 - accuracy: 0.9902 - val_loss: 0.0303 - val_accuracy: 0.9893\n",
      "Epoch 23/30\n",
      " - 1s - loss: 0.0326 - accuracy: 0.9888 - val_loss: 0.0337 - val_accuracy: 0.9866\n",
      "Epoch 24/30\n",
      " - 1s - loss: 0.0309 - accuracy: 0.9899 - val_loss: 0.0256 - val_accuracy: 0.9914\n",
      "Epoch 25/30\n",
      " - 1s - loss: 0.0312 - accuracy: 0.9888 - val_loss: 0.0268 - val_accuracy: 0.9902\n",
      "Epoch 26/30\n",
      " - 1s - loss: 0.0313 - accuracy: 0.9894 - val_loss: 0.0364 - val_accuracy: 0.9878\n",
      "Epoch 27/30\n",
      " - 1s - loss: 0.0315 - accuracy: 0.9885 - val_loss: 0.0262 - val_accuracy: 0.9920\n",
      "Epoch 28/30\n",
      " - 1s - loss: 0.0296 - accuracy: 0.9891 - val_loss: 0.0294 - val_accuracy: 0.9890\n",
      "Epoch 29/30\n",
      " - 1s - loss: 0.0280 - accuracy: 0.9899 - val_loss: 0.0365 - val_accuracy: 0.9884\n",
      "Epoch 30/30\n",
      " - 1s - loss: 0.0273 - accuracy: 0.9907 - val_loss: 0.0315 - val_accuracy: 0.9881\n"
     ]
    }
   ],
   "source": [
    "history = classifier.fit(X_train, Y_train,validation_split=0.2, epochs = 30, batch_size = 16, verbose=2,callbacks=[mcp_save])"
   ]
  },
  {
   "cell_type": "code",
   "execution_count": 13,
   "metadata": {},
   "outputs": [
    {
     "data": {
      "text/plain": [
       "Text(0.5, 1.0, 'Accuracy')"
      ]
     },
     "execution_count": 13,
     "metadata": {},
     "output_type": "execute_result"
    },
    {
     "data": {
      "image/png": "[encoded data removed]",
      "text/plain": [
       "<Figure size 648x648 with 2 Axes>"
      ]
     },
     "metadata": {
      "needs_background": "light"
     },
     "output_type": "display_data"
    }
   ],
   "source": [
    "fig, axes = plt.subplots(nrows=1, ncols=2,figsize=(9,9))\n",
    "plt.subplot(2,1,1)\n",
    "plt.plot(history.history['loss'])\n",
    "plt.plot(history.history['val_loss'])\n",
    "plt.legend([\"Train\",\"Validation\"])\n",
    "plt.title(\"Loss\")\n",
    "plt.subplot(2,1,2)\n",
    "plt.plot(history.history['accuracy'])\n",
    "plt.plot(history.history['val_accuracy'])\n",
    "plt.legend([\"Train\",\"Validation\"])\n",
    "plt.title(\"Accuracy\")"
   ]
  },
  {
   "cell_type": "code",
   "execution_count": null,
   "metadata": {},
   "outputs": [],
   "source": []
  }
 ],
 "metadata": {
  "kernelspec": {
   "display_name": "Python 3",
   "language": "python",
   "name": "python3"
  },
  "language_info": {
   "codemirror_mode": {
    "name": "ipython",
    "version": 3
   },
   "file_extension": ".py",
   "mimetype": "text/x-python",
   "name": "python",
   "nbconvert_exporter": "python",
   "pygments_lexer": "ipython3",
   "version": "3.7.6"
  }
 },
 "nbformat": 4,
 "nbformat_minor": 4
}
