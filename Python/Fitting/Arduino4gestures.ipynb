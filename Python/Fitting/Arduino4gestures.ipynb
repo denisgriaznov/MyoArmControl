{
 "cells": [
  {
   "cell_type": "code",
   "execution_count": 1,
   "metadata": {},
   "outputs": [],
   "source": [
    "import numpy as np \n",
    "import pandas as pd\n",
    "import matplotlib.pyplot as plt\n",
    "import os\n",
    "from sklearn.preprocessing import MinMaxScaler\n",
    "import seaborn as sns\n",
    "import tensorflow as tf"
   ]
  },
  {
   "cell_type": "code",
   "execution_count": 2,
   "metadata": {},
   "outputs": [
    {
     "name": "stderr",
     "output_type": "stream",
     "text": [
      "Using TensorFlow backend.\n"
     ]
    }
   ],
   "source": [
    "from keras.models import Sequential\n",
    "from keras.layers import Dense\n",
    "from keras.callbacks import ModelCheckpoint\n",
    "from keras.layers import Dropout"
   ]
  },
  {
   "cell_type": "code",
   "execution_count": 2,
   "metadata": {},
   "outputs": [],
   "source": [
    "dataset = pd.read_csv(\"../data/gesture4.txt\")"
   ]
  },
  {
   "cell_type": "code",
   "execution_count": 3,
   "metadata": {},
   "outputs": [
    {
     "data": {
      "text/html": [
       "<div>\n",
       "<style scoped>\n",
       "    .dataframe tbody tr th:only-of-type {\n",
       "        vertical-align: middle;\n",
       "    }\n",
       "\n",
       "    .dataframe tbody tr th {\n",
       "        vertical-align: top;\n",
       "    }\n",
       "\n",
       "    .dataframe thead th {\n",
       "        text-align: right;\n",
       "    }\n",
       "</style>\n",
       "<table border=\"1\" class=\"dataframe\">\n",
       "  <thead>\n",
       "    <tr style=\"text-align: right;\">\n",
       "      <th></th>\n",
       "      <th>0</th>\n",
       "      <th>1</th>\n",
       "      <th>2</th>\n",
       "      <th>3</th>\n",
       "      <th>4</th>\n",
       "      <th>5</th>\n",
       "      <th>6</th>\n",
       "      <th>7</th>\n",
       "      <th>8</th>\n",
       "      <th>9</th>\n",
       "      <th>10</th>\n",
       "      <th>11</th>\n",
       "      <th>12</th>\n",
       "      <th>13</th>\n",
       "      <th>14</th>\n",
       "      <th>15</th>\n",
       "      <th>gesture</th>\n",
       "    </tr>\n",
       "  </thead>\n",
       "  <tbody>\n",
       "    <tr>\n",
       "      <td>0</td>\n",
       "      <td>0.41</td>\n",
       "      <td>0.48</td>\n",
       "      <td>0.01</td>\n",
       "      <td>0.22</td>\n",
       "      <td>1.00</td>\n",
       "      <td>0.28</td>\n",
       "      <td>0.12</td>\n",
       "      <td>0.30</td>\n",
       "      <td>0.07</td>\n",
       "      <td>0.14</td>\n",
       "      <td>0.00</td>\n",
       "      <td>0.06</td>\n",
       "      <td>0.22</td>\n",
       "      <td>0.09</td>\n",
       "      <td>0.32</td>\n",
       "      <td>0.08</td>\n",
       "      <td>3</td>\n",
       "    </tr>\n",
       "    <tr>\n",
       "      <td>1</td>\n",
       "      <td>0.13</td>\n",
       "      <td>0.18</td>\n",
       "      <td>0.08</td>\n",
       "      <td>0.13</td>\n",
       "      <td>0.52</td>\n",
       "      <td>0.32</td>\n",
       "      <td>0.52</td>\n",
       "      <td>0.26</td>\n",
       "      <td>0.12</td>\n",
       "      <td>0.02</td>\n",
       "      <td>0.07</td>\n",
       "      <td>0.00</td>\n",
       "      <td>1.00</td>\n",
       "      <td>0.34</td>\n",
       "      <td>0.39</td>\n",
       "      <td>0.21</td>\n",
       "      <td>3</td>\n",
       "    </tr>\n",
       "    <tr>\n",
       "      <td>2</td>\n",
       "      <td>0.02</td>\n",
       "      <td>0.04</td>\n",
       "      <td>0.00</td>\n",
       "      <td>0.59</td>\n",
       "      <td>0.31</td>\n",
       "      <td>0.07</td>\n",
       "      <td>0.48</td>\n",
       "      <td>0.56</td>\n",
       "      <td>0.10</td>\n",
       "      <td>1.00</td>\n",
       "      <td>0.20</td>\n",
       "      <td>0.04</td>\n",
       "      <td>0.85</td>\n",
       "      <td>0.01</td>\n",
       "      <td>0.61</td>\n",
       "      <td>0.47</td>\n",
       "      <td>3</td>\n",
       "    </tr>\n",
       "    <tr>\n",
       "      <td>3</td>\n",
       "      <td>0.22</td>\n",
       "      <td>0.53</td>\n",
       "      <td>0.00</td>\n",
       "      <td>0.53</td>\n",
       "      <td>0.46</td>\n",
       "      <td>0.02</td>\n",
       "      <td>0.87</td>\n",
       "      <td>0.01</td>\n",
       "      <td>0.28</td>\n",
       "      <td>0.50</td>\n",
       "      <td>0.20</td>\n",
       "      <td>0.24</td>\n",
       "      <td>1.00</td>\n",
       "      <td>0.05</td>\n",
       "      <td>0.20</td>\n",
       "      <td>0.18</td>\n",
       "      <td>3</td>\n",
       "    </tr>\n",
       "    <tr>\n",
       "      <td>4</td>\n",
       "      <td>0.46</td>\n",
       "      <td>0.58</td>\n",
       "      <td>0.28</td>\n",
       "      <td>0.08</td>\n",
       "      <td>0.48</td>\n",
       "      <td>0.31</td>\n",
       "      <td>1.00</td>\n",
       "      <td>0.89</td>\n",
       "      <td>0.01</td>\n",
       "      <td>0.13</td>\n",
       "      <td>0.06</td>\n",
       "      <td>0.04</td>\n",
       "      <td>0.80</td>\n",
       "      <td>0.70</td>\n",
       "      <td>0.58</td>\n",
       "      <td>0.86</td>\n",
       "      <td>3</td>\n",
       "    </tr>\n",
       "  </tbody>\n",
       "</table>\n",
       "</div>"
      ],
      "text/plain": [
       "      0     1     2     3     4     5     6     7     8     9    10    11  \\\n",
       "0  0.41  0.48  0.01  0.22  1.00  0.28  0.12  0.30  0.07  0.14  0.00  0.06   \n",
       "1  0.13  0.18  0.08  0.13  0.52  0.32  0.52  0.26  0.12  0.02  0.07  0.00   \n",
       "2  0.02  0.04  0.00  0.59  0.31  0.07  0.48  0.56  0.10  1.00  0.20  0.04   \n",
       "3  0.22  0.53  0.00  0.53  0.46  0.02  0.87  0.01  0.28  0.50  0.20  0.24   \n",
       "4  0.46  0.58  0.28  0.08  0.48  0.31  1.00  0.89  0.01  0.13  0.06  0.04   \n",
       "\n",
       "     12    13    14    15  gesture  \n",
       "0  0.22  0.09  0.32  0.08        3  \n",
       "1  1.00  0.34  0.39  0.21        3  \n",
       "2  0.85  0.01  0.61  0.47        3  \n",
       "3  1.00  0.05  0.20  0.18        3  \n",
       "4  0.80  0.70  0.58  0.86        3  "
      ]
     },
     "execution_count": 3,
     "metadata": {},
     "output_type": "execute_result"
    }
   ],
   "source": [
    "dataset.head()\n"
   ]
  },
  {
   "cell_type": "markdown",
   "metadata": {},
   "source": [
    "# In, Out, Fist, Goat"
   ]
  },
  {
   "cell_type": "code",
   "execution_count": 4,
   "metadata": {},
   "outputs": [],
   "source": [
    "dataset = dataset.dropna()\n",
    "dataset_train = np.array(dataset)\n",
    "dataset_train = dataset_train[np.random.permutation(len(dataset_train))]\n",
    "X_train = dataset_train[:,:-1]\n",
    "Y_train = dataset_train[:,-1:]"
   ]
  },
  {
   "cell_type": "code",
   "execution_count": 57,
   "metadata": {},
   "outputs": [
    {
     "data": {
      "text/plain": [
       "(2155, 4)"
      ]
     },
     "execution_count": 57,
     "metadata": {},
     "output_type": "execute_result"
    }
   ],
   "source": [
    "Y_train = [int(i) for i in Y_train]\n",
    "Y_train = np.eye(np.max(Y_train) + 1)[Y_train]\n",
    "Y_train.shape"
   ]
  },
  {
   "cell_type": "code",
   "execution_count": 58,
   "metadata": {},
   "outputs": [],
   "source": [
    "X_train = np.asarray(X_train)\n",
    "Y_train = np.asarray(Y_train)"
   ]
  },
  {
   "cell_type": "code",
   "execution_count": 59,
   "metadata": {},
   "outputs": [],
   "source": [
    "model = Sequential()\n",
    "\n",
    "model.add(Dense(16, input_shape=(16,)))\n",
    "model.add(Dropout(0.2))\n",
    "\n",
    "model.add(Dense(16))\n",
    "model.add(Dropout(0.2))\n",
    "\n",
    "model.add(Dense(4, activation=\"softmax\"))"
   ]
  },
  {
   "cell_type": "code",
   "execution_count": 60,
   "metadata": {},
   "outputs": [],
   "source": [
    "model.compile(optimizer = 'adam', loss = 'binary_crossentropy', metrics=['accuracy'])"
   ]
  },
  {
   "cell_type": "code",
   "execution_count": 61,
   "metadata": {},
   "outputs": [
    {
     "name": "stdout",
     "output_type": "stream",
     "text": [
      "Train on 1724 samples, validate on 431 samples\n",
      "Epoch 1/50\n",
      " - 0s - loss: 0.4508 - accuracy: 0.7906 - val_loss: 0.3256 - val_accuracy: 0.8724\n",
      "Epoch 2/50\n",
      " - 0s - loss: 0.2925 - accuracy: 0.8765 - val_loss: 0.2406 - val_accuracy: 0.9020\n",
      "Epoch 3/50\n",
      " - 0s - loss: 0.2362 - accuracy: 0.9056 - val_loss: 0.1907 - val_accuracy: 0.9223\n",
      "Epoch 4/50\n",
      " - 0s - loss: 0.1943 - accuracy: 0.9236 - val_loss: 0.1687 - val_accuracy: 0.9397\n",
      "Epoch 5/50\n",
      " - 0s - loss: 0.1832 - accuracy: 0.9308 - val_loss: 0.1550 - val_accuracy: 0.9495\n",
      "Epoch 6/50\n",
      " - 0s - loss: 0.1648 - accuracy: 0.9349 - val_loss: 0.1522 - val_accuracy: 0.9466\n",
      "Epoch 7/50\n",
      " - 0s - loss: 0.1661 - accuracy: 0.9323 - val_loss: 0.1454 - val_accuracy: 0.9495\n",
      "Epoch 8/50\n",
      " - 0s - loss: 0.1582 - accuracy: 0.9397 - val_loss: 0.1484 - val_accuracy: 0.9495\n",
      "Epoch 9/50\n",
      " - 0s - loss: 0.1545 - accuracy: 0.9397 - val_loss: 0.1436 - val_accuracy: 0.9478\n",
      "Epoch 10/50\n",
      " - 0s - loss: 0.1568 - accuracy: 0.9353 - val_loss: 0.1455 - val_accuracy: 0.9484\n",
      "Epoch 11/50\n",
      " - 0s - loss: 0.1558 - accuracy: 0.9382 - val_loss: 0.1418 - val_accuracy: 0.9524\n",
      "Epoch 12/50\n",
      " - 0s - loss: 0.1519 - accuracy: 0.9453 - val_loss: 0.1402 - val_accuracy: 0.9524\n",
      "Epoch 13/50\n",
      " - 0s - loss: 0.1452 - accuracy: 0.9458 - val_loss: 0.1444 - val_accuracy: 0.9490\n",
      "Epoch 14/50\n",
      " - 0s - loss: 0.1474 - accuracy: 0.9461 - val_loss: 0.1406 - val_accuracy: 0.9507\n",
      "Epoch 15/50\n",
      " - 0s - loss: 0.1461 - accuracy: 0.9459 - val_loss: 0.1410 - val_accuracy: 0.9519\n",
      "Epoch 16/50\n",
      " - 0s - loss: 0.1434 - accuracy: 0.9456 - val_loss: 0.1457 - val_accuracy: 0.9501\n",
      "Epoch 17/50\n",
      " - 0s - loss: 0.1404 - accuracy: 0.9449 - val_loss: 0.1415 - val_accuracy: 0.9501\n",
      "Epoch 18/50\n",
      " - 0s - loss: 0.1462 - accuracy: 0.9434 - val_loss: 0.1404 - val_accuracy: 0.9507\n",
      "Epoch 19/50\n",
      " - 0s - loss: 0.1438 - accuracy: 0.9446 - val_loss: 0.1460 - val_accuracy: 0.9490\n",
      "Epoch 20/50\n",
      " - 0s - loss: 0.1347 - accuracy: 0.9504 - val_loss: 0.1410 - val_accuracy: 0.9519\n",
      "Epoch 21/50\n",
      " - 0s - loss: 0.1371 - accuracy: 0.9517 - val_loss: 0.1406 - val_accuracy: 0.9501\n",
      "Epoch 22/50\n",
      " - 0s - loss: 0.1340 - accuracy: 0.9484 - val_loss: 0.1406 - val_accuracy: 0.9524\n",
      "Epoch 23/50\n",
      " - 0s - loss: 0.1365 - accuracy: 0.9488 - val_loss: 0.1454 - val_accuracy: 0.9524\n",
      "Epoch 24/50\n",
      " - 0s - loss: 0.1394 - accuracy: 0.9474 - val_loss: 0.1420 - val_accuracy: 0.9507\n",
      "Epoch 25/50\n",
      " - 0s - loss: 0.1369 - accuracy: 0.9526 - val_loss: 0.1404 - val_accuracy: 0.9495\n",
      "Epoch 26/50\n",
      " - 0s - loss: 0.1418 - accuracy: 0.9450 - val_loss: 0.1398 - val_accuracy: 0.9524\n",
      "Epoch 27/50\n",
      " - 0s - loss: 0.1313 - accuracy: 0.9539 - val_loss: 0.1471 - val_accuracy: 0.9490\n",
      "Epoch 28/50\n",
      " - 0s - loss: 0.1311 - accuracy: 0.9520 - val_loss: 0.1434 - val_accuracy: 0.9501\n",
      "Epoch 29/50\n",
      " - 0s - loss: 0.1344 - accuracy: 0.9497 - val_loss: 0.1418 - val_accuracy: 0.9495\n",
      "Epoch 30/50\n",
      " - 0s - loss: 0.1303 - accuracy: 0.9529 - val_loss: 0.1396 - val_accuracy: 0.9507\n",
      "Epoch 31/50\n",
      " - 0s - loss: 0.1307 - accuracy: 0.9513 - val_loss: 0.1403 - val_accuracy: 0.9507\n",
      "Epoch 32/50\n",
      " - 0s - loss: 0.1260 - accuracy: 0.9524 - val_loss: 0.1412 - val_accuracy: 0.9495\n",
      "Epoch 33/50\n",
      " - 0s - loss: 0.1272 - accuracy: 0.9553 - val_loss: 0.1425 - val_accuracy: 0.9519\n",
      "Epoch 34/50\n",
      " - 0s - loss: 0.1309 - accuracy: 0.9508 - val_loss: 0.1422 - val_accuracy: 0.9490\n",
      "Epoch 35/50\n",
      " - 0s - loss: 0.1262 - accuracy: 0.9542 - val_loss: 0.1375 - val_accuracy: 0.9513\n",
      "Epoch 36/50\n",
      " - 0s - loss: 0.1230 - accuracy: 0.9562 - val_loss: 0.1399 - val_accuracy: 0.9490\n",
      "Epoch 37/50\n",
      " - 0s - loss: 0.1245 - accuracy: 0.9558 - val_loss: 0.1445 - val_accuracy: 0.9484\n",
      "Epoch 38/50\n",
      " - 0s - loss: 0.1291 - accuracy: 0.9504 - val_loss: 0.1429 - val_accuracy: 0.9524\n",
      "Epoch 39/50\n",
      " - 0s - loss: 0.1280 - accuracy: 0.9537 - val_loss: 0.1417 - val_accuracy: 0.9490\n",
      "Epoch 40/50\n",
      " - 0s - loss: 0.1261 - accuracy: 0.9564 - val_loss: 0.1408 - val_accuracy: 0.9530\n",
      "Epoch 41/50\n",
      " - 0s - loss: 0.1257 - accuracy: 0.9559 - val_loss: 0.1423 - val_accuracy: 0.9472\n",
      "Epoch 42/50\n",
      " - 0s - loss: 0.1260 - accuracy: 0.9568 - val_loss: 0.1388 - val_accuracy: 0.9484\n",
      "Epoch 43/50\n",
      " - 0s - loss: 0.1271 - accuracy: 0.9533 - val_loss: 0.1398 - val_accuracy: 0.9513\n",
      "Epoch 44/50\n",
      " - 0s - loss: 0.1241 - accuracy: 0.9543 - val_loss: 0.1435 - val_accuracy: 0.9495\n",
      "Epoch 45/50\n",
      " - 0s - loss: 0.1263 - accuracy: 0.9539 - val_loss: 0.1392 - val_accuracy: 0.9501\n",
      "Epoch 46/50\n",
      " - 0s - loss: 0.1245 - accuracy: 0.9539 - val_loss: 0.1421 - val_accuracy: 0.9524\n",
      "Epoch 47/50\n",
      " - 0s - loss: 0.1231 - accuracy: 0.9520 - val_loss: 0.1445 - val_accuracy: 0.9478\n",
      "Epoch 48/50\n",
      " - 0s - loss: 0.1261 - accuracy: 0.9514 - val_loss: 0.1432 - val_accuracy: 0.9507\n",
      "Epoch 49/50\n",
      " - 0s - loss: 0.1186 - accuracy: 0.9577 - val_loss: 0.1412 - val_accuracy: 0.9501\n",
      "Epoch 50/50\n",
      " - 0s - loss: 0.1222 - accuracy: 0.9559 - val_loss: 0.1411 - val_accuracy: 0.9501\n"
     ]
    }
   ],
   "source": [
    "history = model.fit(X_train, Y_train,validation_split=0.2, epochs = 50, batch_size = 8, verbose=2)"
   ]
  },
  {
   "cell_type": "code",
   "execution_count": 14,
   "metadata": {},
   "outputs": [
    {
     "data": {
      "text/plain": [
       "Text(0.5, 1.0, 'Accuracy')"
      ]
     },
     "execution_count": 14,
     "metadata": {},
     "output_type": "execute_result"
    },
    {
     "data": {
      "image/png": "[encoded data removed]",
      "text/plain": [
       "<Figure size 648x648 with 2 Axes>"
      ]
     },
     "metadata": {
      "needs_background": "light"
     },
     "output_type": "display_data"
    }
   ],
   "source": [
    "fig, axes = plt.subplots(nrows=1, ncols=2,figsize=(9,9))\n",
    "plt.subplot(2,1,1)\n",
    "plt.plot(history.history['loss'])\n",
    "plt.plot(history.history['val_loss'])\n",
    "plt.legend([\"Train\",\"Validation\"])\n",
    "plt.title(\"Loss\")\n",
    "plt.subplot(2,1,2)\n",
    "plt.plot(history.history['accuracy'])\n",
    "plt.plot(history.history['val_accuracy'])\n",
    "plt.legend([\"Train\",\"Validation\"])\n",
    "plt.title(\"Accuracy\")"
   ]
  },
  {
   "cell_type": "code",
   "execution_count": 15,
   "metadata": {},
   "outputs": [
    {
     "name": "stdout",
     "output_type": "stream",
     "text": [
      "Model: \"sequential_2\"\n",
      "_________________________________________________________________\n",
      "Layer (type)                 Output Shape              Param #   \n",
      "=================================================================\n",
      "dense_4 (Dense)              (None, 16)                272       \n",
      "_________________________________________________________________\n",
      "dropout_3 (Dropout)          (None, 16)                0         \n",
      "_________________________________________________________________\n",
      "dense_5 (Dense)              (None, 16)                272       \n",
      "_________________________________________________________________\n",
      "dropout_4 (Dropout)          (None, 16)                0         \n",
      "_________________________________________________________________\n",
      "dense_6 (Dense)              (None, 4)                 68        \n",
      "=================================================================\n",
      "Total params: 612\n",
      "Trainable params: 612\n",
      "Non-trainable params: 0\n",
      "_________________________________________________________________\n",
      "None\n"
     ]
    }
   ],
   "source": [
    "print(model.summary())"
   ]
  },
  {
   "cell_type": "code",
   "execution_count": 16,
   "metadata": {},
   "outputs": [],
   "source": [
    "model.save(\"../Data/arduino4gestures.h5\")"
   ]
  },
  {
   "cell_type": "code",
   "execution_count": 17,
   "metadata": {},
   "outputs": [],
   "source": [
    "from tensorflow.keras.models import load_model"
   ]
  },
  {
   "cell_type": "code",
   "execution_count": 18,
   "metadata": {},
   "outputs": [],
   "source": [
    "model = load_model(\"../Data/arduino4gestures.h5\")"
   ]
  },
  {
   "cell_type": "code",
   "execution_count": 19,
   "metadata": {},
   "outputs": [
    {
     "name": "stdout",
     "output_type": "stream",
     "text": [
      "\n",
      "#ifdef __has_attribute\n",
      "#define HAVE_ATTRIBUTE(x) __has_attribute(x)\n",
      "#else\n",
      "#define HAVE_ATTRIBUTE(x) 0\n",
      "#endif\n",
      "#if HAVE_ATTRIBUTE(aligned) || (defined(__GNUC__) && !defined(__clang__))\n",
      "#define DATA_ALIGN_ATTRIBUTE __attribute__((aligned(4)))\n",
      "#else\n",
      "#define DATA_ALIGN_ATTRIBUTE\n",
      "#endif\n",
      "\n",
      "const unsigned char model_data[] DATA_ALIGN_ATTRIBUTE = {0x1c, 0x00, 0x00, 0x00, 0x54, 0x46, 0x4c, 0x33, 0x00, 0x00, 0x12, 0x00, 0x1c, 0x00, 0x04, 0x00, 0x08, 0x00, 0x0c, 0x00, 0x10, 0x00, 0x14, 0x00, 0x00, 0x00, 0x18, 0x00, 0x12, 0x00, 0x00, 0x00, 0x03, 0x00, 0x00, 0x00, 0x64, 0x0f, 0x00, 0x00, 0x8c, 0x0a, 0x00, 0x00, 0x74, 0x0a, 0x00, 0x00, 0x34, 0x00, 0x00, 0x00, 0x04, 0x00, 0x00, 0x00, 0x01, 0x00, 0x00, 0x00, 0x04, 0x00, 0x00, 0x00, 0x44, 0xf1, 0xff, 0xff, 0x08, 0x00, 0x00, 0x00, 0x0c, 0x00, 0x00, 0x00, 0x13, 0x00, 0x00, 0x00, 0x6d, 0x69, 0x6e, 0x5f, 0x72, 0x75, 0x6e, 0x74, 0x69, 0x6d, 0x65, 0x5f, 0x76, 0x65, 0x72, 0x73, 0x69, 0x6f, 0x6e, 0x00, 0x0d, 0x00, 0x00, 0x00, 0x34, 0x0a, 0x00, 0x00, 0x2c, 0x0a, 0x00, 0x00, 0x1c, 0x06, 0x00, 0x00, 0x14, 0x06, 0x00, 0x00, 0x0c, 0x06, 0x00, 0x00, 0x04, 0x06, 0x00, 0x00, 0xfc, 0x05, 0x00, 0x00, 0xac, 0x05, 0x00, 0x00, 0x9c, 0x01, 0x00, 0x00, 0x4c, 0x01, 0x00, 0x00, 0x3c, 0x00, 0x00, 0x00, 0x1c, 0x00, 0x00, 0x00, 0x04, 0x00, 0x00, 0x00, 0x82, 0xf5, 0xff, 0xff, 0x04, 0x00, 0x00, 0x00, 0x05, 0x00, 0x00, 0x00, 0x31, 0x2e, 0x35, 0x2e, 0x30, 0x00, 0x00, 0x00, 0x96, 0xf5, 0xff, 0xff, 0x04, 0x00, 0x00, 0x00, 0x10, 0x00, 0x00, 0x00, 0x7c, 0x32, 0x59, 0x3d, 0x36, 0xce, 0x12, 0xbd, 0x8c, 0x3d, 0xaa, 0xbd, 0x28, 0xca, 0x82, 0x3d, 0xb2, 0xf5, 0xff, 0xff, 0x04, 0x00, 0x00, 0x00, 0x00, 0x01, 0x00, 0x00, 0x9a, 0x1b, 0xdd, 0xbd, 0xf3, 0x12, 0x8d, 0xbe, 0x77, 0x52, 0x05, 0x3f, 0xbf, 0xb8, 0x46, 0x3f, 0x76, 0xe5, 0x1f, 0xbd, 0x07, 0x12, 0x17, 0x3f, 0x31, 0xa9, 0xdc, 0x3e, 0xca, 0xb4, 0xbd, 0x3e, 0xac, 0x4e, 0xf1, 0x3e, 0x01, 0xb1, 0x11, 0xbf, 0x30, 0x97, 0x27, 0x3e, 0xb8, 0xb8, 0x03, 0x3e, 0xef, 0xb2, 0x23, 0x3f, 0xf7, 0xdb, 0x1e, 0xbf, 0xc7, 0xe9, 0x25, 0x3f, 0x35, 0x7f, 0x2b, 0x3f, 0xaa, 0x2b, 0x08, 0xbf, 0x72, 0x47, 0x22, 0x3e, 0x55, 0x99, 0xa0, 0xbe, 0x73, 0x33, 0xef, 0xbe, 0x93, 0x12, 0x3b, 0xbf, 0x66, 0x2f, 0xcf, 0xbe, 0xfa, 0x3c, 0xfb, 0x3e, 0x6f, 0x41, 0x22, 0xbf, 0x5a, 0xeb, 0x81, 0xbf, 0xd5, 0x7d, 0xb8, 0x3e, 0x88, 0xcc, 0xc1, 0x3e, 0x08, 0x9e, 0xa6, 0x3f, 0x25, 0xb7, 0x03, 0xbf, 0xad, 0x84, 0x17, 0x3e, 0xe9, 0xb2, 0x8e, 0xbe, 0x29, 0x5d, 0xb6, 0xbe, 0x23, 0x91, 0xbe, 0xbd, 0x33, 0xc1, 0x02, 0xbf, 0x4e, 0x0b, 0x09, 0x3f, 0xc1, 0x9e, 0xde, 0xbe, 0xaa, 0x3b, 0x22, 0xbf, 0xd9, 0x33, 0x87, 0xbe, 0xce, 0xc9, 0x27, 0x3e, 0xbb, 0x36, 0xcc, 0x3d, 0x2a, 0x73, 0xd9, 0x3e, 0xd0, 0xe5, 0xfd, 0xbe, 0xf9, 0x64, 0xd6, 0x3e, 0x40, 0x07, 0xbe, 0x3d, 0x73, 0x8d, 0x17, 0xbf, 0xd5, 0x37, 0xa5, 0x3e, 0xaf, 0x98, 0x07, 0xbf, 0x88, 0xb6, 0x2a, 0xbe, 0x94, 0x80, 0xb8, 0xbd, 0x35, 0xce, 0xc5, 0xbe, 0x55, 0xc6, 0x94, 0x3e, 0x03, 0xb6, 0xef, 0xbe, 0xa0, 0xd9, 0xdc, 0xbc, 0x8a, 0x70, 0xf5, 0xbe, 0xdf, 0x6d, 0xb2, 0xbe, 0x54, 0xe8, 0x7d, 0x3e, 0x09, 0xb5, 0xdd, 0x3e, 0xb7, 0xc2, 0xa1, 0x3e, 0xf1, 0x9a, 0xb9, 0xbe, 0xf0, 0x78, 0x8c, 0x3e, 0x01, 0xfe, 0x1e, 0xbf, 0x78, 0x52, 0xfa, 0xbe, 0x19, 0x87, 0xc7, 0x3e, 0xf7, 0x01, 0xc2, 0xbe, 0xbe, 0xf6, 0xff, 0xff, 0x04, 0x00, 0x00, 0x00, 0x40, 0x00, 0x00, 0x00, 0x26, 0x79, 0x21, 0x3d, 0x86, 0xae, 0x8f, 0x3e, 0xe8, 0xf3, 0x8b, 0x3d, 0xe7, 0xc0, 0x39, 0xbe, 0x07, 0x35, 0xb3, 0x3d, 0x8d, 0x5a, 0xc9, 0xbc, 0xfc, 0x77, 0x64, 0x3e, 0x03, 0x71, 0x06, 0x3d, 0xa3, 0xfa, 0x51, 0x3e, 0x9a, 0x8e, 0xc9, 0x3d, 0x96, 0x71, 0x0e, 0x3d, 0x92, 0x57, 0xc8, 0x3d, 0x91, 0x59, 0xef, 0x3d, 0x68, 0x87, 0x4e, 0xbe, 0xdb, 0xc2, 0x46, 0x3e, 0xa2, 0xa6, 0x7c, 0xbd, 0x0a, 0xf7, 0xff, 0xff, 0x04, 0x00, 0x00, 0x00, 0x00, 0x04, 0x00, 0x00, 0x55, 0x4e, 0x24, 0x3f, 0xe2, 0x25, 0x8b, 0xbe, 0xa9, 0xf5, 0x84, 0x3e, 0xa1, 0xc7, 0x19, 0xbe, 0x63, 0xe1, 0x15, 0xbd, 0x29, 0x4c, 0x50, 0x3c, 0x56, 0xaf, 0x92, 0xbd, 0xad, 0xa0, 0x61, 0xbe, 0x50, 0x22, 0x21, 0xbe, 0x01, 0x45, 0x8d, 0x3e, 0xab, 0x29, 0x1b, 0xbe, 0xa5, 0x89, 0x4e, 0x3c, 0xe9, 0xfa, 0x17, 0xbb, 0x17, 0xf4, 0x36, 0xbf, 0x40, 0x8e, 0x1a, 0xbe, 0x43, 0x5b, 0x8d, 0x3e, 0x6c, 0xe5, 0xe6, 0xbe, 0xd3, 0x5e, 0x82, 0xbe, 0xd5, 0x14, 0x78, 0xbe, 0xda, 0xb9, 0xfa, 0xbc, 0x33, 0x0f, 0x88, 0x3e, 0xf2, 0xe2, 0x08, 0x3f, 0x50, 0xd6, 0xc5, 0x3e, 0x10, 0x47, 0x86, 0xbe, 0xff, 0x43, 0x88, 0x3e, 0x35, 0x54, 0x22, 0xbe, 0x62, 0x39, 0xfe, 0x3e, 0x93, 0xe0, 0x58, 0xbe, 0x9a, 0x7c, 0x14, 0x3e, 0x05, 0x2f, 0x2e, 0x3e, 0x06, 0x36, 0x12, 0xbd, 0x60, 0xed, 0xd6, 0xbe, 0x07, 0xa5, 0x1b, 0x3f, 0x89, 0x3a, 0x32, 0xbe, 0xe2, 0x6d, 0xbb, 0xbd, 0x0a, 0x4e, 0x0b, 0xbf, 0xe4, 0x27, 0x47, 0xbe, 0x37, 0xb7, 0xf1, 0xbe, 0x38, 0xa1, 0x4f, 0x3e, 0x4c, 0x10, 0x27, 0x3f, 0x45, 0xd8, 0xa5, 0x3d, 0x60, 0xce, 0xf2, 0x3e, 0x0b, 0xa0, 0x58, 0x3e, 0x03, 0x4f, 0x8a, 0xbc, 0x0a, 0x61, 0xed, 0x3e, 0x8f, 0xdb, 0xa2, 0xbe, 0x40, 0x28, 0x39, 0x3e, 0xad, 0xf2, 0x0e, 0x3f, 0xe1, 0xcc, 0x44, 0x3e, 0x52, 0xc7, 0xb2, 0xbe, 0xce, 0xa8, 0x5a, 0xbe, 0xfe, 0x19, 0x60, 0x3e, 0xb9, 0x73, 0xdf, 0xbe, 0x03, 0x8a, 0xd3, 0x3e, 0xbc, 0x6f, 0x9b, 0x3f, 0x27, 0xc3, 0x90, 0xbd, 0x89, 0xd8, 0x90, 0x3e, 0x8f, 0xd9, 0x96, 0xbf, 0xb4, 0xf7, 0x8e, 0x3e, 0x83, 0x5a, 0xa8, 0x3e, 0x9a, 0x4e, 0xae, 0xbd, 0x40, 0x9e, 0x81, 0x3b, 0x2e, 0xb3, 0xdb, 0x3d, 0x97, 0x40, 0xa9, 0x3e, 0x10, 0x20, 0xa7, 0x3d, 0x27, 0x98, 0xdd, 0x3e, 0x30, 0x6a, 0xe2, 0x3e, 0xfe, 0x66, 0x80, 0x3e, 0xb7, 0xa3, 0x67, 0xbe, 0x50, 0xba, 0x34, 0x3e, 0xf3, 0xd4, 0x98, 0x3e, 0x09, 0x7c, 0x06, 0xbe, 0xb0, 0xe5, 0x10, 0x3f, 0xaa, 0x13, 0x32, 0xbe, 0x65, 0x43, 0xdd, 0x3e, 0x3f, 0x6e, 0xe7, 0xbd, 0x57, 0x8c, 0xd4, 0xbd, 0xaa, 0xe0, 0x02, 0xbf, 0xf0, 0x16, 0xff, 0xbe, 0x85, 0x91, 0x78, 0x3e, 0x45, 0xdf, 0x79, 0xbe, 0xa9, 0x55, 0x33, 0xbf, 0x98, 0x43, 0x55, 0x3d, 0xf3, 0x58, 0xe0, 0x3d, 0xe9, 0x42, 0xe4, 0xbe, 0x78, 0x5c, 0x26, 0xbe, 0x63, 0xf8, 0x0e, 0x3f, 0x19, 0xdc, 0xd0, 0x3e, 0x7b, 0xdc, 0x09, 0x3f, 0x23, 0xcb, 0xe8, 0xbe, 0xac, 0x20, 0x9c, 0x3c, 0x11, 0x8c, 0x85, 0x3e, 0xd3, 0x7e, 0xcf, 0xbd, 0x90, 0xf6, 0x7f, 0x3e, 0xa8, 0xe5, 0xe7, 0xbc, 0x40, 0xce, 0xda, 0x3b, 0xd6, 0xad, 0x90, 0xbe, 0x31, 0xfe, 0x5b, 0xbd, 0xae, 0x0f, 0x3e, 0xbd, 0xf2, 0x44, 0x95, 0xbe, 0x31, 0x8b, 0x75, 0xbe, 0xf7, 0xe6, 0x6c, 0xbe, 0x9e, 0xcb, 0x94, 0xbd, 0x1f, 0x2a, 0x7c, 0xbd, 0x9b, 0x92, 0xa8, 0xbe, 0xb5, 0xe5, 0xd0, 0xbe, 0x04, 0x23, 0xa1, 0xbd, 0xdf, 0x0a, 0xd8, 0x3e, 0xf7, 0x6f, 0x69, 0x3e, 0x13, 0xae, 0x78, 0x3e, 0x84, 0x29, 0xbe, 0x38, 0x32, 0xea, 0xc4, 0xbc, 0xa8, 0x5e, 0x26, 0x3f, 0x0d, 0x5d, 0x27, 0xbd, 0xfc, 0x59, 0x0d, 0x3f, 0xe6, 0x99, 0x40, 0x3c, 0xe0, 0xc0, 0x87, 0x3e, 0xcf, 0x6a, 0x9c, 0x3e, 0xbd, 0x7d, 0x21, 0x3e, 0x11, 0x86, 0x17, 0xbe, 0x44, 0x58, 0x8c, 0x3e, 0x30, 0x66, 0x6b, 0xbe, 0x93, 0x23, 0x9b, 0x3d, 0x27, 0xed, 0x52, 0x3d, 0x7c, 0xec, 0xce, 0x3d, 0x88, 0x5b, 0x00, 0xbe, 0xd1, 0xff, 0xde, 0xbe, 0x68, 0x4c, 0x0e, 0x3f, 0xa9, 0xab, 0x6f, 0x3f, 0x2a, 0x69, 0xa0, 0xbe, 0x2e, 0xd5, 0x3d, 0x3f, 0x61, 0x54, 0xf6, 0xbd, 0x11, 0xd8, 0x8f, 0x3c, 0x3d, 0xc9, 0x22, 0xbf, 0x41, 0x28, 0xa0, 0xbd, 0x39, 0xb6, 0x9c, 0x3e, 0xee, 0x64, 0x0e, 0x3d, 0xca, 0x7f, 0x31, 0x3e, 0xed, 0xa7, 0x8e, 0x3e, 0xa3, 0xe5, 0x18, 0x3d, 0x4c, 0xb0, 0xf6, 0x3e, 0x48, 0x3d, 0xee, 0xbe, 0x52, 0x2d, 0x5f, 0xba, 0xbd, 0x03, 0x9f, 0x3e, 0xe5, 0x33, 0xa0, 0xbe, 0x1d, 0xbd, 0xff, 0x3c, 0xea, 0xb3, 0xa3, 0xbe, 0xeb, 0x63, 0x1c, 0x3f, 0xbf, 0x13, 0xfd, 0x3d, 0x78, 0x66, 0xf6, 0x3d, 0x66, 0xa8, 0x0a, 0xbe, 0x39, 0x4d, 0x43, 0xbf, 0x28, 0x2f, 0xae, 0x3e, 0x28, 0x94, 0x8f, 0x3e, 0x47, 0x24, 0x5b, 0x3e, 0x2e, 0x6b, 0x22, 0xbf, 0x30, 0xf8, 0xdd, 0xbd, 0xbb, 0xef, 0x05, 0x3e, 0xd0, 0x2a, 0x10, 0xbf, 0xde, 0x46, 0x64, 0xbe, 0xf8, 0xd9, 0x8a, 0xbd, 0x8e, 0x51, 0xed, 0x3d, 0x3e, 0x49, 0x80, 0xbe, 0x84, 0xca, 0xe8, 0xbe, 0x90, 0x0f, 0x4b, 0xbe, 0x7e, 0xff, 0x99, 0xbe, 0xef, 0x89, 0x28, 0x3e, 0xa9, 0xe8, 0xb0, 0x3e, 0x1a, 0x24, 0xc1, 0xbe, 0x4d, 0x58, 0x8a, 0x3e, 0xb1, 0x17, 0x34, 0x3e, 0x38, 0x35, 0x67, 0x3e, 0xf2, 0xa1, 0xa5, 0x3e, 0x15, 0x27, 0x84, 0x3e, 0xbb, 0x19, 0x44, 0x3f, 0x13, 0xfd, 0x84, 0xbe, 0xed, 0xec, 0x37, 0xbf, 0xfd, 0xb9, 0xff, 0x3d, 0x30, 0x85, 0x13, 0xbf, 0x05, 0xc8, 0x84, 0x3e, 0x84, 0x5b, 0x05, 0x3e, 0xed, 0x70, 0x70, 0x3e, 0x4c, 0xee, 0xbe, 0x3e, 0x6e, 0xea, 0x17, 0xbf, 0x4a, 0xac, 0x59, 0x3e, 0x1c, 0xd6, 0xe8, 0x39, 0x80, 0xb4, 0x9a, 0xbd, 0xcf, 0xa7, 0x26, 0xbd, 0xfe, 0x9b, 0xa3, 0xbe, 0xf2, 0xbe, 0x4f, 0x3e, 0x8b, 0xf3, 0x09, 0xbe, 0x27, 0x16, 0x1c, 0xbf, 0xb1, 0x9e, 0x18, 0xbe, 0xba, 0xce, 0xee, 0xbc, 0x40, 0xd4, 0x2a, 0xbe, 0x20, 0x11, 0x8e, 0xbe, 0x8c, 0x92, 0x11, 0xbe, 0x3a, 0xe3, 0x05, 0x3f, 0xb8, 0xcf, 0xab, 0x3f, 0xf8, 0xdb, 0x66, 0x3d, 0x93, 0x5e, 0x07, 0x3f, 0x9d, 0x21, 0x6e, 0xbf, 0x2c, 0x35, 0xad, 0x3e, 0x0e, 0x43, 0xc1, 0x3e, 0x82, 0x6f, 0x31, 0x3e, 0xff, 0x85, 0x27, 0x3e, 0x77, 0x48, 0xce, 0x3e, 0x2f, 0x2b, 0x90, 0xbd, 0x16, 0xa9, 0x0f, 0x3e, 0x08, 0x13, 0x80, 0x3d, 0x47, 0xb6, 0xa5, 0xbe, 0xcb, 0x69, 0xf9, 0xbd, 0x6f, 0x4a, 0xb5, 0x3d, 0xc3, 0xcf, 0xac, 0x3e, 0x25, 0xa6, 0xdf, 0xbe, 0x4d, 0x93, 0xa0, 0x3e, 0x4c, 0xfb, 0x10, 0xbf, 0xde, 0x64, 0x72, 0x3e, 0x82, 0xa6, 0x83, 0x3b, 0xdb, 0x1e, 0x69, 0x3e, 0xe7, 0x85, 0xbb, 0x3d, 0x5d, 0x86, 0x06, 0x3f, 0x8c, 0xfa, 0xe7, 0x3e, 0x95, 0xe4, 0x6c, 0x3d, 0xc7, 0x1b, 0x1c, 0x3e, 0x79, 0xa4, 0xf7, 0x3e, 0xbf, 0x1c, 0xb5, 0x3d, 0x91, 0xf9, 0x07, 0x3e, 0xb5, 0xad, 0x9b, 0xbe, 0x46, 0x3a, 0xc7, 0xbe, 0xd1, 0x33, 0x98, 0x3e, 0x4f, 0x0d, 0x53, 0xbe, 0xcb, 0x6d, 0xb7, 0x3e, 0xa0, 0x0d, 0xa2, 0xbe, 0xfa, 0xa2, 0x98, 0x3e, 0x3b, 0x4d, 0x91, 0xbe, 0x9c, 0x0c, 0xe9, 0x3d, 0xa3, 0x59, 0x86, 0xbe, 0x00, 0x91, 0x15, 0xbf, 0xdd, 0x06, 0x7e, 0xbe, 0x1a, 0xd5, 0x17, 0xbe, 0x3b, 0xe1, 0xea, 0xbe, 0x2c, 0x6a, 0x5d, 0xbe, 0x94, 0x74, 0x72, 0xbe, 0x72, 0xb1, 0xf4, 0xbe, 0xae, 0x06, 0x1b, 0xbd, 0x58, 0xe2, 0x5d, 0x3f, 0xa9, 0x54, 0x4f, 0x3d, 0x56, 0x1c, 0x59, 0xbd, 0x6d, 0xed, 0x3b, 0xbe, 0xb5, 0xf4, 0xbe, 0x3e, 0xa8, 0xd8, 0x8a, 0x3e, 0xb6, 0x9a, 0x0b, 0x3d, 0xeb, 0x3a, 0xaa, 0xbe, 0x67, 0x1f, 0xf5, 0x3d, 0xb0, 0xa0, 0x74, 0xbd, 0x16, 0xfb, 0xff, 0xff, 0x04, 0x00, 0x00, 0x00, 0x40, 0x00, 0x00, 0x00, 0x9d, 0x99, 0x68, 0xbe, 0xba, 0xaf, 0xd9, 0x3c, 0xa8, 0x4d, 0x63, 0xbd, 0xc9, 0x14, 0x04, 0x3e, 0x08, 0x71, 0xdd, 0xbb, 0xbc, 0x56, 0x42, 0x3e, 0x3d, 0x6f, 0x65, 0x3e, 0x0e, 0x3b, 0x2b, 0xbe, 0x04, 0x61, 0x5f, 0x3e, 0x1e, 0x5c, 0x7b, 0xbe, 0x3c, 0x38, 0x2e, 0x3e, 0xa7, 0x0a, 0x57, 0xbd, 0x9b, 0xd9, 0x8c, 0x3b, 0xfe, 0x25, 0x84, 0xbc, 0xd9, 0xc6, 0xb8, 0xbd, 0x22, 0x25, 0x52, 0x3d, 0x18, 0xf7, 0xff, 0xff, 0x1c, 0xf7, 0xff, 0xff, 0x20, 0xf7, 0xff, 0xff, 0x24, 0xf7, 0xff, 0xff, 0x72, 0xfb, 0xff, 0xff, 0x04, 0x00, 0x00, 0x00, 0x00, 0x04, 0x00, 0x00, 0x20, 0x54, 0xd0, 0x3d, 0x85, 0xce, 0x41, 0x3f, 0xb0, 0x10, 0x3f, 0x3e, 0xe2, 0xdf, 0xab, 0xbe, 0x8f, 0x4c, 0x9c, 0x3d, 0xfd, 0x1d, 0xb6, 0xbe, 0x9a, 0x3f, 0x02, 0x3d, 0xa9, 0x81, 0xb9, 0x3e, 0x03, 0x23, 0xe9, 0x3e, 0x92, 0xe0, 0x13, 0x3f, 0xad, 0x7f, 0x4e, 0xbe, 0x38, 0x27, 0xa8, 0xbe, 0xcf, 0x42, 0x47, 0x3e, 0xda, 0x93, 0x9d, 0xbe, 0xb6, 0x93, 0x44, 0x3e, 0xf2, 0x76, 0xd7, 0x3e, 0xf0, 0xd9, 0xed, 0xbe, 0xe8, 0xac, 0xdd, 0xbe, 0x76, 0x73, 0x06, 0x3b, 0x5c, 0x6c, 0x1f, 0x3d, 0x75, 0xf0, 0x89, 0x3e, 0x06, 0xa7, 0x49, 0xbe, 0xbc, 0x3f, 0xe4, 0x3e, 0x5b, 0xac, 0xb5, 0x3c, 0x93, 0xf3, 0xc9, 0xbc, 0x20, 0x02, 0x16, 0xbd, 0xbb, 0x7d, 0xab, 0x3e, 0x7c, 0x65, 0x24, 0xbe, 0xba, 0xbb, 0x01, 0x3f, 0x2b, 0xa3, 0xd5, 0x3c, 0x85, 0x83, 0x84, 0x3e, 0x64, 0xdb, 0x59, 0xbe, 0x85, 0xe3, 0x2b, 0x3d, 0x48, 0xe9, 0x62, 0x3e, 0x3a, 0x56, 0x87, 0x3e, 0xa7, 0x4c, 0xe2, 0xbe, 0x18, 0x7b, 0x10, 0xbe, 0xfc, 0x72, 0xa9, 0xbe, 0x9a, 0xed, 0xc8, 0x3e, 0xb5, 0xc0, 0x4d, 0x3d, 0x82, 0x5d, 0xf0, 0xbd, 0x08, 0x2b, 0x12, 0x3f, 0x04, 0x92, 0x01, 0x3f, 0xae, 0x03, 0xd1, 0xbe, 0x1d, 0x60, 0x60, 0x3e, 0x19, 0xe4, 0xfb, 0xbc, 0x2c, 0x01, 0x3f, 0x3e, 0x32, 0xeb, 0x72, 0x3e, 0x87, 0x65, 0x93, 0xbe, 0xbf, 0x5c, 0xe8, 0xbd, 0xf9, 0x8c, 0x22, 0x3f, 0x49, 0xbe, 0x9c, 0x3d, 0xf0, 0x0b, 0x51, 0x3e, 0x97, 0x2a, 0xdb, 0xbd, 0x31, 0x8e, 0x08, 0x3e, 0xf6, 0xb5, 0x98, 0xbe, 0x6f, 0x2b, 0x15, 0xbe, 0xa5, 0x6f, 0xf7, 0xbd, 0xa6, 0x05, 0x23, 0x3f, 0x39, 0x8c, 0x6d, 0xbe, 0x14, 0xd9, 0x30, 0x3e, 0x69, 0xd9, 0x77, 0xbe, 0xf7, 0xa5, 0xe4, 0x3e, 0x79, 0x17, 0x9a, 0xbe, 0x8b, 0x7d, 0x11, 0x3d, 0x5d, 0x45, 0x1c, 0x3c, 0xdc, 0x30, 0x06, 0x3d, 0x9e, 0xf1, 0x88, 0x3e, 0xf1, 0x43, 0x10, 0x3f, 0x52, 0xea, 0xd4, 0x3d, 0xef, 0x0a, 0xaf, 0x3e, 0x59, 0x4e, 0x98, 0xbe, 0xff, 0x57, 0x83, 0xbe, 0x55, 0x78, 0x6f, 0xbe, 0x7d, 0x18, 0x85, 0x3d, 0xd6, 0xf5, 0x94, 0x3d, 0x67, 0xe0, 0x4d, 0x3f, 0x14, 0xf9, 0x90, 0xbd, 0x40, 0x89, 0x1a, 0xbe, 0xae, 0xef, 0xb2, 0x3b, 0x65, 0x44, 0xd9, 0xbe, 0xe0, 0x6e, 0xa2, 0xbe, 0x2b, 0xcf, 0x62, 0x3e, 0x1b, 0x35, 0xad, 0x3d, 0xb4, 0x3a, 0xb2, 0xbe, 0x89, 0xf9, 0xd8, 0x3e, 0x9e, 0xcb, 0x83, 0xbe, 0x24, 0xf0, 0x29, 0xbe, 0xad, 0x1c, 0xa4, 0xbe, 0x6a, 0x31, 0x18, 0xbd, 0x4f, 0x4b, 0x0a, 0x3e, 0x1b, 0x0e, 0xb2, 0x3e, 0xbd, 0xa3, 0x72, 0xbe, 0xd0, 0xfd, 0x56, 0xbe, 0xee, 0x13, 0x5d, 0xbd, 0x8e, 0x39, 0xb9, 0xbd, 0x83, 0x38, 0xbd, 0xbd, 0x45, 0x49, 0x13, 0x3e, 0x3a, 0x08, 0x49, 0x3e, 0x73, 0x81, 0x2f, 0x3e, 0xa7, 0x22, 0x36, 0xbf, 0xe9, 0x4c, 0xaa, 0xbe, 0xc9, 0xf3, 0x46, 0x3c, 0x0c, 0x1d, 0xad, 0x3c, 0x8e, 0x47, 0x54, 0xbd, 0x8b, 0xb4, 0x4f, 0x3e, 0x7a, 0xfc, 0xb0, 0x3c, 0x03, 0xfa, 0x3f, 0x3e, 0x24, 0x80, 0x5a, 0xbf, 0x60, 0xfb, 0x24, 0xbe, 0x9d, 0xa2, 0x46, 0x3d, 0x12, 0x24, 0xcc, 0xbd, 0xb0, 0xec, 0x0a, 0x3f, 0xc8, 0x91, 0x1e, 0xbe, 0x5f, 0xf7, 0xa9, 0xbe, 0xee, 0x92, 0xbb, 0xbd, 0x3f, 0x10, 0x10, 0xbe, 0xdb, 0x27, 0x8a, 0x3e, 0x3d, 0x8f, 0x86, 0xbe, 0x34, 0xdf, 0xb5, 0x3d, 0xd4, 0xe6, 0x11, 0x3f, 0xc3, 0x8c, 0xfe, 0x3e, 0x52, 0xbe, 0x20, 0xbf, 0x33, 0xa1, 0xb7, 0xbe, 0x22, 0x56, 0xbb, 0x3d, 0x78, 0x47, 0x33, 0xbe, 0xa1, 0xba, 0x92, 0xbe, 0x5e, 0x53, 0x81, 0x3d, 0xd6, 0xea, 0x2e, 0x3d, 0xa0, 0x73, 0x60, 0x3e, 0x61, 0x5b, 0xe1, 0x3e, 0x79, 0x36, 0xe9, 0xbc, 0xb7, 0x92, 0xef, 0xbe, 0x72, 0xdb, 0x14, 0xbe, 0xd2, 0x32, 0x17, 0x3f, 0xe7, 0xb8, 0x56, 0xbe, 0x63, 0x14, 0xdb, 0xbe, 0xd9, 0xad, 0x87, 0x3e, 0x40, 0x1b, 0xb4, 0x3e, 0x10, 0x72, 0x35, 0xbe, 0x73, 0xa6, 0x1e, 0xbe, 0xcd, 0x60, 0x1f, 0xbf, 0x46, 0x8b, 0x08, 0x3f, 0xf6, 0xd3, 0x05, 0xbe, 0xa7, 0xb7, 0x25, 0x3d, 0x87, 0xac, 0x32, 0x3d, 0x9d, 0x73, 0x3e, 0xbe, 0xe5, 0x8c, 0xe4, 0xbe, 0xc7, 0x00, 0x60, 0x3f, 0x54, 0xcc, 0x85, 0x3e, 0xad, 0x48, 0xc6, 0xbe, 0xce, 0x89, 0x10, 0x3e, 0xac, 0xff, 0xe7, 0xbb, 0xc4, 0xe1, 0x0c, 0x3d, 0x04, 0x9d, 0x02, 0x3e, 0x98, 0x84, 0xe2, 0xbe, 0x0d, 0xce, 0x46, 0x3f, 0x50, 0xb3, 0xf0, 0x3e, 0x48, 0x47, 0x2e, 0xbe, 0xf1, 0x31, 0x02, 0x3e, 0x58, 0x56, 0x46, 0x3c, 0x9e, 0x9f, 0x65, 0x3d, 0x04, 0xed, 0x03, 0x3e, 0x7e, 0x7d, 0x80, 0xbe, 0x97, 0xef, 0x5a, 0xbe, 0x9b, 0x87, 0x44, 0xbe, 0xa9, 0x83, 0xb1, 0x3e, 0x03, 0x67, 0x3f, 0xbe, 0x1e, 0xf3, 0xe8, 0x3d, 0x8a, 0x49, 0x1a, 0xbe, 0x66, 0x1f, 0xf5, 0x3e, 0x31, 0xda, 0x55, 0xbe, 0x2a, 0xbe, 0xd9, 0xbe, 0xe9, 0x05, 0x44, 0xbd, 0xcd, 0x33, 0x80, 0xbc, 0xaf, 0x0e, 0xa5, 0xbd, 0x59, 0x6b, 0x06, 0x3f, 0x1d, 0x0c, 0x08, 0x3e, 0x2a, 0xba, 0x26, 0xbf, 0x7d, 0xc6, 0x82, 0x3e, 0x3f, 0xd9, 0x0c, 0xbf, 0x2e, 0x9e, 0xbf, 0xbd, 0x77, 0x45, 0x5b, 0xbe, 0xa8, 0xc8, 0xa5, 0x3d, 0xeb, 0xcd, 0x5d, 0x3e, 0xa8, 0x31, 0x1b, 0x3e, 0xfa, 0xc7, 0x23, 0xbe, 0xc0, 0x9e, 0x81, 0x3e, 0xba, 0xfe, 0x5c, 0x3d, 0x2a, 0xd4, 0xe2, 0x3c, 0xbb, 0x68, 0xd7, 0xbe, 0x62, 0xe0, 0xb9, 0x3c, 0x50, 0xc8, 0xfa, 0x3e, 0xc1, 0x86, 0xb3, 0x3e, 0x0e, 0xfc, 0x02, 0xbf, 0x8d, 0x7b, 0x41, 0x3e, 0x8f, 0x5a, 0x02, 0xbe, 0x02, 0x61, 0xfb, 0xbd, 0x56, 0xf6, 0xd6, 0xbd, 0xee, 0x7a, 0x12, 0xbe, 0x6f, 0xe5, 0x00, 0x3f, 0x39, 0xb2, 0x19, 0x3d, 0x70, 0x3d, 0xb1, 0x3e, 0x7e, 0x8e, 0x58, 0x3e, 0x72, 0x36, 0x00, 0xbf, 0xe9, 0x16, 0x44, 0x3d, 0x83, 0x3f, 0x0c, 0x3d, 0x0a, 0x28, 0x51, 0x3e, 0x64, 0x20, 0x96, 0xbd, 0xe2, 0x4c, 0x85, 0xbe, 0x7f, 0xd7, 0x9c, 0xbe, 0x5d, 0x72, 0xd4, 0x3e, 0xb9, 0x52, 0x10, 0xbe, 0x44, 0x2c, 0xbe, 0x3e, 0x9c, 0xaf, 0x34, 0xbf, 0x84, 0x90, 0xe5, 0x3d, 0x2f, 0xa7, 0xfb, 0x3d, 0x25, 0xa0, 0xb7, 0xbe, 0x01, 0x65, 0xa8, 0xbe, 0x63, 0x33, 0x2a, 0xbd, 0xd9, 0x42, 0x1b, 0x3e, 0x67, 0xc0, 0x08, 0x3f, 0x12, 0xab, 0xf2, 0xbe, 0x68, 0x3e, 0xea, 0xbd, 0xa9, 0x65, 0xd4, 0x3e, 0x29, 0x3e, 0x48, 0xbe, 0xf9, 0x76, 0xe8, 0xbe, 0x10, 0x93, 0xa0, 0xbd, 0x55, 0x53, 0x34, 0x3d, 0xca, 0xdb, 0x62, 0x3e, 0x6d, 0xfd, 0xb5, 0xbe, 0xc2, 0x0a, 0x1b, 0xbe, 0x4d, 0x4b, 0x8c, 0x3e, 0x35, 0xd8, 0xef, 0x3c, 0xc1, 0x8f, 0x4e, 0x3d, 0x19, 0x82, 0x89, 0x3d, 0xc3, 0x4f, 0x13, 0xbe, 0xf1, 0x55, 0xd2, 0x3e, 0x01, 0x3e, 0xdf, 0xbe, 0x57, 0x8a, 0x2c, 0x3e, 0x56, 0x6e, 0x59, 0x3e, 0x19, 0xf5, 0x2b, 0x3f, 0x70, 0xf1, 0xc7, 0xbe, 0x13, 0x7f, 0xa1, 0xbe, 0x23, 0xd7, 0xb6, 0x3d, 0xe4, 0xf6, 0x41, 0xbc, 0x6d, 0xef, 0xa2, 0xbd, 0xcf, 0xb9, 0x61, 0x3e, 0x88, 0x3a, 0x02, 0x3f, 0xca, 0x62, 0xd5, 0x3e, 0xbd, 0x46, 0x3d, 0xbc, 0x78, 0x89, 0x91, 0xbe, 0x27, 0xb1, 0x0c, 0xbe, 0x1f, 0x15, 0xce, 0xbe, 0x82, 0x59, 0xd6, 0x3e, 0xf6, 0xaf, 0x1f, 0xbc, 0x34, 0xfb, 0xff, 0xff, 0x38, 0xfb, 0xff, 0xff, 0x0f, 0x00, 0x00, 0x00, 0x54, 0x4f, 0x43, 0x4f, 0x20, 0x43, 0x6f, 0x6e, 0x76, 0x65, 0x72, 0x74, 0x65, 0x64, 0x2e, 0x00, 0x01, 0x00, 0x00, 0x00, 0x10, 0x00, 0x00, 0x00, 0x0c, 0x00, 0x14, 0x00, 0x04, 0x00, 0x08, 0x00, 0x0c, 0x00, 0x10, 0x00, 0x0c, 0x00, 0x00, 0x00, 0x1c, 0x01, 0x00, 0x00, 0x10, 0x01, 0x00, 0x00, 0x04, 0x01, 0x00, 0x00, 0x04, 0x00, 0x00, 0x00, 0x04, 0x00, 0x00, 0x00, 0xc8, 0x00, 0x00, 0x00, 0x84, 0x00, 0x00, 0x00, 0x50, 0x00, 0x00, 0x00, 0x14, 0x00, 0x00, 0x00, 0x00, 0x00, 0x0e, 0x00, 0x1a, 0x00, 0x08, 0x00, 0x0c, 0x00, 0x10, 0x00, 0x07, 0x00, 0x14, 0x00, 0x0e, 0x00, 0x00, 0x00, 0x00, 0x00, 0x00, 0x09, 0x01, 0x00, 0x00, 0x00, 0x24, 0x00, 0x00, 0x00, 0x18, 0x00, 0x00, 0x00, 0x0c, 0x00, 0x00, 0x00, 0x00, 0x00, 0x06, 0x00, 0x08, 0x00, 0x04, 0x00, 0x06, 0x00, 0x00, 0x00, 0x00, 0x00, 0x80, 0x3f, 0x01, 0x00, 0x00, 0x00, 0x00, 0x00, 0x00, 0x00, 0x01, 0x00, 0x00, 0x00, 0x08, 0x00, 0x00, 0x00, 0x9e, 0xff, 0xff, 0xff, 0x00, 0x00, 0x00, 0x08, 0x18, 0x00, 0x00, 0x00, 0x0c, 0x00, 0x00, 0x00, 0x04, 0x00, 0x00, 0x00, 0xe8, 0xfb, 0xff, 0xff, 0x01, 0x00, 0x00, 0x00, 0x08, 0x00, 0x00, 0x00, 0x03, 0x00, 0x00, 0x00, 0x05, 0x00, 0x00, 0x00, 0x09, 0x00, 0x00, 0x00, 0x0a, 0x00, 0x00, 0x00, 0xce, 0xff, 0xff, 0xff, 0x00, 0x00, 0x00, 0x08, 0x18, 0x00, 0x00, 0x00, 0x0c, 0x00, 0x00, 0x00, 0x04, 0x00, 0x00, 0x00, 0x18, 0xfc, 0xff, 0xff, 0x01, 0x00, 0x00, 0x00, 0x05, 0x00, 0x00, 0x00, 0x03, 0x00, 0x00, 0x00, 0x02, 0x00, 0x00, 0x00, 0x06, 0x00, 0x00, 0x00, 0x07, 0x00, 0x00, 0x00, 0x00, 0x00, 0x0e, 0x00, 0x14, 0x00, 0x00, 0x00, 0x08, 0x00, 0x0c, 0x00, 0x07, 0x00, 0x10, 0x00, 0x0e, 0x00, 0x00, 0x00, 0x00, 0x00, 0x00, 0x08, 0x18, 0x00, 0x00, 0x00, 0x0c, 0x00, 0x00, 0x00, 0x04, 0x00, 0x00, 0x00, 0x58, 0xfc, 0xff, 0xff, 0x01, 0x00, 0x00, 0x00, 0x02, 0x00, 0x00, 0x00, 0x03, 0x00, 0x00, 0x00, 0x01, 0x00, 0x00, 0x00, 0x03, 0x00, 0x00, 0x00, 0x04, 0x00, 0x00, 0x00, 0x01, 0x00, 0x00, 0x00, 0x00, 0x00, 0x00, 0x00, 0x01, 0x00, 0x00, 0x00, 0x01, 0x00, 0x00, 0x00, 0x0b, 0x00, 0x00, 0x00, 0x64, 0x03, 0x00, 0x00, 0xf8, 0x02, 0x00, 0x00, 0xac, 0x02, 0x00, 0x00, 0x48, 0x02, 0x00, 0x00, 0xfc, 0x01, 0x00, 0x00, 0xb0, 0x01, 0x00, 0x00, 0x4c, 0x01, 0x00, 0x00, 0x00, 0x01, 0x00, 0x00, 0xb4, 0x00, 0x00, 0x00, 0x50, 0x00, 0x00, 0x00, 0x04, 0x00, 0x00, 0x00, 0xd6, 0xfc, 0xff, 0xff, 0x3c, 0x00, 0x00, 0x00, 0x0b, 0x00, 0x00, 0x00, 0x0c, 0x00, 0x00, 0x00, 0x04, 0x00, 0x00, 0x00, 0xc8, 0xfc, 0xff, 0xff, 0x20, 0x00, 0x00, 0x00, 0x73, 0x65, 0x71, 0x75, 0x65, 0x6e, 0x74, 0x69, 0x61, 0x6c, 0x5f, 0x32, 0x2f, 0x64, 0x65, 0x6e, 0x73, 0x65, 0x5f, 0x36, 0x2f, 0x4d, 0x61, 0x74, 0x4d, 0x75, 0x6c, 0x5f, 0x62, 0x69, 0x61, 0x73, 0x00, 0x00, 0x00, 0x00, 0x01, 0x00, 0x00, 0x00, 0x04, 0x00, 0x00, 0x00, 0x1e, 0xfd, 0xff, 0xff, 0x50, 0x00, 0x00, 0x00, 0x0a, 0x00, 0x00, 0x00, 0x0c, 0x00, 0x00, 0x00, 0x04, 0x00, 0x00, 0x00, 0x10, 0xfd, 0xff, 0xff, 0x34, 0x00, 0x00, 0x00, 0x73, 0x65, 0x71, 0x75, 0x65, 0x6e, 0x74, 0x69, 0x61, 0x6c, 0x5f, 0x32, 0x2f, 0x64, 0x65, 0x6e, 0x73, 0x65, 0x5f, 0x36, 0x2f, 0x4d, 0x61, 0x74, 0x4d, 0x75, 0x6c, 0x2f, 0x52, 0x65, 0x61, 0x64, 0x56, 0x61, 0x72, 0x69, 0x61, 0x62, 0x6c, 0x65, 0x4f, 0x70, 0x2f, 0x74, 0x72, 0x61, 0x6e, 0x73, 0x70, 0x6f, 0x73, 0x65, 0x00, 0x00, 0x00, 0x00, 0x02, 0x00, 0x00, 0x00, 0x04, 0x00, 0x00, 0x00, 0x10, 0x00, 0x00, 0x00, 0x7e, 0xfd, 0xff, 0xff, 0x38, 0x00, 0x00, 0x00, 0x05, 0x00, 0x00, 0x00, 0x0c, 0x00, 0x00, 0x00, 0x04, 0x00, 0x00, 0x00, 0x70, 0xfd, 0xff, 0xff, 0x1c, 0x00, 0x00, 0x00, 0x73, 0x65, 0x71, 0x75, 0x65, 0x6e, 0x74, 0x69, 0x61, 0x6c, 0x5f, 0x32, 0x2f, 0x64, 0x65, 0x6e, 0x73, 0x65, 0x5f, 0x36, 0x2f, 0x42, 0x69, 0x61, 0x73, 0x41, 0x64, 0x64, 0x00, 0x00, 0x00, 0x00, 0x02, 0x00, 0x00, 0x00, 0x01, 0x00, 0x00, 0x00, 0x04, 0x00, 0x00, 0x00, 0xc6, 0xfd, 0xff, 0xff, 0x3c, 0x00, 0x00, 0x00, 0x09, 0x00, 0x00, 0x00, 0x0c, 0x00, 0x00, 0x00, 0x04, 0x00, 0x00, 0x00, 0xb8, 0xfd, 0xff, 0xff, 0x20, 0x00, 0x00, 0x00, 0x73, 0x65, 0x71, 0x75, 0x65, 0x6e, 0x74, 0x69, 0x61, 0x6c, 0x5f, 0x32, 0x2f, 0x64, 0x65, 0x6e, 0x73, 0x65, 0x5f, 0x35, 0x2f, 0x4d, 0x61, 0x74, 0x4d, 0x75, 0x6c, 0x5f, 0x62, 0x69, 0x61, 0x73, 0x00, 0x00, 0x00, 0x00, 0x01, 0x00, 0x00, 0x00, 0x10, 0x00, 0x00, 0x00, 0x0e, 0xfe, 0xff, 0xff, 0x50, 0x00, 0x00, 0x00, 0x08, 0x00, 0x00, 0x00, 0x0c, 0x00, 0x00, 0x00, 0x04, 0x00, 0x00, 0x00, 0x00, 0xfe, 0xff, 0xff, 0x34, 0x00, 0x00, 0x00, 0x73, 0x65, 0x71, 0x75, 0x65, 0x6e, 0x74, 0x69, 0x61, 0x6c, 0x5f, 0x32, 0x2f, 0x64, 0x65, 0x6e, 0x73, 0x65, 0x5f, 0x35, 0x2f, 0x4d, 0x61, 0x74, 0x4d, 0x75, 0x6c, 0x2f, 0x52, 0x65, 0x61, 0x64, 0x56, 0x61, 0x72, 0x69, 0x61, 0x62, 0x6c, 0x65, 0x4f, 0x70, 0x2f, 0x74, 0x72, 0x61, 0x6e, 0x73, 0x70, 0x6f, 0x73, 0x65, 0x00, 0x00, 0x00, 0x00, 0x02, 0x00, 0x00, 0x00, 0x10, 0x00, 0x00, 0x00, 0x10, 0x00, 0x00, 0x00, 0x6e, 0xfe, 0xff, 0xff, 0x38, 0x00, 0x00, 0x00, 0x04, 0x00, 0x00, 0x00, 0x0c, 0x00, 0x00, 0x00, 0x04, 0x00, 0x00, 0x00, 0x60, 0xfe, 0xff, 0xff, 0x1c, 0x00, 0x00, 0x00, 0x73, 0x65, 0x71, 0x75, 0x65, 0x6e, 0x74, 0x69, 0x61, 0x6c, 0x5f, 0x32, 0x2f, 0x64, 0x65, 0x6e, 0x73, 0x65, 0x5f, 0x35, 0x2f, 0x42, 0x69, 0x61, 0x73, 0x41, 0x64, 0x64, 0x00, 0x00, 0x00, 0x00, 0x02, 0x00, 0x00, 0x00, 0x01, 0x00, 0x00, 0x00, 0x10, 0x00, 0x00, 0x00, 0xb6, 0xfe, 0xff, 0xff, 0x3c, 0x00, 0x00, 0x00, 0x07, 0x00, 0x00, 0x00, 0x0c, 0x00, 0x00, 0x00, 0x04, 0x00, 0x00, 0x00, 0xa8, 0xfe, 0xff, 0xff, 0x20, 0x00, 0x00, 0x00, 0x73, 0x65, 0x71, 0x75, 0x65, 0x6e, 0x74, 0x69, 0x61, 0x6c, 0x5f, 0x32, 0x2f, 0x64, 0x65, 0x6e, 0x73, 0x65, 0x5f, 0x34, 0x2f, 0x4d, 0x61, 0x74, 0x4d, 0x75, 0x6c, 0x5f, 0x62, 0x69, 0x61, 0x73, 0x00, 0x00, 0x00, 0x00, 0x01, 0x00, 0x00, 0x00, 0x10, 0x00, 0x00, 0x00, 0xfe, 0xfe, 0xff, 0xff, 0x50, 0x00, 0x00, 0x00, 0x02, 0x00, 0x00, 0x00, 0x0c, 0x00, 0x00, 0x00, 0x04, 0x00, 0x00, 0x00, 0xf0, 0xfe, 0xff, 0xff, 0x34, 0x00, 0x00, 0x00, 0x73, 0x65, 0x71, 0x75, 0x65, 0x6e, 0x74, 0x69, 0x61, 0x6c, 0x5f, 0x32, 0x2f, 0x64, 0x65, 0x6e, 0x73, 0x65, 0x5f, 0x34, 0x2f, 0x4d, 0x61, 0x74, 0x4d, 0x75, 0x6c, 0x2f, 0x52, 0x65, 0x61, 0x64, 0x56, 0x61, 0x72, 0x69, 0x61, 0x62, 0x6c, 0x65, 0x4f, 0x70, 0x2f, 0x74, 0x72, 0x61, 0x6e, 0x73, 0x70, 0x6f, 0x73, 0x65, 0x00, 0x00, 0x00, 0x00, 0x02, 0x00, 0x00, 0x00, 0x10, 0x00, 0x00, 0x00, 0x10, 0x00, 0x00, 0x00, 0x5e, 0xff, 0xff, 0xff, 0x38, 0x00, 0x00, 0x00, 0x03, 0x00, 0x00, 0x00, 0x0c, 0x00, 0x00, 0x00, 0x04, 0x00, 0x00, 0x00, 0x50, 0xff, 0xff, 0xff, 0x1c, 0x00, 0x00, 0x00, 0x73, 0x65, 0x71, 0x75, 0x65, 0x6e, 0x74, 0x69, 0x61, 0x6c, 0x5f, 0x32, 0x2f, 0x64, 0x65, 0x6e, 0x73, 0x65, 0x5f, 0x34, 0x2f, 0x42, 0x69, 0x61, 0x73, 0x41, 0x64, 0x64, 0x00, 0x00, 0x00, 0x00, 0x02, 0x00, 0x00, 0x00, 0x01, 0x00, 0x00, 0x00, 0x10, 0x00, 0x00, 0x00, 0xa6, 0xff, 0xff, 0xff, 0x48, 0x00, 0x00, 0x00, 0x01, 0x00, 0x00, 0x00, 0x2c, 0x00, 0x00, 0x00, 0x0c, 0x00, 0x00, 0x00, 0x08, 0x00, 0x0c, 0x00, 0x04, 0x00, 0x08, 0x00, 0x08, 0x00, 0x00, 0x00, 0x10, 0x00, 0x00, 0x00, 0x04, 0x00, 0x00, 0x00, 0x01, 0x00, 0x00, 0x00, 0x00, 0x00, 0x7f, 0x43, 0x01, 0x00, 0x00, 0x00, 0x00, 0x00, 0x00, 0x00, 0x0d, 0x00, 0x00, 0x00, 0x64, 0x65, 0x6e, 0x73, 0x65, 0x5f, 0x34, 0x5f, 0x69, 0x6e, 0x70, 0x75, 0x74, 0x00, 0x00, 0x00, 0x02, 0x00, 0x00, 0x00, 0x01, 0x00, 0x00, 0x00, 0x10, 0x00, 0x00, 0x00, 0x00, 0x00, 0x0e, 0x00, 0x14, 0x00, 0x04, 0x00, 0x00, 0x00, 0x08, 0x00, 0x0c, 0x00, 0x10, 0x00, 0x0e, 0x00, 0x00, 0x00, 0x28, 0x00, 0x00, 0x00, 0x06, 0x00, 0x00, 0x00, 0x10, 0x00, 0x00, 0x00, 0x08, 0x00, 0x00, 0x00, 0x04, 0x00, 0x04, 0x00, 0x04, 0x00, 0x00, 0x00, 0x08, 0x00, 0x00, 0x00, 0x49, 0x64, 0x65, 0x6e, 0x74, 0x69, 0x74, 0x79, 0x00, 0x00, 0x00, 0x00, 0x02, 0x00, 0x00, 0x00, 0x01, 0x00, 0x00, 0x00, 0x04, 0x00, 0x00, 0x00, 0x02, 0x00, 0x00, 0x00, 0x20, 0x00, 0x00, 0x00, 0x0c, 0x00, 0x00, 0x00, 0x00, 0x00, 0x06, 0x00, 0x06, 0x00, 0x05, 0x00, 0x06, 0x00, 0x00, 0x00, 0x00, 0x19, 0x0a, 0x00, 0x0c, 0x00, 0x07, 0x00, 0x00, 0x00, 0x08, 0x00, 0x0a, 0x00, 0x00, 0x00, 0x00, 0x00, 0x00, 0x09, 0x03, 0x00, 0x00, 0x00};\n",
      "const int model_data_len = 4024;\n"
     ]
    }
   ],
   "source": [
    "from tinymlgen import port\n",
    "print(port(model))"
   ]
  },
  {
   "cell_type": "markdown",
   "metadata": {},
   "source": [
    "## Other methods"
   ]
  },
  {
   "cell_type": "code",
   "execution_count": 11,
   "metadata": {},
   "outputs": [],
   "source": [
    "import numpy as np"
   ]
  },
  {
   "cell_type": "code",
   "execution_count": 12,
   "metadata": {},
   "outputs": [],
   "source": [
    "from sklearn.svm import SVC"
   ]
  },
  {
   "cell_type": "code",
   "execution_count": 13,
   "metadata": {},
   "outputs": [],
   "source": [
    "clf = SVC(gamma='auto')"
   ]
  },
  {
   "cell_type": "code",
   "execution_count": 14,
   "metadata": {},
   "outputs": [
    {
     "name": "stderr",
     "output_type": "stream",
     "text": [
      "C:\\Users\\Denis\\Anaconda3\\lib\\site-packages\\sklearn\\utils\\validation.py:724: DataConversionWarning: A column-vector y was passed when a 1d array was expected. Please change the shape of y to (n_samples, ), for example using ravel().\n",
      "  y = column_or_1d(y, warn=True)\n"
     ]
    },
    {
     "data": {
      "text/plain": [
       "SVC(C=1.0, cache_size=200, class_weight=None, coef0=0.0,\n",
       "    decision_function_shape='ovr', degree=3, gamma='auto', kernel='rbf',\n",
       "    max_iter=-1, probability=False, random_state=None, shrinking=True,\n",
       "    tol=0.001, verbose=False)"
      ]
     },
     "execution_count": 14,
     "metadata": {},
     "output_type": "execute_result"
    }
   ],
   "source": [
    "clf.fit(X_train, Y_train)"
   ]
  },
  {
   "cell_type": "code",
   "execution_count": 15,
   "metadata": {},
   "outputs": [
    {
     "data": {
      "text/plain": [
       "0.9118329466357309"
      ]
     },
     "execution_count": 15,
     "metadata": {},
     "output_type": "execute_result"
    }
   ],
   "source": [
    "clf.score(X_train, Y_train)"
   ]
  },
  {
   "cell_type": "code",
   "execution_count": 16,
   "metadata": {},
   "outputs": [],
   "source": [
    "from sklearn.neighbors import KNeighborsClassifier"
   ]
  },
  {
   "cell_type": "code",
   "execution_count": 27,
   "metadata": {},
   "outputs": [
    {
     "name": "stderr",
     "output_type": "stream",
     "text": [
      "C:\\Users\\Denis\\Anaconda3\\lib\\site-packages\\ipykernel_launcher.py:2: DataConversionWarning: A column-vector y was passed when a 1d array was expected. Please change the shape of y to (n_samples, ), for example using ravel().\n",
      "  \n"
     ]
    },
    {
     "data": {
      "text/plain": [
       "KNeighborsClassifier(algorithm='auto', leaf_size=30, metric='minkowski',\n",
       "                     metric_params=None, n_jobs=None, n_neighbors=5, p=2,\n",
       "                     weights='uniform')"
      ]
     },
     "execution_count": 27,
     "metadata": {},
     "output_type": "execute_result"
    }
   ],
   "source": [
    "neigh = KNeighborsClassifier(n_neighbors=5)\n",
    "neigh.fit(X_train, Y_train)"
   ]
  },
  {
   "cell_type": "code",
   "execution_count": 28,
   "metadata": {},
   "outputs": [
    {
     "data": {
      "text/plain": [
       "0.9095127610208816"
      ]
     },
     "execution_count": 28,
     "metadata": {},
     "output_type": "execute_result"
    }
   ],
   "source": [
    "neigh.score(X_train, Y_train)"
   ]
  },
  {
   "cell_type": "markdown",
   "metadata": {},
   "source": [
    "# In, Out, Fist, Point\n"
   ]
  },
  {
   "cell_type": "code",
   "execution_count": 24,
   "metadata": {},
   "outputs": [],
   "source": [
    "dataset = pd.read_csv(\"../data/gesture7.txt\")\n",
    "dataset = dataset.loc[dataset[\"gesture\"].isin([0,1,3,5])]"
   ]
  },
  {
   "cell_type": "code",
   "execution_count": 25,
   "metadata": {},
   "outputs": [
    {
     "data": {
      "text/html": [
       "<div>\n",
       "<style scoped>\n",
       "    .dataframe tbody tr th:only-of-type {\n",
       "        vertical-align: middle;\n",
       "    }\n",
       "\n",
       "    .dataframe tbody tr th {\n",
       "        vertical-align: top;\n",
       "    }\n",
       "\n",
       "    .dataframe thead th {\n",
       "        text-align: right;\n",
       "    }\n",
       "</style>\n",
       "<table border=\"1\" class=\"dataframe\">\n",
       "  <thead>\n",
       "    <tr style=\"text-align: right;\">\n",
       "      <th></th>\n",
       "      <th>0</th>\n",
       "      <th>1</th>\n",
       "      <th>2</th>\n",
       "      <th>3</th>\n",
       "      <th>4</th>\n",
       "      <th>5</th>\n",
       "      <th>6</th>\n",
       "      <th>7</th>\n",
       "      <th>8</th>\n",
       "      <th>9</th>\n",
       "      <th>10</th>\n",
       "      <th>11</th>\n",
       "      <th>12</th>\n",
       "      <th>13</th>\n",
       "      <th>14</th>\n",
       "      <th>15</th>\n",
       "      <th>gesture</th>\n",
       "    </tr>\n",
       "  </thead>\n",
       "  <tbody>\n",
       "    <tr>\n",
       "      <th>0</th>\n",
       "      <td>0.41</td>\n",
       "      <td>0.48</td>\n",
       "      <td>0.01</td>\n",
       "      <td>0.22</td>\n",
       "      <td>1.00</td>\n",
       "      <td>0.28</td>\n",
       "      <td>0.12</td>\n",
       "      <td>0.30</td>\n",
       "      <td>0.07</td>\n",
       "      <td>0.14</td>\n",
       "      <td>0.00</td>\n",
       "      <td>0.06</td>\n",
       "      <td>0.22</td>\n",
       "      <td>0.09</td>\n",
       "      <td>0.32</td>\n",
       "      <td>0.08</td>\n",
       "      <td>3</td>\n",
       "    </tr>\n",
       "    <tr>\n",
       "      <th>1</th>\n",
       "      <td>0.13</td>\n",
       "      <td>0.18</td>\n",
       "      <td>0.08</td>\n",
       "      <td>0.13</td>\n",
       "      <td>0.52</td>\n",
       "      <td>0.32</td>\n",
       "      <td>0.52</td>\n",
       "      <td>0.26</td>\n",
       "      <td>0.12</td>\n",
       "      <td>0.02</td>\n",
       "      <td>0.07</td>\n",
       "      <td>0.00</td>\n",
       "      <td>1.00</td>\n",
       "      <td>0.34</td>\n",
       "      <td>0.39</td>\n",
       "      <td>0.21</td>\n",
       "      <td>3</td>\n",
       "    </tr>\n",
       "    <tr>\n",
       "      <th>2</th>\n",
       "      <td>0.02</td>\n",
       "      <td>0.04</td>\n",
       "      <td>0.00</td>\n",
       "      <td>0.59</td>\n",
       "      <td>0.31</td>\n",
       "      <td>0.07</td>\n",
       "      <td>0.48</td>\n",
       "      <td>0.56</td>\n",
       "      <td>0.10</td>\n",
       "      <td>1.00</td>\n",
       "      <td>0.20</td>\n",
       "      <td>0.04</td>\n",
       "      <td>0.85</td>\n",
       "      <td>0.01</td>\n",
       "      <td>0.61</td>\n",
       "      <td>0.47</td>\n",
       "      <td>3</td>\n",
       "    </tr>\n",
       "    <tr>\n",
       "      <th>3</th>\n",
       "      <td>0.22</td>\n",
       "      <td>0.53</td>\n",
       "      <td>0.00</td>\n",
       "      <td>0.53</td>\n",
       "      <td>0.46</td>\n",
       "      <td>0.02</td>\n",
       "      <td>0.87</td>\n",
       "      <td>0.01</td>\n",
       "      <td>0.28</td>\n",
       "      <td>0.50</td>\n",
       "      <td>0.20</td>\n",
       "      <td>0.24</td>\n",
       "      <td>1.00</td>\n",
       "      <td>0.05</td>\n",
       "      <td>0.20</td>\n",
       "      <td>0.18</td>\n",
       "      <td>3</td>\n",
       "    </tr>\n",
       "    <tr>\n",
       "      <th>4</th>\n",
       "      <td>0.46</td>\n",
       "      <td>0.58</td>\n",
       "      <td>0.28</td>\n",
       "      <td>0.08</td>\n",
       "      <td>0.48</td>\n",
       "      <td>0.31</td>\n",
       "      <td>1.00</td>\n",
       "      <td>0.89</td>\n",
       "      <td>0.01</td>\n",
       "      <td>0.13</td>\n",
       "      <td>0.06</td>\n",
       "      <td>0.04</td>\n",
       "      <td>0.80</td>\n",
       "      <td>0.70</td>\n",
       "      <td>0.58</td>\n",
       "      <td>0.86</td>\n",
       "      <td>3</td>\n",
       "    </tr>\n",
       "  </tbody>\n",
       "</table>\n",
       "</div>"
      ],
      "text/plain": [
       "      0     1     2     3     4     5     6     7     8     9    10    11  \\\n",
       "0  0.41  0.48  0.01  0.22  1.00  0.28  0.12  0.30  0.07  0.14  0.00  0.06   \n",
       "1  0.13  0.18  0.08  0.13  0.52  0.32  0.52  0.26  0.12  0.02  0.07  0.00   \n",
       "2  0.02  0.04  0.00  0.59  0.31  0.07  0.48  0.56  0.10  1.00  0.20  0.04   \n",
       "3  0.22  0.53  0.00  0.53  0.46  0.02  0.87  0.01  0.28  0.50  0.20  0.24   \n",
       "4  0.46  0.58  0.28  0.08  0.48  0.31  1.00  0.89  0.01  0.13  0.06  0.04   \n",
       "\n",
       "     12    13    14    15  gesture  \n",
       "0  0.22  0.09  0.32  0.08        3  \n",
       "1  1.00  0.34  0.39  0.21        3  \n",
       "2  0.85  0.01  0.61  0.47        3  \n",
       "3  1.00  0.05  0.20  0.18        3  \n",
       "4  0.80  0.70  0.58  0.86        3  "
      ]
     },
     "execution_count": 25,
     "metadata": {},
     "output_type": "execute_result"
    }
   ],
   "source": [
    "dataset.head()\n"
   ]
  },
  {
   "cell_type": "code",
   "execution_count": 32,
   "metadata": {},
   "outputs": [],
   "source": [
    "dataset = dataset.dropna()\n",
    "dataset_train = np.array(dataset)\n",
    "dataset_train = dataset_train[np.random.permutation(len(dataset_train))]\n",
    "X_train = dataset_train[:,:-1]\n",
    "Y_train = dataset_train[:,-1:]"
   ]
  },
  {
   "cell_type": "code",
   "execution_count": 33,
   "metadata": {},
   "outputs": [
    {
     "data": {
      "text/plain": [
       "(2241, 4)"
      ]
     },
     "execution_count": 33,
     "metadata": {},
     "output_type": "execute_result"
    }
   ],
   "source": [
    "Y_train = [int(i) for i in Y_train]\n",
    "for i in range(len(Y_train)):\n",
    "    if (Y_train[i]>3) : Y_train[i] = 2\n",
    "Y_train = np.eye(np.max(Y_train) + 1)[Y_train]\n",
    "Y_train.shape"
   ]
  },
  {
   "cell_type": "code",
   "execution_count": 34,
   "metadata": {},
   "outputs": [],
   "source": [
    "X_train = np.asarray(X_train)\n",
    "Y_train = np.asarray(Y_train)"
   ]
  },
  {
   "cell_type": "code",
   "execution_count": 35,
   "metadata": {},
   "outputs": [],
   "source": [
    "model = Sequential()\n",
    "\n",
    "model.add(Dense(16, input_shape=(16,)))\n",
    "model.add(Dropout(0.2))\n",
    "\n",
    "model.add(Dense(16))\n",
    "model.add(Dropout(0.2))\n",
    "\n",
    "model.add(Dense(4, activation=\"softmax\"))"
   ]
  },
  {
   "cell_type": "code",
   "execution_count": 36,
   "metadata": {},
   "outputs": [],
   "source": [
    "model.compile(optimizer = 'adam', loss = 'binary_crossentropy', metrics=['accuracy'])"
   ]
  },
  {
   "cell_type": "code",
   "execution_count": 37,
   "metadata": {},
   "outputs": [
    {
     "name": "stdout",
     "output_type": "stream",
     "text": [
      "Train on 1792 samples, validate on 449 samples\n",
      "Epoch 1/50\n",
      " - 0s - loss: 0.4629 - accuracy: 0.7906 - val_loss: 0.3131 - val_accuracy: 0.8725\n",
      "Epoch 2/50\n",
      " - 0s - loss: 0.2807 - accuracy: 0.8849 - val_loss: 0.2017 - val_accuracy: 0.9310\n",
      "Epoch 3/50\n",
      " - 0s - loss: 0.2155 - accuracy: 0.9177 - val_loss: 0.1652 - val_accuracy: 0.9410\n",
      "Epoch 4/50\n",
      " - 0s - loss: 0.1964 - accuracy: 0.9251 - val_loss: 0.1479 - val_accuracy: 0.9516\n",
      "Epoch 5/50\n",
      " - 0s - loss: 0.1744 - accuracy: 0.9340 - val_loss: 0.1357 - val_accuracy: 0.9560\n",
      "Epoch 6/50\n",
      " - 0s - loss: 0.1677 - accuracy: 0.9369 - val_loss: 0.1318 - val_accuracy: 0.9549\n",
      "Epoch 7/50\n",
      " - 0s - loss: 0.1587 - accuracy: 0.9427 - val_loss: 0.1294 - val_accuracy: 0.9555\n",
      "Epoch 8/50\n",
      " - 0s - loss: 0.1552 - accuracy: 0.9414 - val_loss: 0.1312 - val_accuracy: 0.9566\n",
      "Epoch 9/50\n",
      " - 0s - loss: 0.1544 - accuracy: 0.9421 - val_loss: 0.1279 - val_accuracy: 0.9555\n",
      "Epoch 10/50\n",
      " - 0s - loss: 0.1487 - accuracy: 0.9452 - val_loss: 0.1270 - val_accuracy: 0.9571\n",
      "Epoch 11/50\n",
      " - 0s - loss: 0.1547 - accuracy: 0.9406 - val_loss: 0.1282 - val_accuracy: 0.9588\n",
      "Epoch 12/50\n",
      " - 0s - loss: 0.1420 - accuracy: 0.9456 - val_loss: 0.1256 - val_accuracy: 0.9582\n",
      "Epoch 13/50\n",
      " - 0s - loss: 0.1475 - accuracy: 0.9456 - val_loss: 0.1291 - val_accuracy: 0.9577\n",
      "Epoch 14/50\n",
      " - 0s - loss: 0.1422 - accuracy: 0.9484 - val_loss: 0.1309 - val_accuracy: 0.9571\n",
      "Epoch 15/50\n",
      " - 0s - loss: 0.1453 - accuracy: 0.9478 - val_loss: 0.1367 - val_accuracy: 0.9571\n",
      "Epoch 16/50\n",
      " - 0s - loss: 0.1455 - accuracy: 0.9459 - val_loss: 0.1293 - val_accuracy: 0.9588\n",
      "Epoch 17/50\n",
      " - 0s - loss: 0.1427 - accuracy: 0.9489 - val_loss: 0.1311 - val_accuracy: 0.9549\n",
      "Epoch 18/50\n",
      " - 0s - loss: 0.1369 - accuracy: 0.9492 - val_loss: 0.1188 - val_accuracy: 0.9560\n",
      "Epoch 19/50\n",
      " - 0s - loss: 0.1383 - accuracy: 0.9475 - val_loss: 0.1297 - val_accuracy: 0.9566\n",
      "Epoch 20/50\n",
      " - 0s - loss: 0.1372 - accuracy: 0.9533 - val_loss: 0.1380 - val_accuracy: 0.9538\n",
      "Epoch 21/50\n",
      " - 0s - loss: 0.1344 - accuracy: 0.9530 - val_loss: 0.1235 - val_accuracy: 0.9582\n",
      "Epoch 22/50\n",
      " - 0s - loss: 0.1355 - accuracy: 0.9498 - val_loss: 0.1305 - val_accuracy: 0.9582\n",
      "Epoch 23/50\n",
      " - 0s - loss: 0.1344 - accuracy: 0.9509 - val_loss: 0.1217 - val_accuracy: 0.9616\n",
      "Epoch 24/50\n",
      " - 0s - loss: 0.1388 - accuracy: 0.9489 - val_loss: 0.1354 - val_accuracy: 0.9532\n",
      "Epoch 25/50\n",
      " - 0s - loss: 0.1311 - accuracy: 0.9533 - val_loss: 0.1275 - val_accuracy: 0.9555\n",
      "Epoch 26/50\n",
      " - 0s - loss: 0.1294 - accuracy: 0.9531 - val_loss: 0.1244 - val_accuracy: 0.9616\n",
      "Epoch 27/50\n",
      " - 0s - loss: 0.1366 - accuracy: 0.9498 - val_loss: 0.1232 - val_accuracy: 0.9599\n",
      "Epoch 28/50\n",
      " - 0s - loss: 0.1364 - accuracy: 0.9487 - val_loss: 0.1203 - val_accuracy: 0.9599\n",
      "Epoch 29/50\n",
      " - 0s - loss: 0.1381 - accuracy: 0.9519 - val_loss: 0.1203 - val_accuracy: 0.9577\n",
      "Epoch 30/50\n",
      " - 0s - loss: 0.1302 - accuracy: 0.9544 - val_loss: 0.1266 - val_accuracy: 0.9582\n",
      "Epoch 31/50\n",
      " - 0s - loss: 0.1274 - accuracy: 0.9541 - val_loss: 0.1274 - val_accuracy: 0.9588\n",
      "Epoch 32/50\n",
      " - 0s - loss: 0.1307 - accuracy: 0.9535 - val_loss: 0.1387 - val_accuracy: 0.9543\n",
      "Epoch 33/50\n",
      " - 0s - loss: 0.1357 - accuracy: 0.9520 - val_loss: 0.1291 - val_accuracy: 0.9577\n",
      "Epoch 34/50\n",
      " - 0s - loss: 0.1234 - accuracy: 0.9568 - val_loss: 0.1231 - val_accuracy: 0.9605\n",
      "Epoch 35/50\n",
      " - 0s - loss: 0.1261 - accuracy: 0.9523 - val_loss: 0.1338 - val_accuracy: 0.9543\n",
      "Epoch 36/50\n",
      " - 0s - loss: 0.1321 - accuracy: 0.9549 - val_loss: 0.1245 - val_accuracy: 0.9616\n",
      "Epoch 37/50\n",
      " - 0s - loss: 0.1250 - accuracy: 0.9554 - val_loss: 0.1217 - val_accuracy: 0.9610\n",
      "Epoch 38/50\n",
      " - 0s - loss: 0.1184 - accuracy: 0.9584 - val_loss: 0.1240 - val_accuracy: 0.9605\n",
      "Epoch 39/50\n",
      " - 0s - loss: 0.1291 - accuracy: 0.9551 - val_loss: 0.1293 - val_accuracy: 0.9605\n",
      "Epoch 40/50\n",
      " - 0s - loss: 0.1312 - accuracy: 0.9549 - val_loss: 0.1230 - val_accuracy: 0.9621\n",
      "Epoch 41/50\n",
      " - 0s - loss: 0.1259 - accuracy: 0.9548 - val_loss: 0.1270 - val_accuracy: 0.9571\n",
      "Epoch 42/50\n",
      " - 0s - loss: 0.1309 - accuracy: 0.9556 - val_loss: 0.1385 - val_accuracy: 0.9566\n",
      "Epoch 43/50\n",
      " - 0s - loss: 0.1216 - accuracy: 0.9607 - val_loss: 0.1201 - val_accuracy: 0.9588\n",
      "Epoch 44/50\n",
      " - 0s - loss: 0.1266 - accuracy: 0.9587 - val_loss: 0.1317 - val_accuracy: 0.9594\n",
      "Epoch 45/50\n",
      " - 0s - loss: 0.1284 - accuracy: 0.9548 - val_loss: 0.1314 - val_accuracy: 0.9560\n",
      "Epoch 46/50\n",
      " - 0s - loss: 0.1209 - accuracy: 0.9555 - val_loss: 0.1321 - val_accuracy: 0.9566\n",
      "Epoch 47/50\n",
      " - 0s - loss: 0.1243 - accuracy: 0.9554 - val_loss: 0.1252 - val_accuracy: 0.9594\n",
      "Epoch 48/50\n",
      " - 0s - loss: 0.1202 - accuracy: 0.9590 - val_loss: 0.1232 - val_accuracy: 0.9616\n",
      "Epoch 49/50\n",
      " - 0s - loss: 0.1199 - accuracy: 0.9611 - val_loss: 0.1277 - val_accuracy: 0.9594\n",
      "Epoch 50/50\n",
      " - 0s - loss: 0.1278 - accuracy: 0.9547 - val_loss: 0.1249 - val_accuracy: 0.9594\n"
     ]
    }
   ],
   "source": [
    "history_new = model.fit(X_train, Y_train,validation_split=0.2, epochs = 50, batch_size = 8, verbose=2)"
   ]
  },
  {
   "cell_type": "code",
   "execution_count": 38,
   "metadata": {},
   "outputs": [
    {
     "data": {
      "text/plain": [
       "Text(0.5, 1.0, 'Accuracy')"
      ]
     },
     "execution_count": 38,
     "metadata": {},
     "output_type": "execute_result"
    },
    {
     "data": {
      "image/png": "[encoded data removed]",
      "text/plain": [
       "<Figure size 648x648 with 2 Axes>"
      ]
     },
     "metadata": {
      "needs_background": "light"
     },
     "output_type": "display_data"
    }
   ],
   "source": [
    "fig, axes = plt.subplots(nrows=1, ncols=2,figsize=(9,9))\n",
    "plt.subplot(2,1,1)\n",
    "plt.plot(history.history['loss'])\n",
    "plt.plot(history.history['val_loss'])\n",
    "plt.legend([\"Train\",\"Validation\"])\n",
    "plt.title(\"Loss\")\n",
    "plt.subplot(2,1,2)\n",
    "plt.plot(history.history['accuracy'])\n",
    "plt.plot(history.history['val_accuracy'])\n",
    "plt.legend([\"Train\",\"Validation\"])\n",
    "plt.title(\"Accuracy\")"
   ]
  },
  {
   "cell_type": "markdown",
   "metadata": {},
   "source": [
    "## Comparison"
   ]
  },
  {
   "cell_type": "code",
   "execution_count": 63,
   "metadata": {},
   "outputs": [
    {
     "data": {
      "text/plain": [
       "Text(0.5, 1.0, 'Accuracy')"
      ]
     },
     "execution_count": 63,
     "metadata": {},
     "output_type": "execute_result"
    },
    {
     "data": {
      "image/png": "[encoded data removed]",
      "text/plain": [
       "<Figure size 648x648 with 1 Axes>"
      ]
     },
     "metadata": {
      "needs_background": "light"
     },
     "output_type": "display_data"
    }
   ],
   "source": [
    "fig, axes = plt.subplots(nrows=1, ncols=2,figsize=(9,9))\n",
    "plt.subplot(2,1,1)\n",
    "plt.plot(history_new.history['val_accuracy'])\n",
    "plt.plot(history.history['val_accuracy'])\n",
    "plt.legend([\"Validation accuracy with index finger\",\"Validation accuracy with goat\"])\n",
    "plt.title(\"Accuracy\")"
   ]
  },
  {
   "cell_type": "code",
   "execution_count": null,
   "metadata": {},
   "outputs": [],
   "source": []
  }
 ],
 "metadata": {
  "kernelspec": {
   "display_name": "Python 3",
   "language": "python",
   "name": "python3"
  },
  "language_info": {
   "codemirror_mode": {
    "name": "ipython",
    "version": 3
   },
   "file_extension": ".py",
   "mimetype": "text/x-python",
   "name": "python",
   "nbconvert_exporter": "python",
   "pygments_lexer": "ipython3",
   "version": "3.7.4"
  }
 },
 "nbformat": 4,
 "nbformat_minor": 4
}
