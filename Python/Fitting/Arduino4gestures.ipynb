{
 "cells": [
  {
   "cell_type": "code",
   "execution_count": 1,
   "metadata": {},
   "outputs": [],
   "source": [
    "import numpy as np \n",
    "import pandas as pd\n",
    "import matplotlib.pyplot as plt\n",
    "import os\n",
    "from sklearn.preprocessing import MinMaxScaler\n",
    "import seaborn as sns\n",
    "import tensorflow as tf"
   ]
  },
  {
   "cell_type": "code",
   "execution_count": 2,
   "metadata": {},
   "outputs": [
    {
     "name": "stderr",
     "output_type": "stream",
     "text": [
      "Using TensorFlow backend.\n"
     ]
    }
   ],
   "source": [
    "from keras.models import Sequential\n",
    "from keras.layers import Dense\n",
    "from keras.callbacks import ModelCheckpoint\n",
    "from keras.layers import Dropout"
   ]
  },
  {
   "cell_type": "code",
   "execution_count": 3,
   "metadata": {},
   "outputs": [],
   "source": [
    "dataset = pd.read_csv(\"../data/gesture4.txt\")"
   ]
  },
  {
   "cell_type": "code",
   "execution_count": 4,
   "metadata": {},
   "outputs": [
    {
     "data": {
      "text/html": [
       "<div>\n",
       "<style scoped>\n",
       "    .dataframe tbody tr th:only-of-type {\n",
       "        vertical-align: middle;\n",
       "    }\n",
       "\n",
       "    .dataframe tbody tr th {\n",
       "        vertical-align: top;\n",
       "    }\n",
       "\n",
       "    .dataframe thead th {\n",
       "        text-align: right;\n",
       "    }\n",
       "</style>\n",
       "<table border=\"1\" class=\"dataframe\">\n",
       "  <thead>\n",
       "    <tr style=\"text-align: right;\">\n",
       "      <th></th>\n",
       "      <th>0</th>\n",
       "      <th>1</th>\n",
       "      <th>2</th>\n",
       "      <th>3</th>\n",
       "      <th>4</th>\n",
       "      <th>5</th>\n",
       "      <th>6</th>\n",
       "      <th>7</th>\n",
       "      <th>8</th>\n",
       "      <th>9</th>\n",
       "      <th>10</th>\n",
       "      <th>11</th>\n",
       "      <th>12</th>\n",
       "      <th>13</th>\n",
       "      <th>14</th>\n",
       "      <th>15</th>\n",
       "      <th>gesture</th>\n",
       "    </tr>\n",
       "  </thead>\n",
       "  <tbody>\n",
       "    <tr>\n",
       "      <th>0</th>\n",
       "      <td>0.41</td>\n",
       "      <td>0.48</td>\n",
       "      <td>0.01</td>\n",
       "      <td>0.22</td>\n",
       "      <td>1.00</td>\n",
       "      <td>0.28</td>\n",
       "      <td>0.12</td>\n",
       "      <td>0.30</td>\n",
       "      <td>0.07</td>\n",
       "      <td>0.14</td>\n",
       "      <td>0.00</td>\n",
       "      <td>0.06</td>\n",
       "      <td>0.22</td>\n",
       "      <td>0.09</td>\n",
       "      <td>0.32</td>\n",
       "      <td>0.08</td>\n",
       "      <td>3</td>\n",
       "    </tr>\n",
       "    <tr>\n",
       "      <th>1</th>\n",
       "      <td>0.13</td>\n",
       "      <td>0.18</td>\n",
       "      <td>0.08</td>\n",
       "      <td>0.13</td>\n",
       "      <td>0.52</td>\n",
       "      <td>0.32</td>\n",
       "      <td>0.52</td>\n",
       "      <td>0.26</td>\n",
       "      <td>0.12</td>\n",
       "      <td>0.02</td>\n",
       "      <td>0.07</td>\n",
       "      <td>0.00</td>\n",
       "      <td>1.00</td>\n",
       "      <td>0.34</td>\n",
       "      <td>0.39</td>\n",
       "      <td>0.21</td>\n",
       "      <td>3</td>\n",
       "    </tr>\n",
       "    <tr>\n",
       "      <th>2</th>\n",
       "      <td>0.02</td>\n",
       "      <td>0.04</td>\n",
       "      <td>0.00</td>\n",
       "      <td>0.59</td>\n",
       "      <td>0.31</td>\n",
       "      <td>0.07</td>\n",
       "      <td>0.48</td>\n",
       "      <td>0.56</td>\n",
       "      <td>0.10</td>\n",
       "      <td>1.00</td>\n",
       "      <td>0.20</td>\n",
       "      <td>0.04</td>\n",
       "      <td>0.85</td>\n",
       "      <td>0.01</td>\n",
       "      <td>0.61</td>\n",
       "      <td>0.47</td>\n",
       "      <td>3</td>\n",
       "    </tr>\n",
       "    <tr>\n",
       "      <th>3</th>\n",
       "      <td>0.22</td>\n",
       "      <td>0.53</td>\n",
       "      <td>0.00</td>\n",
       "      <td>0.53</td>\n",
       "      <td>0.46</td>\n",
       "      <td>0.02</td>\n",
       "      <td>0.87</td>\n",
       "      <td>0.01</td>\n",
       "      <td>0.28</td>\n",
       "      <td>0.50</td>\n",
       "      <td>0.20</td>\n",
       "      <td>0.24</td>\n",
       "      <td>1.00</td>\n",
       "      <td>0.05</td>\n",
       "      <td>0.20</td>\n",
       "      <td>0.18</td>\n",
       "      <td>3</td>\n",
       "    </tr>\n",
       "    <tr>\n",
       "      <th>4</th>\n",
       "      <td>0.46</td>\n",
       "      <td>0.58</td>\n",
       "      <td>0.28</td>\n",
       "      <td>0.08</td>\n",
       "      <td>0.48</td>\n",
       "      <td>0.31</td>\n",
       "      <td>1.00</td>\n",
       "      <td>0.89</td>\n",
       "      <td>0.01</td>\n",
       "      <td>0.13</td>\n",
       "      <td>0.06</td>\n",
       "      <td>0.04</td>\n",
       "      <td>0.80</td>\n",
       "      <td>0.70</td>\n",
       "      <td>0.58</td>\n",
       "      <td>0.86</td>\n",
       "      <td>3</td>\n",
       "    </tr>\n",
       "  </tbody>\n",
       "</table>\n",
       "</div>"
      ],
      "text/plain": [
       "      0     1     2     3     4     5     6     7     8     9    10    11  \\\n",
       "0  0.41  0.48  0.01  0.22  1.00  0.28  0.12  0.30  0.07  0.14  0.00  0.06   \n",
       "1  0.13  0.18  0.08  0.13  0.52  0.32  0.52  0.26  0.12  0.02  0.07  0.00   \n",
       "2  0.02  0.04  0.00  0.59  0.31  0.07  0.48  0.56  0.10  1.00  0.20  0.04   \n",
       "3  0.22  0.53  0.00  0.53  0.46  0.02  0.87  0.01  0.28  0.50  0.20  0.24   \n",
       "4  0.46  0.58  0.28  0.08  0.48  0.31  1.00  0.89  0.01  0.13  0.06  0.04   \n",
       "\n",
       "     12    13    14    15  gesture  \n",
       "0  0.22  0.09  0.32  0.08        3  \n",
       "1  1.00  0.34  0.39  0.21        3  \n",
       "2  0.85  0.01  0.61  0.47        3  \n",
       "3  1.00  0.05  0.20  0.18        3  \n",
       "4  0.80  0.70  0.58  0.86        3  "
      ]
     },
     "execution_count": 4,
     "metadata": {},
     "output_type": "execute_result"
    }
   ],
   "source": [
    "dataset.head()\n"
   ]
  },
  {
   "cell_type": "markdown",
   "metadata": {},
   "source": [
    "# In, Out, Fist, Goat"
   ]
  },
  {
   "cell_type": "code",
   "execution_count": 5,
   "metadata": {},
   "outputs": [],
   "source": [
    "dataset = dataset.dropna()\n",
    "dataset_train = np.array(dataset)\n",
    "dataset_train = dataset_train[np.random.permutation(len(dataset_train))]\n",
    "X_train = dataset_train[:,:-1]\n",
    "Y_train = dataset_train[:,-1:]"
   ]
  },
  {
   "cell_type": "code",
   "execution_count": 6,
   "metadata": {},
   "outputs": [
    {
     "data": {
      "text/plain": [
       "(2155, 4)"
      ]
     },
     "execution_count": 6,
     "metadata": {},
     "output_type": "execute_result"
    }
   ],
   "source": [
    "Y_train = [int(i) for i in Y_train]\n",
    "Y_train = np.eye(np.max(Y_train) + 1)[Y_train]\n",
    "Y_train.shape"
   ]
  },
  {
   "cell_type": "code",
   "execution_count": 7,
   "metadata": {},
   "outputs": [],
   "source": [
    "X_train = np.asarray(X_train)\n",
    "Y_train = np.asarray(Y_train)"
   ]
  },
  {
   "cell_type": "code",
   "execution_count": 8,
   "metadata": {},
   "outputs": [],
   "source": [
    "model = Sequential()\n",
    "\n",
    "model.add(Dense(16, input_shape=(16,)))\n",
    "model.add(Dropout(0.2))\n",
    "\n",
    "model.add(Dense(16))\n",
    "model.add(Dropout(0.2))\n",
    "\n",
    "model.add(Dense(4, activation=\"softmax\"))"
   ]
  },
  {
   "cell_type": "code",
   "execution_count": 9,
   "metadata": {},
   "outputs": [],
   "source": [
    "model.compile(optimizer = 'adam', loss = 'binary_crossentropy', metrics=['accuracy'])"
   ]
  },
  {
   "cell_type": "code",
   "execution_count": 10,
   "metadata": {},
   "outputs": [
    {
     "name": "stdout",
     "output_type": "stream",
     "text": [
      "Train on 1724 samples, validate on 431 samples\n",
      "Epoch 1/50\n",
      " - 0s - loss: 0.4623 - accuracy: 0.7894 - val_loss: 0.3218 - val_accuracy: 0.8799\n",
      "Epoch 2/50\n",
      " - 0s - loss: 0.3038 - accuracy: 0.8727 - val_loss: 0.2026 - val_accuracy: 0.9263\n",
      "Epoch 3/50\n",
      " - 0s - loss: 0.2321 - accuracy: 0.9070 - val_loss: 0.1622 - val_accuracy: 0.9432\n",
      "Epoch 4/50\n",
      " - 0s - loss: 0.1970 - accuracy: 0.9220 - val_loss: 0.1450 - val_accuracy: 0.9461\n",
      "Epoch 5/50\n",
      " - 0s - loss: 0.1830 - accuracy: 0.9305 - val_loss: 0.1322 - val_accuracy: 0.9530\n",
      "Epoch 6/50\n",
      " - 0s - loss: 0.1711 - accuracy: 0.9382 - val_loss: 0.1248 - val_accuracy: 0.9507\n",
      "Epoch 7/50\n",
      " - 0s - loss: 0.1777 - accuracy: 0.9346 - val_loss: 0.1240 - val_accuracy: 0.9524\n",
      "Epoch 8/50\n",
      " - 0s - loss: 0.1715 - accuracy: 0.9400 - val_loss: 0.1215 - val_accuracy: 0.9524\n",
      "Epoch 9/50\n",
      " - 0s - loss: 0.1633 - accuracy: 0.9405 - val_loss: 0.1186 - val_accuracy: 0.9530\n",
      "Epoch 10/50\n",
      " - 0s - loss: 0.1670 - accuracy: 0.9359 - val_loss: 0.1208 - val_accuracy: 0.9501\n",
      "Epoch 11/50\n",
      " - 0s - loss: 0.1534 - accuracy: 0.9442 - val_loss: 0.1180 - val_accuracy: 0.9530\n",
      "Epoch 12/50\n",
      " - 0s - loss: 0.1540 - accuracy: 0.9463 - val_loss: 0.1193 - val_accuracy: 0.9501\n",
      "Epoch 13/50\n",
      " - 0s - loss: 0.1565 - accuracy: 0.9408 - val_loss: 0.1166 - val_accuracy: 0.9559\n",
      "Epoch 14/50\n",
      " - 0s - loss: 0.1527 - accuracy: 0.9450 - val_loss: 0.1176 - val_accuracy: 0.9507\n",
      "Epoch 15/50\n",
      " - 0s - loss: 0.1556 - accuracy: 0.9453 - val_loss: 0.1133 - val_accuracy: 0.9536\n",
      "Epoch 16/50\n",
      " - 0s - loss: 0.1454 - accuracy: 0.9482 - val_loss: 0.1156 - val_accuracy: 0.9588\n",
      "Epoch 17/50\n",
      " - 0s - loss: 0.1530 - accuracy: 0.9475 - val_loss: 0.1146 - val_accuracy: 0.9553\n",
      "Epoch 18/50\n",
      " - 0s - loss: 0.1523 - accuracy: 0.9492 - val_loss: 0.1145 - val_accuracy: 0.9542\n",
      "Epoch 19/50\n",
      " - 0s - loss: 0.1425 - accuracy: 0.9506 - val_loss: 0.1138 - val_accuracy: 0.9524\n",
      "Epoch 20/50\n",
      " - 0s - loss: 0.1427 - accuracy: 0.9495 - val_loss: 0.1118 - val_accuracy: 0.9530\n",
      "Epoch 21/50\n",
      " - 0s - loss: 0.1473 - accuracy: 0.9462 - val_loss: 0.1103 - val_accuracy: 0.9542\n",
      "Epoch 22/50\n",
      " - 0s - loss: 0.1454 - accuracy: 0.9497 - val_loss: 0.1148 - val_accuracy: 0.9542\n",
      "Epoch 23/50\n",
      " - 0s - loss: 0.1385 - accuracy: 0.9524 - val_loss: 0.1114 - val_accuracy: 0.9542\n",
      "Epoch 24/50\n",
      " - 0s - loss: 0.1452 - accuracy: 0.9471 - val_loss: 0.1112 - val_accuracy: 0.9536\n",
      "Epoch 25/50\n",
      " - 0s - loss: 0.1413 - accuracy: 0.9485 - val_loss: 0.1109 - val_accuracy: 0.9542\n",
      "Epoch 26/50\n",
      " - 0s - loss: 0.1430 - accuracy: 0.9471 - val_loss: 0.1104 - val_accuracy: 0.9565\n",
      "Epoch 27/50\n",
      " - 0s - loss: 0.1321 - accuracy: 0.9542 - val_loss: 0.1095 - val_accuracy: 0.9495\n",
      "Epoch 28/50\n",
      " - 0s - loss: 0.1425 - accuracy: 0.9511 - val_loss: 0.1149 - val_accuracy: 0.9553\n",
      "Epoch 29/50\n",
      " - 0s - loss: 0.1355 - accuracy: 0.9530 - val_loss: 0.1094 - val_accuracy: 0.9571\n",
      "Epoch 30/50\n",
      " - 0s - loss: 0.1363 - accuracy: 0.9495 - val_loss: 0.1128 - val_accuracy: 0.9553\n",
      "Epoch 31/50\n",
      " - 0s - loss: 0.1324 - accuracy: 0.9537 - val_loss: 0.1086 - val_accuracy: 0.9507\n",
      "Epoch 32/50\n",
      " - 0s - loss: 0.1380 - accuracy: 0.9519 - val_loss: 0.1114 - val_accuracy: 0.9530\n",
      "Epoch 33/50\n",
      " - 0s - loss: 0.1338 - accuracy: 0.9517 - val_loss: 0.1081 - val_accuracy: 0.9536\n",
      "Epoch 34/50\n",
      " - 0s - loss: 0.1321 - accuracy: 0.9568 - val_loss: 0.1080 - val_accuracy: 0.9507\n",
      "Epoch 35/50\n",
      " - 0s - loss: 0.1310 - accuracy: 0.9562 - val_loss: 0.1086 - val_accuracy: 0.9553\n",
      "Epoch 36/50\n",
      " - 0s - loss: 0.1368 - accuracy: 0.9530 - val_loss: 0.1079 - val_accuracy: 0.9542\n",
      "Epoch 37/50\n",
      " - 0s - loss: 0.1252 - accuracy: 0.9581 - val_loss: 0.1108 - val_accuracy: 0.9495\n",
      "Epoch 38/50\n",
      " - 0s - loss: 0.1367 - accuracy: 0.9545 - val_loss: 0.1104 - val_accuracy: 0.9524\n",
      "Epoch 39/50\n",
      " - 0s - loss: 0.1307 - accuracy: 0.9559 - val_loss: 0.1122 - val_accuracy: 0.9490\n",
      "Epoch 40/50\n",
      " - 0s - loss: 0.1305 - accuracy: 0.9521 - val_loss: 0.1126 - val_accuracy: 0.9536\n",
      "Epoch 41/50\n",
      " - 0s - loss: 0.1307 - accuracy: 0.9539 - val_loss: 0.1082 - val_accuracy: 0.9524\n",
      "Epoch 42/50\n",
      " - 0s - loss: 0.1316 - accuracy: 0.9562 - val_loss: 0.1086 - val_accuracy: 0.9501\n",
      "Epoch 43/50\n",
      " - 0s - loss: 0.1306 - accuracy: 0.9568 - val_loss: 0.1089 - val_accuracy: 0.9542\n",
      "Epoch 44/50\n",
      " - 0s - loss: 0.1331 - accuracy: 0.9550 - val_loss: 0.1084 - val_accuracy: 0.9507\n",
      "Epoch 45/50\n",
      " - 0s - loss: 0.1325 - accuracy: 0.9543 - val_loss: 0.1104 - val_accuracy: 0.9565\n",
      "Epoch 46/50\n",
      " - 0s - loss: 0.1281 - accuracy: 0.9584 - val_loss: 0.1109 - val_accuracy: 0.9513\n",
      "Epoch 47/50\n",
      " - 0s - loss: 0.1270 - accuracy: 0.9545 - val_loss: 0.1147 - val_accuracy: 0.9536\n",
      "Epoch 48/50\n",
      " - 0s - loss: 0.1276 - accuracy: 0.9561 - val_loss: 0.1108 - val_accuracy: 0.9524\n",
      "Epoch 49/50\n",
      " - 0s - loss: 0.1346 - accuracy: 0.9556 - val_loss: 0.1090 - val_accuracy: 0.9536\n",
      "Epoch 50/50\n",
      " - 0s - loss: 0.1312 - accuracy: 0.9568 - val_loss: 0.1138 - val_accuracy: 0.9466\n"
     ]
    }
   ],
   "source": [
    "history = model.fit(X_train, Y_train,validation_split=0.2, epochs = 50, batch_size = 8, verbose=2)"
   ]
  },
  {
   "cell_type": "code",
   "execution_count": 11,
   "metadata": {},
   "outputs": [
    {
     "data": {
      "text/plain": [
       "Text(0.5, 1.0, 'Accuracy')"
      ]
     },
     "execution_count": 11,
     "metadata": {},
     "output_type": "execute_result"
    },
    {
     "data": {
      "image/png": "[encoded data removed]",
      "text/plain": [
       "<Figure size 648x648 with 2 Axes>"
      ]
     },
     "metadata": {
      "needs_background": "light"
     },
     "output_type": "display_data"
    }
   ],
   "source": [
    "fig, axes = plt.subplots(nrows=1, ncols=2,figsize=(9,9))\n",
    "plt.subplot(2,1,1)\n",
    "plt.plot(history.history['loss'])\n",
    "plt.plot(history.history['val_loss'])\n",
    "plt.legend([\"Train\",\"Validation\"])\n",
    "plt.title(\"Loss\")\n",
    "plt.subplot(2,1,2)\n",
    "plt.plot(history.history['accuracy'])\n",
    "plt.plot(history.history['val_accuracy'])\n",
    "plt.legend([\"Train\",\"Validation\"])\n",
    "plt.title(\"Accuracy\")"
   ]
  },
  {
   "cell_type": "code",
   "execution_count": 12,
   "metadata": {},
   "outputs": [
    {
     "name": "stdout",
     "output_type": "stream",
     "text": [
      "Model: \"sequential_1\"\n",
      "_________________________________________________________________\n",
      "Layer (type)                 Output Shape              Param #   \n",
      "=================================================================\n",
      "dense_1 (Dense)              (None, 16)                272       \n",
      "_________________________________________________________________\n",
      "dropout_1 (Dropout)          (None, 16)                0         \n",
      "_________________________________________________________________\n",
      "dense_2 (Dense)              (None, 16)                272       \n",
      "_________________________________________________________________\n",
      "dropout_2 (Dropout)          (None, 16)                0         \n",
      "_________________________________________________________________\n",
      "dense_3 (Dense)              (None, 4)                 68        \n",
      "=================================================================\n",
      "Total params: 612\n",
      "Trainable params: 612\n",
      "Non-trainable params: 0\n",
      "_________________________________________________________________\n",
      "None\n"
     ]
    }
   ],
   "source": [
    "print(model.summary())"
   ]
  },
  {
   "cell_type": "code",
   "execution_count": 13,
   "metadata": {},
   "outputs": [],
   "source": [
    "model.save(\"../Data/arduino4gestures.h5\")\n"
   ]
  },
  {
   "cell_type": "code",
   "execution_count": 10,
   "metadata": {},
   "outputs": [],
   "source": [
    "from tensorflow.keras.models import load_model"
   ]
  },
  {
   "cell_type": "code",
   "execution_count": 15,
   "metadata": {},
   "outputs": [],
   "source": [
    "model = load_model(\"../Data/arduino4gestures.h5\")"
   ]
  },
  {
   "cell_type": "code",
   "execution_count": 16,
   "metadata": {},
   "outputs": [
    {
     "name": "stdout",
     "output_type": "stream",
     "text": [
      "\n",
      "#ifdef __has_attribute\n",
      "#define HAVE_ATTRIBUTE(x) __has_attribute(x)\n",
      "#else\n",
      "#define HAVE_ATTRIBUTE(x) 0\n",
      "#endif\n",
      "#if HAVE_ATTRIBUTE(aligned) || (defined(__GNUC__) && !defined(__clang__))\n",
      "#define DATA_ALIGN_ATTRIBUTE __attribute__((aligned(4)))\n",
      "#else\n",
      "#define DATA_ALIGN_ATTRIBUTE\n",
      "#endif\n",
      "\n",
      "const unsigned char model_data[] DATA_ALIGN_ATTRIBUTE = {0x1c, 0x00, 0x00, 0x00, 0x54, 0x46, 0x4c, 0x33, 0x00, 0x00, 0x12, 0x00, 0x1c, 0x00, 0x04, 0x00, 0x08, 0x00, 0x0c, 0x00, 0x10, 0x00, 0x14, 0x00, 0x00, 0x00, 0x18, 0x00, 0x12, 0x00, 0x00, 0x00, 0x03, 0x00, 0x00, 0x00, 0x64, 0x0f, 0x00, 0x00, 0x8c, 0x0a, 0x00, 0x00, 0x74, 0x0a, 0x00, 0x00, 0x34, 0x00, 0x00, 0x00, 0x04, 0x00, 0x00, 0x00, 0x01, 0x00, 0x00, 0x00, 0x04, 0x00, 0x00, 0x00, 0x44, 0xf1, 0xff, 0xff, 0x08, 0x00, 0x00, 0x00, 0x0c, 0x00, 0x00, 0x00, 0x13, 0x00, 0x00, 0x00, 0x6d, 0x69, 0x6e, 0x5f, 0x72, 0x75, 0x6e, 0x74, 0x69, 0x6d, 0x65, 0x5f, 0x76, 0x65, 0x72, 0x73, 0x69, 0x6f, 0x6e, 0x00, 0x0d, 0x00, 0x00, 0x00, 0x34, 0x0a, 0x00, 0x00, 0x24, 0x06, 0x00, 0x00, 0x1c, 0x06, 0x00, 0x00, 0x14, 0x06, 0x00, 0x00, 0x0c, 0x06, 0x00, 0x00, 0x04, 0x06, 0x00, 0x00, 0xfc, 0x05, 0x00, 0x00, 0xac, 0x05, 0x00, 0x00, 0x9c, 0x01, 0x00, 0x00, 0x4c, 0x01, 0x00, 0x00, 0x3c, 0x00, 0x00, 0x00, 0x1c, 0x00, 0x00, 0x00, 0x04, 0x00, 0x00, 0x00, 0x82, 0xf5, 0xff, 0xff, 0x04, 0x00, 0x00, 0x00, 0x05, 0x00, 0x00, 0x00, 0x31, 0x2e, 0x35, 0x2e, 0x30, 0x00, 0x00, 0x00, 0x96, 0xf5, 0xff, 0xff, 0x04, 0x00, 0x00, 0x00, 0x10, 0x00, 0x00, 0x00, 0xc4, 0x92, 0x0f, 0x3e, 0x02, 0x2c, 0x7d, 0xbe, 0x68, 0xe1, 0x2e, 0xbd, 0x17, 0xa8, 0xcb, 0x3d, 0xb2, 0xf5, 0xff, 0xff, 0x04, 0x00, 0x00, 0x00, 0x00, 0x01, 0x00, 0x00, 0xf0, 0x52, 0x2c, 0xbf, 0x93, 0x25, 0x03, 0x3f, 0xe8, 0xe5, 0x1b, 0x3f, 0x01, 0x86, 0x25, 0xbf, 0xc0, 0x8f, 0x28, 0x3e, 0x8c, 0x7f, 0x67, 0x3f, 0x47, 0x9e, 0x55, 0x3e, 0x93, 0x1a, 0xfb, 0xbd, 0x94, 0x25, 0x50, 0x3f, 0xb5, 0x45, 0x13, 0xbd, 0xed, 0xbb, 0xfd, 0x3d, 0x34, 0x20, 0x1e, 0x3f, 0x00, 0x4d, 0x71, 0xbf, 0xea, 0xc1, 0x16, 0xbf, 0x60, 0x74, 0x98, 0x3d, 0xfe, 0x4a, 0xfd, 0xbc, 0xae, 0x97, 0x9e, 0x3e, 0xcf, 0x56, 0x7a, 0xbe, 0x23, 0xfd, 0xdf, 0xbe, 0x03, 0xc4, 0x09, 0x3e, 0x93, 0x0d, 0xc6, 0xbe, 0xfb, 0x12, 0x95, 0xbd, 0xd6, 0x3c, 0x90, 0xbf, 0x7e, 0x67, 0xd6, 0x3e, 0xf1, 0xc2, 0x91, 0xbe, 0x55, 0x00, 0x3b, 0x3f, 0x14, 0xc0, 0xb1, 0xbf, 0x67, 0x74, 0x75, 0xbe, 0x57, 0xa4, 0x9a, 0x3d, 0xc6, 0x24, 0x34, 0x3e, 0x2c, 0x9c, 0x6c, 0x3f, 0x9f, 0x45, 0x48, 0x3f, 0xa3, 0x45, 0xa0, 0x3e, 0xc5, 0xcf, 0x58, 0xbe, 0xf1, 0x87, 0xd4, 0xbe, 0x61, 0xe5, 0x11, 0xbf, 0x5e, 0x63, 0x55, 0x3e, 0xb1, 0x57, 0xbf, 0xbd, 0x25, 0xca, 0x72, 0x3e, 0xe5, 0xd0, 0xc5, 0xbc, 0xd9, 0x66, 0xc5, 0xbe, 0x05, 0x40, 0x0d, 0xbc, 0x19, 0xe1, 0x36, 0x3e, 0x5c, 0xe5, 0xaa, 0xbd, 0x7f, 0x72, 0x55, 0x3d, 0xad, 0x13, 0x50, 0x3d, 0xc3, 0xb0, 0x3e, 0x3c, 0x90, 0x75, 0x19, 0x3e, 0xd3, 0x69, 0x0d, 0xbe, 0x62, 0x02, 0x80, 0xbe, 0xe0, 0x35, 0x8d, 0xbe, 0x19, 0xb1, 0xde, 0xbc, 0x19, 0x10, 0xc7, 0xbe, 0x2f, 0xff, 0xc8, 0xbd, 0x67, 0xc4, 0x89, 0x3e, 0xae, 0xa1, 0xd8, 0x3e, 0xb0, 0x12, 0xc6, 0xbe, 0x6b, 0xa0, 0xc1, 0x3e, 0xe1, 0xb2, 0x2f, 0x3e, 0xc4, 0x4f, 0x18, 0x3f, 0x76, 0x1a, 0xcd, 0x3d, 0x34, 0xed, 0x27, 0xbf, 0xc4, 0xe4, 0x56, 0x3e, 0x34, 0xb5, 0xb2, 0xbd, 0xbe, 0xf6, 0xff, 0xff, 0x04, 0x00, 0x00, 0x00, 0x40, 0x00, 0x00, 0x00, 0x65, 0xf6, 0x69, 0xbe, 0xbc, 0x5b, 0xd8, 0x3b, 0xba, 0x2f, 0x8c, 0xbd, 0x75, 0xd9, 0x18, 0xbd, 0xbb, 0x62, 0x02, 0xbd, 0xb6, 0x81, 0x13, 0xbc, 0x5e, 0xc6, 0xc8, 0xbd, 0x19, 0x85, 0xc5, 0xbd, 0xd8, 0xaa, 0x45, 0x3e, 0xc9, 0xb8, 0x61, 0xbd, 0xc1, 0x19, 0x2e, 0x3d, 0x56, 0xf8, 0xb7, 0x3d, 0x6a, 0x8a, 0x80, 0x3d, 0xf7, 0x51, 0x99, 0xbd, 0x86, 0xa3, 0xaa, 0x3d, 0xe7, 0xdf, 0xbf, 0x3c, 0x0a, 0xf7, 0xff, 0xff, 0x04, 0x00, 0x00, 0x00, 0x00, 0x04, 0x00, 0x00, 0x45, 0xa1, 0x9c, 0xbe, 0x83, 0x3e, 0x56, 0x3d, 0xc3, 0x7d, 0xe4, 0xbd, 0xd5, 0x25, 0xc8, 0xbd, 0x26, 0xa1, 0x35, 0xbd, 0xbc, 0x98, 0x1d, 0x3b, 0x80, 0x86, 0xa1, 0x3e, 0x23, 0x94, 0x4a, 0xbe, 0x90, 0x76, 0xf4, 0x3e, 0x0d, 0xe8, 0xc1, 0xbe, 0xb0, 0x00, 0xc1, 0x3e, 0x60, 0xb8, 0xaf, 0x3d, 0x06, 0x9e, 0xb8, 0xbe, 0xab, 0x70, 0x0e, 0xbe, 0xf2, 0xa7, 0x0a, 0x3f, 0x6d, 0x7f, 0x04, 0xbe, 0x8c, 0x38, 0x32, 0x3e, 0x78, 0x14, 0x04, 0xbf, 0xe4, 0x3d, 0xfb, 0x3e, 0x6e, 0x33, 0xda, 0x3c, 0x7e, 0x67, 0x26, 0x3e, 0x2e, 0xf1, 0xc4, 0xbd, 0x86, 0x66, 0x44, 0xbd, 0x8d, 0xc2, 0x02, 0xbf, 0x8d, 0x63, 0xa6, 0xbe, 0xb6, 0xcd, 0x1b, 0xbe, 0xa6, 0x8e, 0x07, 0xbf, 0x6a, 0xfc, 0xc7, 0xbd, 0xde, 0xdd, 0x89, 0x3d, 0x45, 0x72, 0x38, 0x3f, 0xc9, 0x69, 0xc6, 0xbe, 0x2f, 0x1c, 0xdd, 0xbc, 0x79, 0xb2, 0xf4, 0x3c, 0x82, 0x82, 0xa1, 0xbe, 0x5a, 0x30, 0x8b, 0x3e, 0x75, 0xc7, 0x1a, 0x3d, 0xa7, 0x39, 0x39, 0x3c, 0x47, 0xf0, 0x0a, 0x3d, 0x6b, 0xca, 0xd2, 0xbc, 0x2a, 0x28, 0x43, 0xbe, 0x9f, 0x64, 0x4a, 0xbe, 0x18, 0xd3, 0x18, 0x3d, 0xfa, 0xa2, 0xfc, 0xbe, 0x4b, 0x42, 0x0b, 0xbe, 0xc7, 0xf3, 0x8f, 0x3e, 0x99, 0x00, 0x38, 0x3f, 0x7a, 0x77, 0x18, 0xbe, 0x2a, 0xe1, 0xa5, 0x3d, 0x3e, 0xc0, 0xa3, 0xbe, 0x5d, 0xce, 0xdd, 0xbb, 0x13, 0x3d, 0x3c, 0xbe, 0x93, 0x9a, 0x91, 0xbe, 0x18, 0x9c, 0xfb, 0x3d, 0xf0, 0x60, 0x1f, 0x3e, 0x04, 0xc9, 0x20, 0x3f, 0x9d, 0x10, 0x2a, 0xbd, 0x4f, 0xd0, 0x9a, 0xbd, 0xc4, 0xd1, 0x70, 0x3f, 0x48, 0x27, 0xac, 0x3c, 0xeb, 0x49, 0x3e, 0x3e, 0x1a, 0xeb, 0xc1, 0x3e, 0x81, 0x67, 0xda, 0xbd, 0xef, 0xf0, 0xfd, 0xbe, 0xee, 0xa8, 0x9b, 0x3e, 0xee, 0x28, 0x9d, 0xbe, 0xdd, 0x76, 0x15, 0x3d, 0x6e, 0x3d, 0x9f, 0x3d, 0x92, 0x7a, 0x67, 0x3e, 0x46, 0x04, 0x29, 0x3c, 0x68, 0x79, 0xad, 0xbd, 0x51, 0x03, 0x33, 0xbf, 0x3f, 0x37, 0xc5, 0xbd, 0x19, 0x27, 0x0f, 0x3f, 0xee, 0x59, 0x26, 0xbf, 0xf5, 0x02, 0x67, 0xbe, 0xe7, 0xc2, 0xd1, 0xbb, 0x04, 0x53, 0x10, 0xbf, 0x0e, 0x52, 0x92, 0x3e, 0xd7, 0x78, 0x25, 0x3f, 0x67, 0xa7, 0x1e, 0xbf, 0x3b, 0x1b, 0x44, 0x3f, 0x01, 0xd6, 0xe4, 0xbe, 0xd4, 0x01, 0xa2, 0x3e, 0x9b, 0x6b, 0xe5, 0xbd, 0x0c, 0x0d, 0x42, 0x3f, 0xf4, 0xec, 0x3e, 0x3e, 0xc9, 0x18, 0x7a, 0x3e, 0x12, 0x62, 0x4a, 0xbf, 0xe9, 0x35, 0xc7, 0xbe, 0x95, 0x1e, 0x7d, 0xbe, 0xdd, 0xca, 0x1a, 0xbf, 0xb2, 0xce, 0x61, 0x3e, 0xeb, 0xae, 0x4b, 0xbe, 0x72, 0xcc, 0x4b, 0x3f, 0xb5, 0xf6, 0xc9, 0x3d, 0xe0, 0xde, 0x60, 0xbd, 0x31, 0x74, 0x19, 0xbe, 0x6d, 0x88, 0x80, 0x3b, 0x35, 0x46, 0xb3, 0x3d, 0x69, 0x7e, 0x4d, 0x3f, 0xb4, 0x16, 0xa5, 0xbe, 0xe7, 0x1e, 0x10, 0x3f, 0xe8, 0xc0, 0xe7, 0xbe, 0x75, 0xb7, 0x6a, 0x3d, 0x63, 0xd0, 0xee, 0xbe, 0x9d, 0xfb, 0xf3, 0xbd, 0x2e, 0x92, 0xe4, 0x3d, 0x7d, 0xe6, 0xb4, 0xbe, 0x87, 0x0f, 0x18, 0xbc, 0xe2, 0x92, 0x5a, 0xbe, 0xaa, 0x93, 0x78, 0xbd, 0x4d, 0xc3, 0x25, 0xbf, 0xdf, 0x95, 0x83, 0xbe, 0x3d, 0x87, 0xa5, 0xbc, 0xae, 0xca, 0xab, 0xbd, 0x40, 0x82, 0x0d, 0xbe, 0x08, 0x33, 0x9a, 0xbe, 0x3c, 0xf2, 0x9a, 0xbe, 0x4d, 0xdb, 0xb4, 0x3e, 0xd0, 0x9d, 0xb9, 0x3e, 0xbe, 0x56, 0xce, 0xbe, 0xdf, 0x0b, 0x44, 0x3f, 0x66, 0xff, 0x74, 0x3e, 0x37, 0x10, 0x5d, 0x3e, 0x45, 0xcc, 0x3e, 0x3f, 0xdc, 0x74, 0x1c, 0x3e, 0x26, 0x9c, 0x3b, 0xbf, 0x51, 0x31, 0x57, 0x3e, 0xe1, 0x94, 0xdf, 0x3e, 0x30, 0x70, 0x88, 0xbe, 0xd5, 0x78, 0xc4, 0x3e, 0xda, 0x5e, 0xa2, 0xbe, 0x3c, 0x32, 0xe6, 0x3e, 0x5c, 0xc3, 0x7f, 0xbd, 0x66, 0x18, 0xa1, 0xbd, 0x53, 0x22, 0x95, 0x3c, 0xdf, 0x78, 0x49, 0xbe, 0x62, 0xe1, 0x69, 0xbe, 0x31, 0x62, 0x08, 0xbf, 0xdb, 0x6e, 0xde, 0x3d, 0xc3, 0x18, 0x84, 0x3e, 0xb0, 0x61, 0x40, 0x3f, 0x7c, 0xe1, 0x80, 0x3d, 0x61, 0x69, 0x46, 0xbd, 0x15, 0xd1, 0xa4, 0xbe, 0x4f, 0x85, 0x8c, 0x3e, 0x78, 0xd3, 0x21, 0x3e, 0x7a, 0xbf, 0x93, 0xbe, 0xcd, 0x0f, 0xd1, 0x3e, 0x79, 0x10, 0xa3, 0x3d, 0x9a, 0x4e, 0x09, 0x3f, 0xe6, 0xc4, 0x20, 0x3e, 0xa0, 0xb3, 0x7e, 0xbd, 0x50, 0xa4, 0x32, 0x3f, 0xbd, 0xa0, 0x27, 0xbe, 0x69, 0xf3, 0xdf, 0x3e, 0xf8, 0xc2, 0x3d, 0x3f, 0x89, 0x2b, 0x3f, 0xbe, 0xb1, 0x6f, 0xbb, 0xbe, 0x50, 0xa5, 0xac, 0x3e, 0xa8, 0x93, 0x37, 0x3e, 0xca, 0x2f, 0xaa, 0xbd, 0x9d, 0xc4, 0x14, 0xbe, 0x32, 0x57, 0x77, 0x3f, 0x76, 0x3a, 0x82, 0xbe, 0x56, 0x8f, 0x26, 0x3f, 0x55, 0x4c, 0xbe, 0xbd, 0xab, 0xf1, 0xc8, 0x3c, 0x4d, 0x9b, 0xa5, 0xbc, 0x6d, 0x7f, 0xf8, 0xbe, 0x1a, 0xf6, 0x6d, 0xbd, 0xf9, 0x31, 0x2b, 0xbf, 0xab, 0xdd, 0xdb, 0xbd, 0x01, 0x6a, 0x26, 0xbe, 0xc2, 0x3e, 0x1e, 0xbe, 0x22, 0x24, 0x65, 0xbe, 0xdd, 0xd9, 0x77, 0x3e, 0x97, 0xe6, 0x1e, 0x3e, 0x44, 0x0b, 0x4d, 0x3e, 0x27, 0x83, 0x02, 0x3e, 0xc1, 0x03, 0x7a, 0x3e, 0xc8, 0x72, 0x02, 0x3e, 0x43, 0x62, 0x44, 0x3d, 0x38, 0x2c, 0x14, 0xbe, 0xce, 0xe1, 0x36, 0xbf, 0xac, 0x3a, 0xdc, 0x3e, 0x1e, 0x6f, 0x90, 0x3d, 0x20, 0xa5, 0xc2, 0xbe, 0xd5, 0x23, 0x0e, 0x3e, 0x8f, 0x9c, 0x6e, 0xbd, 0xbb, 0x4e, 0xff, 0xbe, 0x22, 0x5b, 0xfa, 0xbc, 0xb1, 0x75, 0x16, 0xbf, 0x3b, 0x1b, 0x3c, 0x3e, 0x40, 0x07, 0x1d, 0xbf, 0xed, 0xf6, 0x10, 0xbe, 0x78, 0xf6, 0xd8, 0xbe, 0x19, 0x6e, 0xa5, 0xbd, 0x63, 0x10, 0xf1, 0xbc, 0x94, 0x8e, 0xad, 0x3e, 0x24, 0x7b, 0x5d, 0xbe, 0xa9, 0xe4, 0x8e, 0xbe, 0xa4, 0x02, 0x8d, 0x3e, 0x1a, 0x21, 0x8a, 0xbe, 0x20, 0xd5, 0x9d, 0xbd, 0x7b, 0x80, 0x9f, 0xbf, 0x45, 0x94, 0x85, 0xbe, 0x7d, 0x30, 0xe7, 0xbc, 0xa3, 0x50, 0x2f, 0xbe, 0x2d, 0x61, 0x34, 0xbd, 0x9c, 0x1e, 0x36, 0x3e, 0x28, 0x05, 0xaa, 0xbe, 0x08, 0xb8, 0x46, 0xbe, 0x8e, 0x09, 0x1d, 0xbe, 0x63, 0xc7, 0xc1, 0xbe, 0x16, 0xb7, 0xb3, 0x3e, 0xf9, 0x31, 0xf1, 0x3e, 0xa6, 0x67, 0xe9, 0xbe, 0x3b, 0xfc, 0x70, 0xbd, 0xcd, 0x15, 0xae, 0x3e, 0x9c, 0x23, 0xbb, 0xbe, 0x0c, 0x4a, 0xaa, 0xbe, 0x83, 0x52, 0x02, 0x3f, 0x67, 0x43, 0x0f, 0xbd, 0x3e, 0xe9, 0x09, 0xbe, 0xc9, 0x44, 0x15, 0xbe, 0x49, 0x85, 0x91, 0x3d, 0x5d, 0x65, 0x1e, 0xbf, 0x31, 0xd9, 0x22, 0x3f, 0x0e, 0x3e, 0xaf, 0xbe, 0x9a, 0xdf, 0xa5, 0x3e, 0x97, 0x55, 0xf5, 0xbd, 0xbe, 0x08, 0xa4, 0xbe, 0x06, 0x48, 0x8d, 0x3e, 0x4a, 0x6b, 0x36, 0xbe, 0x1a, 0xe9, 0x57, 0x3e, 0x5d, 0x5f, 0x1f, 0x3f, 0xfc, 0x87, 0x84, 0xbe, 0xea, 0x51, 0x97, 0x3e, 0xe5, 0x40, 0x4e, 0x3e, 0xf0, 0x83, 0xb3, 0x3e, 0xe0, 0xb2, 0x14, 0x3e, 0x18, 0x0c, 0x66, 0xbe, 0xef, 0x43, 0xdf, 0xbe, 0xa8, 0x87, 0xcf, 0x3e, 0xad, 0xfe, 0x2f, 0xbf, 0xfe, 0x5d, 0x29, 0xbe, 0x75, 0xa5, 0x19, 0xbe, 0xc2, 0xd5, 0x2d, 0x3f, 0xf4, 0x04, 0x9d, 0xbd, 0x92, 0x8d, 0x0b, 0x3e, 0x8c, 0xd7, 0x12, 0x3f, 0xd8, 0xf1, 0xfe, 0xbe, 0xda, 0x5d, 0x82, 0xbc, 0x2e, 0x36, 0xca, 0x3e, 0x52, 0xbc, 0x53, 0xbc, 0x16, 0xfb, 0xff, 0xff, 0x04, 0x00, 0x00, 0x00, 0x40, 0x00, 0x00, 0x00, 0x51, 0x45, 0xf8, 0x3d, 0x9a, 0x41, 0xd7, 0x3d, 0x2b, 0xe3, 0x15, 0x3d, 0x4e, 0xeb, 0x81, 0xbe, 0x87, 0xb6, 0x93, 0x3e, 0x0b, 0xd8, 0x5a, 0xbd, 0xce, 0x65, 0x35, 0x3e, 0x22, 0x6a, 0x87, 0x3d, 0x08, 0x76, 0x50, 0xbe, 0x29, 0x07, 0x87, 0x3e, 0xf2, 0xe6, 0x74, 0xbe, 0xe3, 0x9d, 0x7a, 0x3d, 0x81, 0x5b, 0x62, 0x3e, 0xbf, 0xcc, 0x29, 0x3e, 0xec, 0x64, 0xee, 0xbd, 0x80, 0x3e, 0x62, 0x3d, 0x18, 0xf7, 0xff, 0xff, 0x1c, 0xf7, 0xff, 0xff, 0x20, 0xf7, 0xff, 0xff, 0x24, 0xf7, 0xff, 0xff, 0x28, 0xf7, 0xff, 0xff, 0x76, 0xfb, 0xff, 0xff, 0x04, 0x00, 0x00, 0x00, 0x00, 0x04, 0x00, 0x00, 0xb3, 0xcf, 0xde, 0xbd, 0x33, 0x51, 0xe0, 0x3d, 0x0a, 0xb7, 0x02, 0xbe, 0xf6, 0xf0, 0xbb, 0xbd, 0x76, 0x02, 0xdd, 0xbe, 0xd0, 0xb3, 0x53, 0xbe, 0x33, 0xa3, 0x8c, 0x3e, 0xd4, 0xcc, 0x16, 0x3d, 0x4a, 0xd6, 0x98, 0x3e, 0xb2, 0xdd, 0x1c, 0xbe, 0x85, 0x4d, 0x45, 0x3e, 0x04, 0x87, 0x2b, 0xbc, 0x5c, 0x70, 0x36, 0xbf, 0x75, 0x9b, 0xeb, 0xbe, 0x29, 0xd3, 0x49, 0x3d, 0x01, 0xa1, 0x47, 0xbe, 0xb0, 0xae, 0x18, 0xbe, 0x01, 0x2c, 0x3f, 0x3e, 0xd5, 0xdb, 0x1b, 0x3e, 0x84, 0x3c, 0x03, 0x3d, 0xcc, 0x1e, 0x1d, 0x3f, 0x64, 0x57, 0xd8, 0x3e, 0x6d, 0xc7, 0xec, 0xbd, 0xe6, 0xe0, 0x4a, 0xbe, 0xc4, 0x66, 0xb2, 0xbe, 0x02, 0x86, 0x02, 0x3e, 0x6f, 0xfb, 0xe3, 0xbd, 0xbc, 0xf7, 0xb3, 0xb9, 0x92, 0x64, 0x6c, 0x3f, 0x89, 0x53, 0x4d, 0xbd, 0x66, 0x69, 0x33, 0xbe, 0xed, 0xd5, 0x14, 0xbe, 0xe0, 0xf6, 0xd2, 0x3d, 0xb5, 0x4e, 0x7b, 0x3e, 0xa4, 0xcf, 0x09, 0xbe, 0xaf, 0x72, 0x19, 0x3e, 0x73, 0xaa, 0xef, 0xbe, 0x6c, 0xd9, 0xe1, 0xbe, 0x0d, 0x26, 0xab, 0xbd, 0x52, 0x06, 0x71, 0x3d, 0x80, 0x36, 0x16, 0xbe, 0xcc, 0x17, 0x2a, 0x3e, 0x3f, 0xe8, 0x2a, 0xbe, 0x8d, 0x13, 0x16, 0x3e, 0x5b, 0xb9, 0x93, 0xbf, 0xd3, 0xaa, 0xec, 0xbd, 0x5e, 0x18, 0x1c, 0x3d, 0xd9, 0x1e, 0x3e, 0x3e, 0xcb, 0xf8, 0x80, 0x3e, 0xbf, 0x0b, 0x62, 0x3f, 0x13, 0xde, 0xe6, 0xbd, 0x81, 0x27, 0x14, 0xbf, 0x06, 0xf4, 0x74, 0x3e, 0x95, 0xf6, 0xdf, 0xbd, 0xe6, 0x64, 0x22, 0xbc, 0x16, 0xbb, 0x5a, 0x3e, 0xb8, 0xfc, 0x48, 0x3e, 0x42, 0x4e, 0x68, 0x3f, 0x35, 0x4a, 0x14, 0x3e, 0x1a, 0x40, 0xd7, 0xbe, 0xaa, 0xe7, 0x19, 0x3d, 0x2e, 0x6f, 0xa6, 0xbe, 0xc2, 0x2c, 0xf7, 0x3e, 0xf0, 0xe6, 0xe7, 0x3e, 0x82, 0xa3, 0xca, 0xbd, 0x99, 0x92, 0xcc, 0xbe, 0xb7, 0x09, 0x22, 0x3e, 0x93, 0x35, 0xb2, 0x3e, 0x04, 0x8f, 0x43, 0xbf, 0x23, 0x53, 0x91, 0x3e, 0x8e, 0xc8, 0x81, 0x3e, 0xd5, 0x17, 0x87, 0xbd, 0x7d, 0x0e, 0x63, 0x3c, 0xff, 0xae, 0xf4, 0xbd, 0x86, 0x4f, 0x67, 0x3e, 0x19, 0x6d, 0x27, 0x3f, 0x6b, 0x16, 0xd4, 0xbe, 0xbf, 0xaa, 0x45, 0xbd, 0x51, 0x0e, 0x5a, 0x3e, 0x8c, 0xf7, 0xd9, 0xbe, 0xa8, 0x1e, 0x10, 0x3e, 0x40, 0x83, 0x31, 0x3f, 0x7b, 0x82, 0x5c, 0x3e, 0xc8, 0xb0, 0xee, 0xbd, 0x92, 0x16, 0xac, 0xbd, 0x2b, 0x57, 0xd3, 0xbe, 0x60, 0xb0, 0xfb, 0x3e, 0x98, 0xaa, 0xff, 0x3c, 0xcf, 0x5d, 0x80, 0x3e, 0x8d, 0x7e, 0x1b, 0x3f, 0x43, 0xc0, 0x00, 0x3f, 0x89, 0x58, 0xa8, 0xbe, 0x6b, 0x4f, 0x69, 0x3c, 0x86, 0x3a, 0x51, 0xbe, 0xc4, 0x7c, 0x02, 0x3f, 0x25, 0xc9, 0xba, 0xbd, 0xf2, 0x41, 0xe1, 0xbe, 0xbb, 0xec, 0xc3, 0xbe, 0xa8, 0x8c, 0xaf, 0x3e, 0x3d, 0x17, 0xe7, 0x3d, 0xef, 0xa7, 0x83, 0x3e, 0x99, 0xa6, 0x5a, 0xbe, 0x92, 0xdd, 0x5f, 0x3e, 0x6e, 0xae, 0x4e, 0x3d, 0xdb, 0x46, 0x36, 0xbf, 0x51, 0x1e, 0xa3, 0xbd, 0xd0, 0x1c, 0x17, 0x3e, 0x6d, 0x63, 0x34, 0x3e, 0x91, 0x11, 0x08, 0xbe, 0xfb, 0xe4, 0xff, 0x3d, 0xb2, 0x96, 0xfb, 0x3e, 0x41, 0x9c, 0xa0, 0xbe, 0x54, 0xe5, 0xf2, 0xbd, 0xe4, 0x4f, 0x80, 0xbe, 0xae, 0xb3, 0x07, 0xbf, 0x32, 0x60, 0xdb, 0x3d, 0x97, 0xd3, 0x3c, 0x3f, 0xd3, 0xb0, 0x1b, 0x3f, 0xb5, 0xe0, 0x78, 0x3e, 0x30, 0x32, 0xe4, 0xbd, 0x7c, 0xd4, 0xe4, 0x3d, 0xa6, 0xec, 0xe2, 0xbd, 0xa7, 0x7e, 0x8d, 0xbd, 0x94, 0xfc, 0xc8, 0xbc, 0x2d, 0xd6, 0x15, 0x3f, 0x8a, 0x42, 0xd2, 0x3e, 0x50, 0xe2, 0xf2, 0x3d, 0x8f, 0xf0, 0x61, 0xbe, 0x7e, 0xc2, 0x9f, 0x3e, 0xf0, 0xcb, 0xbe, 0xbe, 0x42, 0xa3, 0x05, 0xbf, 0xe5, 0xa0, 0x5e, 0x3d, 0xf9, 0x64, 0x90, 0x3e, 0x77, 0x98, 0xdd, 0x3e, 0xf4, 0x0a, 0x15, 0xbf, 0x7d, 0xe0, 0x6e, 0x3e, 0x71, 0x32, 0xc1, 0x3e, 0xad, 0x7b, 0x94, 0xbe, 0xc1, 0x0f, 0x8f, 0xbe, 0xa7, 0x4e, 0x56, 0x3e, 0x21, 0x3e, 0x08, 0x3e, 0xe6, 0x16, 0x15, 0x3f, 0x66, 0x19, 0xff, 0xbe, 0x74, 0x26, 0xaa, 0xbd, 0x12, 0xb9, 0xd8, 0xbe, 0x89, 0xf1, 0x59, 0xbd, 0x98, 0xb7, 0x16, 0x3f, 0x7e, 0xf8, 0x82, 0x3d, 0x26, 0x25, 0x6e, 0x3e, 0x93, 0x97, 0x2a, 0xbe, 0x7e, 0x1f, 0x8c, 0x3e, 0x6d, 0x81, 0xc9, 0xbb, 0x7a, 0x10, 0xa8, 0xbe, 0x63, 0x8b, 0xe2, 0xbe, 0x16, 0x9d, 0x40, 0x3f, 0x9d, 0xe8, 0x19, 0xbd, 0x9a, 0xab, 0xab, 0xbd, 0xd6, 0x29, 0xa3, 0xbe, 0x05, 0x77, 0xc3, 0x3e, 0x0b, 0xfe, 0xb7, 0xbe, 0x8d, 0xc3, 0xea, 0xbd, 0xc0, 0xed, 0x91, 0xbd, 0x3f, 0x60, 0x8d, 0xbd, 0x5a, 0x18, 0xb0, 0xbe, 0x0d, 0xb7, 0x46, 0x3f, 0xd9, 0x88, 0xbe, 0x3e, 0xa7, 0xac, 0x23, 0xbe, 0x0c, 0x1b, 0x14, 0x3e, 0x5f, 0xee, 0x0b, 0x3e, 0xd6, 0xeb, 0x95, 0xbe, 0xed, 0x85, 0x92, 0x3e, 0x45, 0x9f, 0xc2, 0xbe, 0xe3, 0x98, 0x40, 0x3f, 0x14, 0x52, 0x1a, 0x3e, 0x84, 0xc2, 0xba, 0x3d, 0x4f, 0x01, 0x68, 0x3d, 0x74, 0x27, 0x0e, 0x3e, 0x7b, 0xd5, 0xa0, 0xbe, 0xfd, 0x71, 0x9f, 0xbe, 0xe8, 0xdc, 0xf7, 0x3e, 0xef, 0xfb, 0x69, 0xbe, 0xcc, 0x6a, 0x5d, 0x3e, 0x8a, 0x40, 0xd6, 0xbe, 0x39, 0x43, 0xa6, 0xbe, 0xad, 0x42, 0x80, 0xbe, 0xfa, 0x3d, 0x04, 0xbf, 0xd5, 0xca, 0xa1, 0xbe, 0x02, 0x1a, 0x99, 0x3d, 0x09, 0x94, 0x49, 0x3e, 0x88, 0xf8, 0xda, 0x3e, 0xbe, 0x8d, 0xae, 0xbe, 0x32, 0xda, 0x3d, 0xbd, 0x0e, 0x0a, 0xac, 0xbe, 0x3b, 0xf5, 0x58, 0xbe, 0x7c, 0xcc, 0x30, 0x3f, 0x39, 0x68, 0x66, 0x3e, 0xe7, 0x0c, 0xb4, 0x3c, 0x2b, 0xf8, 0x32, 0xbe, 0x74, 0xdc, 0xf2, 0x3e, 0x14, 0xa7, 0xaf, 0xbd, 0x56, 0xa8, 0x0d, 0xbf, 0x4e, 0x44, 0x1b, 0xbe, 0xf4, 0x75, 0x1e, 0x3f, 0xee, 0x47, 0x19, 0xbe, 0x98, 0x35, 0x7d, 0xbe, 0xe2, 0x63, 0x1c, 0xbe, 0x2a, 0xf7, 0xd6, 0x3e, 0xaa, 0x74, 0xc9, 0xbc, 0x4d, 0x77, 0x4c, 0x3c, 0xbc, 0x78, 0x5f, 0x3d, 0x01, 0x18, 0xac, 0xbc, 0x23, 0x20, 0x8c, 0x3e, 0x27, 0x8f, 0x56, 0xbf, 0x4f, 0x72, 0x2c, 0x3e, 0x43, 0x40, 0x83, 0xbc, 0xff, 0x27, 0x73, 0xbd, 0xd1, 0xfc, 0x6c, 0x3c, 0xf4, 0x60, 0x74, 0x3e, 0xb1, 0xdc, 0x8b, 0x3e, 0xc8, 0x8f, 0x67, 0x3c, 0x8f, 0x87, 0x88, 0xbf, 0x86, 0x5b, 0x0f, 0xbf, 0xfd, 0x59, 0x03, 0x3e, 0x60, 0x52, 0xd7, 0xbd, 0x7b, 0x3d, 0xa7, 0x3e, 0xde, 0x77, 0x88, 0xbd, 0xa0, 0x05, 0x4f, 0xbf, 0x7e, 0xa0, 0x9b, 0x3e, 0xf1, 0xae, 0x3b, 0x3d, 0x6f, 0x00, 0x07, 0x3f, 0x57, 0xcb, 0x1b, 0xbf, 0x18, 0x98, 0x44, 0x3e, 0xf0, 0x99, 0x86, 0x3e, 0x0c, 0x77, 0xe1, 0xbb, 0x17, 0x7f, 0x1f, 0xbe, 0x74, 0xb3, 0xbc, 0x3d, 0x0e, 0xbf, 0x69, 0xbe, 0x49, 0x0b, 0xd1, 0x3e, 0xda, 0xc7, 0xd8, 0xbe, 0x10, 0xaa, 0x24, 0x3e, 0x43, 0xc5, 0xbe, 0xbe, 0xcc, 0x02, 0x6b, 0x3b, 0xf4, 0x83, 0x85, 0x3d, 0x81, 0x68, 0x67, 0x3d, 0x1c, 0x09, 0x04, 0xbd, 0x5d, 0xa3, 0xa8, 0x3e, 0x6a, 0x88, 0x39, 0xbe, 0xfb, 0x9a, 0x9f, 0xbe, 0xde, 0x29, 0xe5, 0xbe, 0xc2, 0x03, 0x26, 0xbf, 0x68, 0x02, 0x1f, 0x3f, 0x00, 0xb8, 0xc5, 0x3d, 0x73, 0x19, 0x78, 0x3e, 0x3e, 0x11, 0x74, 0xbe, 0xe6, 0x33, 0x8b, 0x3e, 0x4a, 0x6f, 0x9b, 0x3d, 0x38, 0xfb, 0xff, 0xff, 0x0f, 0x00, 0x00, 0x00, 0x54, 0x4f, 0x43, 0x4f, 0x20, 0x43, 0x6f, 0x6e, 0x76, 0x65, 0x72, 0x74, 0x65, 0x64, 0x2e, 0x00, 0x01, 0x00, 0x00, 0x00, 0x10, 0x00, 0x00, 0x00, 0x0c, 0x00, 0x14, 0x00, 0x04, 0x00, 0x08, 0x00, 0x0c, 0x00, 0x10, 0x00, 0x0c, 0x00, 0x00, 0x00, 0x1c, 0x01, 0x00, 0x00, 0x10, 0x01, 0x00, 0x00, 0x04, 0x01, 0x00, 0x00, 0x04, 0x00, 0x00, 0x00, 0x04, 0x00, 0x00, 0x00, 0xc8, 0x00, 0x00, 0x00, 0x84, 0x00, 0x00, 0x00, 0x50, 0x00, 0x00, 0x00, 0x14, 0x00, 0x00, 0x00, 0x00, 0x00, 0x0e, 0x00, 0x1a, 0x00, 0x08, 0x00, 0x0c, 0x00, 0x10, 0x00, 0x07, 0x00, 0x14, 0x00, 0x0e, 0x00, 0x00, 0x00, 0x00, 0x00, 0x00, 0x09, 0x01, 0x00, 0x00, 0x00, 0x24, 0x00, 0x00, 0x00, 0x18, 0x00, 0x00, 0x00, 0x0c, 0x00, 0x00, 0x00, 0x00, 0x00, 0x06, 0x00, 0x08, 0x00, 0x04, 0x00, 0x06, 0x00, 0x00, 0x00, 0x00, 0x00, 0x80, 0x3f, 0x01, 0x00, 0x00, 0x00, 0x00, 0x00, 0x00, 0x00, 0x01, 0x00, 0x00, 0x00, 0x08, 0x00, 0x00, 0x00, 0x9e, 0xff, 0xff, 0xff, 0x00, 0x00, 0x00, 0x08, 0x18, 0x00, 0x00, 0x00, 0x0c, 0x00, 0x00, 0x00, 0x04, 0x00, 0x00, 0x00, 0xe8, 0xfb, 0xff, 0xff, 0x01, 0x00, 0x00, 0x00, 0x08, 0x00, 0x00, 0x00, 0x03, 0x00, 0x00, 0x00, 0x05, 0x00, 0x00, 0x00, 0x09, 0x00, 0x00, 0x00, 0x0a, 0x00, 0x00, 0x00, 0xce, 0xff, 0xff, 0xff, 0x00, 0x00, 0x00, 0x08, 0x18, 0x00, 0x00, 0x00, 0x0c, 0x00, 0x00, 0x00, 0x04, 0x00, 0x00, 0x00, 0x18, 0xfc, 0xff, 0xff, 0x01, 0x00, 0x00, 0x00, 0x05, 0x00, 0x00, 0x00, 0x03, 0x00, 0x00, 0x00, 0x02, 0x00, 0x00, 0x00, 0x06, 0x00, 0x00, 0x00, 0x07, 0x00, 0x00, 0x00, 0x00, 0x00, 0x0e, 0x00, 0x14, 0x00, 0x00, 0x00, 0x08, 0x00, 0x0c, 0x00, 0x07, 0x00, 0x10, 0x00, 0x0e, 0x00, 0x00, 0x00, 0x00, 0x00, 0x00, 0x08, 0x18, 0x00, 0x00, 0x00, 0x0c, 0x00, 0x00, 0x00, 0x04, 0x00, 0x00, 0x00, 0x58, 0xfc, 0xff, 0xff, 0x01, 0x00, 0x00, 0x00, 0x02, 0x00, 0x00, 0x00, 0x03, 0x00, 0x00, 0x00, 0x01, 0x00, 0x00, 0x00, 0x03, 0x00, 0x00, 0x00, 0x04, 0x00, 0x00, 0x00, 0x01, 0x00, 0x00, 0x00, 0x00, 0x00, 0x00, 0x00, 0x01, 0x00, 0x00, 0x00, 0x01, 0x00, 0x00, 0x00, 0x0b, 0x00, 0x00, 0x00, 0x64, 0x03, 0x00, 0x00, 0xf8, 0x02, 0x00, 0x00, 0xac, 0x02, 0x00, 0x00, 0x48, 0x02, 0x00, 0x00, 0xfc, 0x01, 0x00, 0x00, 0xb0, 0x01, 0x00, 0x00, 0x4c, 0x01, 0x00, 0x00, 0x00, 0x01, 0x00, 0x00, 0xb4, 0x00, 0x00, 0x00, 0x50, 0x00, 0x00, 0x00, 0x04, 0x00, 0x00, 0x00, 0xd6, 0xfc, 0xff, 0xff, 0x3c, 0x00, 0x00, 0x00, 0x0b, 0x00, 0x00, 0x00, 0x0c, 0x00, 0x00, 0x00, 0x04, 0x00, 0x00, 0x00, 0xc8, 0xfc, 0xff, 0xff, 0x20, 0x00, 0x00, 0x00, 0x73, 0x65, 0x71, 0x75, 0x65, 0x6e, 0x74, 0x69, 0x61, 0x6c, 0x5f, 0x31, 0x2f, 0x64, 0x65, 0x6e, 0x73, 0x65, 0x5f, 0x33, 0x2f, 0x4d, 0x61, 0x74, 0x4d, 0x75, 0x6c, 0x5f, 0x62, 0x69, 0x61, 0x73, 0x00, 0x00, 0x00, 0x00, 0x01, 0x00, 0x00, 0x00, 0x04, 0x00, 0x00, 0x00, 0x1e, 0xfd, 0xff, 0xff, 0x50, 0x00, 0x00, 0x00, 0x0a, 0x00, 0x00, 0x00, 0x0c, 0x00, 0x00, 0x00, 0x04, 0x00, 0x00, 0x00, 0x10, 0xfd, 0xff, 0xff, 0x34, 0x00, 0x00, 0x00, 0x73, 0x65, 0x71, 0x75, 0x65, 0x6e, 0x74, 0x69, 0x61, 0x6c, 0x5f, 0x31, 0x2f, 0x64, 0x65, 0x6e, 0x73, 0x65, 0x5f, 0x33, 0x2f, 0x4d, 0x61, 0x74, 0x4d, 0x75, 0x6c, 0x2f, 0x52, 0x65, 0x61, 0x64, 0x56, 0x61, 0x72, 0x69, 0x61, 0x62, 0x6c, 0x65, 0x4f, 0x70, 0x2f, 0x74, 0x72, 0x61, 0x6e, 0x73, 0x70, 0x6f, 0x73, 0x65, 0x00, 0x00, 0x00, 0x00, 0x02, 0x00, 0x00, 0x00, 0x04, 0x00, 0x00, 0x00, 0x10, 0x00, 0x00, 0x00, 0x7e, 0xfd, 0xff, 0xff, 0x38, 0x00, 0x00, 0x00, 0x05, 0x00, 0x00, 0x00, 0x0c, 0x00, 0x00, 0x00, 0x04, 0x00, 0x00, 0x00, 0x70, 0xfd, 0xff, 0xff, 0x1c, 0x00, 0x00, 0x00, 0x73, 0x65, 0x71, 0x75, 0x65, 0x6e, 0x74, 0x69, 0x61, 0x6c, 0x5f, 0x31, 0x2f, 0x64, 0x65, 0x6e, 0x73, 0x65, 0x5f, 0x33, 0x2f, 0x42, 0x69, 0x61, 0x73, 0x41, 0x64, 0x64, 0x00, 0x00, 0x00, 0x00, 0x02, 0x00, 0x00, 0x00, 0x01, 0x00, 0x00, 0x00, 0x04, 0x00, 0x00, 0x00, 0xc6, 0xfd, 0xff, 0xff, 0x3c, 0x00, 0x00, 0x00, 0x09, 0x00, 0x00, 0x00, 0x0c, 0x00, 0x00, 0x00, 0x04, 0x00, 0x00, 0x00, 0xb8, 0xfd, 0xff, 0xff, 0x20, 0x00, 0x00, 0x00, 0x73, 0x65, 0x71, 0x75, 0x65, 0x6e, 0x74, 0x69, 0x61, 0x6c, 0x5f, 0x31, 0x2f, 0x64, 0x65, 0x6e, 0x73, 0x65, 0x5f, 0x32, 0x2f, 0x4d, 0x61, 0x74, 0x4d, 0x75, 0x6c, 0x5f, 0x62, 0x69, 0x61, 0x73, 0x00, 0x00, 0x00, 0x00, 0x01, 0x00, 0x00, 0x00, 0x10, 0x00, 0x00, 0x00, 0x0e, 0xfe, 0xff, 0xff, 0x50, 0x00, 0x00, 0x00, 0x08, 0x00, 0x00, 0x00, 0x0c, 0x00, 0x00, 0x00, 0x04, 0x00, 0x00, 0x00, 0x00, 0xfe, 0xff, 0xff, 0x34, 0x00, 0x00, 0x00, 0x73, 0x65, 0x71, 0x75, 0x65, 0x6e, 0x74, 0x69, 0x61, 0x6c, 0x5f, 0x31, 0x2f, 0x64, 0x65, 0x6e, 0x73, 0x65, 0x5f, 0x32, 0x2f, 0x4d, 0x61, 0x74, 0x4d, 0x75, 0x6c, 0x2f, 0x52, 0x65, 0x61, 0x64, 0x56, 0x61, 0x72, 0x69, 0x61, 0x62, 0x6c, 0x65, 0x4f, 0x70, 0x2f, 0x74, 0x72, 0x61, 0x6e, 0x73, 0x70, 0x6f, 0x73, 0x65, 0x00, 0x00, 0x00, 0x00, 0x02, 0x00, 0x00, 0x00, 0x10, 0x00, 0x00, 0x00, 0x10, 0x00, 0x00, 0x00, 0x6e, 0xfe, 0xff, 0xff, 0x38, 0x00, 0x00, 0x00, 0x04, 0x00, 0x00, 0x00, 0x0c, 0x00, 0x00, 0x00, 0x04, 0x00, 0x00, 0x00, 0x60, 0xfe, 0xff, 0xff, 0x1c, 0x00, 0x00, 0x00, 0x73, 0x65, 0x71, 0x75, 0x65, 0x6e, 0x74, 0x69, 0x61, 0x6c, 0x5f, 0x31, 0x2f, 0x64, 0x65, 0x6e, 0x73, 0x65, 0x5f, 0x32, 0x2f, 0x42, 0x69, 0x61, 0x73, 0x41, 0x64, 0x64, 0x00, 0x00, 0x00, 0x00, 0x02, 0x00, 0x00, 0x00, 0x01, 0x00, 0x00, 0x00, 0x10, 0x00, 0x00, 0x00, 0xb6, 0xfe, 0xff, 0xff, 0x3c, 0x00, 0x00, 0x00, 0x07, 0x00, 0x00, 0x00, 0x0c, 0x00, 0x00, 0x00, 0x04, 0x00, 0x00, 0x00, 0xa8, 0xfe, 0xff, 0xff, 0x20, 0x00, 0x00, 0x00, 0x73, 0x65, 0x71, 0x75, 0x65, 0x6e, 0x74, 0x69, 0x61, 0x6c, 0x5f, 0x31, 0x2f, 0x64, 0x65, 0x6e, 0x73, 0x65, 0x5f, 0x31, 0x2f, 0x4d, 0x61, 0x74, 0x4d, 0x75, 0x6c, 0x5f, 0x62, 0x69, 0x61, 0x73, 0x00, 0x00, 0x00, 0x00, 0x01, 0x00, 0x00, 0x00, 0x10, 0x00, 0x00, 0x00, 0xfe, 0xfe, 0xff, 0xff, 0x50, 0x00, 0x00, 0x00, 0x01, 0x00, 0x00, 0x00, 0x0c, 0x00, 0x00, 0x00, 0x04, 0x00, 0x00, 0x00, 0xf0, 0xfe, 0xff, 0xff, 0x34, 0x00, 0x00, 0x00, 0x73, 0x65, 0x71, 0x75, 0x65, 0x6e, 0x74, 0x69, 0x61, 0x6c, 0x5f, 0x31, 0x2f, 0x64, 0x65, 0x6e, 0x73, 0x65, 0x5f, 0x31, 0x2f, 0x4d, 0x61, 0x74, 0x4d, 0x75, 0x6c, 0x2f, 0x52, 0x65, 0x61, 0x64, 0x56, 0x61, 0x72, 0x69, 0x61, 0x62, 0x6c, 0x65, 0x4f, 0x70, 0x2f, 0x74, 0x72, 0x61, 0x6e, 0x73, 0x70, 0x6f, 0x73, 0x65, 0x00, 0x00, 0x00, 0x00, 0x02, 0x00, 0x00, 0x00, 0x10, 0x00, 0x00, 0x00, 0x10, 0x00, 0x00, 0x00, 0x5e, 0xff, 0xff, 0xff, 0x38, 0x00, 0x00, 0x00, 0x03, 0x00, 0x00, 0x00, 0x0c, 0x00, 0x00, 0x00, 0x04, 0x00, 0x00, 0x00, 0x50, 0xff, 0xff, 0xff, 0x1c, 0x00, 0x00, 0x00, 0x73, 0x65, 0x71, 0x75, 0x65, 0x6e, 0x74, 0x69, 0x61, 0x6c, 0x5f, 0x31, 0x2f, 0x64, 0x65, 0x6e, 0x73, 0x65, 0x5f, 0x31, 0x2f, 0x42, 0x69, 0x61, 0x73, 0x41, 0x64, 0x64, 0x00, 0x00, 0x00, 0x00, 0x02, 0x00, 0x00, 0x00, 0x01, 0x00, 0x00, 0x00, 0x10, 0x00, 0x00, 0x00, 0xa6, 0xff, 0xff, 0xff, 0x48, 0x00, 0x00, 0x00, 0x02, 0x00, 0x00, 0x00, 0x2c, 0x00, 0x00, 0x00, 0x0c, 0x00, 0x00, 0x00, 0x08, 0x00, 0x0c, 0x00, 0x04, 0x00, 0x08, 0x00, 0x08, 0x00, 0x00, 0x00, 0x10, 0x00, 0x00, 0x00, 0x04, 0x00, 0x00, 0x00, 0x01, 0x00, 0x00, 0x00, 0x00, 0x00, 0x7f, 0x43, 0x01, 0x00, 0x00, 0x00, 0x00, 0x00, 0x00, 0x00, 0x0d, 0x00, 0x00, 0x00, 0x64, 0x65, 0x6e, 0x73, 0x65, 0x5f, 0x31, 0x5f, 0x69, 0x6e, 0x70, 0x75, 0x74, 0x00, 0x00, 0x00, 0x02, 0x00, 0x00, 0x00, 0x01, 0x00, 0x00, 0x00, 0x10, 0x00, 0x00, 0x00, 0x00, 0x00, 0x0e, 0x00, 0x14, 0x00, 0x04, 0x00, 0x00, 0x00, 0x08, 0x00, 0x0c, 0x00, 0x10, 0x00, 0x0e, 0x00, 0x00, 0x00, 0x28, 0x00, 0x00, 0x00, 0x06, 0x00, 0x00, 0x00, 0x10, 0x00, 0x00, 0x00, 0x08, 0x00, 0x00, 0x00, 0x04, 0x00, 0x04, 0x00, 0x04, 0x00, 0x00, 0x00, 0x08, 0x00, 0x00, 0x00, 0x49, 0x64, 0x65, 0x6e, 0x74, 0x69, 0x74, 0x79, 0x00, 0x00, 0x00, 0x00, 0x02, 0x00, 0x00, 0x00, 0x01, 0x00, 0x00, 0x00, 0x04, 0x00, 0x00, 0x00, 0x02, 0x00, 0x00, 0x00, 0x20, 0x00, 0x00, 0x00, 0x0c, 0x00, 0x00, 0x00, 0x00, 0x00, 0x06, 0x00, 0x06, 0x00, 0x05, 0x00, 0x06, 0x00, 0x00, 0x00, 0x00, 0x19, 0x0a, 0x00, 0x0c, 0x00, 0x07, 0x00, 0x00, 0x00, 0x08, 0x00, 0x0a, 0x00, 0x00, 0x00, 0x00, 0x00, 0x00, 0x09, 0x03, 0x00, 0x00, 0x00};\n",
      "const int model_data_len = 4024;\n"
     ]
    }
   ],
   "source": [
    "from tinymlgen import port\n",
    "print(port(model))"
   ]
  },
  {
   "cell_type": "markdown",
   "metadata": {},
   "source": [
    "## Other methods"
   ]
  },
  {
   "cell_type": "code",
   "execution_count": 17,
   "metadata": {},
   "outputs": [],
   "source": [
    "import numpy as np"
   ]
  },
  {
   "cell_type": "code",
   "execution_count": 18,
   "metadata": {},
   "outputs": [],
   "source": [
    "from sklearn.svm import SVC"
   ]
  },
  {
   "cell_type": "code",
   "execution_count": 19,
   "metadata": {},
   "outputs": [],
   "source": [
    "clf = SVC(gamma='auto')"
   ]
  },
  {
   "cell_type": "code",
   "execution_count": 20,
   "metadata": {},
   "outputs": [
    {
     "ename": "ValueError",
     "evalue": "bad input shape (2155, 4)",
     "output_type": "error",
     "traceback": [
      "\u001b[1;31m---------------------------------------------------------------------------\u001b[0m",
      "\u001b[1;31mValueError\u001b[0m                                Traceback (most recent call last)",
      "\u001b[1;32m<ipython-input-20-904c9c9a2449>\u001b[0m in \u001b[0;36m<module>\u001b[1;34m\u001b[0m\n\u001b[1;32m----> 1\u001b[1;33m \u001b[0mclf\u001b[0m\u001b[1;33m.\u001b[0m\u001b[0mfit\u001b[0m\u001b[1;33m(\u001b[0m\u001b[0mX_train\u001b[0m\u001b[1;33m,\u001b[0m \u001b[0mY_train\u001b[0m\u001b[1;33m)\u001b[0m\u001b[1;33m\u001b[0m\u001b[1;33m\u001b[0m\u001b[0m\n\u001b[0m",
      "\u001b[1;32m~\\Anaconda3\\envs\\myo\\lib\\site-packages\\sklearn\\svm\\_base.py\u001b[0m in \u001b[0;36mfit\u001b[1;34m(self, X, y, sample_weight)\u001b[0m\n\u001b[0;32m    146\u001b[0m         X, y = check_X_y(X, y, dtype=np.float64,\n\u001b[0;32m    147\u001b[0m                          \u001b[0morder\u001b[0m\u001b[1;33m=\u001b[0m\u001b[1;34m'C'\u001b[0m\u001b[1;33m,\u001b[0m \u001b[0maccept_sparse\u001b[0m\u001b[1;33m=\u001b[0m\u001b[1;34m'csr'\u001b[0m\u001b[1;33m,\u001b[0m\u001b[1;33m\u001b[0m\u001b[1;33m\u001b[0m\u001b[0m\n\u001b[1;32m--> 148\u001b[1;33m                          accept_large_sparse=False)\n\u001b[0m\u001b[0;32m    149\u001b[0m         \u001b[0my\u001b[0m \u001b[1;33m=\u001b[0m \u001b[0mself\u001b[0m\u001b[1;33m.\u001b[0m\u001b[0m_validate_targets\u001b[0m\u001b[1;33m(\u001b[0m\u001b[0my\u001b[0m\u001b[1;33m)\u001b[0m\u001b[1;33m\u001b[0m\u001b[1;33m\u001b[0m\u001b[0m\n\u001b[0;32m    150\u001b[0m \u001b[1;33m\u001b[0m\u001b[0m\n",
      "\u001b[1;32m~\\Anaconda3\\envs\\myo\\lib\\site-packages\\sklearn\\utils\\validation.py\u001b[0m in \u001b[0;36mcheck_X_y\u001b[1;34m(X, y, accept_sparse, accept_large_sparse, dtype, order, copy, force_all_finite, ensure_2d, allow_nd, multi_output, ensure_min_samples, ensure_min_features, y_numeric, warn_on_dtype, estimator)\u001b[0m\n\u001b[0;32m    758\u001b[0m                         dtype=None)\n\u001b[0;32m    759\u001b[0m     \u001b[1;32melse\u001b[0m\u001b[1;33m:\u001b[0m\u001b[1;33m\u001b[0m\u001b[1;33m\u001b[0m\u001b[0m\n\u001b[1;32m--> 760\u001b[1;33m         \u001b[0my\u001b[0m \u001b[1;33m=\u001b[0m \u001b[0mcolumn_or_1d\u001b[0m\u001b[1;33m(\u001b[0m\u001b[0my\u001b[0m\u001b[1;33m,\u001b[0m \u001b[0mwarn\u001b[0m\u001b[1;33m=\u001b[0m\u001b[1;32mTrue\u001b[0m\u001b[1;33m)\u001b[0m\u001b[1;33m\u001b[0m\u001b[1;33m\u001b[0m\u001b[0m\n\u001b[0m\u001b[0;32m    761\u001b[0m         \u001b[0m_assert_all_finite\u001b[0m\u001b[1;33m(\u001b[0m\u001b[0my\u001b[0m\u001b[1;33m)\u001b[0m\u001b[1;33m\u001b[0m\u001b[1;33m\u001b[0m\u001b[0m\n\u001b[0;32m    762\u001b[0m     \u001b[1;32mif\u001b[0m \u001b[0my_numeric\u001b[0m \u001b[1;32mand\u001b[0m \u001b[0my\u001b[0m\u001b[1;33m.\u001b[0m\u001b[0mdtype\u001b[0m\u001b[1;33m.\u001b[0m\u001b[0mkind\u001b[0m \u001b[1;33m==\u001b[0m \u001b[1;34m'O'\u001b[0m\u001b[1;33m:\u001b[0m\u001b[1;33m\u001b[0m\u001b[1;33m\u001b[0m\u001b[0m\n",
      "\u001b[1;32m~\\Anaconda3\\envs\\myo\\lib\\site-packages\\sklearn\\utils\\validation.py\u001b[0m in \u001b[0;36mcolumn_or_1d\u001b[1;34m(y, warn)\u001b[0m\n\u001b[0;32m    795\u001b[0m         \u001b[1;32mreturn\u001b[0m \u001b[0mnp\u001b[0m\u001b[1;33m.\u001b[0m\u001b[0mravel\u001b[0m\u001b[1;33m(\u001b[0m\u001b[0my\u001b[0m\u001b[1;33m)\u001b[0m\u001b[1;33m\u001b[0m\u001b[1;33m\u001b[0m\u001b[0m\n\u001b[0;32m    796\u001b[0m \u001b[1;33m\u001b[0m\u001b[0m\n\u001b[1;32m--> 797\u001b[1;33m     \u001b[1;32mraise\u001b[0m \u001b[0mValueError\u001b[0m\u001b[1;33m(\u001b[0m\u001b[1;34m\"bad input shape {0}\"\u001b[0m\u001b[1;33m.\u001b[0m\u001b[0mformat\u001b[0m\u001b[1;33m(\u001b[0m\u001b[0mshape\u001b[0m\u001b[1;33m)\u001b[0m\u001b[1;33m)\u001b[0m\u001b[1;33m\u001b[0m\u001b[1;33m\u001b[0m\u001b[0m\n\u001b[0m\u001b[0;32m    798\u001b[0m \u001b[1;33m\u001b[0m\u001b[0m\n\u001b[0;32m    799\u001b[0m \u001b[1;33m\u001b[0m\u001b[0m\n",
      "\u001b[1;31mValueError\u001b[0m: bad input shape (2155, 4)"
     ]
    }
   ],
   "source": [
    "clf.fit(X_train, Y_train)"
   ]
  },
  {
   "cell_type": "code",
   "execution_count": 21,
   "metadata": {},
   "outputs": [
    {
     "ename": "NotFittedError",
     "evalue": "This SVC instance is not fitted yet. Call 'fit' with appropriate arguments before using this estimator.",
     "output_type": "error",
     "traceback": [
      "\u001b[1;31m---------------------------------------------------------------------------\u001b[0m",
      "\u001b[1;31mNotFittedError\u001b[0m                            Traceback (most recent call last)",
      "\u001b[1;32m<ipython-input-21-ea015218fec1>\u001b[0m in \u001b[0;36m<module>\u001b[1;34m\u001b[0m\n\u001b[1;32m----> 1\u001b[1;33m \u001b[0mclf\u001b[0m\u001b[1;33m.\u001b[0m\u001b[0mscore\u001b[0m\u001b[1;33m(\u001b[0m\u001b[0mX_train\u001b[0m\u001b[1;33m,\u001b[0m \u001b[0mY_train\u001b[0m\u001b[1;33m)\u001b[0m\u001b[1;33m\u001b[0m\u001b[1;33m\u001b[0m\u001b[0m\n\u001b[0m",
      "\u001b[1;32m~\\Anaconda3\\envs\\myo\\lib\\site-packages\\sklearn\\base.py\u001b[0m in \u001b[0;36mscore\u001b[1;34m(self, X, y, sample_weight)\u001b[0m\n\u001b[0;32m    367\u001b[0m         \"\"\"\n\u001b[0;32m    368\u001b[0m         \u001b[1;32mfrom\u001b[0m \u001b[1;33m.\u001b[0m\u001b[0mmetrics\u001b[0m \u001b[1;32mimport\u001b[0m \u001b[0maccuracy_score\u001b[0m\u001b[1;33m\u001b[0m\u001b[1;33m\u001b[0m\u001b[0m\n\u001b[1;32m--> 369\u001b[1;33m         \u001b[1;32mreturn\u001b[0m \u001b[0maccuracy_score\u001b[0m\u001b[1;33m(\u001b[0m\u001b[0my\u001b[0m\u001b[1;33m,\u001b[0m \u001b[0mself\u001b[0m\u001b[1;33m.\u001b[0m\u001b[0mpredict\u001b[0m\u001b[1;33m(\u001b[0m\u001b[0mX\u001b[0m\u001b[1;33m)\u001b[0m\u001b[1;33m,\u001b[0m \u001b[0msample_weight\u001b[0m\u001b[1;33m=\u001b[0m\u001b[0msample_weight\u001b[0m\u001b[1;33m)\u001b[0m\u001b[1;33m\u001b[0m\u001b[1;33m\u001b[0m\u001b[0m\n\u001b[0m\u001b[0;32m    370\u001b[0m \u001b[1;33m\u001b[0m\u001b[0m\n\u001b[0;32m    371\u001b[0m \u001b[1;33m\u001b[0m\u001b[0m\n",
      "\u001b[1;32m~\\Anaconda3\\envs\\myo\\lib\\site-packages\\sklearn\\svm\\_base.py\u001b[0m in \u001b[0;36mpredict\u001b[1;34m(self, X)\u001b[0m\n\u001b[0;32m    582\u001b[0m             \u001b[0mClass\u001b[0m \u001b[0mlabels\u001b[0m \u001b[1;32mfor\u001b[0m \u001b[0msamples\u001b[0m \u001b[1;32min\u001b[0m \u001b[0mX\u001b[0m\u001b[1;33m.\u001b[0m\u001b[1;33m\u001b[0m\u001b[1;33m\u001b[0m\u001b[0m\n\u001b[0;32m    583\u001b[0m         \"\"\"\n\u001b[1;32m--> 584\u001b[1;33m         \u001b[0mcheck_is_fitted\u001b[0m\u001b[1;33m(\u001b[0m\u001b[0mself\u001b[0m\u001b[1;33m)\u001b[0m\u001b[1;33m\u001b[0m\u001b[1;33m\u001b[0m\u001b[0m\n\u001b[0m\u001b[0;32m    585\u001b[0m         \u001b[1;32mif\u001b[0m \u001b[0mself\u001b[0m\u001b[1;33m.\u001b[0m\u001b[0mbreak_ties\u001b[0m \u001b[1;32mand\u001b[0m \u001b[0mself\u001b[0m\u001b[1;33m.\u001b[0m\u001b[0mdecision_function_shape\u001b[0m \u001b[1;33m==\u001b[0m \u001b[1;34m'ovo'\u001b[0m\u001b[1;33m:\u001b[0m\u001b[1;33m\u001b[0m\u001b[1;33m\u001b[0m\u001b[0m\n\u001b[0;32m    586\u001b[0m             raise ValueError(\"break_ties must be False when \"\n",
      "\u001b[1;32m~\\Anaconda3\\envs\\myo\\lib\\site-packages\\sklearn\\utils\\validation.py\u001b[0m in \u001b[0;36mcheck_is_fitted\u001b[1;34m(estimator, attributes, msg, all_or_any)\u001b[0m\n\u001b[0;32m    965\u001b[0m \u001b[1;33m\u001b[0m\u001b[0m\n\u001b[0;32m    966\u001b[0m     \u001b[1;32mif\u001b[0m \u001b[1;32mnot\u001b[0m \u001b[0mattrs\u001b[0m\u001b[1;33m:\u001b[0m\u001b[1;33m\u001b[0m\u001b[1;33m\u001b[0m\u001b[0m\n\u001b[1;32m--> 967\u001b[1;33m         \u001b[1;32mraise\u001b[0m \u001b[0mNotFittedError\u001b[0m\u001b[1;33m(\u001b[0m\u001b[0mmsg\u001b[0m \u001b[1;33m%\u001b[0m \u001b[1;33m{\u001b[0m\u001b[1;34m'name'\u001b[0m\u001b[1;33m:\u001b[0m \u001b[0mtype\u001b[0m\u001b[1;33m(\u001b[0m\u001b[0mestimator\u001b[0m\u001b[1;33m)\u001b[0m\u001b[1;33m.\u001b[0m\u001b[0m__name__\u001b[0m\u001b[1;33m}\u001b[0m\u001b[1;33m)\u001b[0m\u001b[1;33m\u001b[0m\u001b[1;33m\u001b[0m\u001b[0m\n\u001b[0m\u001b[0;32m    968\u001b[0m \u001b[1;33m\u001b[0m\u001b[0m\n\u001b[0;32m    969\u001b[0m \u001b[1;33m\u001b[0m\u001b[0m\n",
      "\u001b[1;31mNotFittedError\u001b[0m: This SVC instance is not fitted yet. Call 'fit' with appropriate arguments before using this estimator."
     ]
    }
   ],
   "source": [
    "clf.score(X_train, Y_train)"
   ]
  },
  {
   "cell_type": "code",
   "execution_count": 16,
   "metadata": {},
   "outputs": [],
   "source": [
    "from sklearn.neighbors import KNeighborsClassifier"
   ]
  },
  {
   "cell_type": "code",
   "execution_count": 27,
   "metadata": {},
   "outputs": [
    {
     "name": "stderr",
     "output_type": "stream",
     "text": [
      "C:\\Users\\Denis\\Anaconda3\\lib\\site-packages\\ipykernel_launcher.py:2: DataConversionWarning: A column-vector y was passed when a 1d array was expected. Please change the shape of y to (n_samples, ), for example using ravel().\n",
      "  \n"
     ]
    },
    {
     "data": {
      "text/plain": [
       "KNeighborsClassifier(algorithm='auto', leaf_size=30, metric='minkowski',\n",
       "                     metric_params=None, n_jobs=None, n_neighbors=5, p=2,\n",
       "                     weights='uniform')"
      ]
     },
     "execution_count": 27,
     "metadata": {},
     "output_type": "execute_result"
    }
   ],
   "source": [
    "neigh = KNeighborsClassifier(n_neighbors=5)\n",
    "neigh.fit(X_train, Y_train)"
   ]
  },
  {
   "cell_type": "code",
   "execution_count": 28,
   "metadata": {},
   "outputs": [
    {
     "data": {
      "text/plain": [
       "0.9095127610208816"
      ]
     },
     "execution_count": 28,
     "metadata": {},
     "output_type": "execute_result"
    }
   ],
   "source": [
    "neigh.score(X_train, Y_train)"
   ]
  },
  {
   "cell_type": "markdown",
   "metadata": {},
   "source": [
    "# In, Out, Fist, Point\n"
   ]
  },
  {
   "cell_type": "code",
   "execution_count": 19,
   "metadata": {},
   "outputs": [],
   "source": [
    "dataset = pd.read_csv(\"../data/gesture7.txt\")\n",
    "dataset = dataset.loc[dataset[\"gesture\"].isin([0,1,3,5])]"
   ]
  },
  {
   "cell_type": "code",
   "execution_count": 20,
   "metadata": {},
   "outputs": [
    {
     "data": {
      "text/html": [
       "<div>\n",
       "<style scoped>\n",
       "    .dataframe tbody tr th:only-of-type {\n",
       "        vertical-align: middle;\n",
       "    }\n",
       "\n",
       "    .dataframe tbody tr th {\n",
       "        vertical-align: top;\n",
       "    }\n",
       "\n",
       "    .dataframe thead th {\n",
       "        text-align: right;\n",
       "    }\n",
       "</style>\n",
       "<table border=\"1\" class=\"dataframe\">\n",
       "  <thead>\n",
       "    <tr style=\"text-align: right;\">\n",
       "      <th></th>\n",
       "      <th>0</th>\n",
       "      <th>1</th>\n",
       "      <th>2</th>\n",
       "      <th>3</th>\n",
       "      <th>4</th>\n",
       "      <th>5</th>\n",
       "      <th>6</th>\n",
       "      <th>7</th>\n",
       "      <th>8</th>\n",
       "      <th>9</th>\n",
       "      <th>10</th>\n",
       "      <th>11</th>\n",
       "      <th>12</th>\n",
       "      <th>13</th>\n",
       "      <th>14</th>\n",
       "      <th>15</th>\n",
       "      <th>gesture</th>\n",
       "    </tr>\n",
       "  </thead>\n",
       "  <tbody>\n",
       "    <tr>\n",
       "      <th>0</th>\n",
       "      <td>0.41</td>\n",
       "      <td>0.48</td>\n",
       "      <td>0.01</td>\n",
       "      <td>0.22</td>\n",
       "      <td>1.00</td>\n",
       "      <td>0.28</td>\n",
       "      <td>0.12</td>\n",
       "      <td>0.30</td>\n",
       "      <td>0.07</td>\n",
       "      <td>0.14</td>\n",
       "      <td>0.00</td>\n",
       "      <td>0.06</td>\n",
       "      <td>0.22</td>\n",
       "      <td>0.09</td>\n",
       "      <td>0.32</td>\n",
       "      <td>0.08</td>\n",
       "      <td>3</td>\n",
       "    </tr>\n",
       "    <tr>\n",
       "      <th>1</th>\n",
       "      <td>0.13</td>\n",
       "      <td>0.18</td>\n",
       "      <td>0.08</td>\n",
       "      <td>0.13</td>\n",
       "      <td>0.52</td>\n",
       "      <td>0.32</td>\n",
       "      <td>0.52</td>\n",
       "      <td>0.26</td>\n",
       "      <td>0.12</td>\n",
       "      <td>0.02</td>\n",
       "      <td>0.07</td>\n",
       "      <td>0.00</td>\n",
       "      <td>1.00</td>\n",
       "      <td>0.34</td>\n",
       "      <td>0.39</td>\n",
       "      <td>0.21</td>\n",
       "      <td>3</td>\n",
       "    </tr>\n",
       "    <tr>\n",
       "      <th>2</th>\n",
       "      <td>0.02</td>\n",
       "      <td>0.04</td>\n",
       "      <td>0.00</td>\n",
       "      <td>0.59</td>\n",
       "      <td>0.31</td>\n",
       "      <td>0.07</td>\n",
       "      <td>0.48</td>\n",
       "      <td>0.56</td>\n",
       "      <td>0.10</td>\n",
       "      <td>1.00</td>\n",
       "      <td>0.20</td>\n",
       "      <td>0.04</td>\n",
       "      <td>0.85</td>\n",
       "      <td>0.01</td>\n",
       "      <td>0.61</td>\n",
       "      <td>0.47</td>\n",
       "      <td>3</td>\n",
       "    </tr>\n",
       "    <tr>\n",
       "      <th>3</th>\n",
       "      <td>0.22</td>\n",
       "      <td>0.53</td>\n",
       "      <td>0.00</td>\n",
       "      <td>0.53</td>\n",
       "      <td>0.46</td>\n",
       "      <td>0.02</td>\n",
       "      <td>0.87</td>\n",
       "      <td>0.01</td>\n",
       "      <td>0.28</td>\n",
       "      <td>0.50</td>\n",
       "      <td>0.20</td>\n",
       "      <td>0.24</td>\n",
       "      <td>1.00</td>\n",
       "      <td>0.05</td>\n",
       "      <td>0.20</td>\n",
       "      <td>0.18</td>\n",
       "      <td>3</td>\n",
       "    </tr>\n",
       "    <tr>\n",
       "      <th>4</th>\n",
       "      <td>0.46</td>\n",
       "      <td>0.58</td>\n",
       "      <td>0.28</td>\n",
       "      <td>0.08</td>\n",
       "      <td>0.48</td>\n",
       "      <td>0.31</td>\n",
       "      <td>1.00</td>\n",
       "      <td>0.89</td>\n",
       "      <td>0.01</td>\n",
       "      <td>0.13</td>\n",
       "      <td>0.06</td>\n",
       "      <td>0.04</td>\n",
       "      <td>0.80</td>\n",
       "      <td>0.70</td>\n",
       "      <td>0.58</td>\n",
       "      <td>0.86</td>\n",
       "      <td>3</td>\n",
       "    </tr>\n",
       "  </tbody>\n",
       "</table>\n",
       "</div>"
      ],
      "text/plain": [
       "      0     1     2     3     4     5     6     7     8     9    10    11  \\\n",
       "0  0.41  0.48  0.01  0.22  1.00  0.28  0.12  0.30  0.07  0.14  0.00  0.06   \n",
       "1  0.13  0.18  0.08  0.13  0.52  0.32  0.52  0.26  0.12  0.02  0.07  0.00   \n",
       "2  0.02  0.04  0.00  0.59  0.31  0.07  0.48  0.56  0.10  1.00  0.20  0.04   \n",
       "3  0.22  0.53  0.00  0.53  0.46  0.02  0.87  0.01  0.28  0.50  0.20  0.24   \n",
       "4  0.46  0.58  0.28  0.08  0.48  0.31  1.00  0.89  0.01  0.13  0.06  0.04   \n",
       "\n",
       "     12    13    14    15  gesture  \n",
       "0  0.22  0.09  0.32  0.08        3  \n",
       "1  1.00  0.34  0.39  0.21        3  \n",
       "2  0.85  0.01  0.61  0.47        3  \n",
       "3  1.00  0.05  0.20  0.18        3  \n",
       "4  0.80  0.70  0.58  0.86        3  "
      ]
     },
     "execution_count": 20,
     "metadata": {},
     "output_type": "execute_result"
    }
   ],
   "source": [
    "dataset.head()\n"
   ]
  },
  {
   "cell_type": "code",
   "execution_count": 21,
   "metadata": {},
   "outputs": [],
   "source": [
    "dataset = dataset.dropna()\n",
    "dataset_train = np.array(dataset)\n",
    "dataset_train = dataset_train[np.random.permutation(len(dataset_train))]\n",
    "X_train = dataset_train[:,:-1]\n",
    "Y_train = dataset_train[:,-1:]"
   ]
  },
  {
   "cell_type": "code",
   "execution_count": 22,
   "metadata": {},
   "outputs": [
    {
     "data": {
      "text/plain": [
       "(2241, 4)"
      ]
     },
     "execution_count": 22,
     "metadata": {},
     "output_type": "execute_result"
    }
   ],
   "source": [
    "Y_train = [int(i) for i in Y_train]\n",
    "for i in range(len(Y_train)):\n",
    "    if (Y_train[i]>3) : Y_train[i] = 2\n",
    "Y_train = np.eye(np.max(Y_train) + 1)[Y_train]\n",
    "Y_train.shape"
   ]
  },
  {
   "cell_type": "code",
   "execution_count": 23,
   "metadata": {},
   "outputs": [],
   "source": [
    "X_train = np.asarray(X_train)\n",
    "Y_train = np.asarray(Y_train)"
   ]
  },
  {
   "cell_type": "code",
   "execution_count": 24,
   "metadata": {},
   "outputs": [],
   "source": [
    "model = Sequential()\n",
    "\n",
    "model.add(Dense(16, input_shape=(16,)))\n",
    "model.add(Dropout(0.2))\n",
    "\n",
    "model.add(Dense(16))\n",
    "model.add(Dropout(0.2))\n",
    "\n",
    "model.add(Dense(4, activation=\"softmax\"))"
   ]
  },
  {
   "cell_type": "code",
   "execution_count": 25,
   "metadata": {},
   "outputs": [],
   "source": [
    "model.compile(optimizer = 'adam', loss = 'binary_crossentropy', metrics=['accuracy'])"
   ]
  },
  {
   "cell_type": "code",
   "execution_count": 26,
   "metadata": {},
   "outputs": [
    {
     "name": "stdout",
     "output_type": "stream",
     "text": [
      "Train on 1792 samples, validate on 449 samples\n",
      "Epoch 1/50\n",
      " - 0s - loss: 0.4426 - accuracy: 0.7988 - val_loss: 0.3083 - val_accuracy: 0.8747\n",
      "Epoch 2/50\n",
      " - 0s - loss: 0.2671 - accuracy: 0.8895 - val_loss: 0.1939 - val_accuracy: 0.9404\n",
      "Epoch 3/50\n",
      " - 0s - loss: 0.1971 - accuracy: 0.9251 - val_loss: 0.1628 - val_accuracy: 0.9521\n",
      "Epoch 4/50\n",
      " - 0s - loss: 0.1782 - accuracy: 0.9315 - val_loss: 0.1544 - val_accuracy: 0.9532\n",
      "Epoch 5/50\n",
      " - 0s - loss: 0.1686 - accuracy: 0.9330 - val_loss: 0.1495 - val_accuracy: 0.9555\n",
      "Epoch 6/50\n",
      " - 0s - loss: 0.1689 - accuracy: 0.9362 - val_loss: 0.1483 - val_accuracy: 0.9543\n",
      "Epoch 7/50\n",
      " - 0s - loss: 0.1601 - accuracy: 0.9369 - val_loss: 0.1500 - val_accuracy: 0.9527\n",
      "Epoch 8/50\n",
      " - 0s - loss: 0.1591 - accuracy: 0.9406 - val_loss: 0.1457 - val_accuracy: 0.9555\n",
      "Epoch 9/50\n",
      " - 0s - loss: 0.1513 - accuracy: 0.9431 - val_loss: 0.1466 - val_accuracy: 0.9571\n",
      "Epoch 10/50\n",
      " - 0s - loss: 0.1485 - accuracy: 0.9432 - val_loss: 0.1446 - val_accuracy: 0.9566\n",
      "Epoch 11/50\n",
      " - 0s - loss: 0.1551 - accuracy: 0.9408 - val_loss: 0.1466 - val_accuracy: 0.9538\n",
      "Epoch 12/50\n",
      " - 0s - loss: 0.1533 - accuracy: 0.9439 - val_loss: 0.1445 - val_accuracy: 0.9532\n",
      "Epoch 13/50\n",
      " - 0s - loss: 0.1520 - accuracy: 0.9446 - val_loss: 0.1435 - val_accuracy: 0.9549\n",
      "Epoch 14/50\n",
      " - 0s - loss: 0.1436 - accuracy: 0.9467 - val_loss: 0.1444 - val_accuracy: 0.9532\n",
      "Epoch 15/50\n",
      " - 0s - loss: 0.1403 - accuracy: 0.9475 - val_loss: 0.1458 - val_accuracy: 0.9504\n",
      "Epoch 16/50\n",
      " - 0s - loss: 0.1398 - accuracy: 0.9491 - val_loss: 0.1442 - val_accuracy: 0.9532\n",
      "Epoch 17/50\n",
      " - 0s - loss: 0.1349 - accuracy: 0.9492 - val_loss: 0.1470 - val_accuracy: 0.9538\n",
      "Epoch 18/50\n",
      " - 0s - loss: 0.1447 - accuracy: 0.9468 - val_loss: 0.1456 - val_accuracy: 0.9532\n",
      "Epoch 19/50\n",
      " - 0s - loss: 0.1391 - accuracy: 0.9494 - val_loss: 0.1455 - val_accuracy: 0.9543\n",
      "Epoch 20/50\n",
      " - 0s - loss: 0.1335 - accuracy: 0.9524 - val_loss: 0.1434 - val_accuracy: 0.9538\n",
      "Epoch 21/50\n",
      " - 0s - loss: 0.1368 - accuracy: 0.9494 - val_loss: 0.1465 - val_accuracy: 0.9521\n",
      "Epoch 22/50\n",
      " - 0s - loss: 0.1362 - accuracy: 0.9528 - val_loss: 0.1438 - val_accuracy: 0.9521\n",
      "Epoch 23/50\n",
      " - 0s - loss: 0.1378 - accuracy: 0.9480 - val_loss: 0.1445 - val_accuracy: 0.9510\n",
      "Epoch 24/50\n",
      " - 0s - loss: 0.1303 - accuracy: 0.9527 - val_loss: 0.1462 - val_accuracy: 0.9538\n",
      "Epoch 25/50\n",
      " - 0s - loss: 0.1339 - accuracy: 0.9506 - val_loss: 0.1482 - val_accuracy: 0.9521\n",
      "Epoch 26/50\n",
      " - 0s - loss: 0.1340 - accuracy: 0.9502 - val_loss: 0.1445 - val_accuracy: 0.9532\n",
      "Epoch 27/50\n",
      " - 0s - loss: 0.1363 - accuracy: 0.9484 - val_loss: 0.1416 - val_accuracy: 0.9543\n",
      "Epoch 28/50\n",
      " - 0s - loss: 0.1268 - accuracy: 0.9533 - val_loss: 0.1477 - val_accuracy: 0.9521\n",
      "Epoch 29/50\n",
      " - 0s - loss: 0.1269 - accuracy: 0.9495 - val_loss: 0.1453 - val_accuracy: 0.9571\n",
      "Epoch 30/50\n",
      " - 0s - loss: 0.1330 - accuracy: 0.9526 - val_loss: 0.1440 - val_accuracy: 0.9571\n",
      "Epoch 31/50\n",
      " - 0s - loss: 0.1308 - accuracy: 0.9545 - val_loss: 0.1474 - val_accuracy: 0.9532\n",
      "Epoch 32/50\n",
      " - 0s - loss: 0.1304 - accuracy: 0.9531 - val_loss: 0.1453 - val_accuracy: 0.9516\n",
      "Epoch 33/50\n",
      " - 0s - loss: 0.1352 - accuracy: 0.9503 - val_loss: 0.1445 - val_accuracy: 0.9549\n",
      "Epoch 34/50\n",
      " - 0s - loss: 0.1186 - accuracy: 0.9587 - val_loss: 0.1441 - val_accuracy: 0.9543\n",
      "Epoch 35/50\n",
      " - 0s - loss: 0.1334 - accuracy: 0.9527 - val_loss: 0.1419 - val_accuracy: 0.9566\n",
      "Epoch 36/50\n",
      " - 0s - loss: 0.1215 - accuracy: 0.9559 - val_loss: 0.1466 - val_accuracy: 0.9543\n",
      "Epoch 37/50\n",
      " - 0s - loss: 0.1293 - accuracy: 0.9515 - val_loss: 0.1437 - val_accuracy: 0.9566\n",
      "Epoch 38/50\n",
      " - 0s - loss: 0.1243 - accuracy: 0.9537 - val_loss: 0.1421 - val_accuracy: 0.9538\n",
      "Epoch 39/50\n",
      " - 0s - loss: 0.1266 - accuracy: 0.9545 - val_loss: 0.1425 - val_accuracy: 0.9560\n",
      "Epoch 40/50\n",
      " - 0s - loss: 0.1290 - accuracy: 0.9537 - val_loss: 0.1406 - val_accuracy: 0.9549\n",
      "Epoch 41/50\n",
      " - 0s - loss: 0.1203 - accuracy: 0.9580 - val_loss: 0.1406 - val_accuracy: 0.9566\n",
      "Epoch 42/50\n",
      " - 0s - loss: 0.1209 - accuracy: 0.9556 - val_loss: 0.1449 - val_accuracy: 0.9582\n",
      "Epoch 43/50\n",
      " - 0s - loss: 0.1218 - accuracy: 0.9581 - val_loss: 0.1437 - val_accuracy: 0.9577\n",
      "Epoch 44/50\n",
      " - 0s - loss: 0.1187 - accuracy: 0.9562 - val_loss: 0.1443 - val_accuracy: 0.9560\n",
      "Epoch 45/50\n",
      " - 0s - loss: 0.1213 - accuracy: 0.9561 - val_loss: 0.1455 - val_accuracy: 0.9549\n",
      "Epoch 46/50\n",
      " - 0s - loss: 0.1192 - accuracy: 0.9588 - val_loss: 0.1492 - val_accuracy: 0.9571\n",
      "Epoch 47/50\n",
      " - 0s - loss: 0.1221 - accuracy: 0.9526 - val_loss: 0.1510 - val_accuracy: 0.9516\n",
      "Epoch 48/50\n",
      " - 0s - loss: 0.1188 - accuracy: 0.9563 - val_loss: 0.1436 - val_accuracy: 0.9549\n",
      "Epoch 49/50\n",
      " - 0s - loss: 0.1222 - accuracy: 0.9544 - val_loss: 0.1430 - val_accuracy: 0.9555\n",
      "Epoch 50/50\n",
      " - 0s - loss: 0.1203 - accuracy: 0.9555 - val_loss: 0.1445 - val_accuracy: 0.9555\n"
     ]
    }
   ],
   "source": [
    "history_new = model.fit(X_train, Y_train,validation_split=0.2, epochs = 50, batch_size = 8, verbose=2)"
   ]
  },
  {
   "cell_type": "code",
   "execution_count": 27,
   "metadata": {},
   "outputs": [
    {
     "ename": "NameError",
     "evalue": "name 'history' is not defined",
     "output_type": "error",
     "traceback": [
      "\u001b[1;31m---------------------------------------------------------------------------\u001b[0m",
      "\u001b[1;31mNameError\u001b[0m                                 Traceback (most recent call last)",
      "\u001b[1;32m<ipython-input-27-c01c93f35750>\u001b[0m in \u001b[0;36m<module>\u001b[1;34m\u001b[0m\n\u001b[0;32m      1\u001b[0m \u001b[0mfig\u001b[0m\u001b[1;33m,\u001b[0m \u001b[0maxes\u001b[0m \u001b[1;33m=\u001b[0m \u001b[0mplt\u001b[0m\u001b[1;33m.\u001b[0m\u001b[0msubplots\u001b[0m\u001b[1;33m(\u001b[0m\u001b[0mnrows\u001b[0m\u001b[1;33m=\u001b[0m\u001b[1;36m1\u001b[0m\u001b[1;33m,\u001b[0m \u001b[0mncols\u001b[0m\u001b[1;33m=\u001b[0m\u001b[1;36m2\u001b[0m\u001b[1;33m,\u001b[0m\u001b[0mfigsize\u001b[0m\u001b[1;33m=\u001b[0m\u001b[1;33m(\u001b[0m\u001b[1;36m9\u001b[0m\u001b[1;33m,\u001b[0m\u001b[1;36m9\u001b[0m\u001b[1;33m)\u001b[0m\u001b[1;33m)\u001b[0m\u001b[1;33m\u001b[0m\u001b[1;33m\u001b[0m\u001b[0m\n\u001b[0;32m      2\u001b[0m \u001b[0mplt\u001b[0m\u001b[1;33m.\u001b[0m\u001b[0msubplot\u001b[0m\u001b[1;33m(\u001b[0m\u001b[1;36m2\u001b[0m\u001b[1;33m,\u001b[0m\u001b[1;36m1\u001b[0m\u001b[1;33m,\u001b[0m\u001b[1;36m1\u001b[0m\u001b[1;33m)\u001b[0m\u001b[1;33m\u001b[0m\u001b[1;33m\u001b[0m\u001b[0m\n\u001b[1;32m----> 3\u001b[1;33m \u001b[0mplt\u001b[0m\u001b[1;33m.\u001b[0m\u001b[0mplot\u001b[0m\u001b[1;33m(\u001b[0m\u001b[0mhistory\u001b[0m\u001b[1;33m.\u001b[0m\u001b[0mhistory\u001b[0m\u001b[1;33m[\u001b[0m\u001b[1;34m'loss'\u001b[0m\u001b[1;33m]\u001b[0m\u001b[1;33m)\u001b[0m\u001b[1;33m\u001b[0m\u001b[1;33m\u001b[0m\u001b[0m\n\u001b[0m\u001b[0;32m      4\u001b[0m \u001b[0mplt\u001b[0m\u001b[1;33m.\u001b[0m\u001b[0mplot\u001b[0m\u001b[1;33m(\u001b[0m\u001b[0mhistory\u001b[0m\u001b[1;33m.\u001b[0m\u001b[0mhistory\u001b[0m\u001b[1;33m[\u001b[0m\u001b[1;34m'val_loss'\u001b[0m\u001b[1;33m]\u001b[0m\u001b[1;33m)\u001b[0m\u001b[1;33m\u001b[0m\u001b[1;33m\u001b[0m\u001b[0m\n\u001b[0;32m      5\u001b[0m \u001b[0mplt\u001b[0m\u001b[1;33m.\u001b[0m\u001b[0mlegend\u001b[0m\u001b[1;33m(\u001b[0m\u001b[1;33m[\u001b[0m\u001b[1;34m\"Train\"\u001b[0m\u001b[1;33m,\u001b[0m\u001b[1;34m\"Validation\"\u001b[0m\u001b[1;33m]\u001b[0m\u001b[1;33m)\u001b[0m\u001b[1;33m\u001b[0m\u001b[1;33m\u001b[0m\u001b[0m\n",
      "\u001b[1;31mNameError\u001b[0m: name 'history' is not defined"
     ]
    },
    {
     "data": {
      "image/png": "[encoded data removed]",
      "text/plain": [
       "<Figure size 648x648 with 1 Axes>"
      ]
     },
     "metadata": {
      "needs_background": "light"
     },
     "output_type": "display_data"
    }
   ],
   "source": [
    "fig, axes = plt.subplots(nrows=1, ncols=2,figsize=(9,9))\n",
    "plt.subplot(2,1,1)\n",
    "plt.plot(history.history['loss'])\n",
    "plt.plot(history.history['val_loss'])\n",
    "plt.legend([\"Train\",\"Validation\"])\n",
    "plt.ylabel(\"Loss\",fontsize = 12)\n",
    "plt.xlabel(\"Training duration, [epochs]\",fontsize = 12)\n",
    "plt.subplot(2,1,2)\n",
    "plt.plot(history.history['accuracy'])\n",
    "plt.plot(history.history['val_accuracy'])\n",
    "plt.legend([\"Train\",\"Validation\"])\n",
    "plt.ylabel(\"Accuracy\",fontsize = 12)\n",
    "plt.xlabel(\"Training duration, [epochs]\",fontsize = 12)"
   ]
  },
  {
   "cell_type": "markdown",
   "metadata": {},
   "source": [
    "## Comparison"
   ]
  },
  {
   "cell_type": "code",
   "execution_count": 31,
   "metadata": {},
   "outputs": [
    {
     "data": {
      "text/plain": [
       "Text(0.5, 1.0, 'Accuracy')"
      ]
     },
     "execution_count": 31,
     "metadata": {},
     "output_type": "execute_result"
    },
    {
     "data": {
      "image/png": "[encoded data removed]",
      "text/plain": [
       "<Figure size 648x648 with 1 Axes>"
      ]
     },
     "metadata": {
      "needs_background": "light"
     },
     "output_type": "display_data"
    }
   ],
   "source": [
    "fig, axes = plt.subplots(nrows=1, ncols=2,figsize=(9,9))\n",
    "plt.subplot(2,1,1)\n",
    "plt.plot(history_new.history['val_accuracy'])\n",
    "plt.plot(history.history['val_accuracy'])\n",
    "plt.legend([\"Validation accuracy with index finger\",\"Validation accuracy with goat\"])\n",
    "plt.title(\"Accuracy\")"
   ]
  },
  {
   "cell_type": "code",
   "execution_count": 32,
   "metadata": {},
   "outputs": [],
   "source": [
    "pd.DataFrame.from_dict(history.history).to_csv('historyarduino4old.csv',index=False)\n",
    "pd.DataFrame.from_dict(history_new.history).to_csv('historyarduino4new.csv',index=False)"
   ]
  },
  {
   "cell_type": "code",
   "execution_count": 28,
   "metadata": {},
   "outputs": [
    {
     "name": "stdout",
     "output_type": "stream",
     "text": [
      "\n",
      "#ifdef __has_attribute\n",
      "#define HAVE_ATTRIBUTE(x) __has_attribute(x)\n",
      "#else\n",
      "#define HAVE_ATTRIBUTE(x) 0\n",
      "#endif\n",
      "#if HAVE_ATTRIBUTE(aligned) || (defined(__GNUC__) && !defined(__clang__))\n",
      "#define DATA_ALIGN_ATTRIBUTE __attribute__((aligned(4)))\n",
      "#else\n",
      "#define DATA_ALIGN_ATTRIBUTE\n",
      "#endif\n",
      "\n",
      "const unsigned char model_data[] DATA_ALIGN_ATTRIBUTE = {0x1c, 0x00, 0x00, 0x00, 0x54, 0x46, 0x4c, 0x33, 0x00, 0x00, 0x12, 0x00, 0x1c, 0x00, 0x04, 0x00, 0x08, 0x00, 0x0c, 0x00, 0x10, 0x00, 0x14, 0x00, 0x00, 0x00, 0x18, 0x00, 0x12, 0x00, 0x00, 0x00, 0x03, 0x00, 0x00, 0x00, 0x64, 0x0f, 0x00, 0x00, 0x8c, 0x0a, 0x00, 0x00, 0x74, 0x0a, 0x00, 0x00, 0x34, 0x00, 0x00, 0x00, 0x04, 0x00, 0x00, 0x00, 0x01, 0x00, 0x00, 0x00, 0x04, 0x00, 0x00, 0x00, 0x44, 0xf1, 0xff, 0xff, 0x08, 0x00, 0x00, 0x00, 0x0c, 0x00, 0x00, 0x00, 0x13, 0x00, 0x00, 0x00, 0x6d, 0x69, 0x6e, 0x5f, 0x72, 0x75, 0x6e, 0x74, 0x69, 0x6d, 0x65, 0x5f, 0x76, 0x65, 0x72, 0x73, 0x69, 0x6f, 0x6e, 0x00, 0x0d, 0x00, 0x00, 0x00, 0x34, 0x0a, 0x00, 0x00, 0x2c, 0x0a, 0x00, 0x00, 0x24, 0x0a, 0x00, 0x00, 0x1c, 0x0a, 0x00, 0x00, 0x14, 0x0a, 0x00, 0x00, 0x0c, 0x0a, 0x00, 0x00, 0xfc, 0x05, 0x00, 0x00, 0xac, 0x05, 0x00, 0x00, 0x9c, 0x01, 0x00, 0x00, 0x4c, 0x01, 0x00, 0x00, 0x3c, 0x00, 0x00, 0x00, 0x1c, 0x00, 0x00, 0x00, 0x04, 0x00, 0x00, 0x00, 0x82, 0xf5, 0xff, 0xff, 0x04, 0x00, 0x00, 0x00, 0x05, 0x00, 0x00, 0x00, 0x31, 0x2e, 0x35, 0x2e, 0x30, 0x00, 0x00, 0x00, 0x96, 0xf5, 0xff, 0xff, 0x04, 0x00, 0x00, 0x00, 0x10, 0x00, 0x00, 0x00, 0x4d, 0xec, 0x41, 0xbc, 0x68, 0xd2, 0x38, 0xbe, 0x80, 0x74, 0x02, 0xbd, 0x97, 0xb3, 0x3c, 0x3e, 0xb2, 0xf5, 0xff, 0xff, 0x04, 0x00, 0x00, 0x00, 0x00, 0x01, 0x00, 0x00, 0x75, 0x7a, 0x63, 0xbe, 0x2d, 0x6a, 0x2b, 0x3f, 0x1c, 0x1f, 0x97, 0x3e, 0xe8, 0x3f, 0x01, 0x3f, 0x28, 0x7d, 0x8c, 0xbd, 0xba, 0xbf, 0x95, 0x3f, 0x46, 0x3c, 0x96, 0x3f, 0xd6, 0xb6, 0xb9, 0x3d, 0xdf, 0xe6, 0xd9, 0xbd, 0x0d, 0x39, 0x2f, 0xbf, 0xcb, 0x19, 0x18, 0xbf, 0x39, 0xee, 0xbe, 0xbe, 0xe3, 0xe6, 0xb1, 0x3e, 0x21, 0x7f, 0x8b, 0xbe, 0x2f, 0xc3, 0x7b, 0xbf, 0x96, 0xf1, 0xd7, 0x3b, 0x87, 0x47, 0xbd, 0x3e, 0xfb, 0x70, 0x3c, 0xbd, 0x36, 0xac, 0x07, 0x3e, 0x0a, 0x99, 0x8f, 0xbe, 0x2e, 0xcf, 0x33, 0x3f, 0xa9, 0xd4, 0xea, 0xbd, 0x5e, 0xca, 0x6d, 0xbe, 0x0e, 0xec, 0xb1, 0xbf, 0x41, 0x81, 0x6c, 0x3f, 0x44, 0x65, 0xe1, 0x3e, 0x5e, 0x27, 0xbe, 0xbe, 0x5d, 0x96, 0x1e, 0xbe, 0xb9, 0x96, 0x5b, 0xbf, 0x42, 0xba, 0x98, 0x3e, 0x7f, 0x2a, 0xa3, 0x3d, 0xed, 0xd6, 0x56, 0x3f, 0x35, 0x7e, 0x8a, 0x3e, 0x91, 0x30, 0x70, 0xbd, 0x45, 0x38, 0xfa, 0x3d, 0x0e, 0x26, 0x5e, 0xbe, 0xbb, 0x4f, 0x58, 0xba, 0x36, 0xf9, 0xdc, 0xbd, 0x91, 0xad, 0x96, 0xbe, 0x17, 0x3c, 0xa3, 0x3d, 0x71, 0x34, 0xc0, 0xbd, 0x58, 0x5c, 0xa5, 0x3e, 0x06, 0xe1, 0x37, 0x3e, 0xa7, 0x49, 0x49, 0xbe, 0xba, 0x83, 0xaa, 0x3e, 0x8c, 0x02, 0xa1, 0x3e, 0x48, 0x57, 0xda, 0x3d, 0xa6, 0xe8, 0x90, 0xbe, 0xda, 0x7e, 0x85, 0xbe, 0x69, 0x30, 0x3c, 0x3f, 0x75, 0xc0, 0x03, 0xbf, 0xaf, 0xb2, 0x31, 0xbd, 0xd1, 0x4d, 0x34, 0x3e, 0xf4, 0x92, 0x4a, 0xbe, 0xda, 0x1b, 0x80, 0xbe, 0x7c, 0x62, 0xd6, 0x3d, 0xc8, 0xcb, 0x94, 0x3d, 0x62, 0x54, 0xdb, 0x3d, 0x39, 0x9d, 0x5b, 0x3e, 0xfe, 0x7f, 0xb6, 0x3e, 0xcb, 0xa8, 0x75, 0x3e, 0x9b, 0xd0, 0x05, 0xbf, 0xe3, 0x5a, 0x70, 0x3d, 0xd5, 0x5e, 0xaa, 0x3e, 0xbe, 0xf6, 0xff, 0xff, 0x04, 0x00, 0x00, 0x00, 0x40, 0x00, 0x00, 0x00, 0xd7, 0x63, 0x39, 0xbd, 0xbb, 0x42, 0x97, 0x3c, 0xbc, 0xaa, 0x8b, 0x3d, 0x76, 0x0b, 0xe6, 0xbd, 0xb9, 0x9c, 0x65, 0xbe, 0x69, 0x35, 0xc5, 0xbd, 0x89, 0xb8, 0x36, 0xbd, 0x75, 0x40, 0xf7, 0x3d, 0xfe, 0x49, 0x42, 0x3c, 0xa5, 0x70, 0xef, 0x3d, 0xc0, 0xa2, 0x51, 0xbe, 0xbb, 0xfc, 0xc4, 0xbe, 0x84, 0xcc, 0xe2, 0x3d, 0xdc, 0xdb, 0x52, 0xbc, 0x0a, 0x30, 0x76, 0x3e, 0x20, 0x86, 0x24, 0x3e, 0x0a, 0xf7, 0xff, 0xff, 0x04, 0x00, 0x00, 0x00, 0x00, 0x04, 0x00, 0x00, 0xbf, 0x4a, 0xfc, 0xbd, 0x25, 0xa8, 0x2a, 0x3f, 0xe9, 0xfa, 0x22, 0xbe, 0xe2, 0x2f, 0x18, 0x3e, 0x23, 0x77, 0x5b, 0xbe, 0xcb, 0x56, 0x2f, 0xbf, 0x4c, 0x98, 0xb8, 0x3c, 0x57, 0x49, 0xfc, 0xbe, 0xf9, 0xdf, 0x23, 0xbe, 0x63, 0x31, 0x46, 0xbe, 0x3b, 0x10, 0x29, 0x3f, 0x67, 0xa8, 0xb9, 0x3e, 0x67, 0x55, 0x7f, 0xbe, 0x98, 0x2d, 0x91, 0xbf, 0x55, 0xca, 0x8c, 0x3d, 0x7e, 0x01, 0x84, 0xbe, 0x77, 0xb3, 0xc0, 0x3c, 0xe1, 0xa3, 0xd5, 0xbe, 0x50, 0xa6, 0x28, 0x3f, 0xb5, 0xec, 0xbe, 0xbd, 0xfa, 0x8b, 0xc9, 0x3c, 0x11, 0x18, 0x20, 0x3d, 0x92, 0x59, 0x40, 0x3c, 0x5c, 0x90, 0xad, 0x3e, 0xad, 0x65, 0x39, 0x3d, 0x75, 0xb1, 0x13, 0x3e, 0x89, 0x0b, 0xc8, 0xbe, 0x61, 0xcc, 0x9c, 0xbe, 0xc6, 0x2d, 0xa3, 0xbc, 0x8f, 0xc5, 0x2f, 0x3f, 0x09, 0x5b, 0x2b, 0xbd, 0x39, 0x7c, 0x0b, 0x3f, 0x87, 0x41, 0xb6, 0xbd, 0x3e, 0x74, 0x3f, 0x3e, 0x76, 0x54, 0x12, 0xbe, 0x4d, 0x24, 0xf4, 0xbd, 0x9f, 0x16, 0x10, 0x3e, 0x96, 0xf4, 0x15, 0xbf, 0xa4, 0xb6, 0x1f, 0xbe, 0x45, 0x22, 0xd8, 0x3e, 0xa1, 0xc8, 0xe4, 0xbe, 0x66, 0x51, 0xb7, 0x3d, 0x25, 0x0e, 0x95, 0x3e, 0x93, 0xd4, 0x80, 0x3e, 0xf1, 0xf3, 0x65, 0x3d, 0x55, 0x3c, 0x01, 0xbf, 0x6a, 0xf3, 0xa7, 0xbe, 0xed, 0x0d, 0x0f, 0xbf, 0x57, 0x19, 0xff, 0x3e, 0xa7, 0x08, 0x5b, 0xbe, 0x1f, 0x1d, 0x98, 0x3e, 0x85, 0x7c, 0x74, 0x3e, 0x5a, 0x1e, 0x04, 0x3f, 0xe4, 0xf6, 0x22, 0xbd, 0x72, 0xb6, 0x66, 0xbe, 0x30, 0xb1, 0x3a, 0x3f, 0x1d, 0x38, 0x6c, 0xbe, 0x01, 0xb4, 0xca, 0x3d, 0x3f, 0xcb, 0xca, 0xbd, 0xd6, 0x4b, 0x57, 0x3e, 0x83, 0x52, 0x46, 0x3e, 0x80, 0xa9, 0xcc, 0x3d, 0xdb, 0x29, 0xbb, 0xbe, 0xf2, 0xc6, 0xda, 0x3e, 0x5d, 0xb5, 0x29, 0xbe, 0x52, 0x5a, 0xc9, 0x3c, 0xa7, 0x1d, 0x17, 0x3f, 0x8b, 0xff, 0x34, 0xbe, 0x7f, 0xfc, 0x50, 0xbe, 0x75, 0x37, 0x04, 0x3f, 0x90, 0xb1, 0xc8, 0x3e, 0x59, 0x72, 0x33, 0x3d, 0x5d, 0xd6, 0xb9, 0xbe, 0xc9, 0xcf, 0xba, 0xbe, 0x4a, 0x66, 0xf4, 0xbc, 0x58, 0x08, 0x83, 0x3e, 0xb1, 0x6e, 0xfa, 0xbe, 0x9d, 0x51, 0x35, 0xbe, 0x97, 0xc7, 0xef, 0xbe, 0x59, 0x93, 0xc9, 0x3e, 0xad, 0x36, 0x01, 0x3f, 0xea, 0xe4, 0x93, 0x3d, 0x2c, 0x49, 0xcb, 0x3e, 0xb8, 0x15, 0x1c, 0x3f, 0xb3, 0xaf, 0xf5, 0x3e, 0xa0, 0xee, 0x3c, 0xbe, 0x67, 0x89, 0x06, 0xbe, 0x8f, 0xe7, 0x08, 0x3f, 0xdd, 0x89, 0x20, 0xbd, 0x0a, 0xfb, 0x83, 0xbd, 0xc1, 0x2f, 0x81, 0x3e, 0xfc, 0x1d, 0x13, 0x3d, 0x25, 0x2c, 0xa0, 0xbd, 0x98, 0xe8, 0x4f, 0x3e, 0xfc, 0x86, 0x24, 0x3e, 0xa3, 0x99, 0x22, 0xbe, 0x7a, 0xba, 0xba, 0x3e, 0x53, 0x82, 0xa7, 0xbd, 0xdd, 0xd7, 0x72, 0x3e, 0xfe, 0xa0, 0x26, 0x3f, 0x5b, 0x15, 0x7f, 0x3f, 0x4e, 0x37, 0xea, 0xbd, 0x2a, 0xc8, 0xee, 0x3c, 0xf7, 0x26, 0xbd, 0x3e, 0x48, 0xe9, 0x56, 0xbe, 0xf2, 0x16, 0xc7, 0xbd, 0x69, 0x01, 0x81, 0x3e, 0x86, 0x4b, 0xee, 0xbc, 0x4f, 0x32, 0xbb, 0xbd, 0xc5, 0x43, 0xf0, 0x3e, 0x54, 0x75, 0xe1, 0xbc, 0x0b, 0xaa, 0x88, 0xbd, 0x5a, 0xb1, 0xea, 0xbe, 0xff, 0xa6, 0x3d, 0xbe, 0xb0, 0x56, 0xbd, 0x3d, 0x04, 0x96, 0xdf, 0x3d, 0x93, 0x4e, 0xf6, 0xbd, 0x59, 0xd1, 0xde, 0xbd, 0xb8, 0xdd, 0x29, 0xbf, 0xb5, 0x33, 0x96, 0x3e, 0x25, 0x1b, 0x1e, 0x3f, 0x7a, 0x07, 0xbe, 0x3f, 0xe3, 0xcf, 0x5e, 0x3e, 0xb0, 0xb4, 0x57, 0xbf, 0x3f, 0xc6, 0x8b, 0x3f, 0x9e, 0x08, 0xb3, 0x3e, 0xaf, 0xf2, 0x04, 0xbc, 0xec, 0x2d, 0x1b, 0xbe, 0x5b, 0xd4, 0x14, 0xbe, 0xbc, 0x70, 0x3c, 0x3e, 0x98, 0x78, 0xaa, 0x3e, 0x46, 0xc5, 0x2c, 0xbe, 0x76, 0x72, 0x95, 0xbd, 0xb5, 0xbb, 0xda, 0xbb, 0x04, 0xaa, 0x16, 0x3f, 0xc3, 0x87, 0x9d, 0x3d, 0xbe, 0x75, 0x5c, 0xbe, 0x06, 0x36, 0x29, 0xbf, 0xda, 0x42, 0xeb, 0xbe, 0x0b, 0xe2, 0xd6, 0x3e, 0x39, 0x49, 0xe6, 0xbe, 0xd1, 0x81, 0xab, 0x3e, 0x34, 0x3a, 0xdb, 0xbe, 0xc2, 0x06, 0xc9, 0x3d, 0x45, 0xfd, 0xc8, 0xbe, 0xe9, 0xf4, 0x1e, 0x3e, 0x04, 0xcd, 0x09, 0x3d, 0x12, 0x0b, 0xac, 0xbd, 0x0c, 0xc0, 0xf0, 0xbe, 0x4a, 0x65, 0x8c, 0xbe, 0x2e, 0xfe, 0xe0, 0xbd, 0xcb, 0x9e, 0x20, 0xbe, 0x39, 0x01, 0x61, 0x3e, 0x7d, 0x33, 0x6e, 0xbe, 0x49, 0xc6, 0xf8, 0x3e, 0xbb, 0x59, 0xe0, 0x3d, 0x40, 0x21, 0x00, 0xbe, 0x60, 0x78, 0x79, 0xbd, 0x3d, 0xee, 0xc5, 0x3d, 0x4a, 0x44, 0x1b, 0xbd, 0xc4, 0xbb, 0x69, 0xbe, 0xf9, 0xdd, 0x8d, 0xbd, 0x88, 0x23, 0x6a, 0xbe, 0xb5, 0x3a, 0xd2, 0xbd, 0x3a, 0x6f, 0x40, 0xbe, 0x20, 0x0a, 0xc1, 0x3e, 0x19, 0xc5, 0x62, 0xbe, 0x5f, 0xeb, 0x6e, 0xbe, 0xce, 0x2e, 0x9e, 0x3e, 0xba, 0x26, 0xfd, 0x3d, 0x10, 0x76, 0xe4, 0xbe, 0x96, 0x21, 0x87, 0xbe, 0x97, 0xb4, 0xe3, 0xbd, 0x89, 0xa2, 0x3c, 0x3e, 0x7d, 0xbc, 0xbf, 0x3e, 0x2d, 0x22, 0x2f, 0x3e, 0xaf, 0x1c, 0xfb, 0x3d, 0x0f, 0xd3, 0x14, 0xbe, 0x02, 0xb7, 0xab, 0xba, 0x8e, 0x82, 0x95, 0x3c, 0x1d, 0xcf, 0x9e, 0xbe, 0xef, 0xef, 0x12, 0x3f, 0x11, 0x70, 0x40, 0xbe, 0xe2, 0xcd, 0x67, 0xbe, 0xa0, 0x6a, 0x98, 0x3d, 0x42, 0x9d, 0xa1, 0x3c, 0xc8, 0x45, 0x25, 0xbf, 0x26, 0x8f, 0xb1, 0x3d, 0x55, 0xbf, 0x2d, 0x3e, 0x24, 0xb0, 0x29, 0x3e, 0xa9, 0x9e, 0x11, 0xbf, 0x4c, 0x01, 0x3b, 0x3f, 0xfc, 0xb2, 0xf5, 0xbc, 0xd6, 0x47, 0x5e, 0xbe, 0x51, 0x97, 0xaa, 0xbe, 0x41, 0xe2, 0x28, 0x3e, 0xe3, 0x29, 0xf6, 0xbc, 0x7b, 0x5f, 0x83, 0xbe, 0x01, 0x41, 0x38, 0xbf, 0x69, 0xc6, 0xd8, 0x3c, 0x90, 0x7f, 0xaf, 0x3e, 0x8b, 0x06, 0x49, 0x3f, 0x4e, 0xe0, 0xf4, 0xbd, 0x0c, 0xd1, 0xf8, 0xbe, 0x0d, 0xbf, 0x09, 0x3f, 0x61, 0xdd, 0x59, 0xbe, 0xa7, 0x1f, 0x87, 0x3e, 0xc9, 0x76, 0x03, 0xbe, 0x63, 0x99, 0x41, 0x3d, 0xbe, 0x6d, 0x97, 0x3e, 0x17, 0x1e, 0xe8, 0xbe, 0x5a, 0x65, 0xd9, 0x3d, 0x2a, 0x85, 0x46, 0xbe, 0x79, 0xae, 0xc0, 0xbe, 0x96, 0x3a, 0x01, 0x3e, 0xcc, 0xbb, 0x80, 0xbd, 0x47, 0x46, 0x47, 0xbe, 0x47, 0x52, 0xf7, 0x3d, 0xb2, 0x00, 0x1f, 0x3f, 0x0f, 0xf4, 0x55, 0x3e, 0x96, 0x26, 0x26, 0xbe, 0x3b, 0xf9, 0xc0, 0xbe, 0x0c, 0xe3, 0x01, 0x3f, 0x65, 0xf0, 0x75, 0xbd, 0x4d, 0x93, 0xbb, 0xbe, 0x7f, 0x7a, 0xca, 0x3d, 0x64, 0x65, 0xb9, 0xbd, 0xe4, 0xa9, 0x3c, 0xbf, 0x11, 0xe6, 0x4d, 0xbf, 0x58, 0x90, 0x87, 0x3c, 0x21, 0x89, 0x0b, 0x3e, 0x61, 0xc8, 0xff, 0xbe, 0x62, 0xda, 0xed, 0x3e, 0xba, 0xdf, 0x0f, 0x3e, 0x0f, 0xd2, 0x94, 0xbd, 0xc8, 0x69, 0x68, 0x3e, 0x0e, 0xb8, 0x68, 0x3c, 0x17, 0xf0, 0x13, 0xbe, 0x3e, 0x0d, 0x07, 0xbe, 0xc0, 0x14, 0xa8, 0x3d, 0xde, 0xab, 0x03, 0xbe, 0xd2, 0xa3, 0x83, 0x3d, 0x88, 0x04, 0x28, 0x3f, 0x85, 0xed, 0x4c, 0x3e, 0xd6, 0x26, 0x3f, 0xbe, 0x27, 0xc8, 0xc9, 0x3e, 0xff, 0x36, 0xa5, 0x3e, 0x7e, 0xcb, 0xb2, 0x3c, 0x73, 0x4a, 0x54, 0x3e, 0x2b, 0xd9, 0xc2, 0x3d, 0xe4, 0xa8, 0x67, 0x3e, 0xa5, 0xef, 0xce, 0x3e, 0x16, 0x74, 0x74, 0xbe, 0x25, 0x4b, 0x1e, 0x3f, 0xc1, 0x85, 0x61, 0xbe, 0xb1, 0x2f, 0xc3, 0x3d, 0x16, 0xfb, 0xff, 0xff, 0x04, 0x00, 0x00, 0x00, 0x40, 0x00, 0x00, 0x00, 0xc3, 0xcd, 0x44, 0x3e, 0x96, 0xf7, 0xe9, 0x3d, 0x61, 0xd0, 0x01, 0x3e, 0x6d, 0xa5, 0xc9, 0x3c, 0x6a, 0xd8, 0x79, 0xbd, 0xd0, 0xb4, 0x23, 0xbe, 0x9d, 0xf5, 0x56, 0x3d, 0xb0, 0x63, 0xe8, 0xbc, 0x48, 0xdf, 0x65, 0xbe, 0xb5, 0x49, 0x7f, 0xbb, 0x38, 0x30, 0x30, 0x3e, 0x4c, 0x7f, 0xa1, 0x3d, 0x50, 0xd1, 0xb5, 0xbd, 0x22, 0x59, 0xa2, 0x3c, 0xee, 0x0d, 0x83, 0xbd, 0xfc, 0xb6, 0xf8, 0xbd, 0x62, 0xfb, 0xff, 0xff, 0x04, 0x00, 0x00, 0x00, 0x00, 0x04, 0x00, 0x00, 0xc5, 0x7b, 0x2d, 0xbe, 0x73, 0xb4, 0xc6, 0xbd, 0xe1, 0x4c, 0x5a, 0x3e, 0xa8, 0x52, 0x0c, 0x3e, 0x7a, 0xd8, 0x04, 0xbf, 0x05, 0x76, 0x4f, 0xbe, 0x45, 0xc0, 0x3f, 0xbe, 0xae, 0x31, 0x83, 0x3d, 0xa3, 0x6d, 0x0d, 0x3e, 0xdf, 0x15, 0x7c, 0x3d, 0x8f, 0x33, 0x4e, 0xbe, 0x28, 0xde, 0x37, 0x3f, 0xd6, 0x64, 0x29, 0xbf, 0x91, 0x8c, 0xfd, 0xbe, 0x16, 0x09, 0x6d, 0x3e, 0x5c, 0x5e, 0x2b, 0xbe, 0x82, 0x1b, 0xc8, 0xbd, 0x83, 0x9e, 0x71, 0xbe, 0xee, 0x69, 0x82, 0xbd, 0xbf, 0xbb, 0x09, 0x3f, 0xee, 0x61, 0xfd, 0xbc, 0x30, 0xf0, 0xff, 0x3e, 0x0f, 0x6f, 0x08, 0xbf, 0xce, 0x42, 0xa9, 0xbd, 0x1d, 0x2f, 0x65, 0x3d, 0x8a, 0xb0, 0xc2, 0xbe, 0x05, 0xbf, 0x82, 0xbe, 0xa7, 0x83, 0xd9, 0xbc, 0x4d, 0x22, 0xf1, 0xbd, 0xc8, 0x38, 0x1b, 0x3f, 0x60, 0x68, 0x6a, 0xbe, 0xd5, 0x99, 0xb6, 0xbe, 0x54, 0x5b, 0xfe, 0xbd, 0x9f, 0x6d, 0xd0, 0xbe, 0x98, 0x3c, 0x36, 0x3e, 0x47, 0x7d, 0x18, 0x3f, 0x73, 0xd8, 0x90, 0xbe, 0xfd, 0x9e, 0xa4, 0xbd, 0x90, 0xd7, 0xa9, 0x3e, 0xe1, 0x73, 0x70, 0x3d, 0x1c, 0xce, 0x40, 0xbe, 0x1f, 0x37, 0x8c, 0xbd, 0x21, 0x85, 0x30, 0x3f, 0x2d, 0xbc, 0x0b, 0x3f, 0x7f, 0x39, 0x5e, 0xbe, 0x3f, 0xe3, 0xe6, 0xbe, 0xa1, 0x5e, 0xe1, 0x3e, 0x0f, 0x65, 0xa0, 0x3d, 0xb0, 0x1a, 0x49, 0x3e, 0xba, 0x46, 0xa5, 0x3e, 0xa5, 0x4a, 0x93, 0xbe, 0x82, 0x3a, 0x11, 0xbe, 0x6a, 0x21, 0x41, 0xbf, 0xaa, 0x55, 0xed, 0xbe, 0xd6, 0xd2, 0x7a, 0x3e, 0x5d, 0x6e, 0x24, 0xbd, 0x11, 0xed, 0x33, 0x3d, 0xcd, 0xe2, 0x80, 0x3e, 0xfe, 0xb4, 0x11, 0xbe, 0xd9, 0xf4, 0x53, 0xbd, 0x2c, 0x27, 0x60, 0xbf, 0xda, 0xcd, 0xd9, 0xbd, 0x8b, 0xc2, 0x88, 0xbd, 0x16, 0xaf, 0x22, 0x3e, 0xa8, 0x80, 0x32, 0xbd, 0x97, 0x53, 0x3f, 0x3d, 0x43, 0x45, 0x30, 0x3e, 0x7a, 0x0c, 0x00, 0x3e, 0xa1, 0xbe, 0x53, 0xbf, 0x99, 0x73, 0x1d, 0xbf, 0x2d, 0xc6, 0x51, 0x3e, 0x49, 0x6c, 0x18, 0x3e, 0x66, 0x9c, 0x21, 0x3e, 0x46, 0xd0, 0x9e, 0x3e, 0xc8, 0x73, 0x5e, 0x3e, 0x1d, 0xd2, 0x8b, 0xbd, 0x64, 0x83, 0x85, 0xbf, 0xd6, 0x31, 0x24, 0xbf, 0xb1, 0xb5, 0x56, 0x3e, 0xfd, 0x50, 0xd3, 0x3d, 0xaa, 0x9d, 0x05, 0xbf, 0x06, 0x35, 0x6e, 0xbd, 0x63, 0xb7, 0xea, 0x3e, 0x98, 0x53, 0x25, 0xbe, 0x14, 0x6d, 0xdd, 0x3e, 0xfa, 0xad, 0x04, 0xbf, 0x6d, 0xc1, 0xf4, 0x3e, 0xb7, 0x25, 0x13, 0x3e, 0x63, 0x9a, 0xa3, 0xbe, 0x81, 0x65, 0xd9, 0xbd, 0xc8, 0xdc, 0xb3, 0xbc, 0xec, 0xb6, 0x37, 0x3e, 0x06, 0xdb, 0xec, 0xbc, 0x85, 0xde, 0xb0, 0xbd, 0xa4, 0xa0, 0x04, 0x3f, 0xde, 0xfc, 0xaa, 0xbd, 0xe7, 0x4f, 0xd3, 0xbe, 0xf3, 0xb0, 0x7c, 0xbe, 0xae, 0xd6, 0xc7, 0x3e, 0x90, 0x27, 0xb7, 0x3e, 0x4c, 0xe4, 0x26, 0xbe, 0xeb, 0xed, 0xea, 0x3d, 0xce, 0xdd, 0x11, 0xbd, 0x9a, 0xba, 0xd4, 0x3d, 0x29, 0x59, 0xcc, 0xbe, 0xd9, 0x7d, 0x45, 0xbf, 0x3a, 0xa6, 0xf3, 0xbc, 0x31, 0xaf, 0x69, 0x3e, 0x7c, 0x2e, 0x6d, 0x3e, 0x26, 0xe6, 0x82, 0x3c, 0x6d, 0x88, 0x22, 0xbe, 0x18, 0x2d, 0xb0, 0xbe, 0xf7, 0xb5, 0x4b, 0x3e, 0x10, 0xb7, 0x16, 0x3e, 0xa1, 0x06, 0x9e, 0x3e, 0xc6, 0x01, 0x80, 0x3c, 0x38, 0x64, 0xff, 0xbe, 0x11, 0x3f, 0xd8, 0xbe, 0xee, 0x70, 0x36, 0x3e, 0xed, 0x02, 0x36, 0x3e, 0x16, 0x70, 0x0b, 0xbe, 0xa3, 0x27, 0x69, 0x3b, 0x40, 0x10, 0x8b, 0x3e, 0xb1, 0x81, 0xc0, 0x3e, 0x89, 0x44, 0x14, 0xbf, 0x61, 0xb0, 0x60, 0xbf, 0xa4, 0x30, 0x6a, 0x3e, 0xc8, 0x49, 0xc7, 0xbd, 0x23, 0xfd, 0x06, 0xbe, 0x21, 0xc6, 0xc3, 0x3e, 0x0a, 0x31, 0x31, 0x3e, 0x62, 0xe7, 0x19, 0xbf, 0x07, 0x80, 0x04, 0x3f, 0xde, 0x5b, 0x08, 0x3d, 0x59, 0x66, 0x5d, 0x3e, 0x1e, 0x8b, 0xc0, 0xbc, 0x04, 0x1d, 0xfa, 0xbd, 0x03, 0xb4, 0x14, 0x3e, 0x50, 0x1d, 0x1b, 0x3e, 0x03, 0xc5, 0x9b, 0xbe, 0x41, 0x92, 0x5e, 0x3e, 0xc3, 0x3a, 0xe8, 0xbd, 0x18, 0x91, 0x34, 0x3d, 0x85, 0xf1, 0x98, 0xbd, 0x5d, 0x07, 0xb1, 0x3e, 0xb7, 0xf8, 0x81, 0x3f, 0xca, 0x73, 0x96, 0x3e, 0xec, 0xc4, 0xec, 0xbe, 0xdf, 0xc0, 0xcb, 0x3d, 0x15, 0x3f, 0xa1, 0xbe, 0x4e, 0xb2, 0xc9, 0x3e, 0x2c, 0x79, 0x8d, 0x3c, 0x8a, 0x5a, 0x06, 0x3f, 0xb0, 0x0b, 0x58, 0x3f, 0x18, 0xa7, 0x85, 0xbe, 0xf7, 0x6a, 0x2b, 0xbe, 0xc3, 0x60, 0x75, 0xbe, 0x13, 0xb0, 0x56, 0x3d, 0xd7, 0xa4, 0x57, 0x3b, 0x52, 0xaa, 0xfa, 0x3c, 0xd8, 0x01, 0x45, 0x3d, 0x0b, 0xf9, 0x1f, 0x3e, 0x29, 0xdd, 0x91, 0xbe, 0x31, 0xb8, 0x3c, 0xbd, 0xf9, 0x9f, 0x86, 0xbe, 0xdc, 0x81, 0x15, 0x3f, 0x38, 0x90, 0xf9, 0xbe, 0x12, 0x44, 0xe1, 0x3d, 0x8f, 0x29, 0x80, 0x3e, 0xf4, 0x6e, 0x51, 0x3e, 0x77, 0x7c, 0x00, 0xbf, 0xdd, 0x28, 0x8f, 0x3e, 0xba, 0xcf, 0xa8, 0xbe, 0xd2, 0x6c, 0xc7, 0x3e, 0x45, 0x81, 0x1a, 0xbf, 0x3b, 0x7c, 0x20, 0xbd, 0x23, 0xc2, 0x2b, 0xbe, 0x25, 0x58, 0xd9, 0xbe, 0x7a, 0x7e, 0xd5, 0xbe, 0xaf, 0xfb, 0x89, 0x3e, 0xee, 0xd3, 0xca, 0xbd, 0xea, 0x5f, 0x58, 0x3e, 0x2f, 0xa9, 0x13, 0xbf, 0xdc, 0x69, 0x13, 0xbe, 0xc6, 0xa9, 0xfc, 0xbd, 0xc2, 0x2a, 0x02, 0xbf, 0xb4, 0x2a, 0xa2, 0xbe, 0x8e, 0x24, 0xed, 0x3e, 0x44, 0xdc, 0x32, 0x3e, 0xa3, 0x7f, 0xf3, 0x3d, 0x40, 0xf3, 0x13, 0xbe, 0x39, 0x9e, 0x0f, 0xbe, 0x72, 0xdd, 0x18, 0x3f, 0xa1, 0xfb, 0x4d, 0x3f, 0xd6, 0x97, 0x96, 0x3d, 0xab, 0x1f, 0xb8, 0xbe, 0xa4, 0x53, 0x5d, 0xbe, 0x97, 0xe5, 0x17, 0xbe, 0x3c, 0x5b, 0xad, 0x3e, 0x01, 0x8e, 0x13, 0x3e, 0xaf, 0x3f, 0x86, 0x3e, 0xdb, 0x3d, 0x74, 0x3f, 0xef, 0x17, 0xa5, 0x3e, 0x2e, 0xaa, 0x30, 0xbe, 0x58, 0x51, 0x87, 0x3d, 0x97, 0x96, 0xc8, 0xbe, 0x70, 0x20, 0x03, 0x3e, 0x02, 0xfe, 0x0c, 0x3e, 0x8e, 0x07, 0x4a, 0xbe, 0x30, 0x44, 0xde, 0x3d, 0x6d, 0x64, 0xc0, 0x3e, 0xab, 0x41, 0x9e, 0x3e, 0xbe, 0x09, 0xa6, 0xbd, 0x75, 0x9b, 0xe8, 0xbe, 0x6b, 0x11, 0x7a, 0x3e, 0x78, 0x21, 0x4e, 0xbd, 0x37, 0xe4, 0x74, 0xbd, 0x5c, 0x45, 0x7d, 0xbd, 0x09, 0x62, 0xdf, 0x3e, 0x0b, 0x16, 0x9e, 0x3e, 0x2e, 0x9a, 0x29, 0xbd, 0x1d, 0x08, 0xfa, 0xbe, 0xa8, 0xd2, 0x1c, 0x3f, 0xcb, 0x21, 0x76, 0xbd, 0x70, 0x3a, 0x31, 0x3e, 0xd8, 0x09, 0x70, 0x3e, 0x13, 0x30, 0x5b, 0xbd, 0xcc, 0x5f, 0xf5, 0xbe, 0x6b, 0x1a, 0x68, 0xbe, 0x71, 0x90, 0xd0, 0x3d, 0x11, 0x12, 0xe8, 0xbd, 0xe3, 0x3e, 0xd9, 0xbc, 0xdc, 0xa3, 0xc0, 0x3e, 0xa2, 0x83, 0x25, 0x3e, 0x4d, 0xa0, 0x6d, 0xbd, 0xfa, 0xfa, 0x40, 0xbf, 0x01, 0xef, 0x80, 0x3e, 0xbf, 0x6c, 0xa7, 0x3e, 0x36, 0x26, 0x27, 0xbe, 0xec, 0xc7, 0xe4, 0xbd, 0x72, 0xa8, 0x07, 0xbf, 0xb9, 0xb0, 0x1c, 0xbe, 0xf6, 0x66, 0xb9, 0x3e, 0x4a, 0x49, 0x18, 0xbd, 0x20, 0xec, 0xb6, 0xbc, 0xa1, 0x0b, 0xa7, 0xbe, 0x94, 0x75, 0x02, 0x3f, 0x3e, 0xbc, 0x4f, 0x3e, 0xd6, 0xad, 0xf2, 0xbe, 0xfe, 0xac, 0x95, 0xba, 0xcf, 0x83, 0x2d, 0x3f, 0x37, 0xd2, 0x51, 0x3e, 0x10, 0xd4, 0xcf, 0x3e, 0x80, 0x7b, 0xfc, 0xbe, 0x6c, 0x91, 0x0a, 0x3f, 0xb2, 0x3b, 0x97, 0xbd, 0x24, 0xfb, 0xff, 0xff, 0x28, 0xfb, 0xff, 0xff, 0x2c, 0xfb, 0xff, 0xff, 0x30, 0xfb, 0xff, 0xff, 0x34, 0xfb, 0xff, 0xff, 0x38, 0xfb, 0xff, 0xff, 0x0f, 0x00, 0x00, 0x00, 0x54, 0x4f, 0x43, 0x4f, 0x20, 0x43, 0x6f, 0x6e, 0x76, 0x65, 0x72, 0x74, 0x65, 0x64, 0x2e, 0x00, 0x01, 0x00, 0x00, 0x00, 0x10, 0x00, 0x00, 0x00, 0x0c, 0x00, 0x14, 0x00, 0x04, 0x00, 0x08, 0x00, 0x0c, 0x00, 0x10, 0x00, 0x0c, 0x00, 0x00, 0x00, 0x1c, 0x01, 0x00, 0x00, 0x10, 0x01, 0x00, 0x00, 0x04, 0x01, 0x00, 0x00, 0x04, 0x00, 0x00, 0x00, 0x04, 0x00, 0x00, 0x00, 0xc8, 0x00, 0x00, 0x00, 0x84, 0x00, 0x00, 0x00, 0x50, 0x00, 0x00, 0x00, 0x14, 0x00, 0x00, 0x00, 0x00, 0x00, 0x0e, 0x00, 0x1a, 0x00, 0x08, 0x00, 0x0c, 0x00, 0x10, 0x00, 0x07, 0x00, 0x14, 0x00, 0x0e, 0x00, 0x00, 0x00, 0x00, 0x00, 0x00, 0x09, 0x01, 0x00, 0x00, 0x00, 0x24, 0x00, 0x00, 0x00, 0x18, 0x00, 0x00, 0x00, 0x0c, 0x00, 0x00, 0x00, 0x00, 0x00, 0x06, 0x00, 0x08, 0x00, 0x04, 0x00, 0x06, 0x00, 0x00, 0x00, 0x00, 0x00, 0x80, 0x3f, 0x01, 0x00, 0x00, 0x00, 0x00, 0x00, 0x00, 0x00, 0x01, 0x00, 0x00, 0x00, 0x08, 0x00, 0x00, 0x00, 0x9e, 0xff, 0xff, 0xff, 0x00, 0x00, 0x00, 0x08, 0x18, 0x00, 0x00, 0x00, 0x0c, 0x00, 0x00, 0x00, 0x04, 0x00, 0x00, 0x00, 0xe8, 0xfb, 0xff, 0xff, 0x01, 0x00, 0x00, 0x00, 0x08, 0x00, 0x00, 0x00, 0x03, 0x00, 0x00, 0x00, 0x05, 0x00, 0x00, 0x00, 0x09, 0x00, 0x00, 0x00, 0x0a, 0x00, 0x00, 0x00, 0xce, 0xff, 0xff, 0xff, 0x00, 0x00, 0x00, 0x08, 0x18, 0x00, 0x00, 0x00, 0x0c, 0x00, 0x00, 0x00, 0x04, 0x00, 0x00, 0x00, 0x18, 0xfc, 0xff, 0xff, 0x01, 0x00, 0x00, 0x00, 0x05, 0x00, 0x00, 0x00, 0x03, 0x00, 0x00, 0x00, 0x02, 0x00, 0x00, 0x00, 0x06, 0x00, 0x00, 0x00, 0x07, 0x00, 0x00, 0x00, 0x00, 0x00, 0x0e, 0x00, 0x14, 0x00, 0x00, 0x00, 0x08, 0x00, 0x0c, 0x00, 0x07, 0x00, 0x10, 0x00, 0x0e, 0x00, 0x00, 0x00, 0x00, 0x00, 0x00, 0x08, 0x18, 0x00, 0x00, 0x00, 0x0c, 0x00, 0x00, 0x00, 0x04, 0x00, 0x00, 0x00, 0x58, 0xfc, 0xff, 0xff, 0x01, 0x00, 0x00, 0x00, 0x02, 0x00, 0x00, 0x00, 0x03, 0x00, 0x00, 0x00, 0x01, 0x00, 0x00, 0x00, 0x03, 0x00, 0x00, 0x00, 0x04, 0x00, 0x00, 0x00, 0x01, 0x00, 0x00, 0x00, 0x00, 0x00, 0x00, 0x00, 0x01, 0x00, 0x00, 0x00, 0x01, 0x00, 0x00, 0x00, 0x0b, 0x00, 0x00, 0x00, 0x64, 0x03, 0x00, 0x00, 0xf8, 0x02, 0x00, 0x00, 0xac, 0x02, 0x00, 0x00, 0x48, 0x02, 0x00, 0x00, 0xfc, 0x01, 0x00, 0x00, 0xb0, 0x01, 0x00, 0x00, 0x4c, 0x01, 0x00, 0x00, 0x00, 0x01, 0x00, 0x00, 0xb4, 0x00, 0x00, 0x00, 0x50, 0x00, 0x00, 0x00, 0x04, 0x00, 0x00, 0x00, 0xd6, 0xfc, 0xff, 0xff, 0x3c, 0x00, 0x00, 0x00, 0x0b, 0x00, 0x00, 0x00, 0x0c, 0x00, 0x00, 0x00, 0x04, 0x00, 0x00, 0x00, 0xc8, 0xfc, 0xff, 0xff, 0x20, 0x00, 0x00, 0x00, 0x73, 0x65, 0x71, 0x75, 0x65, 0x6e, 0x74, 0x69, 0x61, 0x6c, 0x5f, 0x33, 0x2f, 0x64, 0x65, 0x6e, 0x73, 0x65, 0x5f, 0x39, 0x2f, 0x4d, 0x61, 0x74, 0x4d, 0x75, 0x6c, 0x5f, 0x62, 0x69, 0x61, 0x73, 0x00, 0x00, 0x00, 0x00, 0x01, 0x00, 0x00, 0x00, 0x04, 0x00, 0x00, 0x00, 0x1e, 0xfd, 0xff, 0xff, 0x50, 0x00, 0x00, 0x00, 0x0a, 0x00, 0x00, 0x00, 0x0c, 0x00, 0x00, 0x00, 0x04, 0x00, 0x00, 0x00, 0x10, 0xfd, 0xff, 0xff, 0x34, 0x00, 0x00, 0x00, 0x73, 0x65, 0x71, 0x75, 0x65, 0x6e, 0x74, 0x69, 0x61, 0x6c, 0x5f, 0x33, 0x2f, 0x64, 0x65, 0x6e, 0x73, 0x65, 0x5f, 0x39, 0x2f, 0x4d, 0x61, 0x74, 0x4d, 0x75, 0x6c, 0x2f, 0x52, 0x65, 0x61, 0x64, 0x56, 0x61, 0x72, 0x69, 0x61, 0x62, 0x6c, 0x65, 0x4f, 0x70, 0x2f, 0x74, 0x72, 0x61, 0x6e, 0x73, 0x70, 0x6f, 0x73, 0x65, 0x00, 0x00, 0x00, 0x00, 0x02, 0x00, 0x00, 0x00, 0x04, 0x00, 0x00, 0x00, 0x10, 0x00, 0x00, 0x00, 0x7e, 0xfd, 0xff, 0xff, 0x38, 0x00, 0x00, 0x00, 0x04, 0x00, 0x00, 0x00, 0x0c, 0x00, 0x00, 0x00, 0x04, 0x00, 0x00, 0x00, 0x70, 0xfd, 0xff, 0xff, 0x1c, 0x00, 0x00, 0x00, 0x73, 0x65, 0x71, 0x75, 0x65, 0x6e, 0x74, 0x69, 0x61, 0x6c, 0x5f, 0x33, 0x2f, 0x64, 0x65, 0x6e, 0x73, 0x65, 0x5f, 0x39, 0x2f, 0x42, 0x69, 0x61, 0x73, 0x41, 0x64, 0x64, 0x00, 0x00, 0x00, 0x00, 0x02, 0x00, 0x00, 0x00, 0x01, 0x00, 0x00, 0x00, 0x04, 0x00, 0x00, 0x00, 0xc6, 0xfd, 0xff, 0xff, 0x3c, 0x00, 0x00, 0x00, 0x09, 0x00, 0x00, 0x00, 0x0c, 0x00, 0x00, 0x00, 0x04, 0x00, 0x00, 0x00, 0xb8, 0xfd, 0xff, 0xff, 0x20, 0x00, 0x00, 0x00, 0x73, 0x65, 0x71, 0x75, 0x65, 0x6e, 0x74, 0x69, 0x61, 0x6c, 0x5f, 0x33, 0x2f, 0x64, 0x65, 0x6e, 0x73, 0x65, 0x5f, 0x38, 0x2f, 0x4d, 0x61, 0x74, 0x4d, 0x75, 0x6c, 0x5f, 0x62, 0x69, 0x61, 0x73, 0x00, 0x00, 0x00, 0x00, 0x01, 0x00, 0x00, 0x00, 0x10, 0x00, 0x00, 0x00, 0x0e, 0xfe, 0xff, 0xff, 0x50, 0x00, 0x00, 0x00, 0x08, 0x00, 0x00, 0x00, 0x0c, 0x00, 0x00, 0x00, 0x04, 0x00, 0x00, 0x00, 0x00, 0xfe, 0xff, 0xff, 0x34, 0x00, 0x00, 0x00, 0x73, 0x65, 0x71, 0x75, 0x65, 0x6e, 0x74, 0x69, 0x61, 0x6c, 0x5f, 0x33, 0x2f, 0x64, 0x65, 0x6e, 0x73, 0x65, 0x5f, 0x38, 0x2f, 0x4d, 0x61, 0x74, 0x4d, 0x75, 0x6c, 0x2f, 0x52, 0x65, 0x61, 0x64, 0x56, 0x61, 0x72, 0x69, 0x61, 0x62, 0x6c, 0x65, 0x4f, 0x70, 0x2f, 0x74, 0x72, 0x61, 0x6e, 0x73, 0x70, 0x6f, 0x73, 0x65, 0x00, 0x00, 0x00, 0x00, 0x02, 0x00, 0x00, 0x00, 0x10, 0x00, 0x00, 0x00, 0x10, 0x00, 0x00, 0x00, 0x6e, 0xfe, 0xff, 0xff, 0x38, 0x00, 0x00, 0x00, 0x03, 0x00, 0x00, 0x00, 0x0c, 0x00, 0x00, 0x00, 0x04, 0x00, 0x00, 0x00, 0x60, 0xfe, 0xff, 0xff, 0x1c, 0x00, 0x00, 0x00, 0x73, 0x65, 0x71, 0x75, 0x65, 0x6e, 0x74, 0x69, 0x61, 0x6c, 0x5f, 0x33, 0x2f, 0x64, 0x65, 0x6e, 0x73, 0x65, 0x5f, 0x38, 0x2f, 0x42, 0x69, 0x61, 0x73, 0x41, 0x64, 0x64, 0x00, 0x00, 0x00, 0x00, 0x02, 0x00, 0x00, 0x00, 0x01, 0x00, 0x00, 0x00, 0x10, 0x00, 0x00, 0x00, 0xb6, 0xfe, 0xff, 0xff, 0x3c, 0x00, 0x00, 0x00, 0x07, 0x00, 0x00, 0x00, 0x0c, 0x00, 0x00, 0x00, 0x04, 0x00, 0x00, 0x00, 0xa8, 0xfe, 0xff, 0xff, 0x20, 0x00, 0x00, 0x00, 0x73, 0x65, 0x71, 0x75, 0x65, 0x6e, 0x74, 0x69, 0x61, 0x6c, 0x5f, 0x33, 0x2f, 0x64, 0x65, 0x6e, 0x73, 0x65, 0x5f, 0x37, 0x2f, 0x4d, 0x61, 0x74, 0x4d, 0x75, 0x6c, 0x5f, 0x62, 0x69, 0x61, 0x73, 0x00, 0x00, 0x00, 0x00, 0x01, 0x00, 0x00, 0x00, 0x10, 0x00, 0x00, 0x00, 0xfe, 0xfe, 0xff, 0xff, 0x50, 0x00, 0x00, 0x00, 0x06, 0x00, 0x00, 0x00, 0x0c, 0x00, 0x00, 0x00, 0x04, 0x00, 0x00, 0x00, 0xf0, 0xfe, 0xff, 0xff, 0x34, 0x00, 0x00, 0x00, 0x73, 0x65, 0x71, 0x75, 0x65, 0x6e, 0x74, 0x69, 0x61, 0x6c, 0x5f, 0x33, 0x2f, 0x64, 0x65, 0x6e, 0x73, 0x65, 0x5f, 0x37, 0x2f, 0x4d, 0x61, 0x74, 0x4d, 0x75, 0x6c, 0x2f, 0x52, 0x65, 0x61, 0x64, 0x56, 0x61, 0x72, 0x69, 0x61, 0x62, 0x6c, 0x65, 0x4f, 0x70, 0x2f, 0x74, 0x72, 0x61, 0x6e, 0x73, 0x70, 0x6f, 0x73, 0x65, 0x00, 0x00, 0x00, 0x00, 0x02, 0x00, 0x00, 0x00, 0x10, 0x00, 0x00, 0x00, 0x10, 0x00, 0x00, 0x00, 0x5e, 0xff, 0xff, 0xff, 0x38, 0x00, 0x00, 0x00, 0x01, 0x00, 0x00, 0x00, 0x0c, 0x00, 0x00, 0x00, 0x04, 0x00, 0x00, 0x00, 0x50, 0xff, 0xff, 0xff, 0x1c, 0x00, 0x00, 0x00, 0x73, 0x65, 0x71, 0x75, 0x65, 0x6e, 0x74, 0x69, 0x61, 0x6c, 0x5f, 0x33, 0x2f, 0x64, 0x65, 0x6e, 0x73, 0x65, 0x5f, 0x37, 0x2f, 0x42, 0x69, 0x61, 0x73, 0x41, 0x64, 0x64, 0x00, 0x00, 0x00, 0x00, 0x02, 0x00, 0x00, 0x00, 0x01, 0x00, 0x00, 0x00, 0x10, 0x00, 0x00, 0x00, 0xa6, 0xff, 0xff, 0xff, 0x48, 0x00, 0x00, 0x00, 0x02, 0x00, 0x00, 0x00, 0x2c, 0x00, 0x00, 0x00, 0x0c, 0x00, 0x00, 0x00, 0x08, 0x00, 0x0c, 0x00, 0x04, 0x00, 0x08, 0x00, 0x08, 0x00, 0x00, 0x00, 0x10, 0x00, 0x00, 0x00, 0x04, 0x00, 0x00, 0x00, 0x01, 0x00, 0x00, 0x00, 0x00, 0x00, 0x7f, 0x43, 0x01, 0x00, 0x00, 0x00, 0x00, 0x00, 0x00, 0x00, 0x0d, 0x00, 0x00, 0x00, 0x64, 0x65, 0x6e, 0x73, 0x65, 0x5f, 0x37, 0x5f, 0x69, 0x6e, 0x70, 0x75, 0x74, 0x00, 0x00, 0x00, 0x02, 0x00, 0x00, 0x00, 0x01, 0x00, 0x00, 0x00, 0x10, 0x00, 0x00, 0x00, 0x00, 0x00, 0x0e, 0x00, 0x14, 0x00, 0x04, 0x00, 0x00, 0x00, 0x08, 0x00, 0x0c, 0x00, 0x10, 0x00, 0x0e, 0x00, 0x00, 0x00, 0x28, 0x00, 0x00, 0x00, 0x05, 0x00, 0x00, 0x00, 0x10, 0x00, 0x00, 0x00, 0x08, 0x00, 0x00, 0x00, 0x04, 0x00, 0x04, 0x00, 0x04, 0x00, 0x00, 0x00, 0x08, 0x00, 0x00, 0x00, 0x49, 0x64, 0x65, 0x6e, 0x74, 0x69, 0x74, 0x79, 0x00, 0x00, 0x00, 0x00, 0x02, 0x00, 0x00, 0x00, 0x01, 0x00, 0x00, 0x00, 0x04, 0x00, 0x00, 0x00, 0x02, 0x00, 0x00, 0x00, 0x20, 0x00, 0x00, 0x00, 0x0c, 0x00, 0x00, 0x00, 0x00, 0x00, 0x06, 0x00, 0x06, 0x00, 0x05, 0x00, 0x06, 0x00, 0x00, 0x00, 0x00, 0x19, 0x0a, 0x00, 0x0c, 0x00, 0x07, 0x00, 0x00, 0x00, 0x08, 0x00, 0x0a, 0x00, 0x00, 0x00, 0x00, 0x00, 0x00, 0x09, 0x03, 0x00, 0x00, 0x00};\n",
      "const int model_data_len = 4024;\n"
     ]
    }
   ],
   "source": [
    "model.save(\"../Data/arduino7gestures.h5\")\n",
    "from tensorflow.keras.models import load_model\n",
    "model = load_model(\"../Data/arduino7gestures.h5\")\n",
    "from tinymlgen import port\n",
    "print(port(model))"
   ]
  },
  {
   "cell_type": "code",
   "execution_count": null,
   "metadata": {},
   "outputs": [],
   "source": []
  }
 ],
 "metadata": {
  "kernelspec": {
   "display_name": "Python 3",
   "language": "python",
   "name": "python3"
  },
  "language_info": {
   "codemirror_mode": {
    "name": "ipython",
    "version": 3
   },
   "file_extension": ".py",
   "mimetype": "text/x-python",
   "name": "python",
   "nbconvert_exporter": "python",
   "pygments_lexer": "ipython3",
   "version": "3.7.6"
  }
 },
 "nbformat": 4,
 "nbformat_minor": 4
}
