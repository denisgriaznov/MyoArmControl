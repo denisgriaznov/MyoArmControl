{
 "cells": [
  {
   "cell_type": "code",
   "execution_count": 1,
   "metadata": {},
   "outputs": [],
   "source": [
    "import numpy as np \n",
    "import pandas as pd\n",
    "import matplotlib.pyplot as plt\n",
    "import os\n",
    "from sklearn.preprocessing import MinMaxScaler\n",
    "import seaborn as sns\n",
    "import tensorflow as tf"
   ]
  },
  {
   "cell_type": "code",
   "execution_count": 2,
   "metadata": {},
   "outputs": [
    {
     "name": "stderr",
     "output_type": "stream",
     "text": [
      "Using TensorFlow backend.\n"
     ]
    }
   ],
   "source": [
    "import keras\n",
    "from keras.datasets import mnist\n",
    "from keras.models import Sequential\n",
    "from keras.layers import Dense, Dropout, Flatten\n",
    "from keras.layers import Conv2D, MaxPooling2D\n",
    "from keras import backend as K"
   ]
  },
  {
   "cell_type": "code",
   "execution_count": 3,
   "metadata": {},
   "outputs": [],
   "source": [
    "from matplotlib.pyplot import imshow\n",
    "import matplotlib.pyplot as plt"
   ]
  },
  {
   "cell_type": "code",
   "execution_count": 4,
   "metadata": {},
   "outputs": [],
   "source": [
    "img_rows, img_cols = 8, 8"
   ]
  },
  {
   "cell_type": "code",
   "execution_count": 5,
   "metadata": {},
   "outputs": [],
   "source": [
    "dataset = pd.read_csv(\"../data/7_64points.txt\")"
   ]
  },
  {
   "cell_type": "code",
   "execution_count": 6,
   "metadata": {},
   "outputs": [
    {
     "data": {
      "text/html": [
       "<div>\n",
       "<style scoped>\n",
       "    .dataframe tbody tr th:only-of-type {\n",
       "        vertical-align: middle;\n",
       "    }\n",
       "\n",
       "    .dataframe tbody tr th {\n",
       "        vertical-align: top;\n",
       "    }\n",
       "\n",
       "    .dataframe thead th {\n",
       "        text-align: right;\n",
       "    }\n",
       "</style>\n",
       "<table border=\"1\" class=\"dataframe\">\n",
       "  <thead>\n",
       "    <tr style=\"text-align: right;\">\n",
       "      <th></th>\n",
       "      <th>0</th>\n",
       "      <th>1</th>\n",
       "      <th>2</th>\n",
       "      <th>3</th>\n",
       "      <th>4</th>\n",
       "      <th>5</th>\n",
       "      <th>6</th>\n",
       "      <th>7</th>\n",
       "      <th>8</th>\n",
       "      <th>9</th>\n",
       "      <th>...</th>\n",
       "      <th>55</th>\n",
       "      <th>56</th>\n",
       "      <th>57</th>\n",
       "      <th>58</th>\n",
       "      <th>59</th>\n",
       "      <th>60</th>\n",
       "      <th>61</th>\n",
       "      <th>62</th>\n",
       "      <th>63</th>\n",
       "      <th>gesture</th>\n",
       "    </tr>\n",
       "  </thead>\n",
       "  <tbody>\n",
       "    <tr>\n",
       "      <th>0</th>\n",
       "      <td>7.0</td>\n",
       "      <td>70.0</td>\n",
       "      <td>21.0</td>\n",
       "      <td>1.0</td>\n",
       "      <td>3.0</td>\n",
       "      <td>4.0</td>\n",
       "      <td>1.0</td>\n",
       "      <td>11.0</td>\n",
       "      <td>5.0</td>\n",
       "      <td>60.0</td>\n",
       "      <td>...</td>\n",
       "      <td>25.0</td>\n",
       "      <td>5.0</td>\n",
       "      <td>73.0</td>\n",
       "      <td>28.0</td>\n",
       "      <td>26.0</td>\n",
       "      <td>8.0</td>\n",
       "      <td>21.0</td>\n",
       "      <td>44.0</td>\n",
       "      <td>40.0</td>\n",
       "      <td>0</td>\n",
       "    </tr>\n",
       "    <tr>\n",
       "      <th>1</th>\n",
       "      <td>67.0</td>\n",
       "      <td>73.0</td>\n",
       "      <td>11.0</td>\n",
       "      <td>22.0</td>\n",
       "      <td>18.0</td>\n",
       "      <td>8.0</td>\n",
       "      <td>16.0</td>\n",
       "      <td>13.0</td>\n",
       "      <td>72.0</td>\n",
       "      <td>10.0</td>\n",
       "      <td>...</td>\n",
       "      <td>43.0</td>\n",
       "      <td>32.0</td>\n",
       "      <td>52.0</td>\n",
       "      <td>11.0</td>\n",
       "      <td>26.0</td>\n",
       "      <td>13.0</td>\n",
       "      <td>7.0</td>\n",
       "      <td>35.0</td>\n",
       "      <td>10.0</td>\n",
       "      <td>0</td>\n",
       "    </tr>\n",
       "    <tr>\n",
       "      <th>2</th>\n",
       "      <td>29.0</td>\n",
       "      <td>32.0</td>\n",
       "      <td>9.0</td>\n",
       "      <td>0.0</td>\n",
       "      <td>7.0</td>\n",
       "      <td>5.0</td>\n",
       "      <td>52.0</td>\n",
       "      <td>34.0</td>\n",
       "      <td>12.0</td>\n",
       "      <td>59.0</td>\n",
       "      <td>...</td>\n",
       "      <td>0.0</td>\n",
       "      <td>0.0</td>\n",
       "      <td>90.0</td>\n",
       "      <td>12.0</td>\n",
       "      <td>1.0</td>\n",
       "      <td>7.0</td>\n",
       "      <td>2.0</td>\n",
       "      <td>10.0</td>\n",
       "      <td>1.0</td>\n",
       "      <td>0</td>\n",
       "    </tr>\n",
       "    <tr>\n",
       "      <th>3</th>\n",
       "      <td>43.0</td>\n",
       "      <td>37.0</td>\n",
       "      <td>11.0</td>\n",
       "      <td>123.0</td>\n",
       "      <td>3.0</td>\n",
       "      <td>14.0</td>\n",
       "      <td>25.0</td>\n",
       "      <td>3.0</td>\n",
       "      <td>48.0</td>\n",
       "      <td>79.0</td>\n",
       "      <td>...</td>\n",
       "      <td>9.0</td>\n",
       "      <td>33.0</td>\n",
       "      <td>11.0</td>\n",
       "      <td>3.0</td>\n",
       "      <td>56.0</td>\n",
       "      <td>4.0</td>\n",
       "      <td>2.0</td>\n",
       "      <td>1.0</td>\n",
       "      <td>17.0</td>\n",
       "      <td>0</td>\n",
       "    </tr>\n",
       "    <tr>\n",
       "      <th>4</th>\n",
       "      <td>39.0</td>\n",
       "      <td>21.0</td>\n",
       "      <td>8.0</td>\n",
       "      <td>72.0</td>\n",
       "      <td>9.0</td>\n",
       "      <td>10.0</td>\n",
       "      <td>9.0</td>\n",
       "      <td>5.0</td>\n",
       "      <td>53.0</td>\n",
       "      <td>40.0</td>\n",
       "      <td>...</td>\n",
       "      <td>34.0</td>\n",
       "      <td>82.0</td>\n",
       "      <td>9.0</td>\n",
       "      <td>24.0</td>\n",
       "      <td>6.0</td>\n",
       "      <td>5.0</td>\n",
       "      <td>7.0</td>\n",
       "      <td>12.0</td>\n",
       "      <td>4.0</td>\n",
       "      <td>0</td>\n",
       "    </tr>\n",
       "  </tbody>\n",
       "</table>\n",
       "<p>5 rows × 65 columns</p>\n",
       "</div>"
      ],
      "text/plain": [
       "      0     1     2      3     4     5     6     7     8     9  ...    55  \\\n",
       "0   7.0  70.0  21.0    1.0   3.0   4.0   1.0  11.0   5.0  60.0  ...  25.0   \n",
       "1  67.0  73.0  11.0   22.0  18.0   8.0  16.0  13.0  72.0  10.0  ...  43.0   \n",
       "2  29.0  32.0   9.0    0.0   7.0   5.0  52.0  34.0  12.0  59.0  ...   0.0   \n",
       "3  43.0  37.0  11.0  123.0   3.0  14.0  25.0   3.0  48.0  79.0  ...   9.0   \n",
       "4  39.0  21.0   8.0   72.0   9.0  10.0   9.0   5.0  53.0  40.0  ...  34.0   \n",
       "\n",
       "     56    57    58    59    60    61    62    63  gesture  \n",
       "0   5.0  73.0  28.0  26.0   8.0  21.0  44.0  40.0        0  \n",
       "1  32.0  52.0  11.0  26.0  13.0   7.0  35.0  10.0        0  \n",
       "2   0.0  90.0  12.0   1.0   7.0   2.0  10.0   1.0        0  \n",
       "3  33.0  11.0   3.0  56.0   4.0   2.0   1.0  17.0        0  \n",
       "4  82.0   9.0  24.0   6.0   5.0   7.0  12.0   4.0        0  \n",
       "\n",
       "[5 rows x 65 columns]"
      ]
     },
     "execution_count": 6,
     "metadata": {},
     "output_type": "execute_result"
    }
   ],
   "source": [
    "dataset.head()\n"
   ]
  },
  {
   "cell_type": "code",
   "execution_count": 7,
   "metadata": {},
   "outputs": [],
   "source": [
    "dataset = dataset.dropna()\n",
    "dataset_train = np.array(dataset)\n",
    "dataset_train = dataset_train[np.random.permutation(len(dataset_train))]\n",
    "X_train = dataset_train[:,:-1]\n",
    "Y_train = dataset_train[:,-1:]"
   ]
  },
  {
   "cell_type": "code",
   "execution_count": 8,
   "metadata": {},
   "outputs": [
    {
     "data": {
      "text/plain": [
       "(7509, 7)"
      ]
     },
     "execution_count": 8,
     "metadata": {},
     "output_type": "execute_result"
    }
   ],
   "source": [
    "Y_train = [int(i) for i in Y_train]\n",
    "Y_train = np.eye(np.max(Y_train) + 1)[Y_train]\n",
    "Y_train.shape"
   ]
  },
  {
   "cell_type": "code",
   "execution_count": 9,
   "metadata": {},
   "outputs": [],
   "source": [
    "X_train = np.asarray(X_train)\n",
    "Y_train = np.asarray(Y_train)"
   ]
  },
  {
   "cell_type": "code",
   "execution_count": 10,
   "metadata": {},
   "outputs": [],
   "source": [
    "X_train = X_train.reshape(X_train.shape[0],8,8)"
   ]
  },
  {
   "cell_type": "code",
   "execution_count": 11,
   "metadata": {},
   "outputs": [],
   "source": [
    "for graph in X_train:\n",
    "    for i in range(8):\n",
    "        m = max(graph[i])\n",
    "        for j in range(8):\n",
    "            graph[i][j] = graph[i][j]/m"
   ]
  },
  {
   "cell_type": "code",
   "execution_count": 12,
   "metadata": {},
   "outputs": [],
   "source": [
    "if K.image_data_format() == 'channels_first':\n",
    "    X_train = X_train.reshape(X_train.shape[0], 1, img_rows, img_cols)\n",
    "    input_shape = (1, img_rows, img_cols)\n",
    "else:\n",
    "    X_train = X_train.reshape(X_train.shape[0], img_rows, img_cols, 1)\n",
    "    input_shape = (img_rows, img_cols, 1)"
   ]
  },
  {
   "cell_type": "code",
   "execution_count": 13,
   "metadata": {},
   "outputs": [
    {
     "data": {
      "text/plain": [
       "(7509, 8, 8, 1)"
      ]
     },
     "execution_count": 13,
     "metadata": {},
     "output_type": "execute_result"
    }
   ],
   "source": [
    "X_train.shape"
   ]
  },
  {
   "cell_type": "code",
   "execution_count": 14,
   "metadata": {},
   "outputs": [
    {
     "data": {
      "text/plain": [
       "(7509, 7)"
      ]
     },
     "execution_count": 14,
     "metadata": {},
     "output_type": "execute_result"
    }
   ],
   "source": [
    "Y_train.shape"
   ]
  },
  {
   "cell_type": "code",
   "execution_count": 15,
   "metadata": {},
   "outputs": [
    {
     "data": {
      "text/plain": [
       "(8, 8, 1)"
      ]
     },
     "execution_count": 15,
     "metadata": {},
     "output_type": "execute_result"
    }
   ],
   "source": [
    "input_shape"
   ]
  },
  {
   "cell_type": "code",
   "execution_count": 16,
   "metadata": {},
   "outputs": [],
   "source": [
    "model = Sequential()\n",
    "model.add(Conv2D(64, kernel_size=(3, 3),\n",
    "                 activation='relu',\n",
    "                 input_shape=input_shape))\n",
    "model.add(Conv2D(64, (3, 3), activation='relu'))\n",
    "model.add(MaxPooling2D(pool_size=(2, 2)))\n",
    "model.add(Dropout(0.25))\n",
    "model.add(Flatten())\n",
    "model.add(Dense(256, activation='relu'))\n",
    "model.add(Dropout(0.3))\n",
    "model.add(Dense(Y_train.shape[1], activation='softmax'))"
   ]
  },
  {
   "cell_type": "code",
   "execution_count": 17,
   "metadata": {},
   "outputs": [],
   "source": [
    "model.compile(loss=keras.losses.categorical_crossentropy,\n",
    "              optimizer=keras.optimizers.Adadelta(),\n",
    "              metrics=['accuracy'])"
   ]
  },
  {
   "cell_type": "code",
   "execution_count": 18,
   "metadata": {},
   "outputs": [
    {
     "name": "stdout",
     "output_type": "stream",
     "text": [
      "Train on 6007 samples, validate on 1502 samples\n",
      "Epoch 1/100\n",
      "6007/6007 [==============================] - 2s 253us/step - loss: 0.8865 - accuracy: 0.6647 - val_loss: 0.6418 - val_accuracy: 0.7676\n",
      "Epoch 2/100\n",
      "6007/6007 [==============================] - 1s 230us/step - loss: 0.5965 - accuracy: 0.7684 - val_loss: 0.6061 - val_accuracy: 0.7610\n",
      "Epoch 3/100\n",
      "6007/6007 [==============================] - 1s 226us/step - loss: 0.5377 - accuracy: 0.7954 - val_loss: 0.5293 - val_accuracy: 0.7936\n",
      "Epoch 4/100\n",
      "6007/6007 [==============================] - 1s 224us/step - loss: 0.5042 - accuracy: 0.8074 - val_loss: 0.5143 - val_accuracy: 0.8023\n",
      "Epoch 5/100\n",
      "6007/6007 [==============================] - 1s 232us/step - loss: 0.4746 - accuracy: 0.8144 - val_loss: 0.4927 - val_accuracy: 0.8129\n",
      "Epoch 6/100\n",
      "6007/6007 [==============================] - 1s 234us/step - loss: 0.4585 - accuracy: 0.8204 - val_loss: 0.5058 - val_accuracy: 0.8043\n",
      "Epoch 7/100\n",
      "6007/6007 [==============================] - 1s 222us/step - loss: 0.4454 - accuracy: 0.8234 - val_loss: 0.5011 - val_accuracy: 0.8023\n",
      "Epoch 8/100\n",
      "6007/6007 [==============================] - 1s 233us/step - loss: 0.4201 - accuracy: 0.8369 - val_loss: 0.4729 - val_accuracy: 0.8136\n",
      "Epoch 9/100\n",
      "6007/6007 [==============================] - 1s 231us/step - loss: 0.4062 - accuracy: 0.8380 - val_loss: 0.4869 - val_accuracy: 0.8016\n",
      "Epoch 10/100\n",
      "6007/6007 [==============================] - 1s 228us/step - loss: 0.3892 - accuracy: 0.8485 - val_loss: 0.4885 - val_accuracy: 0.8049\n",
      "Epoch 11/100\n",
      "6007/6007 [==============================] - 1s 227us/step - loss: 0.3741 - accuracy: 0.8548 - val_loss: 0.4804 - val_accuracy: 0.8169\n",
      "Epoch 12/100\n",
      "6007/6007 [==============================] - 1s 229us/step - loss: 0.3658 - accuracy: 0.8540 - val_loss: 0.4580 - val_accuracy: 0.8302\n",
      "Epoch 13/100\n",
      "6007/6007 [==============================] - 1s 234us/step - loss: 0.3444 - accuracy: 0.8670 - val_loss: 0.4986 - val_accuracy: 0.8103\n",
      "Epoch 14/100\n",
      "6007/6007 [==============================] - 1s 231us/step - loss: 0.3343 - accuracy: 0.8703 - val_loss: 0.4931 - val_accuracy: 0.8162\n",
      "Epoch 15/100\n",
      "6007/6007 [==============================] - 1s 234us/step - loss: 0.3251 - accuracy: 0.8702 - val_loss: 0.4857 - val_accuracy: 0.8229\n",
      "Epoch 16/100\n",
      "6007/6007 [==============================] - 1s 229us/step - loss: 0.3162 - accuracy: 0.8761 - val_loss: 0.4983 - val_accuracy: 0.8129\n",
      "Epoch 17/100\n",
      "6007/6007 [==============================] - 1s 228us/step - loss: 0.2988 - accuracy: 0.8848 - val_loss: 0.5097 - val_accuracy: 0.8036\n",
      "Epoch 18/100\n",
      "6007/6007 [==============================] - 1s 231us/step - loss: 0.2933 - accuracy: 0.8891 - val_loss: 0.4913 - val_accuracy: 0.8023\n",
      "Epoch 19/100\n",
      "6007/6007 [==============================] - 1s 222us/step - loss: 0.2833 - accuracy: 0.8893 - val_loss: 0.5443 - val_accuracy: 0.8103\n",
      "Epoch 20/100\n",
      "6007/6007 [==============================] - 1s 229us/step - loss: 0.2688 - accuracy: 0.8956 - val_loss: 0.5881 - val_accuracy: 0.8016\n",
      "Epoch 21/100\n",
      "6007/6007 [==============================] - 1s 231us/step - loss: 0.2523 - accuracy: 0.9046 - val_loss: 0.6394 - val_accuracy: 0.7976\n",
      "Epoch 22/100\n",
      "6007/6007 [==============================] - 1s 231us/step - loss: 0.2434 - accuracy: 0.9006 - val_loss: 0.5942 - val_accuracy: 0.8016\n",
      "Epoch 23/100\n",
      "6007/6007 [==============================] - 1s 229us/step - loss: 0.2415 - accuracy: 0.9059 - val_loss: 0.5552 - val_accuracy: 0.8056\n",
      "Epoch 24/100\n",
      "6007/6007 [==============================] - 1s 230us/step - loss: 0.2237 - accuracy: 0.9136 - val_loss: 0.5604 - val_accuracy: 0.8063\n",
      "Epoch 25/100\n",
      "6007/6007 [==============================] - 1s 229us/step - loss: 0.2222 - accuracy: 0.9189 - val_loss: 0.5725 - val_accuracy: 0.8156\n",
      "Epoch 26/100\n",
      "6007/6007 [==============================] - 1s 222us/step - loss: 0.1998 - accuracy: 0.9208 - val_loss: 0.5921 - val_accuracy: 0.8109\n",
      "Epoch 27/100\n",
      "6007/6007 [==============================] - 1s 227us/step - loss: 0.2006 - accuracy: 0.9229 - val_loss: 0.6163 - val_accuracy: 0.8069\n",
      "Epoch 28/100\n",
      "6007/6007 [==============================] - 1s 233us/step - loss: 0.1919 - accuracy: 0.9271 - val_loss: 0.6252 - val_accuracy: 0.8089\n",
      "Epoch 29/100\n",
      "6007/6007 [==============================] - 1s 242us/step - loss: 0.1833 - accuracy: 0.9322 - val_loss: 0.5993 - val_accuracy: 0.8182\n",
      "Epoch 30/100\n",
      "6007/6007 [==============================] - 1s 223us/step - loss: 0.1744 - accuracy: 0.9311 - val_loss: 0.6904 - val_accuracy: 0.8063\n",
      "Epoch 31/100\n",
      "6007/6007 [==============================] - 1s 228us/step - loss: 0.1677 - accuracy: 0.9347 - val_loss: 0.6508 - val_accuracy: 0.8069\n",
      "Epoch 32/100\n",
      "6007/6007 [==============================] - 1s 229us/step - loss: 0.1729 - accuracy: 0.9312 - val_loss: 0.6386 - val_accuracy: 0.8103\n",
      "Epoch 33/100\n",
      "6007/6007 [==============================] - 1s 235us/step - loss: 0.1483 - accuracy: 0.9432 - val_loss: 0.6919 - val_accuracy: 0.8089\n",
      "Epoch 34/100\n",
      "6007/6007 [==============================] - 1s 234us/step - loss: 0.1545 - accuracy: 0.9391 - val_loss: 0.6666 - val_accuracy: 0.8142\n",
      "Epoch 35/100\n",
      "6007/6007 [==============================] - 1s 231us/step - loss: 0.1467 - accuracy: 0.9441 - val_loss: 0.6823 - val_accuracy: 0.8142\n",
      "Epoch 36/100\n",
      "6007/6007 [==============================] - 1s 233us/step - loss: 0.1491 - accuracy: 0.9466 - val_loss: 0.6719 - val_accuracy: 0.8076\n",
      "Epoch 37/100\n",
      "6007/6007 [==============================] - 1s 234us/step - loss: 0.1209 - accuracy: 0.9554 - val_loss: 0.6795 - val_accuracy: 0.8083\n",
      "Epoch 38/100\n",
      "6007/6007 [==============================] - 1s 226us/step - loss: 0.1214 - accuracy: 0.9546 - val_loss: 0.7614 - val_accuracy: 0.8103\n",
      "Epoch 39/100\n",
      "6007/6007 [==============================] - 1s 233us/step - loss: 0.1256 - accuracy: 0.9557 - val_loss: 0.7209 - val_accuracy: 0.8162\n",
      "Epoch 40/100\n",
      "6007/6007 [==============================] - 1s 229us/step - loss: 0.1262 - accuracy: 0.9507 - val_loss: 0.7096 - val_accuracy: 0.8249\n",
      "Epoch 41/100\n",
      "6007/6007 [==============================] - 1s 232us/step - loss: 0.1131 - accuracy: 0.9575 - val_loss: 0.8258 - val_accuracy: 0.8036\n",
      "Epoch 42/100\n",
      "6007/6007 [==============================] - 1s 220us/step - loss: 0.1090 - accuracy: 0.9590 - val_loss: 0.7796 - val_accuracy: 0.7996\n",
      "Epoch 43/100\n",
      "6007/6007 [==============================] - 1s 235us/step - loss: 0.1121 - accuracy: 0.9587 - val_loss: 0.7974 - val_accuracy: 0.8169\n",
      "Epoch 44/100\n",
      "6007/6007 [==============================] - 1s 240us/step - loss: 0.1031 - accuracy: 0.9585 - val_loss: 0.7958 - val_accuracy: 0.8096\n",
      "Epoch 45/100\n",
      "6007/6007 [==============================] - 1s 226us/step - loss: 0.1045 - accuracy: 0.9622 - val_loss: 0.8716 - val_accuracy: 0.8142\n",
      "Epoch 46/100\n",
      "6007/6007 [==============================] - 1s 228us/step - loss: 0.0967 - accuracy: 0.9642 - val_loss: 0.9207 - val_accuracy: 0.8043\n",
      "Epoch 47/100\n",
      "6007/6007 [==============================] - 1s 217us/step - loss: 0.0935 - accuracy: 0.9659 - val_loss: 0.8389 - val_accuracy: 0.8036\n",
      "Epoch 48/100\n",
      "6007/6007 [==============================] - 1s 223us/step - loss: 0.0936 - accuracy: 0.9662 - val_loss: 0.8396 - val_accuracy: 0.8083\n",
      "Epoch 49/100\n",
      "6007/6007 [==============================] - 1s 218us/step - loss: 0.0815 - accuracy: 0.9697 - val_loss: 0.9479 - val_accuracy: 0.8029\n",
      "Epoch 50/100\n",
      "6007/6007 [==============================] - 1s 193us/step - loss: 0.0937 - accuracy: 0.9674 - val_loss: 0.8181 - val_accuracy: 0.8076\n",
      "Epoch 51/100\n",
      "6007/6007 [==============================] - 1s 196us/step - loss: 0.0845 - accuracy: 0.9684 - val_loss: 0.8694 - val_accuracy: 0.8069\n",
      "Epoch 52/100\n",
      "6007/6007 [==============================] - 1s 203us/step - loss: 0.0910 - accuracy: 0.9679 - val_loss: 0.9087 - val_accuracy: 0.8123\n",
      "Epoch 53/100\n",
      "6007/6007 [==============================] - 1s 204us/step - loss: 0.0851 - accuracy: 0.9682 - val_loss: 0.8276 - val_accuracy: 0.8109\n",
      "Epoch 54/100\n",
      "6007/6007 [==============================] - 1s 203us/step - loss: 0.0773 - accuracy: 0.9729 - val_loss: 0.8976 - val_accuracy: 0.8116\n",
      "Epoch 55/100\n",
      "6007/6007 [==============================] - 1s 195us/step - loss: 0.0840 - accuracy: 0.9702 - val_loss: 1.0167 - val_accuracy: 0.7969\n",
      "Epoch 56/100\n",
      "6007/6007 [==============================] - 1s 196us/step - loss: 0.0821 - accuracy: 0.9707 - val_loss: 0.8510 - val_accuracy: 0.8129\n",
      "Epoch 57/100\n",
      "6007/6007 [==============================] - 1s 195us/step - loss: 0.0746 - accuracy: 0.9745 - val_loss: 0.9221 - val_accuracy: 0.8109\n",
      "Epoch 58/100\n",
      "6007/6007 [==============================] - 1s 195us/step - loss: 0.0825 - accuracy: 0.9729 - val_loss: 0.9053 - val_accuracy: 0.8129\n",
      "Epoch 59/100\n",
      "6007/6007 [==============================] - 1s 201us/step - loss: 0.0818 - accuracy: 0.9715 - val_loss: 0.9606 - val_accuracy: 0.8129\n",
      "Epoch 60/100\n",
      "6007/6007 [==============================] - 1s 206us/step - loss: 0.0698 - accuracy: 0.9767 - val_loss: 0.9223 - val_accuracy: 0.8116\n",
      "Epoch 61/100\n",
      "6007/6007 [==============================] - 1s 209us/step - loss: 0.0729 - accuracy: 0.9755 - val_loss: 0.9547 - val_accuracy: 0.8089\n",
      "Epoch 62/100\n",
      "6007/6007 [==============================] - 1s 210us/step - loss: 0.0696 - accuracy: 0.9755 - val_loss: 0.9682 - val_accuracy: 0.8149\n",
      "Epoch 63/100\n",
      "6007/6007 [==============================] - 1s 194us/step - loss: 0.0722 - accuracy: 0.9732 - val_loss: 0.9602 - val_accuracy: 0.8109\n",
      "Epoch 64/100\n",
      "6007/6007 [==============================] - 1s 196us/step - loss: 0.0707 - accuracy: 0.9749 - val_loss: 0.9596 - val_accuracy: 0.8136\n",
      "Epoch 65/100\n",
      "6007/6007 [==============================] - 1s 199us/step - loss: 0.0698 - accuracy: 0.9772 - val_loss: 1.0109 - val_accuracy: 0.8036\n",
      "Epoch 66/100\n",
      "6007/6007 [==============================] - 1s 198us/step - loss: 0.0630 - accuracy: 0.9775 - val_loss: 1.0527 - val_accuracy: 0.8116\n",
      "Epoch 67/100\n",
      "6007/6007 [==============================] - 1s 210us/step - loss: 0.0643 - accuracy: 0.9759 - val_loss: 1.0937 - val_accuracy: 0.8083\n",
      "Epoch 68/100\n",
      "6007/6007 [==============================] - 1s 195us/step - loss: 0.0637 - accuracy: 0.9785 - val_loss: 1.0337 - val_accuracy: 0.8156\n",
      "Epoch 69/100\n",
      "6007/6007 [==============================] - 1s 202us/step - loss: 0.0626 - accuracy: 0.9774 - val_loss: 1.0026 - val_accuracy: 0.8103\n",
      "Epoch 70/100\n",
      "6007/6007 [==============================] - 1s 199us/step - loss: 0.0686 - accuracy: 0.9784 - val_loss: 1.0061 - val_accuracy: 0.8129\n",
      "Epoch 71/100\n",
      "6007/6007 [==============================] - 1s 198us/step - loss: 0.0617 - accuracy: 0.9767 - val_loss: 1.0488 - val_accuracy: 0.8149\n",
      "Epoch 72/100\n",
      "6007/6007 [==============================] - 1s 196us/step - loss: 0.0601 - accuracy: 0.9790 - val_loss: 1.0724 - val_accuracy: 0.8129\n",
      "Epoch 73/100\n",
      "6007/6007 [==============================] - 1s 199us/step - loss: 0.0499 - accuracy: 0.9832 - val_loss: 1.0840 - val_accuracy: 0.8169\n",
      "Epoch 74/100\n",
      "6007/6007 [==============================] - 1s 217us/step - loss: 0.0594 - accuracy: 0.9815 - val_loss: 1.1385 - val_accuracy: 0.7996\n",
      "Epoch 75/100\n",
      "6007/6007 [==============================] - 1s 219us/step - loss: 0.0510 - accuracy: 0.9829 - val_loss: 1.0957 - val_accuracy: 0.8036\n",
      "Epoch 76/100\n",
      "6007/6007 [==============================] - 1s 223us/step - loss: 0.0577 - accuracy: 0.9797 - val_loss: 1.1486 - val_accuracy: 0.8109\n",
      "Epoch 77/100\n",
      "6007/6007 [==============================] - 1s 224us/step - loss: 0.0492 - accuracy: 0.9832 - val_loss: 1.1844 - val_accuracy: 0.7963\n",
      "Epoch 78/100\n",
      "6007/6007 [==============================] - 1s 222us/step - loss: 0.0590 - accuracy: 0.9795 - val_loss: 1.1201 - val_accuracy: 0.8103\n",
      "Epoch 79/100\n",
      "6007/6007 [==============================] - 1s 225us/step - loss: 0.0594 - accuracy: 0.9797 - val_loss: 1.1037 - val_accuracy: 0.8043\n",
      "Epoch 80/100\n",
      "6007/6007 [==============================] - 1s 211us/step - loss: 0.0584 - accuracy: 0.9799 - val_loss: 1.1361 - val_accuracy: 0.8076\n",
      "Epoch 81/100\n",
      "6007/6007 [==============================] - 1s 197us/step - loss: 0.0477 - accuracy: 0.9830 - val_loss: 1.2534 - val_accuracy: 0.8123\n",
      "Epoch 82/100\n",
      "6007/6007 [==============================] - 1s 197us/step - loss: 0.0507 - accuracy: 0.9810 - val_loss: 1.1631 - val_accuracy: 0.8136\n",
      "Epoch 83/100\n",
      "6007/6007 [==============================] - 1s 192us/step - loss: 0.0427 - accuracy: 0.9850 - val_loss: 1.2258 - val_accuracy: 0.8063\n",
      "Epoch 84/100\n",
      "6007/6007 [==============================] - 1s 193us/step - loss: 0.0529 - accuracy: 0.9800 - val_loss: 1.2235 - val_accuracy: 0.8096\n",
      "Epoch 85/100\n",
      "6007/6007 [==============================] - 1s 199us/step - loss: 0.0548 - accuracy: 0.9814 - val_loss: 1.1737 - val_accuracy: 0.8056\n",
      "Epoch 86/100\n",
      "6007/6007 [==============================] - 1s 195us/step - loss: 0.0553 - accuracy: 0.9812 - val_loss: 1.1758 - val_accuracy: 0.8096\n",
      "Epoch 87/100\n",
      "6007/6007 [==============================] - 1s 199us/step - loss: 0.0498 - accuracy: 0.9829 - val_loss: 1.1677 - val_accuracy: 0.8063\n",
      "Epoch 88/100\n",
      "6007/6007 [==============================] - 1s 203us/step - loss: 0.0516 - accuracy: 0.9824 - val_loss: 1.3456 - val_accuracy: 0.8089\n",
      "Epoch 89/100\n",
      "6007/6007 [==============================] - 1s 202us/step - loss: 0.0433 - accuracy: 0.9860 - val_loss: 1.1720 - val_accuracy: 0.8123\n",
      "Epoch 90/100\n",
      "6007/6007 [==============================] - 1s 194us/step - loss: 0.0525 - accuracy: 0.9809 - val_loss: 1.1503 - val_accuracy: 0.8129\n",
      "Epoch 91/100\n",
      "6007/6007 [==============================] - 1s 208us/step - loss: 0.0561 - accuracy: 0.9822 - val_loss: 1.1976 - val_accuracy: 0.8016\n",
      "Epoch 92/100\n",
      "6007/6007 [==============================] - 1s 207us/step - loss: 0.0421 - accuracy: 0.9840 - val_loss: 1.2214 - val_accuracy: 0.8103\n",
      "Epoch 93/100\n",
      "6007/6007 [==============================] - 1s 224us/step - loss: 0.0521 - accuracy: 0.9825 - val_loss: 1.1668 - val_accuracy: 0.8156\n",
      "Epoch 94/100\n",
      "6007/6007 [==============================] - 1s 206us/step - loss: 0.0438 - accuracy: 0.9839 - val_loss: 1.2787 - val_accuracy: 0.8156\n",
      "Epoch 95/100\n",
      "6007/6007 [==============================] - 1s 202us/step - loss: 0.0497 - accuracy: 0.9839 - val_loss: 1.2558 - val_accuracy: 0.8136\n",
      "Epoch 96/100\n",
      "6007/6007 [==============================] - 1s 204us/step - loss: 0.0469 - accuracy: 0.9835 - val_loss: 1.2619 - val_accuracy: 0.8182\n",
      "Epoch 97/100\n",
      "6007/6007 [==============================] - 1s 205us/step - loss: 0.0478 - accuracy: 0.9844 - val_loss: 1.2251 - val_accuracy: 0.8049\n",
      "Epoch 98/100\n",
      "6007/6007 [==============================] - 1s 204us/step - loss: 0.0447 - accuracy: 0.9854 - val_loss: 1.3243 - val_accuracy: 0.8036\n",
      "Epoch 99/100\n",
      "6007/6007 [==============================] - 1s 204us/step - loss: 0.0388 - accuracy: 0.9867 - val_loss: 1.2832 - val_accuracy: 0.8096\n",
      "Epoch 100/100\n",
      "6007/6007 [==============================] - 1s 206us/step - loss: 0.0441 - accuracy: 0.9832 - val_loss: 1.2761 - val_accuracy: 0.8109\n"
     ]
    }
   ],
   "source": [
    "history = model.fit(X_train, Y_train,\n",
    "          batch_size=16,\n",
    "          epochs=100,\n",
    "          verbose=1,\n",
    "          validation_split=0.2)"
   ]
  },
  {
   "cell_type": "code",
   "execution_count": 19,
   "metadata": {},
   "outputs": [
    {
     "data": {
      "text/plain": [
       "Text(0.5, 1.0, 'Accuracy')"
      ]
     },
     "execution_count": 19,
     "metadata": {},
     "output_type": "execute_result"
    },
    {
     "data": {
      "image/png": "[encoded data removed]",
      "text/plain": [
       "<Figure size 648x648 with 2 Axes>"
      ]
     },
     "metadata": {
      "needs_background": "light"
     },
     "output_type": "display_data"
    }
   ],
   "source": [
    "fig, axes = plt.subplots(nrows=1, ncols=2,figsize=(9,9))\n",
    "plt.subplot(2,1,1)\n",
    "plt.plot(history.history['loss'])\n",
    "plt.plot(history.history['val_loss'])\n",
    "plt.legend([\"Train\",\"Validation\"])\n",
    "plt.title(\"Loss\")\n",
    "plt.subplot(2,1,2)\n",
    "plt.plot(history.history['accuracy'])\n",
    "plt.plot(history.history['val_accuracy'])\n",
    "plt.legend([\"Train\",\"Validation\"])\n",
    "plt.title(\"Accuracy\")"
   ]
  },
  {
   "cell_type": "code",
   "execution_count": null,
   "metadata": {},
   "outputs": [],
   "source": []
  }
 ],
 "metadata": {
  "kernelspec": {
   "display_name": "Python 3",
   "language": "python",
   "name": "python3"
  },
  "language_info": {
   "codemirror_mode": {
    "name": "ipython",
    "version": 3
   },
   "file_extension": ".py",
   "mimetype": "text/x-python",
   "name": "python",
   "nbconvert_exporter": "python",
   "pygments_lexer": "ipython3",
   "version": "3.7.4"
  }
 },
 "nbformat": 4,
 "nbformat_minor": 4
}
