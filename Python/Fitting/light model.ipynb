{
 "cells": [
  {
   "cell_type": "code",
   "execution_count": 179,
   "metadata": {},
   "outputs": [],
   "source": [
    "import numpy as np \n",
    "import pandas as pd\n",
    "import matplotlib.pyplot as plt\n",
    "import os\n",
    "from sklearn.preprocessing import MinMaxScaler\n",
    "import seaborn as sns\n",
    "\n",
    "from keras.models import Sequential\n",
    "from keras.layers import Dense\n",
    "from keras.callbacks import ModelCheckpoint\n",
    "from keras.layers import Dropout"
   ]
  },
  {
   "cell_type": "code",
   "execution_count": 2,
   "metadata": {},
   "outputs": [],
   "source": [
    "sc = MinMaxScaler(feature_range = (0, 1))\n",
    "\n",
    "dataset = pd.read_csv(\"../data/database.txt\")"
   ]
  },
  {
   "cell_type": "code",
   "execution_count": 14,
   "metadata": {},
   "outputs": [
    {
     "data": {
      "text/plain": [
       "2012"
      ]
     },
     "execution_count": 14,
     "metadata": {},
     "output_type": "execute_result"
    }
   ],
   "source": [
    "size = len(dataset)\n",
    "size"
   ]
  },
  {
   "cell_type": "code",
   "execution_count": 17,
   "metadata": {},
   "outputs": [
    {
     "data": {
      "text/plain": [
       "1121"
      ]
     },
     "execution_count": 17,
     "metadata": {},
     "output_type": "execute_result"
    }
   ],
   "source": [
    "length = len(dataset.iloc[0].tolist())\n",
    "length"
   ]
  },
  {
   "cell_type": "code",
   "execution_count": 22,
   "metadata": {},
   "outputs": [],
   "source": [
    "lensensor = (length - 1 )/8"
   ]
  },
  {
   "cell_type": "code",
   "execution_count": 28,
   "metadata": {},
   "outputs": [],
   "source": [
    "def meanValue(inp):\n",
    "    mean = 0\n",
    "    length = len(inp)\n",
    "    for i in inp:\n",
    "        mean += i\n",
    "    mean /= length\n",
    "    return mean"
   ]
  },
  {
   "cell_type": "code",
   "execution_count": 193,
   "metadata": {},
   "outputs": [],
   "source": [
    "dataset_train = []\n",
    "\n",
    "for row in [np.array(dataset.iloc[j].tolist()) for j in range(size)]:\n",
    "    newrow = []\n",
    "    label = row[length-1]\n",
    "    row = row[:length-1]# - row.min()\n",
    "    for i in range(8):\n",
    "        newrow.append(meanValue(row[i*140:i*140+140]))\n",
    "    newrow.append(int(label))\n",
    "    dataset_train.append(newrow)  "
   ]
  },
  {
   "cell_type": "code",
   "execution_count": 194,
   "metadata": {},
   "outputs": [],
   "source": [
    "dataset_train = np.array(dataset_train)\n",
    "dataset_train = dataset_train[np.random.permutation(len(dataset_train))]\n",
    "X_train = dataset_train[:,:-1]\n",
    "Y_train = dataset_train[:,-1:]"
   ]
  },
  {
   "cell_type": "code",
   "execution_count": 195,
   "metadata": {},
   "outputs": [],
   "source": [
    "Y_train = [int(i) for i in Y_train]\n"
   ]
  },
  {
   "cell_type": "code",
   "execution_count": 196,
   "metadata": {},
   "outputs": [],
   "source": [
    "Y_train = np.eye(np.max(Y_train) + 1)[Y_train]"
   ]
  },
  {
   "cell_type": "code",
   "execution_count": 197,
   "metadata": {},
   "outputs": [
    {
     "data": {
      "text/plain": [
       "(2012, 8)"
      ]
     },
     "execution_count": 197,
     "metadata": {},
     "output_type": "execute_result"
    }
   ],
   "source": [
    "X_train.shape"
   ]
  },
  {
   "cell_type": "code",
   "execution_count": 198,
   "metadata": {},
   "outputs": [
    {
     "data": {
      "text/plain": [
       "(2012, 5)"
      ]
     },
     "execution_count": 198,
     "metadata": {},
     "output_type": "execute_result"
    }
   ],
   "source": [
    "Y_train.shape"
   ]
  },
  {
   "cell_type": "code",
   "execution_count": 199,
   "metadata": {},
   "outputs": [],
   "source": [
    "model = Sequential()\n",
    "\n",
    "model.add(Dense(8, input_shape=(8,)))\n",
    "model.add(Dropout(0.3))\n",
    "\n",
    "model.add(Dense(16))\n",
    "model.add(Dropout(0.3))\n",
    "\n",
    "model.add(Dense(units = 5, activation=\"softmax\"))"
   ]
  },
  {
   "cell_type": "code",
   "execution_count": 200,
   "metadata": {},
   "outputs": [],
   "source": [
    "mcp_save = ModelCheckpoint(\"../Data/workligth_.h5\", save_best_only=True, monitor='val_acc', mode='max')\n",
    "\n",
    "model.compile(optimizer = 'adam', loss = 'binary_crossentropy', metrics=['accuracy'])"
   ]
  },
  {
   "cell_type": "code",
   "execution_count": 201,
   "metadata": {},
   "outputs": [
    {
     "name": "stdout",
     "output_type": "stream",
     "text": [
      "Train on 1609 samples, validate on 403 samples\n",
      "Epoch 1/150\n",
      " - 1s - loss: 0.4146 - acc: 0.8140 - val_loss: 0.3056 - val_acc: 0.8789\n",
      "Epoch 2/150\n",
      " - 0s - loss: 0.3041 - acc: 0.8620 - val_loss: 0.2289 - val_acc: 0.9315\n",
      "Epoch 3/150\n",
      " - 0s - loss: 0.2566 - acc: 0.8931 - val_loss: 0.1918 - val_acc: 0.9280\n",
      "Epoch 4/150\n",
      " - 0s - loss: 0.2389 - acc: 0.8981 - val_loss: 0.1666 - val_acc: 0.9414\n",
      "Epoch 5/150\n",
      " - 0s - loss: 0.2177 - acc: 0.9073 - val_loss: 0.1490 - val_acc: 0.9504\n",
      "Epoch 6/150\n",
      " - 0s - loss: 0.1989 - acc: 0.9127 - val_loss: 0.1320 - val_acc: 0.9573\n",
      "Epoch 7/150\n",
      " - 0s - loss: 0.1833 - acc: 0.9249 - val_loss: 0.1200 - val_acc: 0.9573\n",
      "Epoch 8/150\n",
      " - 0s - loss: 0.1796 - acc: 0.9204 - val_loss: 0.1112 - val_acc: 0.9608\n",
      "Epoch 9/150\n",
      " - 0s - loss: 0.1727 - acc: 0.9244 - val_loss: 0.1024 - val_acc: 0.9628\n",
      "Epoch 10/150\n",
      " - 0s - loss: 0.1638 - acc: 0.9314 - val_loss: 0.0978 - val_acc: 0.9628\n",
      "Epoch 11/150\n",
      " - 0s - loss: 0.1534 - acc: 0.9331 - val_loss: 0.0919 - val_acc: 0.9633\n",
      "Epoch 12/150\n",
      " - 0s - loss: 0.1504 - acc: 0.9346 - val_loss: 0.0871 - val_acc: 0.9643\n",
      "Epoch 13/150\n",
      " - 0s - loss: 0.1451 - acc: 0.9367 - val_loss: 0.0855 - val_acc: 0.9658\n",
      "Epoch 14/150\n",
      " - 0s - loss: 0.1415 - acc: 0.9387 - val_loss: 0.0824 - val_acc: 0.9648\n",
      "Epoch 15/150\n",
      " - 0s - loss: 0.1422 - acc: 0.9381 - val_loss: 0.0795 - val_acc: 0.9658\n",
      "Epoch 16/150\n",
      " - 0s - loss: 0.1403 - acc: 0.9359 - val_loss: 0.0789 - val_acc: 0.9667\n",
      "Epoch 17/150\n",
      " - 0s - loss: 0.1386 - acc: 0.9388 - val_loss: 0.0778 - val_acc: 0.9672\n",
      "Epoch 18/150\n",
      " - 0s - loss: 0.1285 - acc: 0.9416 - val_loss: 0.0754 - val_acc: 0.9663\n",
      "Epoch 19/150\n",
      " - 0s - loss: 0.1303 - acc: 0.9418 - val_loss: 0.0740 - val_acc: 0.9697\n",
      "Epoch 20/150\n",
      " - 0s - loss: 0.1258 - acc: 0.9487 - val_loss: 0.0726 - val_acc: 0.9677\n",
      "Epoch 21/150\n",
      " - 0s - loss: 0.1265 - acc: 0.9457 - val_loss: 0.0735 - val_acc: 0.9682\n",
      "Epoch 22/150\n",
      " - 0s - loss: 0.1326 - acc: 0.9408 - val_loss: 0.0728 - val_acc: 0.9707\n",
      "Epoch 23/150\n",
      " - 0s - loss: 0.1241 - acc: 0.9449 - val_loss: 0.0727 - val_acc: 0.9672\n",
      "Epoch 24/150\n",
      " - 0s - loss: 0.1233 - acc: 0.9448 - val_loss: 0.0726 - val_acc: 0.9672\n",
      "Epoch 25/150\n",
      " - 0s - loss: 0.1263 - acc: 0.9448 - val_loss: 0.0716 - val_acc: 0.9658\n",
      "Epoch 26/150\n",
      " - 0s - loss: 0.1241 - acc: 0.9454 - val_loss: 0.0697 - val_acc: 0.9702\n",
      "Epoch 27/150\n",
      " - 0s - loss: 0.1200 - acc: 0.9477 - val_loss: 0.0687 - val_acc: 0.9702\n",
      "Epoch 28/150\n",
      " - 0s - loss: 0.1292 - acc: 0.9434 - val_loss: 0.0705 - val_acc: 0.9692\n",
      "Epoch 29/150\n",
      " - 0s - loss: 0.1261 - acc: 0.9444 - val_loss: 0.0682 - val_acc: 0.9717\n",
      "Epoch 30/150\n",
      " - 0s - loss: 0.1226 - acc: 0.9424 - val_loss: 0.0684 - val_acc: 0.9692\n",
      "Epoch 31/150\n",
      " - 0s - loss: 0.1216 - acc: 0.9477 - val_loss: 0.0681 - val_acc: 0.9712\n",
      "Epoch 32/150\n",
      " - 0s - loss: 0.1198 - acc: 0.9475 - val_loss: 0.0686 - val_acc: 0.9692\n",
      "Epoch 33/150\n",
      " - 0s - loss: 0.1168 - acc: 0.9549 - val_loss: 0.0686 - val_acc: 0.9667\n",
      "Epoch 34/150\n",
      " - 0s - loss: 0.1217 - acc: 0.9472 - val_loss: 0.0677 - val_acc: 0.9702\n",
      "Epoch 35/150\n",
      " - 0s - loss: 0.1169 - acc: 0.9504 - val_loss: 0.0666 - val_acc: 0.9702\n",
      "Epoch 36/150\n",
      " - 0s - loss: 0.1192 - acc: 0.9477 - val_loss: 0.0664 - val_acc: 0.9697\n",
      "Epoch 37/150\n",
      " - 0s - loss: 0.1198 - acc: 0.9494 - val_loss: 0.0664 - val_acc: 0.9727\n",
      "Epoch 38/150\n",
      " - 0s - loss: 0.1150 - acc: 0.9497 - val_loss: 0.0659 - val_acc: 0.9697\n",
      "Epoch 39/150\n",
      " - 0s - loss: 0.1124 - acc: 0.9505 - val_loss: 0.0658 - val_acc: 0.9717\n",
      "Epoch 40/150\n",
      " - 0s - loss: 0.1201 - acc: 0.9475 - val_loss: 0.0659 - val_acc: 0.9707\n",
      "Epoch 41/150\n",
      " - 0s - loss: 0.1122 - acc: 0.9528 - val_loss: 0.0669 - val_acc: 0.9687\n",
      "Epoch 42/150\n",
      " - 0s - loss: 0.1196 - acc: 0.9494 - val_loss: 0.0658 - val_acc: 0.9712\n",
      "Epoch 43/150\n",
      " - 0s - loss: 0.1138 - acc: 0.9519 - val_loss: 0.0663 - val_acc: 0.9687\n",
      "Epoch 44/150\n",
      " - 0s - loss: 0.1174 - acc: 0.9484 - val_loss: 0.0652 - val_acc: 0.9702\n",
      "Epoch 45/150\n",
      " - 0s - loss: 0.1171 - acc: 0.9511 - val_loss: 0.0641 - val_acc: 0.9702\n",
      "Epoch 46/150\n",
      " - 0s - loss: 0.1075 - acc: 0.9562 - val_loss: 0.0643 - val_acc: 0.9712\n",
      "Epoch 47/150\n",
      " - 0s - loss: 0.1148 - acc: 0.9533 - val_loss: 0.0647 - val_acc: 0.9707\n",
      "Epoch 48/150\n",
      " - 0s - loss: 0.1097 - acc: 0.9519 - val_loss: 0.0659 - val_acc: 0.9687\n",
      "Epoch 49/150\n",
      " - 0s - loss: 0.1127 - acc: 0.9528 - val_loss: 0.0649 - val_acc: 0.9702\n",
      "Epoch 50/150\n",
      " - 0s - loss: 0.1143 - acc: 0.9529 - val_loss: 0.0641 - val_acc: 0.9702\n",
      "Epoch 51/150\n",
      " - 0s - loss: 0.1147 - acc: 0.9530 - val_loss: 0.0632 - val_acc: 0.9722\n",
      "Epoch 52/150\n",
      " - 0s - loss: 0.1083 - acc: 0.9495 - val_loss: 0.0633 - val_acc: 0.9752\n",
      "Epoch 53/150\n",
      " - 0s - loss: 0.1103 - acc: 0.9550 - val_loss: 0.0659 - val_acc: 0.9717\n",
      "Epoch 54/150\n",
      " - 0s - loss: 0.1070 - acc: 0.9545 - val_loss: 0.0637 - val_acc: 0.9707\n",
      "Epoch 55/150\n",
      " - 0s - loss: 0.1094 - acc: 0.9518 - val_loss: 0.0649 - val_acc: 0.9692\n",
      "Epoch 56/150\n",
      " - 0s - loss: 0.1043 - acc: 0.9565 - val_loss: 0.0640 - val_acc: 0.9707\n",
      "Epoch 57/150\n",
      " - 0s - loss: 0.1096 - acc: 0.9569 - val_loss: 0.0637 - val_acc: 0.9687\n",
      "Epoch 58/150\n",
      " - 0s - loss: 0.1015 - acc: 0.9610 - val_loss: 0.0632 - val_acc: 0.9717\n",
      "Epoch 59/150\n",
      " - 0s - loss: 0.1146 - acc: 0.9556 - val_loss: 0.0643 - val_acc: 0.9702\n",
      "Epoch 60/150\n",
      " - 0s - loss: 0.1080 - acc: 0.9559 - val_loss: 0.0631 - val_acc: 0.9702\n",
      "Epoch 61/150\n",
      " - 0s - loss: 0.1064 - acc: 0.9549 - val_loss: 0.0634 - val_acc: 0.9697\n",
      "Epoch 62/150\n",
      " - 0s - loss: 0.1118 - acc: 0.9571 - val_loss: 0.0636 - val_acc: 0.9712\n",
      "Epoch 63/150\n",
      " - 0s - loss: 0.1117 - acc: 0.9567 - val_loss: 0.0626 - val_acc: 0.9702\n",
      "Epoch 64/150\n",
      " - 0s - loss: 0.1083 - acc: 0.9565 - val_loss: 0.0623 - val_acc: 0.9707\n",
      "Epoch 65/150\n",
      " - 0s - loss: 0.1083 - acc: 0.9555 - val_loss: 0.0632 - val_acc: 0.9752\n",
      "Epoch 66/150\n",
      " - 0s - loss: 0.1085 - acc: 0.9535 - val_loss: 0.0637 - val_acc: 0.9707\n",
      "Epoch 67/150\n",
      " - 0s - loss: 0.1048 - acc: 0.9546 - val_loss: 0.0646 - val_acc: 0.9692\n",
      "Epoch 68/150\n",
      " - 0s - loss: 0.1061 - acc: 0.9559 - val_loss: 0.0623 - val_acc: 0.9677\n",
      "Epoch 69/150\n",
      " - 0s - loss: 0.0993 - acc: 0.9559 - val_loss: 0.0634 - val_acc: 0.9737\n",
      "Epoch 70/150\n",
      " - 0s - loss: 0.1046 - acc: 0.9595 - val_loss: 0.0630 - val_acc: 0.9687\n",
      "Epoch 71/150\n",
      " - 0s - loss: 0.1100 - acc: 0.9548 - val_loss: 0.0619 - val_acc: 0.9707\n",
      "Epoch 72/150\n",
      " - 0s - loss: 0.1043 - acc: 0.9556 - val_loss: 0.0624 - val_acc: 0.9717\n",
      "Epoch 73/150\n",
      " - 0s - loss: 0.1069 - acc: 0.9569 - val_loss: 0.0627 - val_acc: 0.9692\n",
      "Epoch 74/150\n",
      " - 0s - loss: 0.1015 - acc: 0.9569 - val_loss: 0.0613 - val_acc: 0.9727\n",
      "Epoch 75/150\n",
      " - 0s - loss: 0.1073 - acc: 0.9601 - val_loss: 0.0622 - val_acc: 0.9692\n",
      "Epoch 76/150\n",
      " - 0s - loss: 0.1053 - acc: 0.9586 - val_loss: 0.0626 - val_acc: 0.9697\n",
      "Epoch 77/150\n",
      " - 0s - loss: 0.1014 - acc: 0.9577 - val_loss: 0.0617 - val_acc: 0.9727\n",
      "Epoch 78/150\n",
      " - 0s - loss: 0.1066 - acc: 0.9564 - val_loss: 0.0626 - val_acc: 0.9707\n",
      "Epoch 79/150\n",
      " - 0s - loss: 0.1088 - acc: 0.9562 - val_loss: 0.0617 - val_acc: 0.9712\n",
      "Epoch 80/150\n",
      " - 0s - loss: 0.0971 - acc: 0.9589 - val_loss: 0.0608 - val_acc: 0.9702\n",
      "Epoch 81/150\n",
      " - 0s - loss: 0.1029 - acc: 0.9579 - val_loss: 0.0613 - val_acc: 0.9712\n",
      "Epoch 82/150\n",
      " - 0s - loss: 0.1002 - acc: 0.9562 - val_loss: 0.0629 - val_acc: 0.9702\n",
      "Epoch 83/150\n",
      " - 0s - loss: 0.1012 - acc: 0.9551 - val_loss: 0.0613 - val_acc: 0.9752\n",
      "Epoch 84/150\n",
      " - 0s - loss: 0.1100 - acc: 0.9535 - val_loss: 0.0608 - val_acc: 0.9722\n",
      "Epoch 85/150\n",
      " - 0s - loss: 0.1007 - acc: 0.9582 - val_loss: 0.0620 - val_acc: 0.9682\n",
      "Epoch 86/150\n",
      " - 0s - loss: 0.0980 - acc: 0.9550 - val_loss: 0.0608 - val_acc: 0.9747\n",
      "Epoch 87/150\n",
      " - 0s - loss: 0.1000 - acc: 0.9566 - val_loss: 0.0609 - val_acc: 0.9702\n",
      "Epoch 88/150\n",
      " - 0s - loss: 0.1073 - acc: 0.9576 - val_loss: 0.0622 - val_acc: 0.9717\n",
      "Epoch 89/150\n",
      " - 0s - loss: 0.1042 - acc: 0.9572 - val_loss: 0.0623 - val_acc: 0.9692\n",
      "Epoch 90/150\n",
      " - 0s - loss: 0.1040 - acc: 0.9544 - val_loss: 0.0616 - val_acc: 0.9682\n",
      "Epoch 91/150\n",
      " - 0s - loss: 0.0972 - acc: 0.9623 - val_loss: 0.0607 - val_acc: 0.9742\n",
      "Epoch 92/150\n",
      " - 0s - loss: 0.1066 - acc: 0.9548 - val_loss: 0.0604 - val_acc: 0.9727\n",
      "Epoch 93/150\n",
      " - 0s - loss: 0.1083 - acc: 0.9560 - val_loss: 0.0611 - val_acc: 0.9722\n",
      "Epoch 94/150\n",
      " - 0s - loss: 0.1025 - acc: 0.9574 - val_loss: 0.0614 - val_acc: 0.9722\n",
      "Epoch 95/150\n",
      " - 0s - loss: 0.1049 - acc: 0.9572 - val_loss: 0.0616 - val_acc: 0.9692\n",
      "Epoch 96/150\n",
      " - 0s - loss: 0.1017 - acc: 0.9576 - val_loss: 0.0616 - val_acc: 0.9712\n"
     ]
    },
    {
     "name": "stdout",
     "output_type": "stream",
     "text": [
      "Epoch 97/150\n",
      " - 0s - loss: 0.0940 - acc: 0.9627 - val_loss: 0.0609 - val_acc: 0.9727\n",
      "Epoch 98/150\n",
      " - 0s - loss: 0.0964 - acc: 0.9556 - val_loss: 0.0613 - val_acc: 0.9712\n",
      "Epoch 99/150\n",
      " - 0s - loss: 0.1047 - acc: 0.9556 - val_loss: 0.0615 - val_acc: 0.9692\n",
      "Epoch 100/150\n",
      " - 0s - loss: 0.1022 - acc: 0.9562 - val_loss: 0.0621 - val_acc: 0.9692\n",
      "Epoch 101/150\n",
      " - 0s - loss: 0.1018 - acc: 0.9570 - val_loss: 0.0616 - val_acc: 0.9737\n",
      "Epoch 102/150\n",
      " - 0s - loss: 0.0989 - acc: 0.9581 - val_loss: 0.0606 - val_acc: 0.9707\n",
      "Epoch 103/150\n",
      " - 0s - loss: 0.0973 - acc: 0.9605 - val_loss: 0.0599 - val_acc: 0.9747\n",
      "Epoch 104/150\n",
      " - 0s - loss: 0.1030 - acc: 0.9559 - val_loss: 0.0618 - val_acc: 0.9717\n",
      "Epoch 105/150\n",
      " - 0s - loss: 0.0987 - acc: 0.9572 - val_loss: 0.0604 - val_acc: 0.9742\n",
      "Epoch 106/150\n",
      " - 0s - loss: 0.1012 - acc: 0.9605 - val_loss: 0.0607 - val_acc: 0.9737\n",
      "Epoch 107/150\n",
      " - 0s - loss: 0.0995 - acc: 0.9617 - val_loss: 0.0612 - val_acc: 0.9707\n",
      "Epoch 108/150\n",
      " - 0s - loss: 0.0999 - acc: 0.9617 - val_loss: 0.0608 - val_acc: 0.9742\n",
      "Epoch 109/150\n",
      " - 0s - loss: 0.0979 - acc: 0.9585 - val_loss: 0.0605 - val_acc: 0.9752\n",
      "Epoch 110/150\n",
      " - 0s - loss: 0.1007 - acc: 0.9589 - val_loss: 0.0606 - val_acc: 0.9727\n",
      "Epoch 111/150\n",
      " - 0s - loss: 0.1019 - acc: 0.9577 - val_loss: 0.0608 - val_acc: 0.9717\n",
      "Epoch 112/150\n",
      " - 0s - loss: 0.0933 - acc: 0.9606 - val_loss: 0.0619 - val_acc: 0.9727\n",
      "Epoch 113/150\n",
      " - 0s - loss: 0.1037 - acc: 0.9574 - val_loss: 0.0605 - val_acc: 0.9752\n",
      "Epoch 114/150\n",
      " - 0s - loss: 0.0956 - acc: 0.9594 - val_loss: 0.0608 - val_acc: 0.9717\n",
      "Epoch 115/150\n",
      " - 0s - loss: 0.1000 - acc: 0.9587 - val_loss: 0.0621 - val_acc: 0.9752\n",
      "Epoch 116/150\n",
      " - 0s - loss: 0.1023 - acc: 0.9580 - val_loss: 0.0610 - val_acc: 0.9712\n",
      "Epoch 117/150\n",
      " - 0s - loss: 0.0944 - acc: 0.9594 - val_loss: 0.0603 - val_acc: 0.9752\n",
      "Epoch 118/150\n",
      " - 0s - loss: 0.1044 - acc: 0.9540 - val_loss: 0.0608 - val_acc: 0.9727\n",
      "Epoch 119/150\n",
      " - 0s - loss: 0.1028 - acc: 0.9560 - val_loss: 0.0601 - val_acc: 0.9732\n",
      "Epoch 120/150\n",
      " - 0s - loss: 0.1045 - acc: 0.9569 - val_loss: 0.0599 - val_acc: 0.9702\n",
      "Epoch 121/150\n",
      " - 0s - loss: 0.0968 - acc: 0.9591 - val_loss: 0.0612 - val_acc: 0.9757\n",
      "Epoch 122/150\n",
      " - 0s - loss: 0.1025 - acc: 0.9575 - val_loss: 0.0607 - val_acc: 0.9712\n",
      "Epoch 123/150\n",
      " - 0s - loss: 0.0992 - acc: 0.9597 - val_loss: 0.0606 - val_acc: 0.9702\n",
      "Epoch 124/150\n",
      " - 0s - loss: 0.0944 - acc: 0.9610 - val_loss: 0.0608 - val_acc: 0.9737\n",
      "Epoch 125/150\n",
      " - 0s - loss: 0.0995 - acc: 0.9591 - val_loss: 0.0614 - val_acc: 0.9737\n",
      "Epoch 126/150\n",
      " - 0s - loss: 0.0944 - acc: 0.9597 - val_loss: 0.0610 - val_acc: 0.9757\n",
      "Epoch 127/150\n",
      " - 0s - loss: 0.1037 - acc: 0.9559 - val_loss: 0.0607 - val_acc: 0.9752\n",
      "Epoch 128/150\n",
      " - 0s - loss: 0.0981 - acc: 0.9570 - val_loss: 0.0615 - val_acc: 0.9732\n",
      "Epoch 129/150\n",
      " - 0s - loss: 0.1029 - acc: 0.9575 - val_loss: 0.0610 - val_acc: 0.9742\n",
      "Epoch 130/150\n",
      " - 0s - loss: 0.1015 - acc: 0.9577 - val_loss: 0.0625 - val_acc: 0.9697\n",
      "Epoch 131/150\n",
      " - 0s - loss: 0.0967 - acc: 0.9628 - val_loss: 0.0606 - val_acc: 0.9732\n",
      "Epoch 132/150\n",
      " - 0s - loss: 0.1023 - acc: 0.9565 - val_loss: 0.0610 - val_acc: 0.9742\n",
      "Epoch 133/150\n",
      " - 0s - loss: 0.0943 - acc: 0.9620 - val_loss: 0.0605 - val_acc: 0.9737\n",
      "Epoch 134/150\n",
      " - 0s - loss: 0.0959 - acc: 0.9590 - val_loss: 0.0608 - val_acc: 0.9722\n",
      "Epoch 135/150\n",
      " - 0s - loss: 0.1018 - acc: 0.9569 - val_loss: 0.0616 - val_acc: 0.9702\n",
      "Epoch 136/150\n",
      " - 0s - loss: 0.1036 - acc: 0.9557 - val_loss: 0.0605 - val_acc: 0.9732\n",
      "Epoch 137/150\n",
      " - 0s - loss: 0.0992 - acc: 0.9589 - val_loss: 0.0610 - val_acc: 0.9712\n",
      "Epoch 138/150\n",
      " - 0s - loss: 0.1017 - acc: 0.9590 - val_loss: 0.0617 - val_acc: 0.9717\n",
      "Epoch 139/150\n",
      " - 0s - loss: 0.1001 - acc: 0.9565 - val_loss: 0.0612 - val_acc: 0.9737\n",
      "Epoch 140/150\n",
      " - 0s - loss: 0.1030 - acc: 0.9553 - val_loss: 0.0609 - val_acc: 0.9742\n",
      "Epoch 141/150\n",
      " - 0s - loss: 0.1016 - acc: 0.9581 - val_loss: 0.0602 - val_acc: 0.9722\n",
      "Epoch 142/150\n",
      " - 0s - loss: 0.0979 - acc: 0.9595 - val_loss: 0.0601 - val_acc: 0.9757\n",
      "Epoch 143/150\n",
      " - 0s - loss: 0.1033 - acc: 0.9550 - val_loss: 0.0601 - val_acc: 0.9742\n",
      "Epoch 144/150\n",
      " - 0s - loss: 0.0934 - acc: 0.9596 - val_loss: 0.0609 - val_acc: 0.9712\n",
      "Epoch 145/150\n",
      " - 0s - loss: 0.0947 - acc: 0.9566 - val_loss: 0.0622 - val_acc: 0.9712\n",
      "Epoch 146/150\n",
      " - 0s - loss: 0.1045 - acc: 0.9582 - val_loss: 0.0625 - val_acc: 0.9727\n",
      "Epoch 147/150\n",
      " - 0s - loss: 0.0970 - acc: 0.9591 - val_loss: 0.0620 - val_acc: 0.9732\n",
      "Epoch 148/150\n",
      " - 0s - loss: 0.1002 - acc: 0.9616 - val_loss: 0.0606 - val_acc: 0.9732\n",
      "Epoch 149/150\n",
      " - 0s - loss: 0.0995 - acc: 0.9601 - val_loss: 0.0617 - val_acc: 0.9727\n",
      "Epoch 150/150\n",
      " - 0s - loss: 0.0900 - acc: 0.9610 - val_loss: 0.0607 - val_acc: 0.9752\n"
     ]
    }
   ],
   "source": [
    "history = model.fit(X_train, Y_train,validation_split=0.2, epochs = 150, batch_size = 8, verbose=2,callbacks=[mcp_save])"
   ]
  },
  {
   "cell_type": "code",
   "execution_count": 183,
   "metadata": {},
   "outputs": [
    {
     "data": {
      "text/plain": [
       "Text(0.5, 1.0, 'Accuracy')"
      ]
     },
     "execution_count": 183,
     "metadata": {},
     "output_type": "execute_result"
    },
    {
     "data": {
      "image/png": "[encoded data removed]",
      "text/plain": [
       "<Figure size 648x648 with 2 Axes>"
      ]
     },
     "metadata": {
      "needs_background": "light"
     },
     "output_type": "display_data"
    }
   ],
   "source": [
    "fig, axes = plt.subplots(nrows=1, ncols=2,figsize=(9,9))\n",
    "plt.subplot(2,1,1)\n",
    "plt.plot(history.history['loss'])\n",
    "plt.plot(history.history['val_loss'])\n",
    "plt.legend([\"Train\",\"Validation\"])\n",
    "plt.title(\"Loss\")\n",
    "plt.subplot(2,1,2)\n",
    "plt.plot(history.history['acc'])\n",
    "plt.plot(history.history['val_acc'])\n",
    "plt.legend([\"Train\",\"Validation\"])\n",
    "plt.title(\"Accuracy\")"
   ]
  },
  {
   "cell_type": "code",
   "execution_count": 130,
   "metadata": {},
   "outputs": [
    {
     "name": "stdout",
     "output_type": "stream",
     "text": [
      "Saved model to disk\n"
     ]
    }
   ],
   "source": [
    "model.save(\"../Data/ligth.h5\")\n",
    "print(\"Saved model to disk\")"
   ]
  },
  {
   "cell_type": "code",
   "execution_count": 131,
   "metadata": {},
   "outputs": [],
   "source": [
    "def freeze_session(session, keep_var_names=None, output_names=None, clear_devices=True):\n",
    "    graph = session.graph\n",
    "    with graph.as_default():\n",
    "        freeze_var_names = list(set(v.op.name for v in tf.global_variables()).difference(keep_var_names or []))\n",
    "        output_names = output_names or []\n",
    "        output_names += [v.op.name for v in tf.global_variables()]\n",
    "        input_graph_def = graph.as_graph_def()\n",
    "        if clear_devices:\n",
    "            for node in input_graph_def.node:\n",
    "                node.device = \"\"\n",
    "        frozen_graph = tf.graph_util.convert_variables_to_constants(\n",
    "            session, input_graph_def, output_names, freeze_var_names)\n",
    "        return frozen_graph"
   ]
  },
  {
   "cell_type": "code",
   "execution_count": 132,
   "metadata": {},
   "outputs": [],
   "source": [
    "from keras.models import load_model\n",
    "from keras import backend as K\n",
    "\n",
    "import tensorflow as tf\n",
    "from tensorflow.python.tools import freeze_graph\n",
    "from tensorflow.python.tools import optimize_for_inference_lib"
   ]
  },
  {
   "cell_type": "code",
   "execution_count": 133,
   "metadata": {},
   "outputs": [],
   "source": [
    "model = load_model('../Data/ligth.h5')\n",
    "\n",
    "model.compile(optimizer = 'adam', loss = 'binary_crossentropy', metrics=['accuracy'])"
   ]
  },
  {
   "cell_type": "code",
   "execution_count": 134,
   "metadata": {},
   "outputs": [
    {
     "data": {
      "text/plain": [
       "[<tf.Tensor 'dense_22_1/Softmax:0' shape=(?, 5) dtype=float32>]"
      ]
     },
     "execution_count": 134,
     "metadata": {},
     "output_type": "execute_result"
    }
   ],
   "source": [
    "model.outputs"
   ]
  },
  {
   "cell_type": "code",
   "execution_count": 135,
   "metadata": {},
   "outputs": [
    {
     "data": {
      "text/plain": [
       "[<tf.Tensor 'dense_20_input_1:0' shape=(?, 8) dtype=float32>]"
      ]
     },
     "execution_count": 135,
     "metadata": {},
     "output_type": "execute_result"
    }
   ],
   "source": [
    "model.inputs"
   ]
  },
  {
   "cell_type": "code",
   "execution_count": 136,
   "metadata": {},
   "outputs": [
    {
     "name": "stdout",
     "output_type": "stream",
     "text": [
      "INFO:tensorflow:Froze 191 variables.\n",
      "Converted 191 variables to const ops.\n"
     ]
    }
   ],
   "source": [
    "frozen_graph = freeze_session(K.get_session(),\n",
    "                              output_names=[out.op.name for out in model.outputs])"
   ]
  },
  {
   "cell_type": "code",
   "execution_count": 137,
   "metadata": {},
   "outputs": [
    {
     "data": {
      "text/plain": [
       "'../Models\\\\ligth.pb'"
      ]
     },
     "execution_count": 137,
     "metadata": {},
     "output_type": "execute_result"
    }
   ],
   "source": [
    "tf.train.write_graph(frozen_graph, \"../Models\", \"ligth.pb\", as_text=False)"
   ]
  },
  {
   "cell_type": "code",
   "execution_count": 138,
   "metadata": {},
   "outputs": [
    {
     "name": "stdout",
     "output_type": "stream",
     "text": [
      "_________________________________________________________________\n",
      "Layer (type)                 Output Shape              Param #   \n",
      "=================================================================\n",
      "dense_20 (Dense)             (None, 8)                 72        \n",
      "_________________________________________________________________\n",
      "dropout_8 (Dropout)          (None, 8)                 0         \n",
      "_________________________________________________________________\n",
      "dense_21 (Dense)             (None, 8)                 72        \n",
      "_________________________________________________________________\n",
      "dropout_9 (Dropout)          (None, 8)                 0         \n",
      "_________________________________________________________________\n",
      "dense_22 (Dense)             (None, 5)                 45        \n",
      "=================================================================\n",
      "Total params: 189\n",
      "Trainable params: 189\n",
      "Non-trainable params: 0\n",
      "_________________________________________________________________\n",
      "None\n"
     ]
    }
   ],
   "source": [
    "print(model.summary())"
   ]
  },
  {
   "cell_type": "code",
   "execution_count": null,
   "metadata": {},
   "outputs": [],
   "source": []
  }
 ],
 "metadata": {
  "kernelspec": {
   "display_name": "Python 3",
   "language": "python",
   "name": "python3"
  },
  "language_info": {
   "codemirror_mode": {
    "name": "ipython",
    "version": 3
   },
   "file_extension": ".py",
   "mimetype": "text/x-python",
   "name": "python",
   "nbconvert_exporter": "python",
   "pygments_lexer": "ipython3",
   "version": "3.7.4"
  }
 },
 "nbformat": 4,
 "nbformat_minor": 2
}
