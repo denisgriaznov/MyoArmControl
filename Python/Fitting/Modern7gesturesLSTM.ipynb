{
 "cells": [
  {
   "cell_type": "code",
   "execution_count": 1,
   "metadata": {},
   "outputs": [],
   "source": [
    "import numpy as np \n",
    "import pandas as pd\n",
    "import matplotlib.pyplot as plt\n",
    "import os\n",
    "from sklearn.preprocessing import MinMaxScaler\n",
    "import seaborn as sns\n",
    "import tensorflow as tf"
   ]
  },
  {
   "cell_type": "code",
   "execution_count": 2,
   "metadata": {},
   "outputs": [
    {
     "name": "stderr",
     "output_type": "stream",
     "text": [
      "Using TensorFlow backend.\n"
     ]
    }
   ],
   "source": [
    "from keras.models import Sequential\n",
    "from keras.layers import Dense\n",
    "from keras.callbacks import ModelCheckpoint\n",
    "from keras.layers import Dropout\n",
    "from keras.layers import LSTM"
   ]
  },
  {
   "cell_type": "code",
   "execution_count": 3,
   "metadata": {},
   "outputs": [],
   "source": [
    "dataset = pd.read_csv(\"../data/7_64points.txt\")"
   ]
  },
  {
   "cell_type": "code",
   "execution_count": 4,
   "metadata": {},
   "outputs": [],
   "source": [
    "dataset = dataset.dropna()\n",
    "dataset_train = np.array(dataset)\n",
    "dataset_train = dataset_train[np.random.permutation(len(dataset_train))]\n",
    "X_train = dataset_train[:,:-1]\n",
    "Y_train = dataset_train[:,-1:]"
   ]
  },
  {
   "cell_type": "code",
   "execution_count": 5,
   "metadata": {},
   "outputs": [
    {
     "data": {
      "text/plain": [
       "(7509, 7)"
      ]
     },
     "execution_count": 5,
     "metadata": {},
     "output_type": "execute_result"
    }
   ],
   "source": [
    "Y_train = [int(i) for i in Y_train]\n",
    "Y_train = np.eye(np.max(Y_train) + 1)[Y_train]\n",
    "Y_train.shape"
   ]
  },
  {
   "cell_type": "code",
   "execution_count": 6,
   "metadata": {},
   "outputs": [],
   "source": [
    "X_train = np.asarray(X_train)\n",
    "Y_train = np.asarray(Y_train)"
   ]
  },
  {
   "cell_type": "code",
   "execution_count": 7,
   "metadata": {},
   "outputs": [],
   "source": [
    "X_train = X_train.reshape(X_train.shape[0],8,8)"
   ]
  },
  {
   "cell_type": "code",
   "execution_count": 8,
   "metadata": {},
   "outputs": [],
   "source": [
    "for graph in X_train:\n",
    "    for i in range(8):\n",
    "        m = max(graph[i])\n",
    "        for j in range(8):\n",
    "            graph[i][j] = graph[i][j]/m"
   ]
  },
  {
   "cell_type": "code",
   "execution_count": 9,
   "metadata": {},
   "outputs": [],
   "source": [
    "classifier = Sequential()\n",
    "\n",
    "classifier.add(LSTM(units=50, return_sequences=True, input_shape=(X_train.shape[1], X_train.shape[2])))\n",
    "classifier.add(Dropout(0.5))\n",
    "\n",
    "classifier.add(LSTM(units = 50))\n",
    "classifier.add(Dropout(0.5))\n",
    "\n",
    "\n",
    "classifier.add(Dense(units = 64))\n",
    "classifier.add(Dropout(0.2))\n",
    "\n",
    "classifier.add(Dense(units = 7, activation=\"softmax\"))"
   ]
  },
  {
   "cell_type": "code",
   "execution_count": 10,
   "metadata": {},
   "outputs": [],
   "source": [
    "mcp_save = ModelCheckpoint(\"../Data/Modern4LSTM.h5\", save_best_only=True, monitor='val_acc', mode='max')\n",
    "classifier.compile(optimizer = 'adam', loss = 'binary_crossentropy', metrics=['accuracy'])"
   ]
  },
  {
   "cell_type": "code",
   "execution_count": 11,
   "metadata": {},
   "outputs": [
    {
     "name": "stdout",
     "output_type": "stream",
     "text": [
      "Train on 6007 samples, validate on 1502 samples\n",
      "Epoch 1/50\n",
      " - 3s - loss: 0.2149 - accuracy: 0.9105 - val_loss: 0.1503 - val_accuracy: 0.9383\n",
      "Epoch 2/50\n"
     ]
    },
    {
     "name": "stderr",
     "output_type": "stream",
     "text": [
      "C:\\Users\\Denis\\Anaconda3\\envs\\myo\\lib\\site-packages\\keras\\callbacks\\callbacks.py:707: RuntimeWarning: Can save best model only with val_acc available, skipping.\n",
      "  'skipping.' % (self.monitor), RuntimeWarning)\n"
     ]
    },
    {
     "name": "stdout",
     "output_type": "stream",
     "text": [
      " - 2s - loss: 0.1548 - accuracy: 0.9338 - val_loss: 0.1336 - val_accuracy: 0.9441\n",
      "Epoch 3/50\n",
      " - 2s - loss: 0.1469 - accuracy: 0.9377 - val_loss: 0.1335 - val_accuracy: 0.9445\n",
      "Epoch 4/50\n",
      " - 2s - loss: 0.1411 - accuracy: 0.9405 - val_loss: 0.1199 - val_accuracy: 0.9486\n",
      "Epoch 5/50\n",
      " - 2s - loss: 0.1372 - accuracy: 0.9418 - val_loss: 0.1280 - val_accuracy: 0.9476\n",
      "Epoch 6/50\n",
      " - 2s - loss: 0.1357 - accuracy: 0.9422 - val_loss: 0.1193 - val_accuracy: 0.9511\n",
      "Epoch 7/50\n",
      " - 2s - loss: 0.1315 - accuracy: 0.9439 - val_loss: 0.1250 - val_accuracy: 0.9485\n",
      "Epoch 8/50\n",
      " - 2s - loss: 0.1321 - accuracy: 0.9440 - val_loss: 0.1205 - val_accuracy: 0.9501\n",
      "Epoch 9/50\n",
      " - 3s - loss: 0.1287 - accuracy: 0.9459 - val_loss: 0.1197 - val_accuracy: 0.9507\n",
      "Epoch 10/50\n",
      " - 2s - loss: 0.1273 - accuracy: 0.9462 - val_loss: 0.1164 - val_accuracy: 0.9514\n",
      "Epoch 11/50\n",
      " - 3s - loss: 0.1268 - accuracy: 0.9466 - val_loss: 0.1225 - val_accuracy: 0.9491\n",
      "Epoch 12/50\n",
      " - 3s - loss: 0.1259 - accuracy: 0.9463 - val_loss: 0.1158 - val_accuracy: 0.9513\n",
      "Epoch 13/50\n",
      " - 2s - loss: 0.1236 - accuracy: 0.9467 - val_loss: 0.1163 - val_accuracy: 0.9513\n",
      "Epoch 14/50\n",
      " - 2s - loss: 0.1223 - accuracy: 0.9480 - val_loss: 0.1185 - val_accuracy: 0.9508\n",
      "Epoch 15/50\n",
      " - 2s - loss: 0.1232 - accuracy: 0.9475 - val_loss: 0.1148 - val_accuracy: 0.9507\n",
      "Epoch 16/50\n",
      " - 3s - loss: 0.1226 - accuracy: 0.9483 - val_loss: 0.1158 - val_accuracy: 0.9532\n",
      "Epoch 17/50\n",
      " - 3s - loss: 0.1199 - accuracy: 0.9494 - val_loss: 0.1211 - val_accuracy: 0.9498\n",
      "Epoch 18/50\n",
      " - 3s - loss: 0.1184 - accuracy: 0.9491 - val_loss: 0.1100 - val_accuracy: 0.9536\n",
      "Epoch 19/50\n",
      " - 2s - loss: 0.1197 - accuracy: 0.9495 - val_loss: 0.1097 - val_accuracy: 0.9542\n",
      "Epoch 20/50\n",
      " - 2s - loss: 0.1201 - accuracy: 0.9488 - val_loss: 0.1110 - val_accuracy: 0.9541\n",
      "Epoch 21/50\n",
      " - 2s - loss: 0.1181 - accuracy: 0.9505 - val_loss: 0.1218 - val_accuracy: 0.9504\n",
      "Epoch 22/50\n",
      " - 3s - loss: 0.1165 - accuracy: 0.9515 - val_loss: 0.1101 - val_accuracy: 0.9552\n",
      "Epoch 23/50\n",
      " - 3s - loss: 0.1172 - accuracy: 0.9512 - val_loss: 0.1152 - val_accuracy: 0.9543\n",
      "Epoch 24/50\n",
      " - 3s - loss: 0.1155 - accuracy: 0.9514 - val_loss: 0.1092 - val_accuracy: 0.9537\n",
      "Epoch 25/50\n",
      " - 3s - loss: 0.1156 - accuracy: 0.9517 - val_loss: 0.1070 - val_accuracy: 0.9546\n",
      "Epoch 26/50\n",
      " - 3s - loss: 0.1137 - accuracy: 0.9519 - val_loss: 0.1123 - val_accuracy: 0.9543\n",
      "Epoch 27/50\n",
      " - 2s - loss: 0.1130 - accuracy: 0.9522 - val_loss: 0.1087 - val_accuracy: 0.9530\n",
      "Epoch 28/50\n",
      " - 2s - loss: 0.1120 - accuracy: 0.9530 - val_loss: 0.1120 - val_accuracy: 0.9527\n",
      "Epoch 29/50\n",
      " - 3s - loss: 0.1126 - accuracy: 0.9531 - val_loss: 0.1139 - val_accuracy: 0.9552\n",
      "Epoch 30/50\n",
      " - 3s - loss: 0.1111 - accuracy: 0.9524 - val_loss: 0.1072 - val_accuracy: 0.9571\n",
      "Epoch 31/50\n",
      " - 2s - loss: 0.1110 - accuracy: 0.9525 - val_loss: 0.1116 - val_accuracy: 0.9548\n",
      "Epoch 32/50\n",
      " - 2s - loss: 0.1093 - accuracy: 0.9543 - val_loss: 0.1112 - val_accuracy: 0.9529\n",
      "Epoch 33/50\n",
      " - 3s - loss: 0.1093 - accuracy: 0.9546 - val_loss: 0.1064 - val_accuracy: 0.9556\n",
      "Epoch 34/50\n",
      " - 3s - loss: 0.1094 - accuracy: 0.9543 - val_loss: 0.1122 - val_accuracy: 0.9546\n",
      "Epoch 35/50\n",
      " - 3s - loss: 0.1095 - accuracy: 0.9532 - val_loss: 0.1098 - val_accuracy: 0.9537\n",
      "Epoch 36/50\n",
      " - 3s - loss: 0.1088 - accuracy: 0.9543 - val_loss: 0.1142 - val_accuracy: 0.9547\n",
      "Epoch 37/50\n",
      " - 2s - loss: 0.1096 - accuracy: 0.9540 - val_loss: 0.1126 - val_accuracy: 0.9550\n",
      "Epoch 38/50\n",
      " - 3s - loss: 0.1082 - accuracy: 0.9543 - val_loss: 0.1205 - val_accuracy: 0.9530\n",
      "Epoch 39/50\n",
      " - 2s - loss: 0.1088 - accuracy: 0.9547 - val_loss: 0.1047 - val_accuracy: 0.9548\n",
      "Epoch 40/50\n",
      " - 3s - loss: 0.1059 - accuracy: 0.9549 - val_loss: 0.1088 - val_accuracy: 0.9561\n",
      "Epoch 41/50\n",
      " - 3s - loss: 0.1089 - accuracy: 0.9539 - val_loss: 0.1142 - val_accuracy: 0.9526\n",
      "Epoch 42/50\n",
      " - 3s - loss: 0.1069 - accuracy: 0.9551 - val_loss: 0.1106 - val_accuracy: 0.9544\n",
      "Epoch 43/50\n",
      " - 3s - loss: 0.1047 - accuracy: 0.9551 - val_loss: 0.1064 - val_accuracy: 0.9568\n",
      "Epoch 44/50\n",
      " - 3s - loss: 0.1056 - accuracy: 0.9557 - val_loss: 0.1118 - val_accuracy: 0.9549\n",
      "Epoch 45/50\n",
      " - 3s - loss: 0.1049 - accuracy: 0.9551 - val_loss: 0.1115 - val_accuracy: 0.9545\n",
      "Epoch 46/50\n",
      " - 3s - loss: 0.1037 - accuracy: 0.9561 - val_loss: 0.1073 - val_accuracy: 0.9568\n",
      "Epoch 47/50\n",
      " - 3s - loss: 0.1035 - accuracy: 0.9566 - val_loss: 0.1095 - val_accuracy: 0.9562\n",
      "Epoch 48/50\n",
      " - 3s - loss: 0.1053 - accuracy: 0.9559 - val_loss: 0.1066 - val_accuracy: 0.9564\n",
      "Epoch 49/50\n",
      " - 3s - loss: 0.1024 - accuracy: 0.9575 - val_loss: 0.1050 - val_accuracy: 0.9575\n",
      "Epoch 50/50\n",
      " - 3s - loss: 0.1027 - accuracy: 0.9569 - val_loss: 0.1028 - val_accuracy: 0.9588\n"
     ]
    }
   ],
   "source": [
    "history = classifier.fit(X_train, Y_train,validation_split=0.2, epochs = 50, batch_size = 16, verbose=2,callbacks=[mcp_save])"
   ]
  },
  {
   "cell_type": "code",
   "execution_count": 13,
   "metadata": {},
   "outputs": [
    {
     "data": {
      "text/plain": [
       "Text(0.5, 0, 'Training duration, [epochs]')"
      ]
     },
     "execution_count": 13,
     "metadata": {},
     "output_type": "execute_result"
    },
    {
     "data": {
      "image/png": "[encoded data removed]",
      "text/plain": [
       "<Figure size 648x648 with 2 Axes>"
      ]
     },
     "metadata": {
      "needs_background": "light"
     },
     "output_type": "display_data"
    }
   ],
   "source": [
    "fig, axes = plt.subplots(nrows=1, ncols=2,figsize=(9,9))\n",
    "plt.subplot(2,1,1)\n",
    "plt.plot(history.history['loss'])\n",
    "plt.plot(history.history['val_loss'])\n",
    "plt.legend([\"Train\",\"Validation\"])\n",
    "plt.ylabel(\"Loss\",fontsize = 12)\n",
    "plt.xlabel(\"Training duration, [epochs]\",fontsize = 12)\n",
    "plt.subplot(2,1,2)\n",
    "plt.plot(history.history['accuracy'])\n",
    "plt.plot(history.history['val_accuracy'])\n",
    "plt.legend([\"Train\",\"Validation\"])\n",
    "plt.ylabel(\"Accuracy\",fontsize = 12)\n",
    "plt.xlabel(\"Training duration, [epochs]\",fontsize = 12)"
   ]
  },
  {
   "cell_type": "code",
   "execution_count": 25,
   "metadata": {},
   "outputs": [
    {
     "name": "stdout",
     "output_type": "stream",
     "text": [
      "Model: \"sequential_3\"\n",
      "_________________________________________________________________\n",
      "Layer (type)                 Output Shape              Param #   \n",
      "=================================================================\n",
      "lstm_5 (LSTM)                (None, 8, 50)             11800     \n",
      "_________________________________________________________________\n",
      "dropout_5 (Dropout)          (None, 8, 50)             0         \n",
      "_________________________________________________________________\n",
      "lstm_6 (LSTM)                (None, 50)                20200     \n",
      "_________________________________________________________________\n",
      "dropout_6 (Dropout)          (None, 50)                0         \n",
      "_________________________________________________________________\n",
      "dense_5 (Dense)              (None, 64)                3264      \n",
      "_________________________________________________________________\n",
      "dropout_7 (Dropout)          (None, 64)                0         \n",
      "_________________________________________________________________\n",
      "dense_6 (Dense)              (None, 7)                 455       \n",
      "=================================================================\n",
      "Total params: 35,719\n",
      "Trainable params: 35,719\n",
      "Non-trainable params: 0\n",
      "_________________________________________________________________\n",
      "None\n"
     ]
    }
   ],
   "source": [
    "print(classifier.summary())"
   ]
  },
  {
   "cell_type": "code",
   "execution_count": null,
   "metadata": {},
   "outputs": [],
   "source": []
  }
 ],
 "metadata": {
  "kernelspec": {
   "display_name": "Python 3",
   "language": "python",
   "name": "python3"
  },
  "language_info": {
   "codemirror_mode": {
    "name": "ipython",
    "version": 3
   },
   "file_extension": ".py",
   "mimetype": "text/x-python",
   "name": "python",
   "nbconvert_exporter": "python",
   "pygments_lexer": "ipython3",
   "version": "3.7.6"
  }
 },
 "nbformat": 4,
 "nbformat_minor": 4
}
